{
 "cells": [
  {
   "cell_type": "markdown",
   "metadata": {},
   "source": [
    "# NBA AI - Deep Learning Base Model - PyTorch"
   ]
  },
  {
   "cell_type": "markdown",
   "metadata": {},
   "source": [
    "## Table of Contents\n",
    "\n",
    "* [Data Setup](#data-setup)\n",
    "* [MLP Regression](#mlp-regression)\n",
    "* [MLP Classification](#mlp-classification)"
   ]
  },
  {
   "cell_type": "markdown",
   "metadata": {},
   "source": [
    "### Imports and Global Settings"
   ]
  },
  {
   "cell_type": "code",
   "execution_count": 1,
   "metadata": {},
   "outputs": [],
   "source": [
    "import datetime\n",
    "import numpy as np\n",
    "import pandas as pd\n",
    "from sklearn.model_selection import train_test_split\n",
    "from sklearn.metrics import (\n",
    "    r2_score,\n",
    "    mean_absolute_error,\n",
    "    accuracy_score,\n",
    "    precision_score,\n",
    ")\n",
    "\n",
    "import torch\n",
    "import torch.nn as nn\n",
    "import torch.optim as optim\n",
    "from torch.utils.data import TensorDataset, DataLoader\n",
    "\n",
    "# Pandas Settings\n",
    "pd.set_option(\"display.max_columns\", 1000)\n",
    "pd.set_option(\"display.max_rows\", 1000)\n",
    "pd.options.display.max_info_columns = 200\n",
    "pd.options.display.precision = 5"
   ]
  },
  {
   "cell_type": "markdown",
   "metadata": {},
   "source": [
    "### Load Data"
   ]
  },
  {
   "cell_type": "code",
   "execution_count": 2,
   "metadata": {},
   "outputs": [],
   "source": [
    "df_2021_2022 = pd.read_csv(\"../data/nba_ai/cleaned_data_2021-2022.csv\")\n",
    "df_2022_2023 = pd.read_csv(\"../data/nba_ai/cleaned_data_2022-2023.csv\")"
   ]
  },
  {
   "cell_type": "markdown",
   "metadata": {},
   "source": [
    "<a name=\"data-setup\"></a>\n",
    "\n",
    "## Data Preparation"
   ]
  },
  {
   "cell_type": "markdown",
   "metadata": {},
   "source": [
    "### Train Test Split"
   ]
  },
  {
   "cell_type": "code",
   "execution_count": 3,
   "metadata": {},
   "outputs": [],
   "source": [
    "def prepare_datasets(train_df, cls_target, reg_target, test_df=None, test_size=0.3):\n",
    "    \"\"\"\n",
    "    Prepares datasets for training and testing for both classification and regression targets,\n",
    "    ensuring time-sensitive splitting based on a 'date' column.\n",
    "\n",
    "    Parameters:\n",
    "    train_df (DataFrame): The training dataframe.\n",
    "    cls_target (str): The name of the classification target column.\n",
    "    reg_target (str): The name of the regression target column.\n",
    "    test_df (DataFrame, optional): An optional testing dataframe. If not provided, a portion of the training data is used.\n",
    "    test_size (float, optional): The proportion of the dataset to include in the test split (if test_df is not provided).\n",
    "\n",
    "    Returns:\n",
    "    tuple: A tuple containing six dataframes:\n",
    "           (X_train, X_test, y_train_cls, y_test_cls, y_train_reg, y_test_reg).\n",
    "    \"\"\"\n",
    "\n",
    "    # Sort the dataframe based on the 'date' column\n",
    "    train_df = train_df.sort_values(by=\"date\")\n",
    "\n",
    "    # If a test dataframe is not provided, split the training dataframe\n",
    "    if test_df is None:\n",
    "        X_train, X_test, y_train, y_test = train_test_split(\n",
    "            train_df.drop([cls_target, reg_target], axis=1),\n",
    "            train_df[[cls_target, reg_target]],\n",
    "            test_size=test_size,\n",
    "            shuffle=False,  # Important to maintain time order\n",
    "        )\n",
    "    else:\n",
    "        # If a test dataframe is provided, ensure it is also sorted by date\n",
    "        test_df = test_df.sort_values(by=\"date\")\n",
    "\n",
    "        # Use provided test dataframe and separate features and targets\n",
    "        X_train = train_df.drop([cls_target, reg_target], axis=1)\n",
    "        y_train = train_df[[cls_target, reg_target]]\n",
    "        X_test = test_df.drop([cls_target, reg_target], axis=1)\n",
    "        y_test = test_df[[cls_target, reg_target]]\n",
    "\n",
    "    # Separate classification and regression targets\n",
    "    y_train_cls = y_train[[cls_target]]\n",
    "    y_train_reg = y_train[[reg_target]]\n",
    "    y_test_cls = y_test[[cls_target]]\n",
    "    y_test_reg = y_test[[reg_target]]\n",
    "\n",
    "    return X_train, X_test, y_train_cls, y_test_cls, y_train_reg, y_test_reg"
   ]
  },
  {
   "cell_type": "code",
   "execution_count": 4,
   "metadata": {},
   "outputs": [],
   "source": [
    "X_train, X_test, y_train_cls, y_test_cls, y_train_reg, y_test_reg = prepare_datasets(\n",
    "    df_2021_2022, \"CLS_TARGET\", \"REG_TARGET\", test_df=df_2022_2023\n",
    ")"
   ]
  },
  {
   "cell_type": "markdown",
   "metadata": {},
   "source": [
    "### Features"
   ]
  },
  {
   "cell_type": "code",
   "execution_count": 5,
   "metadata": {},
   "outputs": [],
   "source": [
    "betting_feature_set = [\n",
    "    \"home_opening_spread\",\n",
    "    \"road_opening_spread\",\n",
    "    \"opening_total\",\n",
    "    \"home_closing_spread\",\n",
    "    \"road_closing_spread\",\n",
    "    \"closing_total\",\n",
    "    \"home_moneyline\",\n",
    "    \"road_moneyline\",\n",
    "]\n",
    "\n",
    "base_feature_set = [\n",
    "    \"day_of_season\",\n",
    "    \"home_win_pct\",\n",
    "    \"road_win_pct\",\n",
    "    \"home_win_pct_l2w\",\n",
    "    \"road_win_pct_l2w\",\n",
    "    \"home_avg_pts\",\n",
    "    \"road_avg_pts\",\n",
    "    \"home_avg_pts_l2w\",\n",
    "    \"road_avg_pts_l2w\",\n",
    "    \"home_avg_oeff\",\n",
    "    \"road_avg_oeff\",\n",
    "    \"home_avg_oeff_l2w\",\n",
    "    \"road_avg_oeff_l2w\",\n",
    "    \"home_avg_deff\",\n",
    "    \"road_avg_deff\",\n",
    "    \"home_avg_deff_l2w\",\n",
    "    \"road_avg_deff_l2w\",\n",
    "    \"home_avg_eFG%\",\n",
    "    \"road_avg_eFG%\",\n",
    "    \"home_avg_eFG%_l2w\",\n",
    "    \"road_avg_eFG%_l2w\",\n",
    "    \"home_avg_TOV%\",\n",
    "    \"road_avg_TOV%\",\n",
    "    \"home_avg_TOV%_l2w\",\n",
    "    \"road_avg_TOV%_l2w\",\n",
    "    \"home_avg_ORB%\",\n",
    "    \"road_avg_ORB%\",\n",
    "    \"home_avg_ORB%_l2w\",\n",
    "    \"road_avg_ORB%_l2w\",\n",
    "    \"home_avg_FT%\",\n",
    "    \"road_avg_FT%\",\n",
    "    \"home_avg_FT%_l2w\",\n",
    "    \"road_avg_FT%_l2w\",\n",
    "    \"home_avg_pts_allowed\",\n",
    "    \"road_avg_pts_allowed\",\n",
    "    \"home_avg_pts_allowed_l2w\",\n",
    "    \"road_avg_pts_allowed_l2w\",\n",
    "]\n",
    "\n",
    "features_to_prepare = [\n",
    "    \"home_team\",\n",
    "    \"road_team\",\n",
    "    \"home_team_rest_days\",\n",
    "    \"road_team_rest_days\",\n",
    "    \"home_team_starting_lineup\",\n",
    "    \"road_team_starting_lineup\",\n",
    "]"
   ]
  },
  {
   "cell_type": "code",
   "execution_count": 6,
   "metadata": {},
   "outputs": [],
   "source": [
    "X_train_all = X_train.copy()\n",
    "X_test_all = X_test.copy()\n",
    "\n",
    "X_train = X_train[base_feature_set]\n",
    "X_test = X_test[base_feature_set]"
   ]
  },
  {
   "cell_type": "markdown",
   "metadata": {},
   "source": [
    "<a name=\"mlp-regression\"></a>\n",
    "\n",
    "## Multi-Layer Perceptron (MLP) - Regression"
   ]
  },
  {
   "cell_type": "markdown",
   "metadata": {},
   "source": [
    "### Data Conversion"
   ]
  },
  {
   "cell_type": "code",
   "execution_count": 7,
   "metadata": {},
   "outputs": [],
   "source": [
    "# Convert Pandas DataFrames to PyTorch Tensors\n",
    "X_train_tensor = torch.tensor(X_train.values, dtype=torch.float32)\n",
    "y_train_tensor = torch.tensor(y_train_reg.values, dtype=torch.float32)\n",
    "\n",
    "# Create a TensorDataset - this wraps tensors into a dataset\n",
    "train_data = TensorDataset(X_train_tensor, y_train_tensor)\n",
    "\n",
    "# DataLoader for batching and shuffling\n",
    "train_loader = DataLoader(train_data, batch_size=32, shuffle=True)\n",
    "\n",
    "# Note: Shuffle is set to True for training data. For time-series data, consider the impact of shuffling."
   ]
  },
  {
   "cell_type": "markdown",
   "metadata": {},
   "source": [
    "### Model Definition\n"
   ]
  },
  {
   "cell_type": "code",
   "execution_count": 8,
   "metadata": {},
   "outputs": [],
   "source": [
    "# Define a simple regression neural network\n",
    "class RegressionModel(nn.Module):\n",
    "    def __init__(self, input_size, hidden_size, output_size):\n",
    "        super(RegressionModel, self).__init__()\n",
    "        self.layer1 = nn.Linear(input_size, hidden_size)\n",
    "        self.relu = nn.ReLU()\n",
    "        self.layer2 = nn.Linear(hidden_size, output_size)\n",
    "\n",
    "    def forward(self, x):\n",
    "        x = self.relu(self.layer1(x))\n",
    "        x = self.layer2(x)\n",
    "        return x"
   ]
  },
  {
   "cell_type": "code",
   "execution_count": 9,
   "metadata": {},
   "outputs": [],
   "source": [
    "# Instantiate the model\n",
    "reg_mlp_model = RegressionModel(\n",
    "    input_size=X_train.shape[1], hidden_size=5, output_size=1\n",
    ")"
   ]
  },
  {
   "cell_type": "markdown",
   "metadata": {},
   "source": [
    "### Model Training\n"
   ]
  },
  {
   "cell_type": "code",
   "execution_count": 10,
   "metadata": {},
   "outputs": [
    {
     "name": "stdout",
     "output_type": "stream",
     "text": [
      "Epoch 0, Loss: 74.28823852539062\n",
      "Epoch 10, Loss: 96.0931396484375\n",
      "Epoch 20, Loss: 137.65530395507812\n",
      "Epoch 30, Loss: 195.98065185546875\n",
      "Epoch 40, Loss: 92.8561019897461\n",
      "Epoch 50, Loss: 105.47020721435547\n",
      "Epoch 60, Loss: 335.4338684082031\n",
      "Epoch 70, Loss: 134.19989013671875\n",
      "Epoch 80, Loss: 315.7101135253906\n",
      "Epoch 90, Loss: 275.2518005371094\n"
     ]
    }
   ],
   "source": [
    "# Define loss function and optimizer\n",
    "loss_function = nn.MSELoss()\n",
    "optimizer = optim.Adam(reg_mlp_model.parameters(), lr=0.001)\n",
    "\n",
    "# Training loop\n",
    "num_epochs = 100  # Set the number of epochs\n",
    "for epoch in range(num_epochs):\n",
    "    for inputs, targets in train_loader:\n",
    "        optimizer.zero_grad()  # Zero the gradient buffers\n",
    "        outputs = reg_mlp_model(inputs)\n",
    "        loss = loss_function(outputs, targets)\n",
    "        loss.backward()  # Backpropagation\n",
    "        optimizer.step()  # Update weights\n",
    "\n",
    "    # Optional: Print the loss every few epochs\n",
    "    if epoch % 10 == 0:\n",
    "        print(f\"Epoch {epoch}, Loss: {loss.item()}\")"
   ]
  },
  {
   "cell_type": "markdown",
   "metadata": {},
   "source": [
    "### Model Evaluation and Prediction"
   ]
  },
  {
   "cell_type": "code",
   "execution_count": 11,
   "metadata": {},
   "outputs": [],
   "source": [
    "X_test_tensor = torch.tensor(X_test.values, dtype=torch.float32)\n",
    "\n",
    "# Disable gradient computation for evaluation and prediction\n",
    "with torch.no_grad():\n",
    "    train_predictions_reg = reg_mlp_model(X_train_tensor)\n",
    "    test_predictions_reg = reg_mlp_model(X_test_tensor)\n",
    "\n",
    "# Convert predictions to a NumPy array or Pandas Series for further evaluation\n",
    "train_predictions_reg_np = train_predictions_reg.numpy()\n",
    "test_predictions_reg_np = test_predictions_reg.numpy()"
   ]
  },
  {
   "cell_type": "code",
   "execution_count": 12,
   "metadata": {},
   "outputs": [],
   "source": [
    "train_mae = mean_absolute_error(train_predictions_reg_np, y_train_reg)\n",
    "train_r2 = r2_score(train_predictions_reg_np, y_train_reg)\n",
    "\n",
    "test_mae = mean_absolute_error(test_predictions_reg_np, y_test_reg)\n",
    "test_r2 = r2_score(test_predictions_reg_np, y_test_reg)"
   ]
  },
  {
   "cell_type": "code",
   "execution_count": 13,
   "metadata": {},
   "outputs": [
    {
     "name": "stdout",
     "output_type": "stream",
     "text": [
      "Train MAE: 11.81\n",
      "Train R2: -30.65\n",
      "Test MAE: 10.73\n",
      "Test R2: -38.40\n"
     ]
    }
   ],
   "source": [
    "print(f\"Train MAE: {train_mae:.2f}\")\n",
    "print(f\"Train R2: {train_r2:.2f}\")\n",
    "print(f\"Test MAE: {test_mae:.2f}\")\n",
    "print(f\"Test R2: {test_r2:.2f}\")"
   ]
  },
  {
   "cell_type": "markdown",
   "metadata": {},
   "source": [
    "### Model Saving and Loading"
   ]
  },
  {
   "cell_type": "code",
   "execution_count": 14,
   "metadata": {},
   "outputs": [
    {
     "data": {
      "text/plain": [
       "'Regression_MLP_11.81_10.73_2024-01-03_15-50-13'"
      ]
     },
     "execution_count": 14,
     "metadata": {},
     "output_type": "execute_result"
    }
   ],
   "source": [
    "problem_type = \"Regression\"\n",
    "base_model = \"MLP\"\n",
    "train_performance = round(train_mae, 2)\n",
    "test_performance = round(test_mae, 2)\n",
    "\n",
    "model_id = f\"{problem_type}_{base_model}_{train_performance}_{test_performance}_{datetime.datetime.now().strftime('%Y-%m-%d_%H-%M-%S')}\"\n",
    "\n",
    "model_id"
   ]
  },
  {
   "cell_type": "code",
   "execution_count": 15,
   "metadata": {},
   "outputs": [],
   "source": [
    "# Save the model state\n",
    "torch.save(reg_mlp_model.state_dict(), f\"../models/{model_id}.pth\")"
   ]
  },
  {
   "cell_type": "code",
   "execution_count": 16,
   "metadata": {},
   "outputs": [],
   "source": [
    "# To load the model, first initialize the model structure, then load the state\n",
    "# reg_mlp_model = RegressionModel(input_size=10, hidden_size=5, output_size=1)\n",
    "# reg_mlp_model.load_state_dict(torch.load(f\"../models/{model_id}.pth\"))\n",
    "# reg_mlp_model.eval()  # Set the model to evaluation mode"
   ]
  },
  {
   "cell_type": "markdown",
   "metadata": {},
   "source": [
    "<a name=\"mlp-classification\"></a>\n",
    "\n",
    "## Multi-Layer Perceptron (MLP) - Classification"
   ]
  },
  {
   "cell_type": "markdown",
   "metadata": {},
   "source": [
    "### Data Conversion"
   ]
  },
  {
   "cell_type": "code",
   "execution_count": 17,
   "metadata": {},
   "outputs": [],
   "source": [
    "# Convert Pandas DataFrames to PyTorch Tensors\n",
    "X_train_tensor = torch.tensor(X_train.values, dtype=torch.float32)\n",
    "y_train_tensor = torch.tensor(y_train_cls.values, dtype=torch.float32)\n",
    "\n",
    "# Create a TensorDataset - this wraps tensors into a dataset\n",
    "train_data = TensorDataset(X_train_tensor, y_train_tensor)\n",
    "\n",
    "# DataLoader for batching and shuffling\n",
    "train_loader = DataLoader(train_data, batch_size=32, shuffle=True)\n",
    "\n",
    "# Note: Shuffle is set to True for training data. For time-series data, consider the impact of shuffling."
   ]
  },
  {
   "cell_type": "markdown",
   "metadata": {},
   "source": [
    "### Model Definition\n"
   ]
  },
  {
   "cell_type": "code",
   "execution_count": 18,
   "metadata": {},
   "outputs": [],
   "source": [
    "class ClassificationModel(nn.Module):\n",
    "    def __init__(self, input_size, hidden_size):\n",
    "        super(ClassificationModel, self).__init__()\n",
    "        self.layer1 = nn.Linear(input_size, hidden_size)\n",
    "        self.relu = nn.ReLU()\n",
    "        self.layer2 = nn.Linear(\n",
    "            hidden_size, 1\n",
    "        )  # Output size is 1 for binary classification\n",
    "\n",
    "    def forward(self, x):\n",
    "        x = self.relu(self.layer1(x))\n",
    "        x = torch.sigmoid(\n",
    "            self.layer2(x)\n",
    "        )  # Sigmoid activation for binary classification\n",
    "        return x"
   ]
  },
  {
   "cell_type": "code",
   "execution_count": 19,
   "metadata": {},
   "outputs": [],
   "source": [
    "# Instantiate the model\n",
    "cls_mlp_model = ClassificationModel(input_size=X_train.shape[1], hidden_size=5)"
   ]
  },
  {
   "cell_type": "markdown",
   "metadata": {},
   "source": [
    "### Model Training\n"
   ]
  },
  {
   "cell_type": "code",
   "execution_count": 20,
   "metadata": {},
   "outputs": [
    {
     "name": "stdout",
     "output_type": "stream",
     "text": [
      "Epoch 0, Loss: 0.7315127849578857\n",
      "Epoch 10, Loss: 0.6890249848365784\n",
      "Epoch 20, Loss: 0.690775990486145\n",
      "Epoch 30, Loss: 0.6824485063552856\n",
      "Epoch 40, Loss: 0.704181969165802\n",
      "Epoch 50, Loss: 0.6825932860374451\n",
      "Epoch 60, Loss: 0.7145680785179138\n",
      "Epoch 70, Loss: 0.6818594336509705\n",
      "Epoch 80, Loss: 0.6659519672393799\n",
      "Epoch 90, Loss: 0.6734258532524109\n"
     ]
    }
   ],
   "source": [
    "# Define loss function and optimizer for binary classification\n",
    "loss_function = nn.BCELoss()\n",
    "optimizer = optim.Adam(cls_mlp_model.parameters(), lr=0.001)\n",
    "\n",
    "# Training loop\n",
    "num_epochs = 100\n",
    "for epoch in range(num_epochs):\n",
    "    for inputs, targets in train_loader:\n",
    "        optimizer.zero_grad()\n",
    "        outputs = cls_mlp_model(inputs)\n",
    "        loss = loss_function(outputs, targets)\n",
    "        loss.backward()\n",
    "        optimizer.step()\n",
    "\n",
    "    if epoch % 10 == 0:\n",
    "        print(f\"Epoch {epoch}, Loss: {loss.item()}\")"
   ]
  },
  {
   "cell_type": "markdown",
   "metadata": {},
   "source": [
    "### Model Evaluation and Prediction"
   ]
  },
  {
   "cell_type": "code",
   "execution_count": 21,
   "metadata": {},
   "outputs": [],
   "source": [
    "X_test_tensor = torch.tensor(X_test.values, dtype=torch.float32)\n",
    "\n",
    "# Disable gradient computation for evaluation and prediction\n",
    "with torch.no_grad():\n",
    "    train_predictions_cls = cls_mlp_model(X_train_tensor)\n",
    "    test_predictions_cls = cls_mlp_model(X_test_tensor)"
   ]
  },
  {
   "cell_type": "code",
   "execution_count": 22,
   "metadata": {},
   "outputs": [],
   "source": [
    "# Assuming your model outputs probabilities for class 1\n",
    "threshold = 0.5\n",
    "\n",
    "# Convert probabilities to class labels based on the threshold\n",
    "train_predictions_cls_np = train_predictions_cls.numpy() > threshold\n",
    "test_predictions_cls_np = test_predictions_cls.numpy() > threshold"
   ]
  },
  {
   "cell_type": "code",
   "execution_count": 23,
   "metadata": {},
   "outputs": [],
   "source": [
    "train_accuracy = accuracy_score(train_predictions_cls_np, y_train_cls)\n",
    "train_precision = precision_score(train_predictions_cls_np, y_train_cls)\n",
    "\n",
    "test_accuracy = accuracy_score(test_predictions_cls_np, y_test_cls)\n",
    "test_precision = precision_score(test_predictions_cls_np, y_test_cls)"
   ]
  },
  {
   "cell_type": "code",
   "execution_count": 24,
   "metadata": {},
   "outputs": [
    {
     "name": "stdout",
     "output_type": "stream",
     "text": [
      "Train Accuracy: 0.52\n",
      "Train Precision: 0.00\n",
      "Test Accuracy: 0.48\n",
      "Test Precision: 0.00\n"
     ]
    }
   ],
   "source": [
    "print(f\"Train Accuracy: {train_accuracy:.2f}\")\n",
    "print(f\"Train Precision: {train_precision:.2f}\")\n",
    "print(f\"Test Accuracy: {test_accuracy:.2f}\")\n",
    "print(f\"Test Precision: {test_precision:.2f}\")"
   ]
  },
  {
   "cell_type": "markdown",
   "metadata": {},
   "source": [
    "### Model Saving and Loading"
   ]
  },
  {
   "cell_type": "code",
   "execution_count": 25,
   "metadata": {},
   "outputs": [
    {
     "data": {
      "text/plain": [
       "'Classification_MLP_11.81_10.73_2024-01-03_15-50-20'"
      ]
     },
     "execution_count": 25,
     "metadata": {},
     "output_type": "execute_result"
    }
   ],
   "source": [
    "problem_type = \"Classification\"\n",
    "base_model = \"MLP\"\n",
    "train_performance = round(train_mae, 2)\n",
    "test_performance = round(test_mae, 2)\n",
    "\n",
    "model_id = f\"{problem_type}_{base_model}_{train_performance}_{test_performance}_{datetime.datetime.now().strftime('%Y-%m-%d_%H-%M-%S')}\"\n",
    "\n",
    "model_id"
   ]
  },
  {
   "cell_type": "code",
   "execution_count": 26,
   "metadata": {},
   "outputs": [],
   "source": [
    "# Save the model state\n",
    "torch.save(cls_mlp_model.state_dict(), f\"../models/{model_id}.pth\")"
   ]
  },
  {
   "cell_type": "code",
   "execution_count": 27,
   "metadata": {},
   "outputs": [],
   "source": [
    "# To load the model, first initialize the model structure, then load the state\n",
    "# cls_mlp_model = ClassificationModel(input_size=10, hidden_size=5, output_size=1)\n",
    "# cls_mlp_model.load_state_dict(torch.load(f\"../models/{model_id}.pth\"))\n",
    "# cls_mlp_model.eval()  # Set the model to evaluation mode"
   ]
  }
 ],
 "metadata": {
  "kernelspec": {
   "display_name": "nba_venv",
   "language": "python",
   "name": "python3"
  },
  "language_info": {
   "codemirror_mode": {
    "name": "ipython",
    "version": 3
   },
   "file_extension": ".py",
   "mimetype": "text/x-python",
   "name": "python",
   "nbconvert_exporter": "python",
   "pygments_lexer": "ipython3",
   "version": "3.10.12"
  }
 },
 "nbformat": 4,
 "nbformat_minor": 2
}
