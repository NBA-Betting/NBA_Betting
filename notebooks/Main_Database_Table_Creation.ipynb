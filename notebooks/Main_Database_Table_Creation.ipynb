{
 "cells": [
  {
   "cell_type": "markdown",
   "id": "governing-milan",
   "metadata": {},
   "source": [
    "# Imports and Global Settings"
   ]
  },
  {
   "cell_type": "code",
   "execution_count": 1,
   "id": "asian-taylor",
   "metadata": {},
   "outputs": [],
   "source": [
    "import pandas as pd\n",
    "from sqlalchemy import create_engine\n",
    "\n",
    "pd.options.display.max_rows = 999\n",
    "pd.options.display.max_columns = 100"
   ]
  },
  {
   "cell_type": "markdown",
   "id": "consistent-speaker",
   "metadata": {},
   "source": [
    "# Data Inbound"
   ]
  },
  {
   "cell_type": "code",
   "execution_count": 2,
   "id": "assumed-showcase",
   "metadata": {},
   "outputs": [],
   "source": [
    "username = 'postgres'\n",
    "password = ''\n",
    "endpoint = ''\n",
    "database = 'nba_betting'\n",
    "port = '5432'"
   ]
  },
  {
   "cell_type": "code",
   "execution_count": 3,
   "id": "previous-hollywood",
   "metadata": {},
   "outputs": [],
   "source": [
    "connection= create_engine(f'postgresql+psycopg2://{username}:{password}@{endpoint}/{database}').connect()"
   ]
  },
  {
   "cell_type": "code",
   "execution_count": 4,
   "id": "armed-colorado",
   "metadata": {},
   "outputs": [],
   "source": [
    "historic_odds = pd.read_sql_table('historic_odds', connection)\n",
    "historic_standings = pd.read_sql_table('historic_standings', connection)\n",
    "historic_team_stats = pd.read_sql_table('historic_team_stats', connection)\n",
    "historic_opponent_stats = pd.read_sql_table('historic_opponent_stats', connection)"
   ]
  },
  {
   "cell_type": "markdown",
   "id": "instructional-immunology",
   "metadata": {},
   "source": [
    "# Standardize Dates"
   ]
  },
  {
   "cell_type": "code",
   "execution_count": 5,
   "id": "solar-mills",
   "metadata": {},
   "outputs": [],
   "source": [
    "historic_odds['datetime'] = pd.to_datetime(historic_odds['date'])"
   ]
  },
  {
   "cell_type": "code",
   "execution_count": 6,
   "id": "congressional-appointment",
   "metadata": {},
   "outputs": [],
   "source": [
    "historic_standings['datetime'] = pd.to_datetime(historic_standings['date'])"
   ]
  },
  {
   "cell_type": "code",
   "execution_count": 7,
   "id": "according-vinyl",
   "metadata": {},
   "outputs": [],
   "source": [
    "historic_team_stats['datetime'] = pd.to_datetime(historic_team_stats['date'])"
   ]
  },
  {
   "cell_type": "code",
   "execution_count": 8,
   "id": "early-fairy",
   "metadata": {},
   "outputs": [],
   "source": [
    "historic_opponent_stats['datetime'] = pd.to_datetime(historic_opponent_stats['date'])"
   ]
  },
  {
   "cell_type": "markdown",
   "id": "loved-missile",
   "metadata": {},
   "source": [
    "# Standardize Team Names"
   ]
  },
  {
   "cell_type": "code",
   "execution_count": 9,
   "id": "adequate-treat",
   "metadata": {},
   "outputs": [],
   "source": [
    "teams = {'Washington Wizards': 'WAS', 'Brooklyn Nets': 'BKN', 'Chicago Bulls': 'CHI',\n",
    "       'Miami Heat': 'MIA', 'Cleveland Cavaliers': 'CLE', 'Philadelphia 76ers': 'PHI',\n",
    "       'New York Knicks': 'NYK', 'Charlotte Hornets': 'CHA', 'Boston Celtics': 'BOS',\n",
    "       'Toronto Raptors': 'TOR', 'Milwaukee Bucks': 'MIL', 'Atlanta Hawks': 'ATL',\n",
    "       'Indiana Pacers': 'IND', 'Detroit Pistons': 'DET', 'Orlando Magic': 'ORL',\n",
    "       'Golden State Warriors': 'GSW', 'Phoenix Suns': 'PHX', 'Dallas Mavericks': 'DAL',\n",
    "       'Denver Nuggets': 'DEN', 'Los Angeles Clippers': 'LAC', 'Utah Jazz': 'UTA',\n",
    "       'Los Angeles Lakers': 'LAL', 'Memphis Grizzlies': 'MEM',\n",
    "       'Portland Trail Blazers': 'POR', 'Sacramento Kings': 'SAC',\n",
    "       'Oklahoma City Thunder': 'OKC', 'Minnesota Timberwolves': 'MIN',\n",
    "       'San Antonio Spurs': 'SAS', 'New Orleans Pelicans': 'NOP', 'Houston Rockets': 'HOU', 'Charlotte Bobcats': 'CHA', 'New Orleans Hornets': 'NOP',\n",
    "       'New Jersey Nets': 'BKN', 'Seattle SuperSonics': 'OKC',\n",
    "       'New Orleans/Oklahoma City Hornets': 'NOP'}"
   ]
  },
  {
   "cell_type": "code",
   "execution_count": 10,
   "id": "promising-prize",
   "metadata": {},
   "outputs": [],
   "source": [
    "historic_standings['teamname'] = historic_standings['team'].map(teams)"
   ]
  },
  {
   "cell_type": "code",
   "execution_count": 11,
   "id": "twenty-newsletter",
   "metadata": {},
   "outputs": [],
   "source": [
    "historic_team_stats['teamname'] = historic_team_stats['team'].map(teams)"
   ]
  },
  {
   "cell_type": "code",
   "execution_count": 12,
   "id": "limiting-christmas",
   "metadata": {},
   "outputs": [],
   "source": [
    "historic_opponent_stats['teamname'] = historic_opponent_stats['team'].map(teams)"
   ]
  },
  {
   "cell_type": "markdown",
   "id": "south-senegal",
   "metadata": {},
   "source": [
    "# Combine Data"
   ]
  },
  {
   "cell_type": "code",
   "execution_count": 13,
   "id": "institutional-morgan",
   "metadata": {},
   "outputs": [],
   "source": [
    "historic_odds['pred_datetime'] = historic_odds['datetime'] - pd.DateOffset(1)"
   ]
  },
  {
   "cell_type": "code",
   "execution_count": 14,
   "id": "blocked-message",
   "metadata": {},
   "outputs": [
    {
     "data": {
      "text/html": [
       "<div>\n",
       "<style scoped>\n",
       "    .dataframe tbody tr th:only-of-type {\n",
       "        vertical-align: middle;\n",
       "    }\n",
       "\n",
       "    .dataframe tbody tr th {\n",
       "        vertical-align: top;\n",
       "    }\n",
       "\n",
       "    .dataframe thead th {\n",
       "        text-align: right;\n",
       "    }\n",
       "</style>\n",
       "<table border=\"1\" class=\"dataframe\">\n",
       "  <thead>\n",
       "    <tr style=\"text-align: right;\">\n",
       "      <th></th>\n",
       "      <th>index</th>\n",
       "      <th>date</th>\n",
       "      <th>game_id</th>\n",
       "      <th>game_url</th>\n",
       "      <th>home</th>\n",
       "      <th>league_year</th>\n",
       "      <th>opponent</th>\n",
       "      <th>opponent_score</th>\n",
       "      <th>result</th>\n",
       "      <th>score</th>\n",
       "      <th>spread</th>\n",
       "      <th>spread_result</th>\n",
       "      <th>team</th>\n",
       "      <th>datetime</th>\n",
       "      <th>pred_datetime</th>\n",
       "    </tr>\n",
       "  </thead>\n",
       "  <tbody>\n",
       "    <tr>\n",
       "      <th>757</th>\n",
       "      <td>757</td>\n",
       "      <td>2021-01-01</td>\n",
       "      <td>238998</td>\n",
       "      <td>/sport/basketball/nba/boxscore/238998</td>\n",
       "      <td>True</td>\n",
       "      <td>2020-2021</td>\n",
       "      <td>BOS</td>\n",
       "      <td>93</td>\n",
       "      <td>W</td>\n",
       "      <td>96</td>\n",
       "      <td>8.5</td>\n",
       "      <td>W</td>\n",
       "      <td>DET</td>\n",
       "      <td>2021-01-01</td>\n",
       "      <td>2020-12-31</td>\n",
       "    </tr>\n",
       "    <tr>\n",
       "      <th>947</th>\n",
       "      <td>947</td>\n",
       "      <td>2021-01-01</td>\n",
       "      <td>239000</td>\n",
       "      <td>/sport/basketball/nba/boxscore/239000</td>\n",
       "      <td>True</td>\n",
       "      <td>2020-2021</td>\n",
       "      <td>WAS</td>\n",
       "      <td>130</td>\n",
       "      <td>L</td>\n",
       "      <td>109</td>\n",
       "      <td>1.5</td>\n",
       "      <td>L</td>\n",
       "      <td>MIN</td>\n",
       "      <td>2021-01-01</td>\n",
       "      <td>2020-12-31</td>\n",
       "    </tr>\n",
       "    <tr>\n",
       "      <th>991</th>\n",
       "      <td>991</td>\n",
       "      <td>2021-01-01</td>\n",
       "      <td>238999</td>\n",
       "      <td>/sport/basketball/nba/boxscore/238999</td>\n",
       "      <td>True</td>\n",
       "      <td>2020-2021</td>\n",
       "      <td>ATL</td>\n",
       "      <td>114</td>\n",
       "      <td>L</td>\n",
       "      <td>96</td>\n",
       "      <td>-6.5</td>\n",
       "      <td>L</td>\n",
       "      <td>BKN</td>\n",
       "      <td>2021-01-01</td>\n",
       "      <td>2020-12-31</td>\n",
       "    </tr>\n",
       "    <tr>\n",
       "      <th>1021</th>\n",
       "      <td>1021</td>\n",
       "      <td>2021-01-01</td>\n",
       "      <td>238996</td>\n",
       "      <td>/sport/basketball/nba/boxscore/238996</td>\n",
       "      <td>True</td>\n",
       "      <td>2020-2021</td>\n",
       "      <td>MEM</td>\n",
       "      <td>108</td>\n",
       "      <td>L</td>\n",
       "      <td>93</td>\n",
       "      <td>-4.0</td>\n",
       "      <td>L</td>\n",
       "      <td>CHA</td>\n",
       "      <td>2021-01-01</td>\n",
       "      <td>2020-12-31</td>\n",
       "    </tr>\n",
       "    <tr>\n",
       "      <th>1068</th>\n",
       "      <td>1068</td>\n",
       "      <td>2021-01-01</td>\n",
       "      <td>239002</td>\n",
       "      <td>/sport/basketball/nba/boxscore/239002</td>\n",
       "      <td>True</td>\n",
       "      <td>2020-2021</td>\n",
       "      <td>CHI</td>\n",
       "      <td>96</td>\n",
       "      <td>W</td>\n",
       "      <td>126</td>\n",
       "      <td>-14.5</td>\n",
       "      <td>W</td>\n",
       "      <td>MIL</td>\n",
       "      <td>2021-01-01</td>\n",
       "      <td>2020-12-31</td>\n",
       "    </tr>\n",
       "    <tr>\n",
       "      <th>1191</th>\n",
       "      <td>1191</td>\n",
       "      <td>2021-01-01</td>\n",
       "      <td>239005</td>\n",
       "      <td>/sport/basketball/nba/boxscore/239005</td>\n",
       "      <td>True</td>\n",
       "      <td>2020-2021</td>\n",
       "      <td>POR</td>\n",
       "      <td>123</td>\n",
       "      <td>L</td>\n",
       "      <td>98</td>\n",
       "      <td>3.5</td>\n",
       "      <td>L</td>\n",
       "      <td>GSW</td>\n",
       "      <td>2021-01-01</td>\n",
       "      <td>2020-12-31</td>\n",
       "    </tr>\n",
       "    <tr>\n",
       "      <th>1196</th>\n",
       "      <td>1196</td>\n",
       "      <td>2021-01-01</td>\n",
       "      <td>239003</td>\n",
       "      <td>/sport/basketball/nba/boxscore/239003</td>\n",
       "      <td>True</td>\n",
       "      <td>2020-2021</td>\n",
       "      <td>LAC</td>\n",
       "      <td>100</td>\n",
       "      <td>W</td>\n",
       "      <td>106</td>\n",
       "      <td>3.5</td>\n",
       "      <td>W</td>\n",
       "      <td>UTA</td>\n",
       "      <td>2021-01-01</td>\n",
       "      <td>2020-12-31</td>\n",
       "    </tr>\n",
       "    <tr>\n",
       "      <th>1223</th>\n",
       "      <td>1223</td>\n",
       "      <td>2021-01-01</td>\n",
       "      <td>239004</td>\n",
       "      <td>/sport/basketball/nba/boxscore/239004</td>\n",
       "      <td>True</td>\n",
       "      <td>2020-2021</td>\n",
       "      <td>PHX</td>\n",
       "      <td>106</td>\n",
       "      <td>L</td>\n",
       "      <td>103</td>\n",
       "      <td>-3.5</td>\n",
       "      <td>L</td>\n",
       "      <td>DEN</td>\n",
       "      <td>2021-01-01</td>\n",
       "      <td>2020-12-31</td>\n",
       "    </tr>\n",
       "    <tr>\n",
       "      <th>1262</th>\n",
       "      <td>1262</td>\n",
       "      <td>2021-01-01</td>\n",
       "      <td>238997</td>\n",
       "      <td>/sport/basketball/nba/boxscore/238997</td>\n",
       "      <td>True</td>\n",
       "      <td>2020-2021</td>\n",
       "      <td>MIA</td>\n",
       "      <td>83</td>\n",
       "      <td>W</td>\n",
       "      <td>93</td>\n",
       "      <td>1.5</td>\n",
       "      <td>W</td>\n",
       "      <td>DAL</td>\n",
       "      <td>2021-01-01</td>\n",
       "      <td>2020-12-31</td>\n",
       "    </tr>\n",
       "    <tr>\n",
       "      <th>10875</th>\n",
       "      <td>10875</td>\n",
       "      <td>2021-01-01</td>\n",
       "      <td>239001</td>\n",
       "      <td>/sport/basketball/nba/boxscore/239001</td>\n",
       "      <td>True</td>\n",
       "      <td>2020-2021</td>\n",
       "      <td>LAL</td>\n",
       "      <td>109</td>\n",
       "      <td>L</td>\n",
       "      <td>103</td>\n",
       "      <td>7.5</td>\n",
       "      <td>W</td>\n",
       "      <td>SAS</td>\n",
       "      <td>2021-01-01</td>\n",
       "      <td>2020-12-31</td>\n",
       "    </tr>\n",
       "  </tbody>\n",
       "</table>\n",
       "</div>"
      ],
      "text/plain": [
       "       index        date  game_id                               game_url  \\\n",
       "757      757  2021-01-01   238998  /sport/basketball/nba/boxscore/238998   \n",
       "947      947  2021-01-01   239000  /sport/basketball/nba/boxscore/239000   \n",
       "991      991  2021-01-01   238999  /sport/basketball/nba/boxscore/238999   \n",
       "1021    1021  2021-01-01   238996  /sport/basketball/nba/boxscore/238996   \n",
       "1068    1068  2021-01-01   239002  /sport/basketball/nba/boxscore/239002   \n",
       "1191    1191  2021-01-01   239005  /sport/basketball/nba/boxscore/239005   \n",
       "1196    1196  2021-01-01   239003  /sport/basketball/nba/boxscore/239003   \n",
       "1223    1223  2021-01-01   239004  /sport/basketball/nba/boxscore/239004   \n",
       "1262    1262  2021-01-01   238997  /sport/basketball/nba/boxscore/238997   \n",
       "10875  10875  2021-01-01   239001  /sport/basketball/nba/boxscore/239001   \n",
       "\n",
       "       home league_year opponent  opponent_score result  score  spread  \\\n",
       "757    True   2020-2021      BOS              93      W     96     8.5   \n",
       "947    True   2020-2021      WAS             130      L    109     1.5   \n",
       "991    True   2020-2021      ATL             114      L     96    -6.5   \n",
       "1021   True   2020-2021      MEM             108      L     93    -4.0   \n",
       "1068   True   2020-2021      CHI              96      W    126   -14.5   \n",
       "1191   True   2020-2021      POR             123      L     98     3.5   \n",
       "1196   True   2020-2021      LAC             100      W    106     3.5   \n",
       "1223   True   2020-2021      PHX             106      L    103    -3.5   \n",
       "1262   True   2020-2021      MIA              83      W     93     1.5   \n",
       "10875  True   2020-2021      LAL             109      L    103     7.5   \n",
       "\n",
       "      spread_result team   datetime pred_datetime  \n",
       "757               W  DET 2021-01-01    2020-12-31  \n",
       "947               L  MIN 2021-01-01    2020-12-31  \n",
       "991               L  BKN 2021-01-01    2020-12-31  \n",
       "1021              L  CHA 2021-01-01    2020-12-31  \n",
       "1068              W  MIL 2021-01-01    2020-12-31  \n",
       "1191              L  GSW 2021-01-01    2020-12-31  \n",
       "1196              W  UTA 2021-01-01    2020-12-31  \n",
       "1223              L  DEN 2021-01-01    2020-12-31  \n",
       "1262              W  DAL 2021-01-01    2020-12-31  \n",
       "10875             W  SAS 2021-01-01    2020-12-31  "
      ]
     },
     "execution_count": 14,
     "metadata": {},
     "output_type": "execute_result"
    }
   ],
   "source": [
    "historic_odds[historic_odds['pred_datetime'] == pd.to_datetime('2020-12-31')]"
   ]
  },
  {
   "cell_type": "code",
   "execution_count": 15,
   "id": "municipal-retail",
   "metadata": {},
   "outputs": [],
   "source": [
    "full_dataset = historic_odds.merge(historic_standings,\n",
    "                                   how='left',\n",
    "                                   left_on=['team', 'pred_datetime'],\n",
    "                                   right_on=['teamname', 'datetime'],\n",
    "                                   suffixes=(None, '_sta'),\n",
    "                                   validate='1:m')"
   ]
  },
  {
   "cell_type": "code",
   "execution_count": 16,
   "id": "medieval-abortion",
   "metadata": {},
   "outputs": [],
   "source": [
    "full_dataset = full_dataset.merge(historic_standings,\n",
    "                                   how='left',\n",
    "                                   left_on=['opponent', 'pred_datetime'],\n",
    "                                   right_on=['teamname', 'datetime'],\n",
    "                                   suffixes=(None, '_osta'),\n",
    "                                   validate='1:m')"
   ]
  },
  {
   "cell_type": "code",
   "execution_count": 17,
   "id": "aquatic-joseph",
   "metadata": {},
   "outputs": [],
   "source": [
    "full_dataset = full_dataset.merge(historic_team_stats,\n",
    "                                   how='left',\n",
    "                                   left_on=['team', 'pred_datetime'],\n",
    "                                   right_on=['teamname', 'datetime'],\n",
    "                                   suffixes=(None, '_ts'),\n",
    "                                   validate='1:m')"
   ]
  },
  {
   "cell_type": "code",
   "execution_count": 18,
   "id": "statistical-hypothetical",
   "metadata": {},
   "outputs": [],
   "source": [
    "full_dataset = full_dataset.merge(historic_opponent_stats,\n",
    "                                   how='left',\n",
    "                                   left_on=['opponent', 'pred_datetime'],\n",
    "                                   right_on=['teamname', 'datetime'],\n",
    "                                   suffixes=(None, '_os'),\n",
    "                                   validate='1:m')"
   ]
  },
  {
   "cell_type": "markdown",
   "id": "mediterranean-object",
   "metadata": {},
   "source": [
    "# Create Unique Record ID"
   ]
  },
  {
   "cell_type": "code",
   "execution_count": 19,
   "id": "federal-blackjack",
   "metadata": {},
   "outputs": [],
   "source": [
    "full_dataset['id'] = full_dataset['datetime'].apply(lambda x: x.strftime('%Y%m%d')) + full_dataset['team'] + full_dataset['opponent']"
   ]
  },
  {
   "cell_type": "markdown",
   "id": "extreme-dialogue",
   "metadata": {},
   "source": [
    "# Cleanup"
   ]
  },
  {
   "cell_type": "markdown",
   "id": "lucky-western",
   "metadata": {},
   "source": [
    "## Remove Excess Columns and Reorder"
   ]
  },
  {
   "cell_type": "code",
   "execution_count": 20,
   "id": "accurate-pendant",
   "metadata": {},
   "outputs": [],
   "source": [
    "columns_to_keep = ['id', 'datetime', 'team', 'opponent', 'score', 'opponent_score', 'result',\n",
    "                   'game_url', 'league_year', 'spread', 'spread_result', 'pred_datetime',\n",
    "                   'wins', 'losses', 'win_perc', 'expected_wins', 'expected_losses',\n",
    "                   'points_scored_per_game', 'points_allowed_per_game',\n",
    "                   'wins_osta', 'losses_osta', 'win_perc_osta', 'expected_wins_osta', 'expected_losses_osta',\n",
    "                   'points_scored_per_game_osta', 'points_allowed_per_game_osta',\n",
    "                   'g', 'mp', 'pts', 'ast', 'trb', 'blk', 'stl',\n",
    "                   'tov', 'pf', 'drb', 'orb',\n",
    "                   'fg', 'fga', 'fg_pct', 'fg2', 'fg2a', 'fg2_pct',\n",
    "                   'fg3', 'fg3a', 'fg3_pct', 'ft', 'fta', 'ft_pct',\n",
    "                   'g_os', 'mp_os', 'pts_os', 'ast_os', 'trb_os', 'blk_os', 'stl_os',\n",
    "                   'tov_os', 'pf_os', 'drb_os', 'orb_os',\n",
    "                   'fg_os', 'fga_os', 'fg_pct_os', 'fg2_os', 'fg2a_os', 'fg2_pct_os',\n",
    "                   'fg3_os', 'fg3a_os', 'fg3_pct_os', 'ft_os', 'fta_os', 'ft_pct_os']"
   ]
  },
  {
   "cell_type": "code",
   "execution_count": 21,
   "id": "pleased-colonial",
   "metadata": {},
   "outputs": [],
   "source": [
    "full_dataset = full_dataset[columns_to_keep]"
   ]
  },
  {
   "cell_type": "markdown",
   "id": "african-plane",
   "metadata": {},
   "source": [
    "## Rename Columns"
   ]
  },
  {
   "cell_type": "code",
   "execution_count": 22,
   "id": "pharmaceutical-respondent",
   "metadata": {},
   "outputs": [],
   "source": [
    "column_rename_dict = {'id': 'game_id', 'datetime': 'game_date', 'team': 'home_team', 'opponent': 'away_team',\n",
    "                      'score': 'home_score', 'opponent_score': 'away_score', 'result': 'home_result',\n",
    "                      'game_url': 'covers_game_url', 'league_year': 'league_year', 'spread': 'home_spread',\n",
    "                      'spread_result': 'home_spread_result', 'pred_datetime': 'pred_date',\n",
    "                      'wins': 'wins', 'losses': 'losses', 'win_perc': 'win_pct',\n",
    "                      'expected_wins': 'expected_wins', 'expected_losses': 'expected_losses',\n",
    "                      'points_scored_per_game': 'home_ppg', 'points_allowed_per_game': 'home_papg',\n",
    "                      'wins_osta': 'away_wins', 'losses_osta': 'away_losses', 'win_perc_osta': 'away_win_pct',\n",
    "                      'expected_wins_osta': 'away_expected_wins', 'expected_losses_osta': 'away_expected_losses',\n",
    "                      'points_scored_per_game_osta': 'away_ppg', 'points_allowed_per_game_osta': 'away_papg',\n",
    "                      'g': 'g', 'mp': 'mp', 'pts': 'pts', 'ast': 'ast', 'trb': 'trb', 'blk': 'blk',\n",
    "                      'stl': 'stl', 'tov': 'tov', 'pf': 'pf', 'drb': 'drb', 'orb': 'orb',\n",
    "                      'fg': 'fg', 'fga': 'fga', 'fg_pct': 'fg_pct',\n",
    "                      'fg2': 'fg2', 'fg2a': 'fg2a', 'fg2_pct': 'fg2_pct',\n",
    "                      'fg3': 'fg3', 'fg3a': 'fg3a', 'fg3_pct': 'fg3_pct',\n",
    "                      'ft': 'ft', 'fta': 'fta', 'ft_pct': 'ft_pct',\n",
    "                      'g_os': 'away_g', 'mp_os': 'away_mp', 'pts_os': 'away_pts', 'ast_os': 'away_ast',\n",
    "                      'trb_os': 'away_trb', 'blk_os': 'away_blk', 'stl_os': 'away_stl',\n",
    "                      'tov_os': 'away_tov', 'pf_os': 'away_pf', 'drb_os': 'away_drb', 'orb_os': 'away_orb',\n",
    "                      'fg_os': 'away_fg', 'fga_os': 'away_fga', 'fg_pct_os': 'away_fg_pct',\n",
    "                      'fg2_os': 'away_fg2', 'fg2a_os': 'away_fg2a', 'fg2_pct_os': 'away_fg2_pct',\n",
    "                      'fg3_os': 'away_fg3', 'fg3a_os': 'away_fg3a', 'fg3_pct_os': 'away_fg3_pct',\n",
    "                      'ft_os': 'away_ft', 'fta_os': 'away_fta', 'ft_pct_os': 'away_fta_pct'}"
   ]
  },
  {
   "cell_type": "code",
   "execution_count": 23,
   "id": "specific-combine",
   "metadata": {},
   "outputs": [],
   "source": [
    "full_dataset = full_dataset.rename(columns=column_rename_dict)"
   ]
  },
  {
   "cell_type": "markdown",
   "id": "defined-heaven",
   "metadata": {},
   "source": [
    "# Save to RDS"
   ]
  },
  {
   "cell_type": "code",
   "execution_count": 24,
   "id": "controlling-brooklyn",
   "metadata": {},
   "outputs": [],
   "source": [
    "# full_dataset.to_sql(name='combined_data_inbound', con=connection, index=False)"
   ]
  }
 ],
 "metadata": {
  "kernelspec": {
   "display_name": "Python 3",
   "language": "python",
   "name": "python3"
  },
  "language_info": {
   "codemirror_mode": {
    "name": "ipython",
    "version": 3
   },
   "file_extension": ".py",
   "mimetype": "text/x-python",
   "name": "python",
   "nbconvert_exporter": "python",
   "pygments_lexer": "ipython3",
   "version": "3.7.7"
  }
 },
 "nbformat": 4,
 "nbformat_minor": 5
}
