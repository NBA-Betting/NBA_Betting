{
 "cells": [
  {
   "cell_type": "markdown",
   "id": "095f0840",
   "metadata": {},
   "source": [
    "# Version 2 EDA"
   ]
  },
  {
   "cell_type": "markdown",
   "id": "dc8a3853",
   "metadata": {},
   "source": [
    "## TODO - Questions\n",
    "\n",
    "1. "
   ]
  },
  {
   "cell_type": "markdown",
   "id": "d419001a",
   "metadata": {},
   "source": [
    "## Imports and Global Settings"
   ]
  },
  {
   "cell_type": "code",
   "execution_count": 2,
   "id": "fe1692d3",
   "metadata": {},
   "outputs": [],
   "source": [
    "import sys\n",
    "import pandas as pd\n",
    "import matplotlib.pyplot as plt\n",
    "import matplotlib.patches as mpatches\n",
    "import seaborn as sns\n",
    "from sqlalchemy import create_engine\n",
    "\n",
    "sys.path.append('../')\n",
    "from passkeys import RDS_ENDPOINT, RDS_PASSWORD\n",
    "\n",
    "# Pandas Settings\n",
    "pd.set_option('display.max_columns', 1000)\n",
    "pd.set_option('display.max_rows',1000)\n",
    "pd.options.display.max_info_columns = 1000\n",
    "pd.options.display.precision = 5\n",
    "\n",
    "# Graphing Settings\n",
    "sns.set_theme()"
   ]
  },
  {
   "cell_type": "markdown",
   "id": "c0057062",
   "metadata": {},
   "source": [
    "## Data Inbound"
   ]
  },
  {
   "cell_type": "markdown",
   "id": "b980cc0a",
   "metadata": {},
   "source": [
    "### Database Connection"
   ]
  },
  {
   "cell_type": "code",
   "execution_count": 3,
   "id": "f3e9045b",
   "metadata": {},
   "outputs": [],
   "source": [
    "username = 'postgres'\n",
    "password = RDS_PASSWORD\n",
    "endpoint = RDS_ENDPOINT\n",
    "database = 'nba_betting'\n",
    "port = '5432'\n",
    "\n",
    "# Create the connection string\n",
    "connection_string = f'postgresql+psycopg2://{username}:{password}@{endpoint}:{port}/{database}'"
   ]
  },
  {
   "cell_type": "markdown",
   "id": "47f7eea8",
   "metadata": {},
   "source": [
    "### Database Queries"
   ]
  },
  {
   "cell_type": "code",
   "execution_count": 9,
   "id": "74132dfe",
   "metadata": {},
   "outputs": [],
   "source": [
    "start_date = \"2010-09-01\" # September 1st, 2010 \n",
    "\n",
    "# Game Results\n",
    "nbastats_game_results_query = f\"SELECT * FROM ibd_nba_stats_game_results WHERE game_date >= '{start_date}';\"\n",
    "\n",
    "# Betting Data\n",
    "covers_query = f\"SELECT * FROM covers WHERE date >= '{start_date}';\"\n",
    "\n",
    "# NBA Stats Player Boxscores\n",
    "nbastats_player_boxscores_traditional_query = f\"SELECT * FROM ibd_nba_stats_boxscores_traditional WHERE game_date >= '{start_date}';\"\n",
    "nbastats_player_boxscores_adv_traditional_query = f\"SELECT * FROM ibd_nba_stats_boxscores_adv_traditional WHERE game_date >= '{start_date}';\"\n",
    "nbastats_player_boxscores_adv_advanced_query = f\"SELECT * FROM ibd_nba_stats_boxscores_adv_advanced WHERE game_date >= '{start_date}';\"\n",
    "\n",
    "# NBA Stats Player Stats\n",
    "nbastats_player_general_traditional_query = f\"SELECT * FROM ibd_nba_stats_player_general_traditional WHERE to_date >= '{start_date}';\"\n",
    "nbastats_player_general_advanced_query = f\"SELECT * FROM ibd_nba_stats_player_general_advacned WHERE to_date >= '{start_date}';\"\n",
    "\n",
    "# FiveThirtyEight Player Data\n",
    "fivethirtyeight_player_query = f\"SELECT * FROM covers WHERE to_date >= '{start_date}';\""
   ]
  },
  {
   "cell_type": "markdown",
   "id": "d95696a8",
   "metadata": {},
   "source": [
    "### Base Tables"
   ]
  },
  {
   "cell_type": "code",
   "execution_count": null,
   "id": "a96f52f6",
   "metadata": {},
   "outputs": [],
   "source": [
    "with create_engine(connection_string).connect() as connection:\n",
    "    # Game Results\n",
    "    nbastats_game_results = pd.read_sql_query(nbastats_game_results_query, connection, parse_dates=['game_date'])\n",
    "\n",
    "    # Betting Data\n",
    "    covers_betting_data = pd.read_sql_query(covers_query, connection, parse_dates=['date'])\n",
    "\n",
    "    # NBA Stats Player Boxscores\n",
    "    nbastats_player_boxscores_traditional = pd.read_sql_query(nbastats_player_boxscores_traditional_query,\n",
    "                                                           connection, parse_dates=['game_date'])\n",
    "    nbastats_player_boxscores_adv_traditional = pd.read_sql_query(nbastats_player_boxscores_adv_traditional_query,\n",
    "                                                               connection, parse_dates=['game_date'])\n",
    "    nbastats_player_boxscores_adv_advanced = pd.read_sql_query(nbastats_player_boxscores_adv_advanced_query,\n",
    "                                                            connection, parse_dates=['game_date'])\n",
    "\n",
    "    # NBA Stats Player Stats\n",
    "    nbastats_player_general_traditional = pd.read_sql_query(nbastats_player_general_traditional_query,\n",
    "                                                            connection, parse_dates=['to_date'])\n",
    "    nbastats_player_general_advanced = pd.read_sql_query(nbastats_player_general_advanced_query,\n",
    "                                                            connection, parse_dates=['to_date'])\n",
    "\n",
    "    # FiveThirtyEight Player Data\n",
    "    fivethirtyeight_player = pd.read_sql_query(fivethirtyeight_player_query,\n",
    "                                            connection, parse_dates=['to_date'])"
   ]
  },
  {
   "cell_type": "markdown",
   "id": "6a386615",
   "metadata": {},
   "source": [
    "### Working Tables - **Restart From Here**"
   ]
  },
  {
   "cell_type": "code",
   "execution_count": null,
   "id": "7cf49e75",
   "metadata": {},
   "outputs": [],
   "source": [
    "# Game Results\n",
    "games_df = nbastats_game_results.copy()\n",
    "\n",
    "# Betting Data\n",
    "betting_df = covers_betting_data.copy()\n",
    "\n",
    "# NBA Stats Player Boxscores\n",
    "trad_box_df = nbastats_player_boxscores_traditional.copy()\n",
    "tradadv_box_df = nbastats_player_boxscores_adv_traditional.copy()\n",
    "adv_box_df = nbastats_player_boxscores_adv_advanced.copy()\n",
    "\n",
    "# NBA Stats Player Stats\n",
    "stats_trad_df = nbastats_player_general_traditional.copy()\n",
    "stats_adv_df = nbastats_player_general_advanced.copy()\n",
    "\n",
    "# FiveThirtyEight Player Data\n",
    "five38_df = fivethirtyeight_player.copy()"
   ]
  },
  {
   "cell_type": "code",
   "execution_count": null,
   "id": "7e403fca",
   "metadata": {},
   "outputs": [],
   "source": [
    "def print_table_info(df):\n",
    "    # Print the head(10)\n",
    "    print(\"Head (first 10 rows):\")\n",
    "    print(df.head(10))\n",
    "\n",
    "    # Print the info()\n",
    "    print(\"\\nInfo:\")\n",
    "    print(df.info(verbose=True, show_counts=True))"
   ]
  },
  {
   "cell_type": "code",
   "execution_count": null,
   "id": "e0b06e60",
   "metadata": {},
   "outputs": [],
   "source": []
  }
 ],
 "metadata": {
  "kernelspec": {
   "display_name": "Python 3 (ipykernel)",
   "language": "python",
   "name": "python3"
  },
  "language_info": {
   "codemirror_mode": {
    "name": "ipython",
    "version": 3
   },
   "file_extension": ".py",
   "mimetype": "text/x-python",
   "name": "python",
   "nbconvert_exporter": "python",
   "pygments_lexer": "ipython3",
   "version": "3.11.2"
  }
 },
 "nbformat": 4,
 "nbformat_minor": 5
}
