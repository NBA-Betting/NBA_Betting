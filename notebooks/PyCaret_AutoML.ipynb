{
 "cells": [
  {
   "cell_type": "markdown",
   "id": "aerial-malpractice",
   "metadata": {},
   "source": [
    "# AutoML"
   ]
  },
  {
   "cell_type": "markdown",
   "id": "comparative-marathon",
   "metadata": {},
   "source": [
    "PyCaret\n",
    "* Main Site - https://pycaret.org/\n",
    "* Docs - https://pycaret.readthedocs.io/en/latest/"
   ]
  },
  {
   "cell_type": "markdown",
   "id": "exposed-confusion",
   "metadata": {},
   "source": [
    "## Table of Contents\n",
    "\n",
    "* [Setup and Preprocessing](#setup)  \n",
    "* [Compare Models](#compare)  \n",
    "* [Create Model](#create)  \n",
    "* [Tune Model](#tune)  \n",
    "* [Evaluate Model](#evaluate)  \n",
    "* [Finalize and Store Model](#finalize_and_store)  "
   ]
  },
  {
   "cell_type": "markdown",
   "id": "residential-geneva",
   "metadata": {},
   "source": [
    "## Imports and Global Settings"
   ]
  },
  {
   "cell_type": "code",
   "execution_count": 4,
   "id": "chinese-single",
   "metadata": {},
   "outputs": [
    {
     "ename": "ModuleNotFoundError",
     "evalue": "No module named 'pycaret'",
     "output_type": "error",
     "traceback": [
      "\u001b[0;31m---------------------------------------------------------------------------\u001b[0m",
      "\u001b[0;31mModuleNotFoundError\u001b[0m                       Traceback (most recent call last)",
      "Cell \u001b[0;32mIn[4], line 5\u001b[0m\n\u001b[1;32m      3\u001b[0m \u001b[38;5;28;01mimport\u001b[39;00m \u001b[38;5;21;01mpandas\u001b[39;00m \u001b[38;5;28;01mas\u001b[39;00m \u001b[38;5;21;01mpd\u001b[39;00m\n\u001b[1;32m      4\u001b[0m \u001b[38;5;28;01mfrom\u001b[39;00m \u001b[38;5;21;01msqlalchemy\u001b[39;00m \u001b[38;5;28;01mimport\u001b[39;00m create_engine\n\u001b[0;32m----> 5\u001b[0m \u001b[38;5;28;01mfrom\u001b[39;00m \u001b[38;5;21;01mpycaret\u001b[39;00m \u001b[38;5;28;01mimport\u001b[39;00m regression \u001b[38;5;28;01mas\u001b[39;00m py_reg\n\u001b[1;32m      6\u001b[0m \u001b[38;5;28;01mfrom\u001b[39;00m \u001b[38;5;21;01mpycaret\u001b[39;00m \u001b[38;5;28;01mimport\u001b[39;00m classification \u001b[38;5;28;01mas\u001b[39;00m py_cls\n\u001b[1;32m      8\u001b[0m sys\u001b[38;5;241m.\u001b[39mpath\u001b[38;5;241m.\u001b[39mappend(\u001b[38;5;124m'\u001b[39m\u001b[38;5;124m../\u001b[39m\u001b[38;5;124m'\u001b[39m)\n",
      "\u001b[0;31mModuleNotFoundError\u001b[0m: No module named 'pycaret'"
     ]
    }
   ],
   "source": [
    "import sys\n",
    "import mlflow\n",
    "import pandas as pd\n",
    "from sqlalchemy import create_engine\n",
    "from pycaret import regression as py_reg\n",
    "from pycaret import classification as py_cls\n",
    "\n",
    "sys.path.append('../')\n",
    "from passkeys import RDS_ENDPOINT, RDS_PASSWORD\n",
    "\n",
    "# Pandas Settings\n",
    "pd.set_option('display.max_columns', 500)\n",
    "pd.set_option('display.max_rows', 500)\n",
    "pd.options.display.max_info_columns = 200\n",
    "pd.options.display.precision = 5\n",
    "\n",
    "\n",
    "mlflow.set_tracking_uri('file:/home/jeff/Documents/Data_Science_Projects/NBA_Betting/models/AutoML')"
   ]
  },
  {
   "cell_type": "markdown",
   "id": "ready-routine",
   "metadata": {},
   "source": [
    "## Database Connection"
   ]
  },
  {
   "cell_type": "code",
   "execution_count": null,
   "id": "annual-chest",
   "metadata": {},
   "outputs": [],
   "source": [
    "username = 'postgres'\n",
    "password = RDS_PASSWORD\n",
    "endpoint = RDS_ENDPOINT\n",
    "database = 'nba_betting'\n",
    "port = '5432'\n",
    "\n",
    "connection = create_engine(f'postgresql+psycopg2://{username}:{password}@{endpoint}/{database}').connect()"
   ]
  },
  {
   "cell_type": "markdown",
   "id": "transparent-neighborhood",
   "metadata": {},
   "source": [
    "### Datasets"
   ]
  },
  {
   "cell_type": "code",
   "execution_count": null,
   "id": "fossil-deviation",
   "metadata": {},
   "outputs": [],
   "source": [
    "df = pd.read_sql_table('model_training_data', connection)"
   ]
  },
  {
   "cell_type": "markdown",
   "id": "chinese-california",
   "metadata": {},
   "source": [
    "### Restrict to previous years games only"
   ]
  },
  {
   "cell_type": "code",
   "execution_count": null,
   "id": "broad-steering",
   "metadata": {},
   "outputs": [],
   "source": [
    "df = df[df['league_year_end'] != 23]"
   ]
  },
  {
   "cell_type": "code",
   "execution_count": null,
   "id": "institutional-pipeline",
   "metadata": {},
   "outputs": [],
   "source": [
    "df.sort_values('game_id', ascending=False).head()"
   ]
  },
  {
   "cell_type": "markdown",
   "id": "cultural-idaho",
   "metadata": {},
   "source": [
    "<a id='basic_data_overview'></a>\n",
    "\n",
    "## Basic Data Overview"
   ]
  },
  {
   "cell_type": "code",
   "execution_count": null,
   "id": "ongoing-newark",
   "metadata": {},
   "outputs": [],
   "source": [
    "df.info(verbose=True, show_counts=True)"
   ]
  },
  {
   "cell_type": "code",
   "execution_count": null,
   "id": "negative-fisher",
   "metadata": {},
   "outputs": [],
   "source": [
    "df.head()"
   ]
  },
  {
   "cell_type": "markdown",
   "id": "retired-indicator",
   "metadata": {},
   "source": [
    "## PyCaret - Regression"
   ]
  },
  {
   "cell_type": "markdown",
   "id": "cardiovascular-stock",
   "metadata": {},
   "source": [
    "<a id=setup></a>\n",
    "\n",
    "### Setup and Preprocessing"
   ]
  },
  {
   "cell_type": "code",
   "execution_count": null,
   "id": "sharp-omaha",
   "metadata": {},
   "outputs": [],
   "source": [
    "target = ['REG_TARGET_actual_home_margin']\n",
    "drop_features = ['fd_line_home', 'dk_line_home', 'covers_consensus_home', 'game_id',\n",
    "                 'REG_TARGET_actual_home_margin', 'CLS_TARGET_home_margin_GT_home_spread']\n",
    "main_features = ['home_team_num', 'away_team_num', 'home_spread',\n",
    "                 'league_year_end', 'day_of_season', 'elo1_pre',\n",
    "                 'elo2_pre', 'elo_prob1', 'elo_prob2']\n",
    "rank_features = [feature for feature in list(df) if 'rank' in feature]\n",
    "zscore_features = [feature for feature in list(df) if 'zscore' in feature]\n",
    "                 \n",
    "other_features = [feature for feature in list(df) if feature not in target + main_features + drop_features]\n",
    "\n",
    "features_to_use = target + main_features + rank_features + zscore_features"
   ]
  },
  {
   "cell_type": "code",
   "execution_count": null,
   "id": "french-europe",
   "metadata": {},
   "outputs": [],
   "source": [
    "model_ready_df = df[features_to_use]"
   ]
  },
  {
   "cell_type": "code",
   "execution_count": null,
   "id": "fuzzy-scheduling",
   "metadata": {
    "scrolled": true
   },
   "outputs": [],
   "source": [
    "model_ready_df.info(verbose=True)"
   ]
  },
  {
   "cell_type": "markdown",
   "id": "golden-replica",
   "metadata": {},
   "source": [
    "The setup process involves a lot of options. Reference the docs below:   \n",
    "https://pycaret.readthedocs.io/en/latest/api/regression.html#module-pycaret.regression"
   ]
  },
  {
   "cell_type": "code",
   "execution_count": null,
   "id": "generous-flower",
   "metadata": {},
   "outputs": [],
   "source": [
    "setup_params = {'log_experiment': True,\n",
    "                'log_profile': False,\n",
    "                'log_plots': False,\n",
    "                'experiment_name': 'NBA_Betting_REG_Main_Features',\n",
    "                'data': model_ready_df,\n",
    "                'target': 'REG_TARGET_actual_home_margin',\n",
    "                'train_size': 0.7,\n",
    "                'preprocess': True,\n",
    "                'normalize': False,        # zscore\n",
    "                'transformation': False,   # yeo-johnson power transform to make data more Gaussian\n",
    "                'remove_outliers': False,  # using SVD\n",
    "                'remove_multicollinearity': False,\n",
    "                'polynomial_features': False,\n",
    "                'trigonometry_features': False,\n",
    "                'feature_interaction': False,\n",
    "                'feature_ratio': False,\n",
    "                'feature_selection': False,\n",
    "                'feature_selection_threshold': 0.8,\n",
    "                'pca': False,\n",
    "                'pca_components': 10,\n",
    "                'numeric_features': [],\n",
    "                'ignore_features': []\n",
    "               }"
   ]
  },
  {
   "cell_type": "code",
   "execution_count": null,
   "id": "earlier-voice",
   "metadata": {
    "scrolled": true
   },
   "outputs": [],
   "source": [
    "nba_betting_regression = py_reg.setup(**setup_params)"
   ]
  },
  {
   "cell_type": "markdown",
   "id": "united-montgomery",
   "metadata": {},
   "source": [
    "<a id=compare></a>\n",
    "\n",
    "### Compare Models"
   ]
  },
  {
   "cell_type": "code",
   "execution_count": null,
   "id": "conceptual-jewel",
   "metadata": {
    "scrolled": false
   },
   "outputs": [],
   "source": [
    "best_3_models = py_reg.compare_models(n_select=3)"
   ]
  },
  {
   "cell_type": "markdown",
   "id": "spoken-nursery",
   "metadata": {},
   "source": [
    "<a id=create></a>\n",
    "\n",
    "### Create Selected Model"
   ]
  },
  {
   "cell_type": "code",
   "execution_count": null,
   "id": "lightweight-wales",
   "metadata": {},
   "outputs": [],
   "source": [
    "model = py_reg.create_model('lasso')"
   ]
  },
  {
   "cell_type": "markdown",
   "id": "intensive-house",
   "metadata": {},
   "source": [
    "<a id=tune></a>\n",
    "\n",
    "### Tune Selected Model"
   ]
  },
  {
   "cell_type": "code",
   "execution_count": null,
   "id": "chronic-highway",
   "metadata": {},
   "outputs": [],
   "source": [
    "tuned_model = py_reg.tune_model(model)"
   ]
  },
  {
   "cell_type": "markdown",
   "id": "mobile-encounter",
   "metadata": {},
   "source": [
    "<a id=evaluate></a>\n",
    "\n",
    "### Evaluate Model"
   ]
  },
  {
   "cell_type": "markdown",
   "id": "later-opera",
   "metadata": {},
   "source": [
    "https://pycaret.readthedocs.io/en/latest/api/regression.html#pycaret.regression.evaluate_model"
   ]
  },
  {
   "cell_type": "code",
   "execution_count": null,
   "id": "external-alias",
   "metadata": {},
   "outputs": [],
   "source": [
    "py_reg.evaluate_model(tuned_model)"
   ]
  },
  {
   "cell_type": "markdown",
   "id": "colonial-offering",
   "metadata": {},
   "source": [
    "https://pycaret.readthedocs.io/en/latest/api/regression.html#pycaret.regression.interpret_model"
   ]
  },
  {
   "cell_type": "code",
   "execution_count": null,
   "id": "filled-spice",
   "metadata": {},
   "outputs": [],
   "source": [
    "# py_reg.interpret_model(tuned_model)"
   ]
  },
  {
   "cell_type": "markdown",
   "id": "western-wrong",
   "metadata": {},
   "source": [
    "<a id=finalize_and_store></a>\n",
    "\n",
    "### Model Finalization and Storage"
   ]
  },
  {
   "cell_type": "code",
   "execution_count": null,
   "id": "laden-reasoning",
   "metadata": {
    "scrolled": true
   },
   "outputs": [],
   "source": [
    "final_model = py_reg.finalize_model(tuned_model)"
   ]
  },
  {
   "cell_type": "code",
   "execution_count": null,
   "id": "moderate-blair",
   "metadata": {
    "scrolled": true
   },
   "outputs": [],
   "source": [
    "# py_reg.save_model(final_model, '../models/AutoML/vlastd_Rank_Lasso_Reg_PyCaret')"
   ]
  },
  {
   "cell_type": "code",
   "execution_count": null,
   "id": "greenhouse-swiss",
   "metadata": {},
   "outputs": [],
   "source": [
    "# !mlflow ui"
   ]
  },
  {
   "cell_type": "markdown",
   "id": "solar-integration",
   "metadata": {},
   "source": [
    "## Classification"
   ]
  },
  {
   "cell_type": "markdown",
   "id": "intense-english",
   "metadata": {},
   "source": [
    "<a id=setup></a>\n",
    "\n",
    "### Setup and Preprocessing"
   ]
  },
  {
   "cell_type": "code",
   "execution_count": null,
   "id": "weekly-lecture",
   "metadata": {},
   "outputs": [],
   "source": [
    "target = ['CLS_TARGET_home_margin_GT_home_spread']\n",
    "drop_features = ['fd_line_home', 'dk_line_home', 'covers_consensus_home', 'game_id',\n",
    "                 'REG_TARGET_actual_home_margin', 'CLS_TARGET_home_margin_GT_home_spread']\n",
    "main_features = ['home_team_num', 'away_team_num', 'home_spread',\n",
    "                 'league_year_end', 'day_of_season', 'elo1_pre',\n",
    "                 'elo2_pre', 'elo_prob1', 'elo_prob2']\n",
    "rank_features = [feature for feature in list(df) if 'rank' in feature]\n",
    "zscore_features = [feature for feature in list(df) if 'zscore' in feature]\n",
    "                 \n",
    "other_features = [feature for feature in list(df) if feature not in target + main_features + drop_features]\n",
    "\n",
    "features_to_use = target + main_features"
   ]
  },
  {
   "cell_type": "code",
   "execution_count": null,
   "id": "dramatic-breed",
   "metadata": {},
   "outputs": [],
   "source": [
    "model_ready_df = df[features_to_use]"
   ]
  },
  {
   "cell_type": "code",
   "execution_count": null,
   "id": "accompanied-denmark",
   "metadata": {
    "scrolled": true
   },
   "outputs": [],
   "source": [
    "model_ready_df.info()"
   ]
  },
  {
   "cell_type": "markdown",
   "id": "atomic-vaccine",
   "metadata": {},
   "source": [
    "The setup process involves a lot of options. Reference the docs below:   \n",
    "https://pycaret.readthedocs.io/en/latest/api/regression.html#module-pycaret.regression"
   ]
  },
  {
   "cell_type": "code",
   "execution_count": null,
   "id": "infrared-taxation",
   "metadata": {},
   "outputs": [],
   "source": [
    "setup_params = {'log_experiment': True,\n",
    "                'log_profile': False,\n",
    "                'log_plots': False,\n",
    "                'experiment_name': 'NBA_Betting_CLS_Main_Features',\n",
    "                'data': model_ready_df,\n",
    "                'target': 'CLS_TARGET_home_margin_GT_home_spread',\n",
    "                'train_size': 0.7,\n",
    "                'preprocess': True,\n",
    "                'normalize': False,        # zscore\n",
    "                'transformation': False,   # yeo-johnson power transform to make data more Gaussian\n",
    "                'remove_outliers': False,  # using SVD\n",
    "                'remove_multicollinearity': False,\n",
    "                'polynomial_features': False,\n",
    "                'trigonometry_features': False,\n",
    "                'feature_interaction': False,\n",
    "                'feature_ratio': False,\n",
    "                'feature_selection': False,\n",
    "                'feature_selection_threshold': 0.8,\n",
    "                'pca': False,\n",
    "                'pca_components': 10,\n",
    "                'numeric_features': ['league_year_end'],\n",
    "                'ignore_features': []\n",
    "               }"
   ]
  },
  {
   "cell_type": "code",
   "execution_count": null,
   "id": "divine-elephant",
   "metadata": {
    "scrolled": true
   },
   "outputs": [],
   "source": [
    "nba_betting_classification = py_cls.setup(**setup_params)"
   ]
  },
  {
   "cell_type": "markdown",
   "id": "applicable-italy",
   "metadata": {},
   "source": [
    "<a id=compare></a>\n",
    "\n",
    "### Compare Models"
   ]
  },
  {
   "cell_type": "code",
   "execution_count": null,
   "id": "breeding-republican",
   "metadata": {
    "scrolled": false
   },
   "outputs": [],
   "source": [
    "best_3_models = py_cls.compare_models(n_select=3)"
   ]
  },
  {
   "cell_type": "markdown",
   "id": "crazy-links",
   "metadata": {},
   "source": [
    "<a id=create></a>\n",
    "\n",
    "### Create Selected Model"
   ]
  },
  {
   "cell_type": "code",
   "execution_count": null,
   "id": "adjusted-fence",
   "metadata": {},
   "outputs": [],
   "source": [
    "model = py_cls.create_model('lr')"
   ]
  },
  {
   "cell_type": "markdown",
   "id": "dense-dressing",
   "metadata": {},
   "source": [
    "<a id=tune></a>\n",
    "\n",
    "### Tune Selected Model"
   ]
  },
  {
   "cell_type": "code",
   "execution_count": null,
   "id": "swiss-pharmaceutical",
   "metadata": {},
   "outputs": [],
   "source": [
    "tuned_model = py_cls.tune_model(model)"
   ]
  },
  {
   "cell_type": "markdown",
   "id": "correct-economics",
   "metadata": {},
   "source": [
    "<a id=evaluate></a>\n",
    "\n",
    "### Evaluate Model"
   ]
  },
  {
   "cell_type": "markdown",
   "id": "excited-exploration",
   "metadata": {},
   "source": [
    "https://pycaret.readthedocs.io/en/latest/api/regression.html#pycaret.regression.evaluate_model"
   ]
  },
  {
   "cell_type": "code",
   "execution_count": null,
   "id": "mechanical-filing",
   "metadata": {},
   "outputs": [],
   "source": [
    "py_cls.evaluate_model(tuned_model)"
   ]
  },
  {
   "cell_type": "markdown",
   "id": "addressed-briefs",
   "metadata": {},
   "source": [
    "https://pycaret.readthedocs.io/en/latest/api/regression.html#pycaret.regression.interpret_model"
   ]
  },
  {
   "cell_type": "code",
   "execution_count": null,
   "id": "graduate-cooling",
   "metadata": {},
   "outputs": [],
   "source": [
    "# py_cls.interpret_model(tuned_model)"
   ]
  },
  {
   "cell_type": "markdown",
   "id": "parental-cancellation",
   "metadata": {},
   "source": [
    "<a id=finalize_and_store></a>\n",
    "\n",
    "### Model Finalization and Storage"
   ]
  },
  {
   "cell_type": "code",
   "execution_count": null,
   "id": "bronze-hydrogen",
   "metadata": {
    "scrolled": true
   },
   "outputs": [],
   "source": [
    "final_model = py_cls.finalize_model(tuned_model)"
   ]
  },
  {
   "cell_type": "code",
   "execution_count": null,
   "id": "rolled-honduras",
   "metadata": {
    "scrolled": true
   },
   "outputs": [],
   "source": [
    "# py_cls.save_model(final_model, '../models/AutoML/vlastd_rank_LR_CLS_PyCaret')"
   ]
  },
  {
   "cell_type": "code",
   "execution_count": null,
   "id": "clean-fellow",
   "metadata": {},
   "outputs": [],
   "source": [
    "#!mlflow ui"
   ]
  }
 ],
 "metadata": {
  "kernelspec": {
   "display_name": "Python 3 (ipykernel)",
   "language": "python",
   "name": "python3"
  },
  "language_info": {
   "codemirror_mode": {
    "name": "ipython",
    "version": 3
   },
   "file_extension": ".py",
   "mimetype": "text/x-python",
   "name": "python",
   "nbconvert_exporter": "python",
   "pygments_lexer": "ipython3",
   "version": "3.10.6"
  }
 },
 "nbformat": 4,
 "nbformat_minor": 5
}
