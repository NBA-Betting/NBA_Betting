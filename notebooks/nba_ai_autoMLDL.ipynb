{
    "cells": [
        {
            "attachments": {},
            "cell_type": "markdown",
            "id": "51bb7a2e",
            "metadata": {},
            "source": [
                "# NBA AI - AutoML and AutoDL"
            ]
        },
        {
            "attachments": {},
            "cell_type": "markdown",
            "id": "comparative-marathon",
            "metadata": {},
            "source": [
                "PyCaret\n",
                "* Main Site - https://pycaret.org/\n",
                "* Docs - https://pycaret.readthedocs.io/en/latest/\n",
                "\n",
                "AutoKeras\n",
                "* Main Site - https://autokeras.com/"
            ]
        },
        {
            "cell_type": "markdown",
            "id": "2b0502cd",
            "metadata": {},
            "source": [
                "## Table of Contents\n",
                "\n",
                "* [Data Setup](#data-setup)\n",
                "* [AutoML Classification](#automl-classification)\n",
                "* [AutoML Regression](#automl-regression)\n",
                "* [AutoDL Classification](#autodl-classification)\n",
                "* [AutoDL Regression](#autodl-regression)"
            ]
        },
        {
            "attachments": {},
            "cell_type": "markdown",
            "id": "residential-geneva",
            "metadata": {},
            "source": [
                "### Imports and Global Settings"
            ]
        },
        {
            "cell_type": "code",
            "execution_count": 1,
            "id": "chinese-single",
            "metadata": {},
            "outputs": [
                {
                    "name": "stdout",
                    "output_type": "stream",
                    "text": [
                        "Using TensorFlow backend\n"
                    ]
                },
                {
                    "name": "stderr",
                    "output_type": "stream",
                    "text": [
                        "2024-01-01 19:27:41.891577: I tensorflow/tsl/cuda/cudart_stub.cc:28] Could not find cuda drivers on your machine, GPU will not be used.\n",
                        "2024-01-01 19:27:41.940890: I tensorflow/tsl/cuda/cudart_stub.cc:28] Could not find cuda drivers on your machine, GPU will not be used.\n",
                        "2024-01-01 19:27:41.941785: I tensorflow/core/platform/cpu_feature_guard.cc:182] This TensorFlow binary is optimized to use available CPU instructions in performance-critical operations.\n",
                        "To enable the following instructions: AVX2 FMA, in other operations, rebuild TensorFlow with the appropriate compiler flags.\n",
                        "2024-01-01 19:27:42.889301: W tensorflow/compiler/tf2tensorrt/utils/py_utils.cc:38] TF-TRT Warning: Could not find TensorRT\n"
                    ]
                }
            ],
            "source": [
                "import datetime\n",
                "import pandas as pd\n",
                "from pycaret.classification import ClassificationExperiment\n",
                "from pycaret.regression import RegressionExperiment\n",
                "import autokeras as ak\n",
                "from sklearn.model_selection import train_test_split\n",
                "from sklearn.metrics import (\n",
                "    r2_score,\n",
                "    mean_absolute_error,\n",
                "    accuracy_score,\n",
                "    precision_score,\n",
                ")\n",
                "\n",
                "# Pandas Settings\n",
                "pd.set_option(\"display.max_columns\", 1000)\n",
                "pd.set_option(\"display.max_rows\", 1000)\n",
                "pd.options.display.max_info_columns = 200\n",
                "pd.options.display.precision = 5"
            ]
        },
        {
            "attachments": {},
            "cell_type": "markdown",
            "id": "ready-routine",
            "metadata": {},
            "source": [
                "### Load Data"
            ]
        },
        {
            "cell_type": "code",
            "execution_count": 2,
            "id": "annual-chest",
            "metadata": {},
            "outputs": [],
            "source": [
                "df_2021_2022 = pd.read_csv(\"../data/nba_ai/cleaned_data_2021-2022.csv\")"
            ]
        },
        {
            "attachments": {},
            "cell_type": "markdown",
            "id": "adb5a0e5",
            "metadata": {},
            "source": [
                "<a name=\"data-setup\"></a>\n",
                "\n",
                "## Data Preparation"
            ]
        },
        {
            "cell_type": "markdown",
            "id": "15187561",
            "metadata": {},
            "source": [
                "### Train Test Split"
            ]
        },
        {
            "cell_type": "code",
            "execution_count": 3,
            "id": "e36e93d3",
            "metadata": {},
            "outputs": [],
            "source": [
                "def prepare_datasets(train_df, cls_target, reg_target, test_df=None, test_size=0.3):\n",
                "    \"\"\"\n",
                "    Prepares datasets for training and testing for both classification and regression targets,\n",
                "    ensuring time-sensitive splitting based on a 'date' column.\n",
                "\n",
                "    Parameters:\n",
                "    train_df (DataFrame): The training dataframe.\n",
                "    cls_target (str): The name of the classification target column.\n",
                "    reg_target (str): The name of the regression target column.\n",
                "    test_df (DataFrame, optional): An optional testing dataframe. If not provided, a portion of the training data is used.\n",
                "    test_size (float, optional): The proportion of the dataset to include in the test split (if test_df is not provided).\n",
                "\n",
                "    Returns:\n",
                "    tuple: A tuple containing six dataframes:\n",
                "           (X_train, X_test, y_train_cls, y_test_cls, y_train_reg, y_test_reg).\n",
                "    \"\"\"\n",
                "\n",
                "    # Sort the dataframe based on the 'date' column\n",
                "    train_df = train_df.sort_values(by=\"date\")\n",
                "\n",
                "    # If a test dataframe is not provided, split the training dataframe\n",
                "    if test_df is None:\n",
                "        X_train, X_test, y_train, y_test = train_test_split(\n",
                "            train_df.drop([cls_target, reg_target], axis=1),\n",
                "            train_df[[cls_target, reg_target]],\n",
                "            test_size=test_size,\n",
                "            shuffle=False,  # Important to maintain time order\n",
                "        )\n",
                "    else:\n",
                "        # If a test dataframe is provided, ensure it is also sorted by date\n",
                "        test_df = test_df.sort_values(by=\"date\")\n",
                "\n",
                "        # Use provided test dataframe and separate features and targets\n",
                "        X_train = train_df.drop([cls_target, reg_target], axis=1)\n",
                "        y_train = train_df[[cls_target, reg_target]]\n",
                "        X_test = test_df.drop([cls_target, reg_target], axis=1)\n",
                "        y_test = test_df[[cls_target, reg_target]]\n",
                "\n",
                "    # Separate classification and regression targets\n",
                "    y_train_cls = y_train[[cls_target]]\n",
                "    y_train_reg = y_train[[reg_target]]\n",
                "    y_test_cls = y_test[[cls_target]]\n",
                "    y_test_reg = y_test[[reg_target]]\n",
                "\n",
                "    return X_train, X_test, y_train_cls, y_test_cls, y_train_reg, y_test_reg"
            ]
        },
        {
            "cell_type": "code",
            "execution_count": 4,
            "id": "9d81f7c2",
            "metadata": {},
            "outputs": [],
            "source": [
                "X_train, X_test, y_train_cls, y_test_cls, y_train_reg, y_test_reg = prepare_datasets(\n",
                "    df_2021_2022, \"CLS_TARGET\", \"REG_TARGET\", test_df=None\n",
                ")"
            ]
        },
        {
            "cell_type": "markdown",
            "id": "3ab2a0af",
            "metadata": {},
            "source": [
                "### Features"
            ]
        },
        {
            "cell_type": "code",
            "execution_count": 5,
            "id": "c737d5b1",
            "metadata": {},
            "outputs": [],
            "source": [
                "betting_feature_set = [\n",
                "    \"home_opening_spread\",\n",
                "    \"road_opening_spread\",\n",
                "    \"opening_total\",\n",
                "    \"home_closing_spread\",\n",
                "    \"road_closing_spread\",\n",
                "    \"closing_total\",\n",
                "    \"home_moneyline\",\n",
                "    \"road_moneyline\",\n",
                "]\n",
                "\n",
                "base_feature_set = [\n",
                "    \"day_of_season\",\n",
                "    \"home_win_pct\",\n",
                "    \"road_win_pct\",\n",
                "    \"home_win_pct_l2w\",\n",
                "    \"road_win_pct_l2w\",\n",
                "    \"home_avg_pts\",\n",
                "    \"road_avg_pts\",\n",
                "    \"home_avg_pts_l2w\",\n",
                "    \"road_avg_pts_l2w\",\n",
                "    \"home_avg_oeff\",\n",
                "    \"road_avg_oeff\",\n",
                "    \"home_avg_oeff_l2w\",\n",
                "    \"road_avg_oeff_l2w\",\n",
                "    \"home_avg_deff\",\n",
                "    \"road_avg_deff\",\n",
                "    \"home_avg_deff_l2w\",\n",
                "    \"road_avg_deff_l2w\",\n",
                "    \"home_avg_eFG%\",\n",
                "    \"road_avg_eFG%\",\n",
                "    \"home_avg_eFG%_l2w\",\n",
                "    \"road_avg_eFG%_l2w\",\n",
                "    \"home_avg_TOV%\",\n",
                "    \"road_avg_TOV%\",\n",
                "    \"home_avg_TOV%_l2w\",\n",
                "    \"road_avg_TOV%_l2w\",\n",
                "    \"home_avg_ORB%\",\n",
                "    \"road_avg_ORB%\",\n",
                "    \"home_avg_ORB%_l2w\",\n",
                "    \"road_avg_ORB%_l2w\",\n",
                "    \"home_avg_FT%\",\n",
                "    \"road_avg_FT%\",\n",
                "    \"home_avg_FT%_l2w\",\n",
                "    \"road_avg_FT%_l2w\",\n",
                "    \"home_avg_pts_allowed\",\n",
                "    \"road_avg_pts_allowed\",\n",
                "    \"home_avg_pts_allowed_l2w\",\n",
                "    \"road_avg_pts_allowed_l2w\",\n",
                "]\n",
                "\n",
                "features_to_prepare = [\n",
                "    \"home_team\",\n",
                "    \"road_team\",\n",
                "    \"home_team_rest_days\",\n",
                "    \"road_team_rest_days\",\n",
                "    \"home_team_starting_lineup\",\n",
                "    \"road_team_starting_lineup\",\n",
                "]"
            ]
        },
        {
            "cell_type": "code",
            "execution_count": 6,
            "id": "5e7973bb",
            "metadata": {},
            "outputs": [],
            "source": [
                "X_train = X_train[base_feature_set]\n",
                "X_test = X_test[base_feature_set]"
            ]
        },
        {
            "cell_type": "markdown",
            "id": "30fec5a8",
            "metadata": {},
            "source": [
                "### Combined Data"
            ]
        },
        {
            "cell_type": "code",
            "execution_count": 7,
            "id": "2f442b06",
            "metadata": {},
            "outputs": [],
            "source": [
                "combined_train_df = pd.concat([X_train, y_train_cls, y_train_reg], axis=1)\n",
                "combined_test_df = pd.concat([X_test, y_test_cls, y_test_reg], axis=1)"
            ]
        },
        {
            "cell_type": "code",
            "execution_count": 8,
            "id": "8165bd78",
            "metadata": {},
            "outputs": [
                {
                    "name": "stdout",
                    "output_type": "stream",
                    "text": [
                        "<class 'pandas.core.frame.DataFrame'>\n",
                        "Int64Index: 926 entries, 0 to 925\n",
                        "Data columns (total 39 columns):\n",
                        " #   Column                    Non-Null Count  Dtype  \n",
                        "---  ------                    --------------  -----  \n",
                        " 0   day_of_season             926 non-null    int64  \n",
                        " 1   home_win_pct              926 non-null    float64\n",
                        " 2   road_win_pct              926 non-null    float64\n",
                        " 3   home_win_pct_l2w          926 non-null    float64\n",
                        " 4   road_win_pct_l2w          926 non-null    float64\n",
                        " 5   home_avg_pts              926 non-null    float64\n",
                        " 6   road_avg_pts              926 non-null    float64\n",
                        " 7   home_avg_pts_l2w          926 non-null    float64\n",
                        " 8   road_avg_pts_l2w          926 non-null    float64\n",
                        " 9   home_avg_oeff             926 non-null    float64\n",
                        " 10  road_avg_oeff             926 non-null    float64\n",
                        " 11  home_avg_oeff_l2w         926 non-null    float64\n",
                        " 12  road_avg_oeff_l2w         926 non-null    float64\n",
                        " 13  home_avg_deff             926 non-null    float64\n",
                        " 14  road_avg_deff             926 non-null    float64\n",
                        " 15  home_avg_deff_l2w         926 non-null    float64\n",
                        " 16  road_avg_deff_l2w         926 non-null    float64\n",
                        " 17  home_avg_eFG%             926 non-null    float64\n",
                        " 18  road_avg_eFG%             926 non-null    float64\n",
                        " 19  home_avg_eFG%_l2w         926 non-null    float64\n",
                        " 20  road_avg_eFG%_l2w         926 non-null    float64\n",
                        " 21  home_avg_TOV%             926 non-null    float64\n",
                        " 22  road_avg_TOV%             926 non-null    float64\n",
                        " 23  home_avg_TOV%_l2w         926 non-null    float64\n",
                        " 24  road_avg_TOV%_l2w         926 non-null    float64\n",
                        " 25  home_avg_ORB%             926 non-null    float64\n",
                        " 26  road_avg_ORB%             926 non-null    float64\n",
                        " 27  home_avg_ORB%_l2w         926 non-null    float64\n",
                        " 28  road_avg_ORB%_l2w         926 non-null    float64\n",
                        " 29  home_avg_FT%              926 non-null    float64\n",
                        " 30  road_avg_FT%              926 non-null    float64\n",
                        " 31  home_avg_FT%_l2w          926 non-null    float64\n",
                        " 32  road_avg_FT%_l2w          926 non-null    float64\n",
                        " 33  home_avg_pts_allowed      926 non-null    float64\n",
                        " 34  road_avg_pts_allowed      926 non-null    float64\n",
                        " 35  home_avg_pts_allowed_l2w  926 non-null    float64\n",
                        " 36  road_avg_pts_allowed_l2w  926 non-null    float64\n",
                        " 37  CLS_TARGET                926 non-null    bool   \n",
                        " 38  REG_TARGET                926 non-null    int64  \n",
                        "dtypes: bool(1), float64(36), int64(2)\n",
                        "memory usage: 283.0 KB\n"
                    ]
                }
            ],
            "source": [
                "combined_train_df.info()"
            ]
        },
        {
            "cell_type": "code",
            "execution_count": 9,
            "id": "8545214b",
            "metadata": {},
            "outputs": [
                {
                    "name": "stdout",
                    "output_type": "stream",
                    "text": [
                        "<class 'pandas.core.frame.DataFrame'>\n",
                        "Int64Index: 397 entries, 926 to 1322\n",
                        "Data columns (total 39 columns):\n",
                        " #   Column                    Non-Null Count  Dtype  \n",
                        "---  ------                    --------------  -----  \n",
                        " 0   day_of_season             397 non-null    int64  \n",
                        " 1   home_win_pct              397 non-null    float64\n",
                        " 2   road_win_pct              397 non-null    float64\n",
                        " 3   home_win_pct_l2w          397 non-null    float64\n",
                        " 4   road_win_pct_l2w          397 non-null    float64\n",
                        " 5   home_avg_pts              397 non-null    float64\n",
                        " 6   road_avg_pts              397 non-null    float64\n",
                        " 7   home_avg_pts_l2w          397 non-null    float64\n",
                        " 8   road_avg_pts_l2w          397 non-null    float64\n",
                        " 9   home_avg_oeff             397 non-null    float64\n",
                        " 10  road_avg_oeff             397 non-null    float64\n",
                        " 11  home_avg_oeff_l2w         397 non-null    float64\n",
                        " 12  road_avg_oeff_l2w         397 non-null    float64\n",
                        " 13  home_avg_deff             397 non-null    float64\n",
                        " 14  road_avg_deff             397 non-null    float64\n",
                        " 15  home_avg_deff_l2w         397 non-null    float64\n",
                        " 16  road_avg_deff_l2w         397 non-null    float64\n",
                        " 17  home_avg_eFG%             397 non-null    float64\n",
                        " 18  road_avg_eFG%             397 non-null    float64\n",
                        " 19  home_avg_eFG%_l2w         397 non-null    float64\n",
                        " 20  road_avg_eFG%_l2w         397 non-null    float64\n",
                        " 21  home_avg_TOV%             397 non-null    float64\n",
                        " 22  road_avg_TOV%             397 non-null    float64\n",
                        " 23  home_avg_TOV%_l2w         397 non-null    float64\n",
                        " 24  road_avg_TOV%_l2w         397 non-null    float64\n",
                        " 25  home_avg_ORB%             397 non-null    float64\n",
                        " 26  road_avg_ORB%             397 non-null    float64\n",
                        " 27  home_avg_ORB%_l2w         397 non-null    float64\n",
                        " 28  road_avg_ORB%_l2w         397 non-null    float64\n",
                        " 29  home_avg_FT%              397 non-null    float64\n",
                        " 30  road_avg_FT%              397 non-null    float64\n",
                        " 31  home_avg_FT%_l2w          397 non-null    float64\n",
                        " 32  road_avg_FT%_l2w          397 non-null    float64\n",
                        " 33  home_avg_pts_allowed      397 non-null    float64\n",
                        " 34  road_avg_pts_allowed      397 non-null    float64\n",
                        " 35  home_avg_pts_allowed_l2w  397 non-null    float64\n",
                        " 36  road_avg_pts_allowed_l2w  397 non-null    float64\n",
                        " 37  CLS_TARGET                397 non-null    bool   \n",
                        " 38  REG_TARGET                397 non-null    int64  \n",
                        "dtypes: bool(1), float64(36), int64(2)\n",
                        "memory usage: 121.3 KB\n"
                    ]
                }
            ],
            "source": [
                "combined_test_df.info()"
            ]
        },
        {
            "attachments": {},
            "cell_type": "markdown",
            "id": "solar-integration",
            "metadata": {},
            "source": [
                "<a name=\"automl-classification\"></a>\n",
                "\n",
                "## AutoML Classification"
            ]
        },
        {
            "attachments": {},
            "cell_type": "markdown",
            "id": "intense-english",
            "metadata": {},
            "source": [
                "### Setup and Preprocessing"
            ]
        },
        {
            "cell_type": "code",
            "execution_count": 10,
            "id": "b8afd6c9",
            "metadata": {},
            "outputs": [],
            "source": [
                "py_cls = ClassificationExperiment()"
            ]
        },
        {
            "cell_type": "code",
            "execution_count": 11,
            "id": "infrared-taxation",
            "metadata": {},
            "outputs": [],
            "source": [
                "setup_params_cls = {\n",
                "    \"data\": combined_train_df,\n",
                "    \"test_data\": combined_test_df,\n",
                "    \"target\": \"CLS_TARGET\",\n",
                "    \"ignore_features\": [\"REG_TARGET\"],\n",
                "}"
            ]
        },
        {
            "cell_type": "code",
            "execution_count": 12,
            "id": "divine-elephant",
            "metadata": {
                "scrolled": true
            },
            "outputs": [
                {
                    "data": {
                        "text/html": [
                            "<style type=\"text/css\">\n",
                            "#T_1dae8_row9_col1 {\n",
                            "  background-color: lightgreen;\n",
                            "}\n",
                            "</style>\n",
                            "<table id=\"T_1dae8\">\n",
                            "  <thead>\n",
                            "    <tr>\n",
                            "      <th class=\"blank level0\" >&nbsp;</th>\n",
                            "      <th id=\"T_1dae8_level0_col0\" class=\"col_heading level0 col0\" >Description</th>\n",
                            "      <th id=\"T_1dae8_level0_col1\" class=\"col_heading level0 col1\" >Value</th>\n",
                            "    </tr>\n",
                            "  </thead>\n",
                            "  <tbody>\n",
                            "    <tr>\n",
                            "      <th id=\"T_1dae8_level0_row0\" class=\"row_heading level0 row0\" >0</th>\n",
                            "      <td id=\"T_1dae8_row0_col0\" class=\"data row0 col0\" >Session id</td>\n",
                            "      <td id=\"T_1dae8_row0_col1\" class=\"data row0 col1\" >2231</td>\n",
                            "    </tr>\n",
                            "    <tr>\n",
                            "      <th id=\"T_1dae8_level0_row1\" class=\"row_heading level0 row1\" >1</th>\n",
                            "      <td id=\"T_1dae8_row1_col0\" class=\"data row1 col0\" >Target</td>\n",
                            "      <td id=\"T_1dae8_row1_col1\" class=\"data row1 col1\" >CLS_TARGET</td>\n",
                            "    </tr>\n",
                            "    <tr>\n",
                            "      <th id=\"T_1dae8_level0_row2\" class=\"row_heading level0 row2\" >2</th>\n",
                            "      <td id=\"T_1dae8_row2_col0\" class=\"data row2 col0\" >Target type</td>\n",
                            "      <td id=\"T_1dae8_row2_col1\" class=\"data row2 col1\" >Binary</td>\n",
                            "    </tr>\n",
                            "    <tr>\n",
                            "      <th id=\"T_1dae8_level0_row3\" class=\"row_heading level0 row3\" >3</th>\n",
                            "      <td id=\"T_1dae8_row3_col0\" class=\"data row3 col0\" >Original data shape</td>\n",
                            "      <td id=\"T_1dae8_row3_col1\" class=\"data row3 col1\" >(1323, 39)</td>\n",
                            "    </tr>\n",
                            "    <tr>\n",
                            "      <th id=\"T_1dae8_level0_row4\" class=\"row_heading level0 row4\" >4</th>\n",
                            "      <td id=\"T_1dae8_row4_col0\" class=\"data row4 col0\" >Transformed data shape</td>\n",
                            "      <td id=\"T_1dae8_row4_col1\" class=\"data row4 col1\" >(1323, 38)</td>\n",
                            "    </tr>\n",
                            "    <tr>\n",
                            "      <th id=\"T_1dae8_level0_row5\" class=\"row_heading level0 row5\" >5</th>\n",
                            "      <td id=\"T_1dae8_row5_col0\" class=\"data row5 col0\" >Transformed train set shape</td>\n",
                            "      <td id=\"T_1dae8_row5_col1\" class=\"data row5 col1\" >(926, 38)</td>\n",
                            "    </tr>\n",
                            "    <tr>\n",
                            "      <th id=\"T_1dae8_level0_row6\" class=\"row_heading level0 row6\" >6</th>\n",
                            "      <td id=\"T_1dae8_row6_col0\" class=\"data row6 col0\" >Transformed test set shape</td>\n",
                            "      <td id=\"T_1dae8_row6_col1\" class=\"data row6 col1\" >(397, 38)</td>\n",
                            "    </tr>\n",
                            "    <tr>\n",
                            "      <th id=\"T_1dae8_level0_row7\" class=\"row_heading level0 row7\" >7</th>\n",
                            "      <td id=\"T_1dae8_row7_col0\" class=\"data row7 col0\" >Ignore features</td>\n",
                            "      <td id=\"T_1dae8_row7_col1\" class=\"data row7 col1\" >1</td>\n",
                            "    </tr>\n",
                            "    <tr>\n",
                            "      <th id=\"T_1dae8_level0_row8\" class=\"row_heading level0 row8\" >8</th>\n",
                            "      <td id=\"T_1dae8_row8_col0\" class=\"data row8 col0\" >Numeric features</td>\n",
                            "      <td id=\"T_1dae8_row8_col1\" class=\"data row8 col1\" >37</td>\n",
                            "    </tr>\n",
                            "    <tr>\n",
                            "      <th id=\"T_1dae8_level0_row9\" class=\"row_heading level0 row9\" >9</th>\n",
                            "      <td id=\"T_1dae8_row9_col0\" class=\"data row9 col0\" >Preprocess</td>\n",
                            "      <td id=\"T_1dae8_row9_col1\" class=\"data row9 col1\" >True</td>\n",
                            "    </tr>\n",
                            "    <tr>\n",
                            "      <th id=\"T_1dae8_level0_row10\" class=\"row_heading level0 row10\" >10</th>\n",
                            "      <td id=\"T_1dae8_row10_col0\" class=\"data row10 col0\" >Imputation type</td>\n",
                            "      <td id=\"T_1dae8_row10_col1\" class=\"data row10 col1\" >simple</td>\n",
                            "    </tr>\n",
                            "    <tr>\n",
                            "      <th id=\"T_1dae8_level0_row11\" class=\"row_heading level0 row11\" >11</th>\n",
                            "      <td id=\"T_1dae8_row11_col0\" class=\"data row11 col0\" >Numeric imputation</td>\n",
                            "      <td id=\"T_1dae8_row11_col1\" class=\"data row11 col1\" >mean</td>\n",
                            "    </tr>\n",
                            "    <tr>\n",
                            "      <th id=\"T_1dae8_level0_row12\" class=\"row_heading level0 row12\" >12</th>\n",
                            "      <td id=\"T_1dae8_row12_col0\" class=\"data row12 col0\" >Categorical imputation</td>\n",
                            "      <td id=\"T_1dae8_row12_col1\" class=\"data row12 col1\" >mode</td>\n",
                            "    </tr>\n",
                            "    <tr>\n",
                            "      <th id=\"T_1dae8_level0_row13\" class=\"row_heading level0 row13\" >13</th>\n",
                            "      <td id=\"T_1dae8_row13_col0\" class=\"data row13 col0\" >Fold Generator</td>\n",
                            "      <td id=\"T_1dae8_row13_col1\" class=\"data row13 col1\" >StratifiedKFold</td>\n",
                            "    </tr>\n",
                            "    <tr>\n",
                            "      <th id=\"T_1dae8_level0_row14\" class=\"row_heading level0 row14\" >14</th>\n",
                            "      <td id=\"T_1dae8_row14_col0\" class=\"data row14 col0\" >Fold Number</td>\n",
                            "      <td id=\"T_1dae8_row14_col1\" class=\"data row14 col1\" >10</td>\n",
                            "    </tr>\n",
                            "    <tr>\n",
                            "      <th id=\"T_1dae8_level0_row15\" class=\"row_heading level0 row15\" >15</th>\n",
                            "      <td id=\"T_1dae8_row15_col0\" class=\"data row15 col0\" >CPU Jobs</td>\n",
                            "      <td id=\"T_1dae8_row15_col1\" class=\"data row15 col1\" >-1</td>\n",
                            "    </tr>\n",
                            "    <tr>\n",
                            "      <th id=\"T_1dae8_level0_row16\" class=\"row_heading level0 row16\" >16</th>\n",
                            "      <td id=\"T_1dae8_row16_col0\" class=\"data row16 col0\" >Use GPU</td>\n",
                            "      <td id=\"T_1dae8_row16_col1\" class=\"data row16 col1\" >False</td>\n",
                            "    </tr>\n",
                            "    <tr>\n",
                            "      <th id=\"T_1dae8_level0_row17\" class=\"row_heading level0 row17\" >17</th>\n",
                            "      <td id=\"T_1dae8_row17_col0\" class=\"data row17 col0\" >Log Experiment</td>\n",
                            "      <td id=\"T_1dae8_row17_col1\" class=\"data row17 col1\" >False</td>\n",
                            "    </tr>\n",
                            "    <tr>\n",
                            "      <th id=\"T_1dae8_level0_row18\" class=\"row_heading level0 row18\" >18</th>\n",
                            "      <td id=\"T_1dae8_row18_col0\" class=\"data row18 col0\" >Experiment Name</td>\n",
                            "      <td id=\"T_1dae8_row18_col1\" class=\"data row18 col1\" >clf-default-name</td>\n",
                            "    </tr>\n",
                            "    <tr>\n",
                            "      <th id=\"T_1dae8_level0_row19\" class=\"row_heading level0 row19\" >19</th>\n",
                            "      <td id=\"T_1dae8_row19_col0\" class=\"data row19 col0\" >USI</td>\n",
                            "      <td id=\"T_1dae8_row19_col1\" class=\"data row19 col1\" >2be7</td>\n",
                            "    </tr>\n",
                            "  </tbody>\n",
                            "</table>\n"
                        ],
                        "text/plain": [
                            "<pandas.io.formats.style.Styler at 0x7f3d06843940>"
                        ]
                    },
                    "metadata": {},
                    "output_type": "display_data"
                },
                {
                    "data": {
                        "text/plain": [
                            "<pycaret.classification.oop.ClassificationExperiment at 0x7f3d068d3190>"
                        ]
                    },
                    "execution_count": 12,
                    "metadata": {},
                    "output_type": "execute_result"
                }
            ],
            "source": [
                "py_cls.setup(**setup_params_cls)"
            ]
        },
        {
            "attachments": {},
            "cell_type": "markdown",
            "id": "applicable-italy",
            "metadata": {},
            "source": [
                "### Compare Models"
            ]
        },
        {
            "cell_type": "code",
            "execution_count": 13,
            "id": "breeding-republican",
            "metadata": {
                "scrolled": false
            },
            "outputs": [
                {
                    "data": {
                        "text/html": [],
                        "text/plain": [
                            "<IPython.core.display.HTML object>"
                        ]
                    },
                    "metadata": {},
                    "output_type": "display_data"
                },
                {
                    "data": {
                        "text/html": [
                            "<style type=\"text/css\">\n",
                            "#T_bad5a th {\n",
                            "  text-align: left;\n",
                            "}\n",
                            "#T_bad5a_row0_col0, #T_bad5a_row0_col2, #T_bad5a_row0_col3, #T_bad5a_row0_col5, #T_bad5a_row1_col0, #T_bad5a_row1_col1, #T_bad5a_row1_col2, #T_bad5a_row1_col3, #T_bad5a_row1_col4, #T_bad5a_row1_col5, #T_bad5a_row1_col6, #T_bad5a_row1_col7, #T_bad5a_row2_col0, #T_bad5a_row2_col1, #T_bad5a_row2_col2, #T_bad5a_row2_col3, #T_bad5a_row2_col4, #T_bad5a_row2_col5, #T_bad5a_row2_col6, #T_bad5a_row2_col7, #T_bad5a_row3_col0, #T_bad5a_row3_col1, #T_bad5a_row3_col2, #T_bad5a_row3_col3, #T_bad5a_row3_col4, #T_bad5a_row3_col5, #T_bad5a_row3_col6, #T_bad5a_row3_col7, #T_bad5a_row4_col0, #T_bad5a_row4_col1, #T_bad5a_row4_col3, #T_bad5a_row4_col4, #T_bad5a_row4_col5, #T_bad5a_row4_col6, #T_bad5a_row4_col7, #T_bad5a_row5_col0, #T_bad5a_row5_col1, #T_bad5a_row5_col2, #T_bad5a_row5_col4, #T_bad5a_row5_col6, #T_bad5a_row5_col7, #T_bad5a_row6_col0, #T_bad5a_row6_col1, #T_bad5a_row6_col2, #T_bad5a_row6_col3, #T_bad5a_row6_col4, #T_bad5a_row6_col5, #T_bad5a_row6_col6, #T_bad5a_row6_col7, #T_bad5a_row7_col0, #T_bad5a_row7_col1, #T_bad5a_row7_col2, #T_bad5a_row7_col3, #T_bad5a_row7_col4, #T_bad5a_row7_col5, #T_bad5a_row7_col6, #T_bad5a_row7_col7, #T_bad5a_row8_col0, #T_bad5a_row8_col1, #T_bad5a_row8_col2, #T_bad5a_row8_col3, #T_bad5a_row8_col4, #T_bad5a_row8_col5, #T_bad5a_row8_col6, #T_bad5a_row8_col7, #T_bad5a_row9_col0, #T_bad5a_row9_col1, #T_bad5a_row9_col2, #T_bad5a_row9_col3, #T_bad5a_row9_col4, #T_bad5a_row9_col5, #T_bad5a_row9_col6, #T_bad5a_row9_col7, #T_bad5a_row10_col0, #T_bad5a_row10_col1, #T_bad5a_row10_col2, #T_bad5a_row10_col3, #T_bad5a_row10_col4, #T_bad5a_row10_col5, #T_bad5a_row10_col6, #T_bad5a_row10_col7, #T_bad5a_row11_col0, #T_bad5a_row11_col1, #T_bad5a_row11_col2, #T_bad5a_row11_col3, #T_bad5a_row11_col4, #T_bad5a_row11_col5, #T_bad5a_row11_col6, #T_bad5a_row11_col7, #T_bad5a_row12_col0, #T_bad5a_row12_col1, #T_bad5a_row12_col2, #T_bad5a_row12_col3, #T_bad5a_row12_col4, #T_bad5a_row12_col5, #T_bad5a_row12_col6, #T_bad5a_row12_col7, #T_bad5a_row13_col0, #T_bad5a_row13_col1, #T_bad5a_row13_col2, #T_bad5a_row13_col3, #T_bad5a_row13_col4, #T_bad5a_row13_col5, #T_bad5a_row13_col6, #T_bad5a_row13_col7, #T_bad5a_row14_col0, #T_bad5a_row14_col1, #T_bad5a_row14_col2, #T_bad5a_row14_col3, #T_bad5a_row14_col4, #T_bad5a_row14_col5, #T_bad5a_row14_col6, #T_bad5a_row14_col7 {\n",
                            "  text-align: left;\n",
                            "}\n",
                            "#T_bad5a_row0_col1, #T_bad5a_row0_col4, #T_bad5a_row0_col6, #T_bad5a_row0_col7, #T_bad5a_row4_col2, #T_bad5a_row5_col3, #T_bad5a_row5_col5 {\n",
                            "  text-align: left;\n",
                            "  background-color: yellow;\n",
                            "}\n",
                            "#T_bad5a_row0_col8 {\n",
                            "  text-align: left;\n",
                            "  background-color: yellow;\n",
                            "  background-color: lightgrey;\n",
                            "}\n",
                            "#T_bad5a_row1_col8, #T_bad5a_row2_col8, #T_bad5a_row3_col8, #T_bad5a_row4_col8, #T_bad5a_row5_col8, #T_bad5a_row6_col8, #T_bad5a_row7_col8, #T_bad5a_row8_col8, #T_bad5a_row9_col8, #T_bad5a_row10_col8, #T_bad5a_row11_col8, #T_bad5a_row12_col8, #T_bad5a_row13_col8, #T_bad5a_row14_col8 {\n",
                            "  text-align: left;\n",
                            "  background-color: lightgrey;\n",
                            "}\n",
                            "</style>\n",
                            "<table id=\"T_bad5a\">\n",
                            "  <thead>\n",
                            "    <tr>\n",
                            "      <th class=\"blank level0\" >&nbsp;</th>\n",
                            "      <th id=\"T_bad5a_level0_col0\" class=\"col_heading level0 col0\" >Model</th>\n",
                            "      <th id=\"T_bad5a_level0_col1\" class=\"col_heading level0 col1\" >Accuracy</th>\n",
                            "      <th id=\"T_bad5a_level0_col2\" class=\"col_heading level0 col2\" >AUC</th>\n",
                            "      <th id=\"T_bad5a_level0_col3\" class=\"col_heading level0 col3\" >Recall</th>\n",
                            "      <th id=\"T_bad5a_level0_col4\" class=\"col_heading level0 col4\" >Prec.</th>\n",
                            "      <th id=\"T_bad5a_level0_col5\" class=\"col_heading level0 col5\" >F1</th>\n",
                            "      <th id=\"T_bad5a_level0_col6\" class=\"col_heading level0 col6\" >Kappa</th>\n",
                            "      <th id=\"T_bad5a_level0_col7\" class=\"col_heading level0 col7\" >MCC</th>\n",
                            "      <th id=\"T_bad5a_level0_col8\" class=\"col_heading level0 col8\" >TT (Sec)</th>\n",
                            "    </tr>\n",
                            "  </thead>\n",
                            "  <tbody>\n",
                            "    <tr>\n",
                            "      <th id=\"T_bad5a_level0_row0\" class=\"row_heading level0 row0\" >ridge</th>\n",
                            "      <td id=\"T_bad5a_row0_col0\" class=\"data row0 col0\" >Ridge Classifier</td>\n",
                            "      <td id=\"T_bad5a_row0_col1\" class=\"data row0 col1\" >0.5412</td>\n",
                            "      <td id=\"T_bad5a_row0_col2\" class=\"data row0 col2\" >0.0000</td>\n",
                            "      <td id=\"T_bad5a_row0_col3\" class=\"data row0 col3\" >0.4024</td>\n",
                            "      <td id=\"T_bad5a_row0_col4\" class=\"data row0 col4\" >0.5472</td>\n",
                            "      <td id=\"T_bad5a_row0_col5\" class=\"data row0 col5\" >0.4406</td>\n",
                            "      <td id=\"T_bad5a_row0_col6\" class=\"data row0 col6\" >0.0668</td>\n",
                            "      <td id=\"T_bad5a_row0_col7\" class=\"data row0 col7\" >0.0797</td>\n",
                            "      <td id=\"T_bad5a_row0_col8\" class=\"data row0 col8\" >0.0380</td>\n",
                            "    </tr>\n",
                            "    <tr>\n",
                            "      <th id=\"T_bad5a_level0_row1\" class=\"row_heading level0 row1\" >dummy</th>\n",
                            "      <td id=\"T_bad5a_row1_col0\" class=\"data row1 col0\" >Dummy Classifier</td>\n",
                            "      <td id=\"T_bad5a_row1_col1\" class=\"data row1 col1\" >0.5313</td>\n",
                            "      <td id=\"T_bad5a_row1_col2\" class=\"data row1 col2\" >0.5000</td>\n",
                            "      <td id=\"T_bad5a_row1_col3\" class=\"data row1 col3\" >0.0000</td>\n",
                            "      <td id=\"T_bad5a_row1_col4\" class=\"data row1 col4\" >0.0000</td>\n",
                            "      <td id=\"T_bad5a_row1_col5\" class=\"data row1 col5\" >0.0000</td>\n",
                            "      <td id=\"T_bad5a_row1_col6\" class=\"data row1 col6\" >0.0000</td>\n",
                            "      <td id=\"T_bad5a_row1_col7\" class=\"data row1 col7\" >0.0000</td>\n",
                            "      <td id=\"T_bad5a_row1_col8\" class=\"data row1 col8\" >0.0560</td>\n",
                            "    </tr>\n",
                            "    <tr>\n",
                            "      <th id=\"T_bad5a_level0_row2\" class=\"row_heading level0 row2\" >lr</th>\n",
                            "      <td id=\"T_bad5a_row2_col0\" class=\"data row2 col0\" >Logistic Regression</td>\n",
                            "      <td id=\"T_bad5a_row2_col1\" class=\"data row2 col1\" >0.5292</td>\n",
                            "      <td id=\"T_bad5a_row2_col2\" class=\"data row2 col2\" >0.5474</td>\n",
                            "      <td id=\"T_bad5a_row2_col3\" class=\"data row2 col3\" >0.3679</td>\n",
                            "      <td id=\"T_bad5a_row2_col4\" class=\"data row2 col4\" >0.5261</td>\n",
                            "      <td id=\"T_bad5a_row2_col5\" class=\"data row2 col5\" >0.4086</td>\n",
                            "      <td id=\"T_bad5a_row2_col6\" class=\"data row2 col6\" >0.0398</td>\n",
                            "      <td id=\"T_bad5a_row2_col7\" class=\"data row2 col7\" >0.0505</td>\n",
                            "      <td id=\"T_bad5a_row2_col8\" class=\"data row2 col8\" >0.4560</td>\n",
                            "    </tr>\n",
                            "    <tr>\n",
                            "      <th id=\"T_bad5a_level0_row3\" class=\"row_heading level0 row3\" >nb</th>\n",
                            "      <td id=\"T_bad5a_row3_col0\" class=\"data row3 col0\" >Naive Bayes</td>\n",
                            "      <td id=\"T_bad5a_row3_col1\" class=\"data row3 col1\" >0.5281</td>\n",
                            "      <td id=\"T_bad5a_row3_col2\" class=\"data row3 col2\" >0.5459</td>\n",
                            "      <td id=\"T_bad5a_row3_col3\" class=\"data row3 col3\" >0.0341</td>\n",
                            "      <td id=\"T_bad5a_row3_col4\" class=\"data row3 col4\" >0.0455</td>\n",
                            "      <td id=\"T_bad5a_row3_col5\" class=\"data row3 col5\" >0.0390</td>\n",
                            "      <td id=\"T_bad5a_row3_col6\" class=\"data row3 col6\" >-0.0027</td>\n",
                            "      <td id=\"T_bad5a_row3_col7\" class=\"data row3 col7\" >-0.0028</td>\n",
                            "      <td id=\"T_bad5a_row3_col8\" class=\"data row3 col8\" >0.0410</td>\n",
                            "    </tr>\n",
                            "    <tr>\n",
                            "      <th id=\"T_bad5a_level0_row4\" class=\"row_heading level0 row4\" >lda</th>\n",
                            "      <td id=\"T_bad5a_row4_col0\" class=\"data row4 col0\" >Linear Discriminant Analysis</td>\n",
                            "      <td id=\"T_bad5a_row4_col1\" class=\"data row4 col1\" >0.5271</td>\n",
                            "      <td id=\"T_bad5a_row4_col2\" class=\"data row4 col2\" >0.5531</td>\n",
                            "      <td id=\"T_bad5a_row4_col3\" class=\"data row4 col3\" >0.4190</td>\n",
                            "      <td id=\"T_bad5a_row4_col4\" class=\"data row4 col4\" >0.5105</td>\n",
                            "      <td id=\"T_bad5a_row4_col5\" class=\"data row4 col5\" >0.4435</td>\n",
                            "      <td id=\"T_bad5a_row4_col6\" class=\"data row4 col6\" >0.0421</td>\n",
                            "      <td id=\"T_bad5a_row4_col7\" class=\"data row4 col7\" >0.0480</td>\n",
                            "      <td id=\"T_bad5a_row4_col8\" class=\"data row4 col8\" >0.0500</td>\n",
                            "    </tr>\n",
                            "    <tr>\n",
                            "      <th id=\"T_bad5a_level0_row5\" class=\"row_heading level0 row5\" >qda</th>\n",
                            "      <td id=\"T_bad5a_row5_col0\" class=\"data row5 col0\" >Quadratic Discriminant Analysis</td>\n",
                            "      <td id=\"T_bad5a_row5_col1\" class=\"data row5 col1\" >0.5097</td>\n",
                            "      <td id=\"T_bad5a_row5_col2\" class=\"data row5 col2\" >0.4927</td>\n",
                            "      <td id=\"T_bad5a_row5_col3\" class=\"data row5 col3\" >0.4405</td>\n",
                            "      <td id=\"T_bad5a_row5_col4\" class=\"data row5 col4\" >0.4693</td>\n",
                            "      <td id=\"T_bad5a_row5_col5\" class=\"data row5 col5\" >0.4511</td>\n",
                            "      <td id=\"T_bad5a_row5_col6\" class=\"data row5 col6\" >0.0112</td>\n",
                            "      <td id=\"T_bad5a_row5_col7\" class=\"data row5 col7\" >0.0100</td>\n",
                            "      <td id=\"T_bad5a_row5_col8\" class=\"data row5 col8\" >0.0430</td>\n",
                            "    </tr>\n",
                            "    <tr>\n",
                            "      <th id=\"T_bad5a_level0_row6\" class=\"row_heading level0 row6\" >svm</th>\n",
                            "      <td id=\"T_bad5a_row6_col0\" class=\"data row6 col0\" >SVM - Linear Kernel</td>\n",
                            "      <td id=\"T_bad5a_row6_col1\" class=\"data row6 col1\" >0.5011</td>\n",
                            "      <td id=\"T_bad5a_row6_col2\" class=\"data row6 col2\" >0.0000</td>\n",
                            "      <td id=\"T_bad5a_row6_col3\" class=\"data row6 col3\" >0.4227</td>\n",
                            "      <td id=\"T_bad5a_row6_col4\" class=\"data row6 col4\" >0.2258</td>\n",
                            "      <td id=\"T_bad5a_row6_col5\" class=\"data row6 col5\" >0.2860</td>\n",
                            "      <td id=\"T_bad5a_row6_col6\" class=\"data row6 col6\" >-0.0104</td>\n",
                            "      <td id=\"T_bad5a_row6_col7\" class=\"data row6 col7\" >-0.0054</td>\n",
                            "      <td id=\"T_bad5a_row6_col8\" class=\"data row6 col8\" >0.0430</td>\n",
                            "    </tr>\n",
                            "    <tr>\n",
                            "      <th id=\"T_bad5a_level0_row7\" class=\"row_heading level0 row7\" >et</th>\n",
                            "      <td id=\"T_bad5a_row7_col0\" class=\"data row7 col0\" >Extra Trees Classifier</td>\n",
                            "      <td id=\"T_bad5a_row7_col1\" class=\"data row7 col1\" >0.4945</td>\n",
                            "      <td id=\"T_bad5a_row7_col2\" class=\"data row7 col2\" >0.5024</td>\n",
                            "      <td id=\"T_bad5a_row7_col3\" class=\"data row7 col3\" >0.3473</td>\n",
                            "      <td id=\"T_bad5a_row7_col4\" class=\"data row7 col4\" >0.4781</td>\n",
                            "      <td id=\"T_bad5a_row7_col5\" class=\"data row7 col5\" >0.3739</td>\n",
                            "      <td id=\"T_bad5a_row7_col6\" class=\"data row7 col6\" >-0.0288</td>\n",
                            "      <td id=\"T_bad5a_row7_col7\" class=\"data row7 col7\" >-0.0207</td>\n",
                            "      <td id=\"T_bad5a_row7_col8\" class=\"data row7 col8\" >0.3840</td>\n",
                            "    </tr>\n",
                            "    <tr>\n",
                            "      <th id=\"T_bad5a_level0_row8\" class=\"row_heading level0 row8\" >dt</th>\n",
                            "      <td id=\"T_bad5a_row8_col0\" class=\"data row8 col0\" >Decision Tree Classifier</td>\n",
                            "      <td id=\"T_bad5a_row8_col1\" class=\"data row8 col1\" >0.4914</td>\n",
                            "      <td id=\"T_bad5a_row8_col2\" class=\"data row8 col2\" >0.4867</td>\n",
                            "      <td id=\"T_bad5a_row8_col3\" class=\"data row8 col3\" >0.4162</td>\n",
                            "      <td id=\"T_bad5a_row8_col4\" class=\"data row8 col4\" >0.4076</td>\n",
                            "      <td id=\"T_bad5a_row8_col5\" class=\"data row8 col5\" >0.4100</td>\n",
                            "      <td id=\"T_bad5a_row8_col6\" class=\"data row8 col6\" >-0.0266</td>\n",
                            "      <td id=\"T_bad5a_row8_col7\" class=\"data row8 col7\" >-0.0263</td>\n",
                            "      <td id=\"T_bad5a_row8_col8\" class=\"data row8 col8\" >0.0500</td>\n",
                            "    </tr>\n",
                            "    <tr>\n",
                            "      <th id=\"T_bad5a_level0_row9\" class=\"row_heading level0 row9\" >rf</th>\n",
                            "      <td id=\"T_bad5a_row9_col0\" class=\"data row9 col0\" >Random Forest Classifier</td>\n",
                            "      <td id=\"T_bad5a_row9_col1\" class=\"data row9 col1\" >0.4847</td>\n",
                            "      <td id=\"T_bad5a_row9_col2\" class=\"data row9 col2\" >0.4656</td>\n",
                            "      <td id=\"T_bad5a_row9_col3\" class=\"data row9 col3\" >0.3247</td>\n",
                            "      <td id=\"T_bad5a_row9_col4\" class=\"data row9 col4\" >0.3965</td>\n",
                            "      <td id=\"T_bad5a_row9_col5\" class=\"data row9 col5\" >0.3451</td>\n",
                            "      <td id=\"T_bad5a_row9_col6\" class=\"data row9 col6\" >-0.0495</td>\n",
                            "      <td id=\"T_bad5a_row9_col7\" class=\"data row9 col7\" >-0.0483</td>\n",
                            "      <td id=\"T_bad5a_row9_col8\" class=\"data row9 col8\" >0.5510</td>\n",
                            "    </tr>\n",
                            "    <tr>\n",
                            "      <th id=\"T_bad5a_level0_row10\" class=\"row_heading level0 row10\" >ada</th>\n",
                            "      <td id=\"T_bad5a_row10_col0\" class=\"data row10 col0\" >Ada Boost Classifier</td>\n",
                            "      <td id=\"T_bad5a_row10_col1\" class=\"data row10 col1\" >0.4827</td>\n",
                            "      <td id=\"T_bad5a_row10_col2\" class=\"data row10 col2\" >0.5025</td>\n",
                            "      <td id=\"T_bad5a_row10_col3\" class=\"data row10 col3\" >0.3869</td>\n",
                            "      <td id=\"T_bad5a_row10_col4\" class=\"data row10 col4\" >0.3830</td>\n",
                            "      <td id=\"T_bad5a_row10_col5\" class=\"data row10 col5\" >0.3764</td>\n",
                            "      <td id=\"T_bad5a_row10_col6\" class=\"data row10 col6\" >-0.0464</td>\n",
                            "      <td id=\"T_bad5a_row10_col7\" class=\"data row10 col7\" >-0.0489</td>\n",
                            "      <td id=\"T_bad5a_row10_col8\" class=\"data row10 col8\" >0.2410</td>\n",
                            "    </tr>\n",
                            "    <tr>\n",
                            "      <th id=\"T_bad5a_level0_row11\" class=\"row_heading level0 row11\" >gbc</th>\n",
                            "      <td id=\"T_bad5a_row11_col0\" class=\"data row11 col0\" >Gradient Boosting Classifier</td>\n",
                            "      <td id=\"T_bad5a_row11_col1\" class=\"data row11 col1\" >0.4815</td>\n",
                            "      <td id=\"T_bad5a_row11_col2\" class=\"data row11 col2\" >0.4845</td>\n",
                            "      <td id=\"T_bad5a_row11_col3\" class=\"data row11 col3\" >0.4024</td>\n",
                            "      <td id=\"T_bad5a_row11_col4\" class=\"data row11 col4\" >0.4002</td>\n",
                            "      <td id=\"T_bad5a_row11_col5\" class=\"data row11 col5\" >0.3799</td>\n",
                            "      <td id=\"T_bad5a_row11_col6\" class=\"data row11 col6\" >-0.0469</td>\n",
                            "      <td id=\"T_bad5a_row11_col7\" class=\"data row11 col7\" >-0.0456</td>\n",
                            "      <td id=\"T_bad5a_row11_col8\" class=\"data row11 col8\" >0.4960</td>\n",
                            "    </tr>\n",
                            "    <tr>\n",
                            "      <th id=\"T_bad5a_level0_row12\" class=\"row_heading level0 row12\" >xgboost</th>\n",
                            "      <td id=\"T_bad5a_row12_col0\" class=\"data row12 col0\" >Extreme Gradient Boosting</td>\n",
                            "      <td id=\"T_bad5a_row12_col1\" class=\"data row12 col1\" >0.4718</td>\n",
                            "      <td id=\"T_bad5a_row12_col2\" class=\"data row12 col2\" >0.4765</td>\n",
                            "      <td id=\"T_bad5a_row12_col3\" class=\"data row12 col3\" >0.3867</td>\n",
                            "      <td id=\"T_bad5a_row12_col4\" class=\"data row12 col4\" >0.3927</td>\n",
                            "      <td id=\"T_bad5a_row12_col5\" class=\"data row12 col5\" >0.3706</td>\n",
                            "      <td id=\"T_bad5a_row12_col6\" class=\"data row12 col6\" >-0.0663</td>\n",
                            "      <td id=\"T_bad5a_row12_col7\" class=\"data row12 col7\" >-0.0649</td>\n",
                            "      <td id=\"T_bad5a_row12_col8\" class=\"data row12 col8\" >0.3970</td>\n",
                            "    </tr>\n",
                            "    <tr>\n",
                            "      <th id=\"T_bad5a_level0_row13\" class=\"row_heading level0 row13\" >lightgbm</th>\n",
                            "      <td id=\"T_bad5a_row13_col0\" class=\"data row13 col0\" >Light Gradient Boosting Machine</td>\n",
                            "      <td id=\"T_bad5a_row13_col1\" class=\"data row13 col1\" >0.4632</td>\n",
                            "      <td id=\"T_bad5a_row13_col2\" class=\"data row13 col2\" >0.4590</td>\n",
                            "      <td id=\"T_bad5a_row13_col3\" class=\"data row13 col3\" >0.3912</td>\n",
                            "      <td id=\"T_bad5a_row13_col4\" class=\"data row13 col4\" >0.3754</td>\n",
                            "      <td id=\"T_bad5a_row13_col5\" class=\"data row13 col5\" >0.3736</td>\n",
                            "      <td id=\"T_bad5a_row13_col6\" class=\"data row13 col6\" >-0.0823</td>\n",
                            "      <td id=\"T_bad5a_row13_col7\" class=\"data row13 col7\" >-0.0827</td>\n",
                            "      <td id=\"T_bad5a_row13_col8\" class=\"data row13 col8\" >0.2940</td>\n",
                            "    </tr>\n",
                            "    <tr>\n",
                            "      <th id=\"T_bad5a_level0_row14\" class=\"row_heading level0 row14\" >knn</th>\n",
                            "      <td id=\"T_bad5a_row14_col0\" class=\"data row14 col0\" >K Neighbors Classifier</td>\n",
                            "      <td id=\"T_bad5a_row14_col1\" class=\"data row14 col1\" >0.4318</td>\n",
                            "      <td id=\"T_bad5a_row14_col2\" class=\"data row14 col2\" >0.4300</td>\n",
                            "      <td id=\"T_bad5a_row14_col3\" class=\"data row14 col3\" >0.3842</td>\n",
                            "      <td id=\"T_bad5a_row14_col4\" class=\"data row14 col4\" >0.3967</td>\n",
                            "      <td id=\"T_bad5a_row14_col5\" class=\"data row14 col5\" >0.3607</td>\n",
                            "      <td id=\"T_bad5a_row14_col6\" class=\"data row14 col6\" >-0.1415</td>\n",
                            "      <td id=\"T_bad5a_row14_col7\" class=\"data row14 col7\" >-0.1453</td>\n",
                            "      <td id=\"T_bad5a_row14_col8\" class=\"data row14 col8\" >0.0470</td>\n",
                            "    </tr>\n",
                            "  </tbody>\n",
                            "</table>\n"
                        ],
                        "text/plain": [
                            "<pandas.io.formats.style.Styler at 0x7f3d0762d7e0>"
                        ]
                    },
                    "metadata": {},
                    "output_type": "display_data"
                },
                {
                    "data": {
                        "application/vnd.jupyter.widget-view+json": {
                            "model_id": "5262208dedab4ba0bc013b9596808b4a",
                            "version_major": 2,
                            "version_minor": 0
                        },
                        "text/plain": [
                            "Processing:   0%|          | 0/65 [00:00<?, ?it/s]"
                        ]
                    },
                    "metadata": {},
                    "output_type": "display_data"
                }
            ],
            "source": [
                "best_model_cls = py_cls.compare_models(\n",
                "    turbo=True, sort=\"Accuracy\", exclude=[\"catboost\"]\n",
                ")"
            ]
        },
        {
            "cell_type": "code",
            "execution_count": 14,
            "id": "ae2a865c",
            "metadata": {},
            "outputs": [
                {
                    "name": "stdout",
                    "output_type": "stream",
                    "text": [
                        "RidgeClassifier(alpha=1.0, class_weight=None, copy_X=True, fit_intercept=True,\n",
                        "                max_iter=None, positive=False, random_state=2231, solver='auto',\n",
                        "                tol=0.0001)\n"
                    ]
                }
            ],
            "source": [
                "print(best_model_cls)"
            ]
        },
        {
            "attachments": {},
            "cell_type": "markdown",
            "id": "crazy-links",
            "metadata": {},
            "source": [
                "### Create Selected Model"
            ]
        },
        {
            "cell_type": "code",
            "execution_count": 15,
            "id": "adjusted-fence",
            "metadata": {},
            "outputs": [
                {
                    "data": {
                        "text/html": [],
                        "text/plain": [
                            "<IPython.core.display.HTML object>"
                        ]
                    },
                    "metadata": {},
                    "output_type": "display_data"
                },
                {
                    "data": {
                        "text/html": [
                            "<style type=\"text/css\">\n",
                            "#T_4c72d_row10_col0, #T_4c72d_row10_col1, #T_4c72d_row10_col2, #T_4c72d_row10_col3, #T_4c72d_row10_col4, #T_4c72d_row10_col5, #T_4c72d_row10_col6 {\n",
                            "  background: yellow;\n",
                            "}\n",
                            "</style>\n",
                            "<table id=\"T_4c72d\">\n",
                            "  <thead>\n",
                            "    <tr>\n",
                            "      <th class=\"blank level0\" >&nbsp;</th>\n",
                            "      <th id=\"T_4c72d_level0_col0\" class=\"col_heading level0 col0\" >Accuracy</th>\n",
                            "      <th id=\"T_4c72d_level0_col1\" class=\"col_heading level0 col1\" >AUC</th>\n",
                            "      <th id=\"T_4c72d_level0_col2\" class=\"col_heading level0 col2\" >Recall</th>\n",
                            "      <th id=\"T_4c72d_level0_col3\" class=\"col_heading level0 col3\" >Prec.</th>\n",
                            "      <th id=\"T_4c72d_level0_col4\" class=\"col_heading level0 col4\" >F1</th>\n",
                            "      <th id=\"T_4c72d_level0_col5\" class=\"col_heading level0 col5\" >Kappa</th>\n",
                            "      <th id=\"T_4c72d_level0_col6\" class=\"col_heading level0 col6\" >MCC</th>\n",
                            "    </tr>\n",
                            "    <tr>\n",
                            "      <th class=\"index_name level0\" >Fold</th>\n",
                            "      <th class=\"blank col0\" >&nbsp;</th>\n",
                            "      <th class=\"blank col1\" >&nbsp;</th>\n",
                            "      <th class=\"blank col2\" >&nbsp;</th>\n",
                            "      <th class=\"blank col3\" >&nbsp;</th>\n",
                            "      <th class=\"blank col4\" >&nbsp;</th>\n",
                            "      <th class=\"blank col5\" >&nbsp;</th>\n",
                            "      <th class=\"blank col6\" >&nbsp;</th>\n",
                            "    </tr>\n",
                            "  </thead>\n",
                            "  <tbody>\n",
                            "    <tr>\n",
                            "      <th id=\"T_4c72d_level0_row0\" class=\"row_heading level0 row0\" >0</th>\n",
                            "      <td id=\"T_4c72d_row0_col0\" class=\"data row0 col0\" >0.5484</td>\n",
                            "      <td id=\"T_4c72d_row0_col1\" class=\"data row0 col1\" >0.0000</td>\n",
                            "      <td id=\"T_4c72d_row0_col2\" class=\"data row0 col2\" >0.3636</td>\n",
                            "      <td id=\"T_4c72d_row0_col3\" class=\"data row0 col3\" >0.5333</td>\n",
                            "      <td id=\"T_4c72d_row0_col4\" class=\"data row0 col4\" >0.4324</td>\n",
                            "      <td id=\"T_4c72d_row0_col5\" class=\"data row0 col5\" >0.0792</td>\n",
                            "      <td id=\"T_4c72d_row0_col6\" class=\"data row0 col6\" >0.0832</td>\n",
                            "    </tr>\n",
                            "    <tr>\n",
                            "      <th id=\"T_4c72d_level0_row1\" class=\"row_heading level0 row1\" >1</th>\n",
                            "      <td id=\"T_4c72d_row1_col0\" class=\"data row1 col0\" >0.5054</td>\n",
                            "      <td id=\"T_4c72d_row1_col1\" class=\"data row1 col1\" >0.0000</td>\n",
                            "      <td id=\"T_4c72d_row1_col2\" class=\"data row1 col2\" >0.4545</td>\n",
                            "      <td id=\"T_4c72d_row1_col3\" class=\"data row1 col3\" >0.4762</td>\n",
                            "      <td id=\"T_4c72d_row1_col4\" class=\"data row1 col4\" >0.4651</td>\n",
                            "      <td id=\"T_4c72d_row1_col5\" class=\"data row1 col5\" >0.0056</td>\n",
                            "      <td id=\"T_4c72d_row1_col6\" class=\"data row1 col6\" >0.0056</td>\n",
                            "    </tr>\n",
                            "    <tr>\n",
                            "      <th id=\"T_4c72d_level0_row2\" class=\"row_heading level0 row2\" >2</th>\n",
                            "      <td id=\"T_4c72d_row2_col0\" class=\"data row2 col0\" >0.5484</td>\n",
                            "      <td id=\"T_4c72d_row2_col1\" class=\"data row2 col1\" >0.0000</td>\n",
                            "      <td id=\"T_4c72d_row2_col2\" class=\"data row2 col2\" >0.6364</td>\n",
                            "      <td id=\"T_4c72d_row2_col3\" class=\"data row2 col3\" >0.5185</td>\n",
                            "      <td id=\"T_4c72d_row2_col4\" class=\"data row2 col4\" >0.5714</td>\n",
                            "      <td id=\"T_4c72d_row2_col5\" class=\"data row2 col5\" >0.1045</td>\n",
                            "      <td id=\"T_4c72d_row2_col6\" class=\"data row2 col6\" >0.1070</td>\n",
                            "    </tr>\n",
                            "    <tr>\n",
                            "      <th id=\"T_4c72d_level0_row3\" class=\"row_heading level0 row3\" >3</th>\n",
                            "      <td id=\"T_4c72d_row3_col0\" class=\"data row3 col0\" >0.4731</td>\n",
                            "      <td id=\"T_4c72d_row3_col1\" class=\"data row3 col1\" >0.0000</td>\n",
                            "      <td id=\"T_4c72d_row3_col2\" class=\"data row3 col2\" >0.5000</td>\n",
                            "      <td id=\"T_4c72d_row3_col3\" class=\"data row3 col3\" >0.4490</td>\n",
                            "      <td id=\"T_4c72d_row3_col4\" class=\"data row3 col4\" >0.4731</td>\n",
                            "      <td id=\"T_4c72d_row3_col5\" class=\"data row3 col5\" >-0.0507</td>\n",
                            "      <td id=\"T_4c72d_row3_col6\" class=\"data row3 col6\" >-0.0510</td>\n",
                            "    </tr>\n",
                            "    <tr>\n",
                            "      <th id=\"T_4c72d_level0_row4\" class=\"row_heading level0 row4\" >4</th>\n",
                            "      <td id=\"T_4c72d_row4_col0\" class=\"data row4 col0\" >0.5161</td>\n",
                            "      <td id=\"T_4c72d_row4_col1\" class=\"data row4 col1\" >0.0000</td>\n",
                            "      <td id=\"T_4c72d_row4_col2\" class=\"data row4 col2\" >0.4651</td>\n",
                            "      <td id=\"T_4c72d_row4_col3\" class=\"data row4 col3\" >0.4762</td>\n",
                            "      <td id=\"T_4c72d_row4_col4\" class=\"data row4 col4\" >0.4706</td>\n",
                            "      <td id=\"T_4c72d_row4_col5\" class=\"data row4 col5\" >0.0252</td>\n",
                            "      <td id=\"T_4c72d_row4_col6\" class=\"data row4 col6\" >0.0252</td>\n",
                            "    </tr>\n",
                            "    <tr>\n",
                            "      <th id=\"T_4c72d_level0_row5\" class=\"row_heading level0 row5\" >5</th>\n",
                            "      <td id=\"T_4c72d_row5_col0\" class=\"data row5 col0\" >0.5269</td>\n",
                            "      <td id=\"T_4c72d_row5_col1\" class=\"data row5 col1\" >0.0000</td>\n",
                            "      <td id=\"T_4c72d_row5_col2\" class=\"data row5 col2\" >0.3953</td>\n",
                            "      <td id=\"T_4c72d_row5_col3\" class=\"data row5 col3\" >0.4857</td>\n",
                            "      <td id=\"T_4c72d_row5_col4\" class=\"data row5 col4\" >0.4359</td>\n",
                            "      <td id=\"T_4c72d_row5_col5\" class=\"data row5 col5\" >0.0358</td>\n",
                            "      <td id=\"T_4c72d_row5_col6\" class=\"data row5 col6\" >0.0364</td>\n",
                            "    </tr>\n",
                            "    <tr>\n",
                            "      <th id=\"T_4c72d_level0_row6\" class=\"row_heading level0 row6\" >6</th>\n",
                            "      <td id=\"T_4c72d_row6_col0\" class=\"data row6 col0\" >0.5761</td>\n",
                            "      <td id=\"T_4c72d_row6_col1\" class=\"data row6 col1\" >0.0000</td>\n",
                            "      <td id=\"T_4c72d_row6_col2\" class=\"data row6 col2\" >0.3721</td>\n",
                            "      <td id=\"T_4c72d_row6_col3\" class=\"data row6 col3\" >0.5714</td>\n",
                            "      <td id=\"T_4c72d_row6_col4\" class=\"data row6 col4\" >0.4507</td>\n",
                            "      <td id=\"T_4c72d_row6_col5\" class=\"data row6 col5\" >0.1300</td>\n",
                            "      <td id=\"T_4c72d_row6_col6\" class=\"data row6 col6\" >0.1379</td>\n",
                            "    </tr>\n",
                            "    <tr>\n",
                            "      <th id=\"T_4c72d_level0_row7\" class=\"row_heading level0 row7\" >7</th>\n",
                            "      <td id=\"T_4c72d_row7_col0\" class=\"data row7 col0\" >0.5217</td>\n",
                            "      <td id=\"T_4c72d_row7_col1\" class=\"data row7 col1\" >0.0000</td>\n",
                            "      <td id=\"T_4c72d_row7_col2\" class=\"data row7 col2\" >0.2791</td>\n",
                            "      <td id=\"T_4c72d_row7_col3\" class=\"data row7 col3\" >0.4800</td>\n",
                            "      <td id=\"T_4c72d_row7_col4\" class=\"data row7 col4\" >0.3529</td>\n",
                            "      <td id=\"T_4c72d_row7_col5\" class=\"data row7 col5\" >0.0141</td>\n",
                            "      <td id=\"T_4c72d_row7_col6\" class=\"data row7 col6\" >0.0154</td>\n",
                            "    </tr>\n",
                            "    <tr>\n",
                            "      <th id=\"T_4c72d_level0_row8\" class=\"row_heading level0 row8\" >8</th>\n",
                            "      <td id=\"T_4c72d_row8_col0\" class=\"data row8 col0\" >0.5978</td>\n",
                            "      <td id=\"T_4c72d_row8_col1\" class=\"data row8 col1\" >0.0000</td>\n",
                            "      <td id=\"T_4c72d_row8_col2\" class=\"data row8 col2\" >0.3953</td>\n",
                            "      <td id=\"T_4c72d_row8_col3\" class=\"data row8 col3\" >0.6071</td>\n",
                            "      <td id=\"T_4c72d_row8_col4\" class=\"data row8 col4\" >0.4789</td>\n",
                            "      <td id=\"T_4c72d_row8_col5\" class=\"data row8 col5\" >0.1746</td>\n",
                            "      <td id=\"T_4c72d_row8_col6\" class=\"data row8 col6\" >0.1853</td>\n",
                            "    </tr>\n",
                            "    <tr>\n",
                            "      <th id=\"T_4c72d_level0_row9\" class=\"row_heading level0 row9\" >9</th>\n",
                            "      <td id=\"T_4c72d_row9_col0\" class=\"data row9 col0\" >0.5978</td>\n",
                            "      <td id=\"T_4c72d_row9_col1\" class=\"data row9 col1\" >0.0000</td>\n",
                            "      <td id=\"T_4c72d_row9_col2\" class=\"data row9 col2\" >0.1628</td>\n",
                            "      <td id=\"T_4c72d_row9_col3\" class=\"data row9 col3\" >0.8750</td>\n",
                            "      <td id=\"T_4c72d_row9_col4\" class=\"data row9 col4\" >0.2745</td>\n",
                            "      <td id=\"T_4c72d_row9_col5\" class=\"data row9 col5\" >0.1499</td>\n",
                            "      <td id=\"T_4c72d_row9_col6\" class=\"data row9 col6\" >0.2521</td>\n",
                            "    </tr>\n",
                            "    <tr>\n",
                            "      <th id=\"T_4c72d_level0_row10\" class=\"row_heading level0 row10\" >Mean</th>\n",
                            "      <td id=\"T_4c72d_row10_col0\" class=\"data row10 col0\" >0.5412</td>\n",
                            "      <td id=\"T_4c72d_row10_col1\" class=\"data row10 col1\" >0.0000</td>\n",
                            "      <td id=\"T_4c72d_row10_col2\" class=\"data row10 col2\" >0.4024</td>\n",
                            "      <td id=\"T_4c72d_row10_col3\" class=\"data row10 col3\" >0.5472</td>\n",
                            "      <td id=\"T_4c72d_row10_col4\" class=\"data row10 col4\" >0.4406</td>\n",
                            "      <td id=\"T_4c72d_row10_col5\" class=\"data row10 col5\" >0.0668</td>\n",
                            "      <td id=\"T_4c72d_row10_col6\" class=\"data row10 col6\" >0.0797</td>\n",
                            "    </tr>\n",
                            "    <tr>\n",
                            "      <th id=\"T_4c72d_level0_row11\" class=\"row_heading level0 row11\" >Std</th>\n",
                            "      <td id=\"T_4c72d_row11_col0\" class=\"data row11 col0\" >0.0386</td>\n",
                            "      <td id=\"T_4c72d_row11_col1\" class=\"data row11 col1\" >0.0000</td>\n",
                            "      <td id=\"T_4c72d_row11_col2\" class=\"data row11 col2\" >0.1209</td>\n",
                            "      <td id=\"T_4c72d_row11_col3\" class=\"data row11 col3\" >0.1186</td>\n",
                            "      <td id=\"T_4c72d_row11_col4\" class=\"data row11 col4\" >0.0752</td>\n",
                            "      <td id=\"T_4c72d_row11_col5\" class=\"data row11 col5\" >0.0686</td>\n",
                            "      <td id=\"T_4c72d_row11_col6\" class=\"data row11 col6\" >0.0875</td>\n",
                            "    </tr>\n",
                            "  </tbody>\n",
                            "</table>\n"
                        ],
                        "text/plain": [
                            "<pandas.io.formats.style.Styler at 0x7f3ce4ace980>"
                        ]
                    },
                    "metadata": {},
                    "output_type": "display_data"
                },
                {
                    "data": {
                        "application/vnd.jupyter.widget-view+json": {
                            "model_id": "a2d2764b15474f45a984935515ef51a7",
                            "version_major": 2,
                            "version_minor": 0
                        },
                        "text/plain": [
                            "Processing:   0%|          | 0/4 [00:00<?, ?it/s]"
                        ]
                    },
                    "metadata": {},
                    "output_type": "display_data"
                }
            ],
            "source": [
                "model_cls = py_cls.create_model(\"ridge\")"
            ]
        },
        {
            "attachments": {},
            "cell_type": "markdown",
            "id": "dense-dressing",
            "metadata": {},
            "source": [
                "### Tune Selected Model"
            ]
        },
        {
            "cell_type": "code",
            "execution_count": 16,
            "id": "swiss-pharmaceutical",
            "metadata": {},
            "outputs": [
                {
                    "data": {
                        "text/html": [],
                        "text/plain": [
                            "<IPython.core.display.HTML object>"
                        ]
                    },
                    "metadata": {},
                    "output_type": "display_data"
                },
                {
                    "data": {
                        "text/html": [
                            "<style type=\"text/css\">\n",
                            "#T_293d1_row10_col0, #T_293d1_row10_col1, #T_293d1_row10_col2, #T_293d1_row10_col3, #T_293d1_row10_col4, #T_293d1_row10_col5, #T_293d1_row10_col6 {\n",
                            "  background: yellow;\n",
                            "}\n",
                            "</style>\n",
                            "<table id=\"T_293d1\">\n",
                            "  <thead>\n",
                            "    <tr>\n",
                            "      <th class=\"blank level0\" >&nbsp;</th>\n",
                            "      <th id=\"T_293d1_level0_col0\" class=\"col_heading level0 col0\" >Accuracy</th>\n",
                            "      <th id=\"T_293d1_level0_col1\" class=\"col_heading level0 col1\" >AUC</th>\n",
                            "      <th id=\"T_293d1_level0_col2\" class=\"col_heading level0 col2\" >Recall</th>\n",
                            "      <th id=\"T_293d1_level0_col3\" class=\"col_heading level0 col3\" >Prec.</th>\n",
                            "      <th id=\"T_293d1_level0_col4\" class=\"col_heading level0 col4\" >F1</th>\n",
                            "      <th id=\"T_293d1_level0_col5\" class=\"col_heading level0 col5\" >Kappa</th>\n",
                            "      <th id=\"T_293d1_level0_col6\" class=\"col_heading level0 col6\" >MCC</th>\n",
                            "    </tr>\n",
                            "    <tr>\n",
                            "      <th class=\"index_name level0\" >Fold</th>\n",
                            "      <th class=\"blank col0\" >&nbsp;</th>\n",
                            "      <th class=\"blank col1\" >&nbsp;</th>\n",
                            "      <th class=\"blank col2\" >&nbsp;</th>\n",
                            "      <th class=\"blank col3\" >&nbsp;</th>\n",
                            "      <th class=\"blank col4\" >&nbsp;</th>\n",
                            "      <th class=\"blank col5\" >&nbsp;</th>\n",
                            "      <th class=\"blank col6\" >&nbsp;</th>\n",
                            "    </tr>\n",
                            "  </thead>\n",
                            "  <tbody>\n",
                            "    <tr>\n",
                            "      <th id=\"T_293d1_level0_row0\" class=\"row_heading level0 row0\" >0</th>\n",
                            "      <td id=\"T_293d1_row0_col0\" class=\"data row0 col0\" >0.5699</td>\n",
                            "      <td id=\"T_293d1_row0_col1\" class=\"data row0 col1\" >0.0000</td>\n",
                            "      <td id=\"T_293d1_row0_col2\" class=\"data row0 col2\" >0.3636</td>\n",
                            "      <td id=\"T_293d1_row0_col3\" class=\"data row0 col3\" >0.5714</td>\n",
                            "      <td id=\"T_293d1_row0_col4\" class=\"data row0 col4\" >0.4444</td>\n",
                            "      <td id=\"T_293d1_row0_col5\" class=\"data row0 col5\" >0.1210</td>\n",
                            "      <td id=\"T_293d1_row0_col6\" class=\"data row0 col6\" >0.1292</td>\n",
                            "    </tr>\n",
                            "    <tr>\n",
                            "      <th id=\"T_293d1_level0_row1\" class=\"row_heading level0 row1\" >1</th>\n",
                            "      <td id=\"T_293d1_row1_col0\" class=\"data row1 col0\" >0.5376</td>\n",
                            "      <td id=\"T_293d1_row1_col1\" class=\"data row1 col1\" >0.0000</td>\n",
                            "      <td id=\"T_293d1_row1_col2\" class=\"data row1 col2\" >0.4773</td>\n",
                            "      <td id=\"T_293d1_row1_col3\" class=\"data row1 col3\" >0.5122</td>\n",
                            "      <td id=\"T_293d1_row1_col4\" class=\"data row1 col4\" >0.4941</td>\n",
                            "      <td id=\"T_293d1_row1_col5\" class=\"data row1 col5\" >0.0694</td>\n",
                            "      <td id=\"T_293d1_row1_col6\" class=\"data row1 col6\" >0.0695</td>\n",
                            "    </tr>\n",
                            "    <tr>\n",
                            "      <th id=\"T_293d1_level0_row2\" class=\"row_heading level0 row2\" >2</th>\n",
                            "      <td id=\"T_293d1_row2_col0\" class=\"data row2 col0\" >0.5376</td>\n",
                            "      <td id=\"T_293d1_row2_col1\" class=\"data row2 col1\" >0.0000</td>\n",
                            "      <td id=\"T_293d1_row2_col2\" class=\"data row2 col2\" >0.6364</td>\n",
                            "      <td id=\"T_293d1_row2_col3\" class=\"data row2 col3\" >0.5091</td>\n",
                            "      <td id=\"T_293d1_row2_col4\" class=\"data row2 col4\" >0.5657</td>\n",
                            "      <td id=\"T_293d1_row2_col5\" class=\"data row2 col5\" >0.0843</td>\n",
                            "      <td id=\"T_293d1_row2_col6\" class=\"data row2 col6\" >0.0867</td>\n",
                            "    </tr>\n",
                            "    <tr>\n",
                            "      <th id=\"T_293d1_level0_row3\" class=\"row_heading level0 row3\" >3</th>\n",
                            "      <td id=\"T_293d1_row3_col0\" class=\"data row3 col0\" >0.4624</td>\n",
                            "      <td id=\"T_293d1_row3_col1\" class=\"data row3 col1\" >0.0000</td>\n",
                            "      <td id=\"T_293d1_row3_col2\" class=\"data row3 col2\" >0.4773</td>\n",
                            "      <td id=\"T_293d1_row3_col3\" class=\"data row3 col3\" >0.4375</td>\n",
                            "      <td id=\"T_293d1_row3_col4\" class=\"data row3 col4\" >0.4565</td>\n",
                            "      <td id=\"T_293d1_row3_col5\" class=\"data row3 col5\" >-0.0734</td>\n",
                            "      <td id=\"T_293d1_row3_col6\" class=\"data row3 col6\" >-0.0737</td>\n",
                            "    </tr>\n",
                            "    <tr>\n",
                            "      <th id=\"T_293d1_level0_row4\" class=\"row_heading level0 row4\" >4</th>\n",
                            "      <td id=\"T_293d1_row4_col0\" class=\"data row4 col0\" >0.5376</td>\n",
                            "      <td id=\"T_293d1_row4_col1\" class=\"data row4 col1\" >0.0000</td>\n",
                            "      <td id=\"T_293d1_row4_col2\" class=\"data row4 col2\" >0.4651</td>\n",
                            "      <td id=\"T_293d1_row4_col3\" class=\"data row4 col3\" >0.5000</td>\n",
                            "      <td id=\"T_293d1_row4_col4\" class=\"data row4 col4\" >0.4819</td>\n",
                            "      <td id=\"T_293d1_row4_col5\" class=\"data row4 col5\" >0.0654</td>\n",
                            "      <td id=\"T_293d1_row4_col6\" class=\"data row4 col6\" >0.0656</td>\n",
                            "    </tr>\n",
                            "    <tr>\n",
                            "      <th id=\"T_293d1_level0_row5\" class=\"row_heading level0 row5\" >5</th>\n",
                            "      <td id=\"T_293d1_row5_col0\" class=\"data row5 col0\" >0.5269</td>\n",
                            "      <td id=\"T_293d1_row5_col1\" class=\"data row5 col1\" >0.0000</td>\n",
                            "      <td id=\"T_293d1_row5_col2\" class=\"data row5 col2\" >0.3953</td>\n",
                            "      <td id=\"T_293d1_row5_col3\" class=\"data row5 col3\" >0.4857</td>\n",
                            "      <td id=\"T_293d1_row5_col4\" class=\"data row5 col4\" >0.4359</td>\n",
                            "      <td id=\"T_293d1_row5_col5\" class=\"data row5 col5\" >0.0358</td>\n",
                            "      <td id=\"T_293d1_row5_col6\" class=\"data row5 col6\" >0.0364</td>\n",
                            "    </tr>\n",
                            "    <tr>\n",
                            "      <th id=\"T_293d1_level0_row6\" class=\"row_heading level0 row6\" >6</th>\n",
                            "      <td id=\"T_293d1_row6_col0\" class=\"data row6 col0\" >0.5761</td>\n",
                            "      <td id=\"T_293d1_row6_col1\" class=\"data row6 col1\" >0.0000</td>\n",
                            "      <td id=\"T_293d1_row6_col2\" class=\"data row6 col2\" >0.3488</td>\n",
                            "      <td id=\"T_293d1_row6_col3\" class=\"data row6 col3\" >0.5769</td>\n",
                            "      <td id=\"T_293d1_row6_col4\" class=\"data row6 col4\" >0.4348</td>\n",
                            "      <td id=\"T_293d1_row6_col5\" class=\"data row6 col5\" >0.1274</td>\n",
                            "      <td id=\"T_293d1_row6_col6\" class=\"data row6 col6\" >0.1378</td>\n",
                            "    </tr>\n",
                            "    <tr>\n",
                            "      <th id=\"T_293d1_level0_row7\" class=\"row_heading level0 row7\" >7</th>\n",
                            "      <td id=\"T_293d1_row7_col0\" class=\"data row7 col0\" >0.4891</td>\n",
                            "      <td id=\"T_293d1_row7_col1\" class=\"data row7 col1\" >0.0000</td>\n",
                            "      <td id=\"T_293d1_row7_col2\" class=\"data row7 col2\" >0.2326</td>\n",
                            "      <td id=\"T_293d1_row7_col3\" class=\"data row7 col3\" >0.4167</td>\n",
                            "      <td id=\"T_293d1_row7_col4\" class=\"data row7 col4\" >0.2985</td>\n",
                            "      <td id=\"T_293d1_row7_col5\" class=\"data row7 col5\" >-0.0546</td>\n",
                            "      <td id=\"T_293d1_row7_col6\" class=\"data row7 col6\" >-0.0604</td>\n",
                            "    </tr>\n",
                            "    <tr>\n",
                            "      <th id=\"T_293d1_level0_row8\" class=\"row_heading level0 row8\" >8</th>\n",
                            "      <td id=\"T_293d1_row8_col0\" class=\"data row8 col0\" >0.5761</td>\n",
                            "      <td id=\"T_293d1_row8_col1\" class=\"data row8 col1\" >0.0000</td>\n",
                            "      <td id=\"T_293d1_row8_col2\" class=\"data row8 col2\" >0.3488</td>\n",
                            "      <td id=\"T_293d1_row8_col3\" class=\"data row8 col3\" >0.5769</td>\n",
                            "      <td id=\"T_293d1_row8_col4\" class=\"data row8 col4\" >0.4348</td>\n",
                            "      <td id=\"T_293d1_row8_col5\" class=\"data row8 col5\" >0.1274</td>\n",
                            "      <td id=\"T_293d1_row8_col6\" class=\"data row8 col6\" >0.1378</td>\n",
                            "    </tr>\n",
                            "    <tr>\n",
                            "      <th id=\"T_293d1_level0_row9\" class=\"row_heading level0 row9\" >9</th>\n",
                            "      <td id=\"T_293d1_row9_col0\" class=\"data row9 col0\" >0.5870</td>\n",
                            "      <td id=\"T_293d1_row9_col1\" class=\"data row9 col1\" >0.0000</td>\n",
                            "      <td id=\"T_293d1_row9_col2\" class=\"data row9 col2\" >0.1395</td>\n",
                            "      <td id=\"T_293d1_row9_col3\" class=\"data row9 col3\" >0.8571</td>\n",
                            "      <td id=\"T_293d1_row9_col4\" class=\"data row9 col4\" >0.2400</td>\n",
                            "      <td id=\"T_293d1_row9_col5\" class=\"data row9 col5\" >0.1256</td>\n",
                            "      <td id=\"T_293d1_row9_col6\" class=\"data row9 col6\" >0.2242</td>\n",
                            "    </tr>\n",
                            "    <tr>\n",
                            "      <th id=\"T_293d1_level0_row10\" class=\"row_heading level0 row10\" >Mean</th>\n",
                            "      <td id=\"T_293d1_row10_col0\" class=\"data row10 col0\" >0.5400</td>\n",
                            "      <td id=\"T_293d1_row10_col1\" class=\"data row10 col1\" >0.0000</td>\n",
                            "      <td id=\"T_293d1_row10_col2\" class=\"data row10 col2\" >0.3885</td>\n",
                            "      <td id=\"T_293d1_row10_col3\" class=\"data row10 col3\" >0.5444</td>\n",
                            "      <td id=\"T_293d1_row10_col4\" class=\"data row10 col4\" >0.4287</td>\n",
                            "      <td id=\"T_293d1_row10_col5\" class=\"data row10 col5\" >0.0628</td>\n",
                            "      <td id=\"T_293d1_row10_col6\" class=\"data row10 col6\" >0.0753</td>\n",
                            "    </tr>\n",
                            "    <tr>\n",
                            "      <th id=\"T_293d1_level0_row11\" class=\"row_heading level0 row11\" >Std</th>\n",
                            "      <td id=\"T_293d1_row11_col0\" class=\"data row11 col0\" >0.0381</td>\n",
                            "      <td id=\"T_293d1_row11_col1\" class=\"data row11 col1\" >0.0000</td>\n",
                            "      <td id=\"T_293d1_row11_col2\" class=\"data row11 col2\" >0.1316</td>\n",
                            "      <td id=\"T_293d1_row11_col3\" class=\"data row11 col3\" >0.1167</td>\n",
                            "      <td id=\"T_293d1_row11_col4\" class=\"data row11 col4\" >0.0892</td>\n",
                            "      <td id=\"T_293d1_row11_col5\" class=\"data row11 col5\" >0.0702</td>\n",
                            "      <td id=\"T_293d1_row11_col6\" class=\"data row11 col6\" >0.0868</td>\n",
                            "    </tr>\n",
                            "  </tbody>\n",
                            "</table>\n"
                        ],
                        "text/plain": [
                            "<pandas.io.formats.style.Styler at 0x7f3d0762f220>"
                        ]
                    },
                    "metadata": {},
                    "output_type": "display_data"
                },
                {
                    "data": {
                        "application/vnd.jupyter.widget-view+json": {
                            "model_id": "22521d0efb0e45969a829e7313721ca7",
                            "version_major": 2,
                            "version_minor": 0
                        },
                        "text/plain": [
                            "Processing:   0%|          | 0/7 [00:00<?, ?it/s]"
                        ]
                    },
                    "metadata": {},
                    "output_type": "display_data"
                },
                {
                    "name": "stdout",
                    "output_type": "stream",
                    "text": [
                        "Fitting 10 folds for each of 10 candidates, totalling 100 fits\n",
                        "Original model was better than the tuned model, hence it will be returned. NOTE: The display metrics are for the tuned model (not the original one).\n"
                    ]
                }
            ],
            "source": [
                "tuned_model_cls = py_cls.tune_model(model_cls)"
            ]
        },
        {
            "cell_type": "code",
            "execution_count": 17,
            "id": "adb6b38c",
            "metadata": {},
            "outputs": [
                {
                    "name": "stdout",
                    "output_type": "stream",
                    "text": [
                        "RidgeClassifier(alpha=1.0, class_weight=None, copy_X=True, fit_intercept=True,\n",
                        "                max_iter=None, positive=False, random_state=2231, solver='auto',\n",
                        "                tol=0.0001)\n"
                    ]
                }
            ],
            "source": [
                "print(tuned_model_cls)"
            ]
        },
        {
            "attachments": {},
            "cell_type": "markdown",
            "id": "correct-economics",
            "metadata": {},
            "source": [
                "### Evaluate Model"
            ]
        },
        {
            "cell_type": "code",
            "execution_count": 18,
            "id": "mechanical-filing",
            "metadata": {},
            "outputs": [
                {
                    "data": {
                        "application/vnd.jupyter.widget-view+json": {
                            "model_id": "42e3bad2a70a4377b06ca0752ff48a9f",
                            "version_major": 2,
                            "version_minor": 0
                        },
                        "text/plain": [
                            "interactive(children=(ToggleButtons(description='Plot Type:', icons=('',), options=(('Pipeline Plot', 'pipelin…"
                        ]
                    },
                    "metadata": {},
                    "output_type": "display_data"
                }
            ],
            "source": [
                "py_cls.evaluate_model(tuned_model_cls)"
            ]
        },
        {
            "cell_type": "code",
            "execution_count": 19,
            "id": "graduate-cooling",
            "metadata": {},
            "outputs": [],
            "source": [
                "# py_cls.interpret_model(tuned_model_cls)"
            ]
        },
        {
            "cell_type": "code",
            "execution_count": 20,
            "id": "b3074f56",
            "metadata": {},
            "outputs": [
                {
                    "data": {
                        "text/html": [],
                        "text/plain": [
                            "<IPython.core.display.HTML object>"
                        ]
                    },
                    "metadata": {},
                    "output_type": "display_data"
                }
            ],
            "source": [
                "train_predictions_cls = py_cls.predict_model(tuned_model_cls, data=X_train)"
            ]
        },
        {
            "cell_type": "code",
            "execution_count": 21,
            "id": "45e0bceb",
            "metadata": {},
            "outputs": [
                {
                    "data": {
                        "text/html": [],
                        "text/plain": [
                            "<IPython.core.display.HTML object>"
                        ]
                    },
                    "metadata": {},
                    "output_type": "display_data"
                }
            ],
            "source": [
                "test_predictions_cls = py_cls.predict_model(tuned_model_cls, data=X_test)"
            ]
        },
        {
            "cell_type": "code",
            "execution_count": 22,
            "id": "f5d76fe5",
            "metadata": {},
            "outputs": [],
            "source": [
                "train_accuracy = accuracy_score(train_predictions_cls[\"prediction_label\"], y_train_cls)\n",
                "train_precision = precision_score(\n",
                "    train_predictions_cls[\"prediction_label\"], y_train_cls\n",
                ")\n",
                "\n",
                "test_accuracy = accuracy_score(test_predictions_cls[\"prediction_label\"], y_test_cls)\n",
                "test_precision = precision_score(test_predictions_cls[\"prediction_label\"], y_test_cls)"
            ]
        },
        {
            "cell_type": "code",
            "execution_count": 23,
            "id": "b1491088",
            "metadata": {},
            "outputs": [
                {
                    "name": "stdout",
                    "output_type": "stream",
                    "text": [
                        "Train Accuracy: 0.58\n",
                        "Train Precision: 0.43\n",
                        "Test Accuracy: 0.49\n",
                        "Test Precision: 0.10\n"
                    ]
                }
            ],
            "source": [
                "print(f\"Train Accuracy: {train_accuracy:.2f}\")\n",
                "print(f\"Train Precision: {train_precision:.2f}\")\n",
                "print(f\"Test Accuracy: {test_accuracy:.2f}\")\n",
                "print(f\"Test Precision: {test_precision:.2f}\")"
            ]
        },
        {
            "attachments": {},
            "cell_type": "markdown",
            "id": "parental-cancellation",
            "metadata": {},
            "source": [
                "### Model Finalization and Storage"
            ]
        },
        {
            "cell_type": "code",
            "execution_count": 24,
            "id": "dd84b0b3",
            "metadata": {},
            "outputs": [],
            "source": [
                "final_model_cls = py_cls.finalize_model(tuned_model_cls)"
            ]
        },
        {
            "cell_type": "code",
            "execution_count": 25,
            "id": "1db8c1a4",
            "metadata": {},
            "outputs": [
                {
                    "data": {
                        "text/plain": [
                            "'Classification_Ridge_58_49_2024-01-01_19-28-33'"
                        ]
                    },
                    "execution_count": 25,
                    "metadata": {},
                    "output_type": "execute_result"
                }
            ],
            "source": [
                "problem_type = \"Classification\"\n",
                "base_model = \"Ridge\"\n",
                "train_performance = round(train_accuracy * 100)\n",
                "test_performance = round(test_accuracy * 100)\n",
                "\n",
                "model_id = f\"{problem_type}_{base_model}_{train_performance}_{test_performance}_{datetime.datetime.now().strftime('%Y-%m-%d_%H-%M-%S')}\"\n",
                "\n",
                "model_id"
            ]
        },
        {
            "cell_type": "code",
            "execution_count": 26,
            "id": "071f4a17",
            "metadata": {},
            "outputs": [],
            "source": [
                "# py_cls.save_model(final_model_cls, f\"../models/AutoML/{model_id}\")"
            ]
        },
        {
            "cell_type": "markdown",
            "id": "dc751042",
            "metadata": {},
            "source": [
                "<a name=\"automl-regression\"></a>\n",
                "\n",
                "## AutoML Regression"
            ]
        },
        {
            "cell_type": "markdown",
            "id": "80c2899a",
            "metadata": {},
            "source": [
                "### Setup and Preprocessing"
            ]
        },
        {
            "cell_type": "code",
            "execution_count": 27,
            "id": "303ff0d7",
            "metadata": {},
            "outputs": [],
            "source": [
                "py_reg = RegressionExperiment()"
            ]
        },
        {
            "cell_type": "code",
            "execution_count": 28,
            "id": "fd35bde5",
            "metadata": {},
            "outputs": [],
            "source": [
                "setup_params_reg = {\n",
                "    \"data\": combined_train_df,\n",
                "    \"test_data\": combined_test_df,\n",
                "    \"target\": \"REG_TARGET\",\n",
                "    \"ignore_features\": [\"CLS_TARGET\"],\n",
                "}"
            ]
        },
        {
            "cell_type": "code",
            "execution_count": 29,
            "id": "6e25c1b8",
            "metadata": {},
            "outputs": [
                {
                    "data": {
                        "text/html": [
                            "<style type=\"text/css\">\n",
                            "#T_69d3e_row9_col1 {\n",
                            "  background-color: lightgreen;\n",
                            "}\n",
                            "</style>\n",
                            "<table id=\"T_69d3e\">\n",
                            "  <thead>\n",
                            "    <tr>\n",
                            "      <th class=\"blank level0\" >&nbsp;</th>\n",
                            "      <th id=\"T_69d3e_level0_col0\" class=\"col_heading level0 col0\" >Description</th>\n",
                            "      <th id=\"T_69d3e_level0_col1\" class=\"col_heading level0 col1\" >Value</th>\n",
                            "    </tr>\n",
                            "  </thead>\n",
                            "  <tbody>\n",
                            "    <tr>\n",
                            "      <th id=\"T_69d3e_level0_row0\" class=\"row_heading level0 row0\" >0</th>\n",
                            "      <td id=\"T_69d3e_row0_col0\" class=\"data row0 col0\" >Session id</td>\n",
                            "      <td id=\"T_69d3e_row0_col1\" class=\"data row0 col1\" >6331</td>\n",
                            "    </tr>\n",
                            "    <tr>\n",
                            "      <th id=\"T_69d3e_level0_row1\" class=\"row_heading level0 row1\" >1</th>\n",
                            "      <td id=\"T_69d3e_row1_col0\" class=\"data row1 col0\" >Target</td>\n",
                            "      <td id=\"T_69d3e_row1_col1\" class=\"data row1 col1\" >REG_TARGET</td>\n",
                            "    </tr>\n",
                            "    <tr>\n",
                            "      <th id=\"T_69d3e_level0_row2\" class=\"row_heading level0 row2\" >2</th>\n",
                            "      <td id=\"T_69d3e_row2_col0\" class=\"data row2 col0\" >Target type</td>\n",
                            "      <td id=\"T_69d3e_row2_col1\" class=\"data row2 col1\" >Regression</td>\n",
                            "    </tr>\n",
                            "    <tr>\n",
                            "      <th id=\"T_69d3e_level0_row3\" class=\"row_heading level0 row3\" >3</th>\n",
                            "      <td id=\"T_69d3e_row3_col0\" class=\"data row3 col0\" >Original data shape</td>\n",
                            "      <td id=\"T_69d3e_row3_col1\" class=\"data row3 col1\" >(1323, 39)</td>\n",
                            "    </tr>\n",
                            "    <tr>\n",
                            "      <th id=\"T_69d3e_level0_row4\" class=\"row_heading level0 row4\" >4</th>\n",
                            "      <td id=\"T_69d3e_row4_col0\" class=\"data row4 col0\" >Transformed data shape</td>\n",
                            "      <td id=\"T_69d3e_row4_col1\" class=\"data row4 col1\" >(1323, 38)</td>\n",
                            "    </tr>\n",
                            "    <tr>\n",
                            "      <th id=\"T_69d3e_level0_row5\" class=\"row_heading level0 row5\" >5</th>\n",
                            "      <td id=\"T_69d3e_row5_col0\" class=\"data row5 col0\" >Transformed train set shape</td>\n",
                            "      <td id=\"T_69d3e_row5_col1\" class=\"data row5 col1\" >(926, 38)</td>\n",
                            "    </tr>\n",
                            "    <tr>\n",
                            "      <th id=\"T_69d3e_level0_row6\" class=\"row_heading level0 row6\" >6</th>\n",
                            "      <td id=\"T_69d3e_row6_col0\" class=\"data row6 col0\" >Transformed test set shape</td>\n",
                            "      <td id=\"T_69d3e_row6_col1\" class=\"data row6 col1\" >(397, 38)</td>\n",
                            "    </tr>\n",
                            "    <tr>\n",
                            "      <th id=\"T_69d3e_level0_row7\" class=\"row_heading level0 row7\" >7</th>\n",
                            "      <td id=\"T_69d3e_row7_col0\" class=\"data row7 col0\" >Ignore features</td>\n",
                            "      <td id=\"T_69d3e_row7_col1\" class=\"data row7 col1\" >1</td>\n",
                            "    </tr>\n",
                            "    <tr>\n",
                            "      <th id=\"T_69d3e_level0_row8\" class=\"row_heading level0 row8\" >8</th>\n",
                            "      <td id=\"T_69d3e_row8_col0\" class=\"data row8 col0\" >Numeric features</td>\n",
                            "      <td id=\"T_69d3e_row8_col1\" class=\"data row8 col1\" >37</td>\n",
                            "    </tr>\n",
                            "    <tr>\n",
                            "      <th id=\"T_69d3e_level0_row9\" class=\"row_heading level0 row9\" >9</th>\n",
                            "      <td id=\"T_69d3e_row9_col0\" class=\"data row9 col0\" >Preprocess</td>\n",
                            "      <td id=\"T_69d3e_row9_col1\" class=\"data row9 col1\" >True</td>\n",
                            "    </tr>\n",
                            "    <tr>\n",
                            "      <th id=\"T_69d3e_level0_row10\" class=\"row_heading level0 row10\" >10</th>\n",
                            "      <td id=\"T_69d3e_row10_col0\" class=\"data row10 col0\" >Imputation type</td>\n",
                            "      <td id=\"T_69d3e_row10_col1\" class=\"data row10 col1\" >simple</td>\n",
                            "    </tr>\n",
                            "    <tr>\n",
                            "      <th id=\"T_69d3e_level0_row11\" class=\"row_heading level0 row11\" >11</th>\n",
                            "      <td id=\"T_69d3e_row11_col0\" class=\"data row11 col0\" >Numeric imputation</td>\n",
                            "      <td id=\"T_69d3e_row11_col1\" class=\"data row11 col1\" >mean</td>\n",
                            "    </tr>\n",
                            "    <tr>\n",
                            "      <th id=\"T_69d3e_level0_row12\" class=\"row_heading level0 row12\" >12</th>\n",
                            "      <td id=\"T_69d3e_row12_col0\" class=\"data row12 col0\" >Categorical imputation</td>\n",
                            "      <td id=\"T_69d3e_row12_col1\" class=\"data row12 col1\" >mode</td>\n",
                            "    </tr>\n",
                            "    <tr>\n",
                            "      <th id=\"T_69d3e_level0_row13\" class=\"row_heading level0 row13\" >13</th>\n",
                            "      <td id=\"T_69d3e_row13_col0\" class=\"data row13 col0\" >Fold Generator</td>\n",
                            "      <td id=\"T_69d3e_row13_col1\" class=\"data row13 col1\" >KFold</td>\n",
                            "    </tr>\n",
                            "    <tr>\n",
                            "      <th id=\"T_69d3e_level0_row14\" class=\"row_heading level0 row14\" >14</th>\n",
                            "      <td id=\"T_69d3e_row14_col0\" class=\"data row14 col0\" >Fold Number</td>\n",
                            "      <td id=\"T_69d3e_row14_col1\" class=\"data row14 col1\" >10</td>\n",
                            "    </tr>\n",
                            "    <tr>\n",
                            "      <th id=\"T_69d3e_level0_row15\" class=\"row_heading level0 row15\" >15</th>\n",
                            "      <td id=\"T_69d3e_row15_col0\" class=\"data row15 col0\" >CPU Jobs</td>\n",
                            "      <td id=\"T_69d3e_row15_col1\" class=\"data row15 col1\" >-1</td>\n",
                            "    </tr>\n",
                            "    <tr>\n",
                            "      <th id=\"T_69d3e_level0_row16\" class=\"row_heading level0 row16\" >16</th>\n",
                            "      <td id=\"T_69d3e_row16_col0\" class=\"data row16 col0\" >Use GPU</td>\n",
                            "      <td id=\"T_69d3e_row16_col1\" class=\"data row16 col1\" >False</td>\n",
                            "    </tr>\n",
                            "    <tr>\n",
                            "      <th id=\"T_69d3e_level0_row17\" class=\"row_heading level0 row17\" >17</th>\n",
                            "      <td id=\"T_69d3e_row17_col0\" class=\"data row17 col0\" >Log Experiment</td>\n",
                            "      <td id=\"T_69d3e_row17_col1\" class=\"data row17 col1\" >False</td>\n",
                            "    </tr>\n",
                            "    <tr>\n",
                            "      <th id=\"T_69d3e_level0_row18\" class=\"row_heading level0 row18\" >18</th>\n",
                            "      <td id=\"T_69d3e_row18_col0\" class=\"data row18 col0\" >Experiment Name</td>\n",
                            "      <td id=\"T_69d3e_row18_col1\" class=\"data row18 col1\" >reg-default-name</td>\n",
                            "    </tr>\n",
                            "    <tr>\n",
                            "      <th id=\"T_69d3e_level0_row19\" class=\"row_heading level0 row19\" >19</th>\n",
                            "      <td id=\"T_69d3e_row19_col0\" class=\"data row19 col0\" >USI</td>\n",
                            "      <td id=\"T_69d3e_row19_col1\" class=\"data row19 col1\" >2206</td>\n",
                            "    </tr>\n",
                            "  </tbody>\n",
                            "</table>\n"
                        ],
                        "text/plain": [
                            "<pandas.io.formats.style.Styler at 0x7f3d06aadb10>"
                        ]
                    },
                    "metadata": {},
                    "output_type": "display_data"
                },
                {
                    "data": {
                        "text/plain": [
                            "<pycaret.regression.oop.RegressionExperiment at 0x7f3d06b93820>"
                        ]
                    },
                    "execution_count": 29,
                    "metadata": {},
                    "output_type": "execute_result"
                }
            ],
            "source": [
                "py_reg.setup(**setup_params_reg)"
            ]
        },
        {
            "cell_type": "markdown",
            "id": "10ce1df1",
            "metadata": {},
            "source": [
                "### Compare Models"
            ]
        },
        {
            "cell_type": "code",
            "execution_count": 30,
            "id": "2a547580",
            "metadata": {},
            "outputs": [
                {
                    "data": {
                        "text/html": [],
                        "text/plain": [
                            "<IPython.core.display.HTML object>"
                        ]
                    },
                    "metadata": {},
                    "output_type": "display_data"
                },
                {
                    "data": {
                        "text/html": [
                            "<style type=\"text/css\">\n",
                            "#T_1e869 th {\n",
                            "  text-align: left;\n",
                            "}\n",
                            "#T_1e869_row0_col0, #T_1e869_row0_col2, #T_1e869_row0_col3, #T_1e869_row0_col4, #T_1e869_row0_col5, #T_1e869_row0_col6, #T_1e869_row1_col0, #T_1e869_row1_col1, #T_1e869_row1_col4, #T_1e869_row1_col5, #T_1e869_row1_col6, #T_1e869_row2_col0, #T_1e869_row2_col1, #T_1e869_row2_col2, #T_1e869_row2_col3, #T_1e869_row2_col4, #T_1e869_row2_col5, #T_1e869_row2_col6, #T_1e869_row3_col0, #T_1e869_row3_col1, #T_1e869_row3_col2, #T_1e869_row3_col3, #T_1e869_row3_col4, #T_1e869_row3_col5, #T_1e869_row3_col6, #T_1e869_row4_col0, #T_1e869_row4_col1, #T_1e869_row4_col2, #T_1e869_row4_col3, #T_1e869_row4_col4, #T_1e869_row4_col5, #T_1e869_row4_col6, #T_1e869_row5_col0, #T_1e869_row5_col1, #T_1e869_row5_col2, #T_1e869_row5_col3, #T_1e869_row5_col4, #T_1e869_row5_col5, #T_1e869_row5_col6, #T_1e869_row6_col0, #T_1e869_row6_col1, #T_1e869_row6_col2, #T_1e869_row6_col3, #T_1e869_row6_col5, #T_1e869_row6_col6, #T_1e869_row7_col0, #T_1e869_row7_col1, #T_1e869_row7_col2, #T_1e869_row7_col3, #T_1e869_row7_col4, #T_1e869_row7_col5, #T_1e869_row7_col6, #T_1e869_row8_col0, #T_1e869_row8_col1, #T_1e869_row8_col2, #T_1e869_row8_col3, #T_1e869_row8_col4, #T_1e869_row8_col5, #T_1e869_row8_col6, #T_1e869_row9_col0, #T_1e869_row9_col1, #T_1e869_row9_col2, #T_1e869_row9_col3, #T_1e869_row9_col4, #T_1e869_row9_col5, #T_1e869_row9_col6, #T_1e869_row10_col0, #T_1e869_row10_col1, #T_1e869_row10_col2, #T_1e869_row10_col3, #T_1e869_row10_col4, #T_1e869_row10_col5, #T_1e869_row11_col0, #T_1e869_row11_col1, #T_1e869_row11_col2, #T_1e869_row11_col3, #T_1e869_row11_col4, #T_1e869_row11_col5, #T_1e869_row11_col6, #T_1e869_row12_col0, #T_1e869_row12_col1, #T_1e869_row12_col2, #T_1e869_row12_col3, #T_1e869_row12_col4, #T_1e869_row12_col5, #T_1e869_row12_col6, #T_1e869_row13_col0, #T_1e869_row13_col1, #T_1e869_row13_col2, #T_1e869_row13_col3, #T_1e869_row13_col4, #T_1e869_row13_col5, #T_1e869_row13_col6, #T_1e869_row14_col0, #T_1e869_row14_col1, #T_1e869_row14_col2, #T_1e869_row14_col3, #T_1e869_row14_col4, #T_1e869_row14_col5, #T_1e869_row14_col6, #T_1e869_row15_col0, #T_1e869_row15_col1, #T_1e869_row15_col2, #T_1e869_row15_col3, #T_1e869_row15_col4, #T_1e869_row15_col5, #T_1e869_row15_col6, #T_1e869_row16_col0, #T_1e869_row16_col1, #T_1e869_row16_col2, #T_1e869_row16_col3, #T_1e869_row16_col4, #T_1e869_row16_col6, #T_1e869_row17_col0, #T_1e869_row17_col1, #T_1e869_row17_col2, #T_1e869_row17_col3, #T_1e869_row17_col4, #T_1e869_row17_col5, #T_1e869_row17_col6, #T_1e869_row18_col0, #T_1e869_row18_col1, #T_1e869_row18_col2, #T_1e869_row18_col3, #T_1e869_row18_col4, #T_1e869_row18_col5, #T_1e869_row18_col6 {\n",
                            "  text-align: left;\n",
                            "}\n",
                            "#T_1e869_row0_col1, #T_1e869_row1_col2, #T_1e869_row1_col3, #T_1e869_row6_col4, #T_1e869_row10_col6, #T_1e869_row16_col5 {\n",
                            "  text-align: left;\n",
                            "  background-color: yellow;\n",
                            "}\n",
                            "#T_1e869_row0_col7, #T_1e869_row1_col7, #T_1e869_row2_col7, #T_1e869_row3_col7, #T_1e869_row4_col7, #T_1e869_row5_col7, #T_1e869_row6_col7, #T_1e869_row7_col7, #T_1e869_row8_col7, #T_1e869_row9_col7, #T_1e869_row10_col7, #T_1e869_row11_col7, #T_1e869_row12_col7, #T_1e869_row14_col7, #T_1e869_row15_col7, #T_1e869_row16_col7, #T_1e869_row17_col7, #T_1e869_row18_col7 {\n",
                            "  text-align: left;\n",
                            "  background-color: lightgrey;\n",
                            "}\n",
                            "#T_1e869_row13_col7 {\n",
                            "  text-align: left;\n",
                            "  background-color: yellow;\n",
                            "  background-color: lightgrey;\n",
                            "}\n",
                            "</style>\n",
                            "<table id=\"T_1e869\">\n",
                            "  <thead>\n",
                            "    <tr>\n",
                            "      <th class=\"blank level0\" >&nbsp;</th>\n",
                            "      <th id=\"T_1e869_level0_col0\" class=\"col_heading level0 col0\" >Model</th>\n",
                            "      <th id=\"T_1e869_level0_col1\" class=\"col_heading level0 col1\" >MAE</th>\n",
                            "      <th id=\"T_1e869_level0_col2\" class=\"col_heading level0 col2\" >MSE</th>\n",
                            "      <th id=\"T_1e869_level0_col3\" class=\"col_heading level0 col3\" >RMSE</th>\n",
                            "      <th id=\"T_1e869_level0_col4\" class=\"col_heading level0 col4\" >R2</th>\n",
                            "      <th id=\"T_1e869_level0_col5\" class=\"col_heading level0 col5\" >RMSLE</th>\n",
                            "      <th id=\"T_1e869_level0_col6\" class=\"col_heading level0 col6\" >MAPE</th>\n",
                            "      <th id=\"T_1e869_level0_col7\" class=\"col_heading level0 col7\" >TT (Sec)</th>\n",
                            "    </tr>\n",
                            "  </thead>\n",
                            "  <tbody>\n",
                            "    <tr>\n",
                            "      <th id=\"T_1e869_level0_row0\" class=\"row_heading level0 row0\" >ridge</th>\n",
                            "      <td id=\"T_1e869_row0_col0\" class=\"data row0 col0\" >Ridge Regression</td>\n",
                            "      <td id=\"T_1e869_row0_col1\" class=\"data row0 col1\" >11.5953</td>\n",
                            "      <td id=\"T_1e869_row0_col2\" class=\"data row0 col2\" >215.7389</td>\n",
                            "      <td id=\"T_1e869_row0_col3\" class=\"data row0 col3\" >14.6203</td>\n",
                            "      <td id=\"T_1e869_row0_col4\" class=\"data row0 col4\" >0.0261</td>\n",
                            "      <td id=\"T_1e869_row0_col5\" class=\"data row0 col5\" >1.3017</td>\n",
                            "      <td id=\"T_1e869_row0_col6\" class=\"data row0 col6\" >1.2040</td>\n",
                            "      <td id=\"T_1e869_row0_col7\" class=\"data row0 col7\" >0.0510</td>\n",
                            "    </tr>\n",
                            "    <tr>\n",
                            "      <th id=\"T_1e869_level0_row1\" class=\"row_heading level0 row1\" >br</th>\n",
                            "      <td id=\"T_1e869_row1_col0\" class=\"data row1 col0\" >Bayesian Ridge</td>\n",
                            "      <td id=\"T_1e869_row1_col1\" class=\"data row1 col1\" >11.6106</td>\n",
                            "      <td id=\"T_1e869_row1_col2\" class=\"data row1 col2\" >214.8984</td>\n",
                            "      <td id=\"T_1e869_row1_col3\" class=\"data row1 col3\" >14.6018</td>\n",
                            "      <td id=\"T_1e869_row1_col4\" class=\"data row1 col4\" >0.0307</td>\n",
                            "      <td id=\"T_1e869_row1_col5\" class=\"data row1 col5\" >1.4340</td>\n",
                            "      <td id=\"T_1e869_row1_col6\" class=\"data row1 col6\" >1.1316</td>\n",
                            "      <td id=\"T_1e869_row1_col7\" class=\"data row1 col7\" >0.0500</td>\n",
                            "    </tr>\n",
                            "    <tr>\n",
                            "      <th id=\"T_1e869_level0_row2\" class=\"row_heading level0 row2\" >en</th>\n",
                            "      <td id=\"T_1e869_row2_col0\" class=\"data row2 col0\" >Elastic Net</td>\n",
                            "      <td id=\"T_1e869_row2_col1\" class=\"data row2 col1\" >11.6150</td>\n",
                            "      <td id=\"T_1e869_row2_col2\" class=\"data row2 col2\" >215.2043</td>\n",
                            "      <td id=\"T_1e869_row2_col3\" class=\"data row2 col3\" >14.6079</td>\n",
                            "      <td id=\"T_1e869_row2_col4\" class=\"data row2 col4\" >0.0297</td>\n",
                            "      <td id=\"T_1e869_row2_col5\" class=\"data row2 col5\" >1.3771</td>\n",
                            "      <td id=\"T_1e869_row2_col6\" class=\"data row2 col6\" >1.1641</td>\n",
                            "      <td id=\"T_1e869_row2_col7\" class=\"data row2 col7\" >0.0490</td>\n",
                            "    </tr>\n",
                            "    <tr>\n",
                            "      <th id=\"T_1e869_level0_row3\" class=\"row_heading level0 row3\" >lasso</th>\n",
                            "      <td id=\"T_1e869_row3_col0\" class=\"data row3 col0\" >Lasso Regression</td>\n",
                            "      <td id=\"T_1e869_row3_col1\" class=\"data row3 col1\" >11.6336</td>\n",
                            "      <td id=\"T_1e869_row3_col2\" class=\"data row3 col2\" >215.8861</td>\n",
                            "      <td id=\"T_1e869_row3_col3\" class=\"data row3 col3\" >14.6318</td>\n",
                            "      <td id=\"T_1e869_row3_col4\" class=\"data row3 col4\" >0.0264</td>\n",
                            "      <td id=\"T_1e869_row3_col5\" class=\"data row3 col5\" >1.3962</td>\n",
                            "      <td id=\"T_1e869_row3_col6\" class=\"data row3 col6\" >1.1608</td>\n",
                            "      <td id=\"T_1e869_row3_col7\" class=\"data row3 col7\" >0.0560</td>\n",
                            "    </tr>\n",
                            "    <tr>\n",
                            "      <th id=\"T_1e869_level0_row4\" class=\"row_heading level0 row4\" >llar</th>\n",
                            "      <td id=\"T_1e869_row4_col0\" class=\"data row4 col0\" >Lasso Least Angle Regression</td>\n",
                            "      <td id=\"T_1e869_row4_col1\" class=\"data row4 col1\" >11.6338</td>\n",
                            "      <td id=\"T_1e869_row4_col2\" class=\"data row4 col2\" >215.8878</td>\n",
                            "      <td id=\"T_1e869_row4_col3\" class=\"data row4 col3\" >14.6319</td>\n",
                            "      <td id=\"T_1e869_row4_col4\" class=\"data row4 col4\" >0.0264</td>\n",
                            "      <td id=\"T_1e869_row4_col5\" class=\"data row4 col5\" >1.3962</td>\n",
                            "      <td id=\"T_1e869_row4_col6\" class=\"data row4 col6\" >1.1608</td>\n",
                            "      <td id=\"T_1e869_row4_col7\" class=\"data row4 col7\" >0.0450</td>\n",
                            "    </tr>\n",
                            "    <tr>\n",
                            "      <th id=\"T_1e869_level0_row5\" class=\"row_heading level0 row5\" >lr</th>\n",
                            "      <td id=\"T_1e869_row5_col0\" class=\"data row5 col0\" >Linear Regression</td>\n",
                            "      <td id=\"T_1e869_row5_col1\" class=\"data row5 col1\" >11.6810</td>\n",
                            "      <td id=\"T_1e869_row5_col2\" class=\"data row5 col2\" >220.0833</td>\n",
                            "      <td id=\"T_1e869_row5_col3\" class=\"data row5 col3\" >14.7612</td>\n",
                            "      <td id=\"T_1e869_row5_col4\" class=\"data row5 col4\" >0.0054</td>\n",
                            "      <td id=\"T_1e869_row5_col5\" class=\"data row5 col5\" >1.2484</td>\n",
                            "      <td id=\"T_1e869_row5_col6\" class=\"data row5 col6\" >1.2623</td>\n",
                            "      <td id=\"T_1e869_row5_col7\" class=\"data row5 col7\" >0.0470</td>\n",
                            "    </tr>\n",
                            "    <tr>\n",
                            "      <th id=\"T_1e869_level0_row6\" class=\"row_heading level0 row6\" >et</th>\n",
                            "      <td id=\"T_1e869_row6_col0\" class=\"data row6 col0\" >Extra Trees Regressor</td>\n",
                            "      <td id=\"T_1e869_row6_col1\" class=\"data row6 col1\" >11.6935</td>\n",
                            "      <td id=\"T_1e869_row6_col2\" class=\"data row6 col2\" >214.9843</td>\n",
                            "      <td id=\"T_1e869_row6_col3\" class=\"data row6 col3\" >14.6140</td>\n",
                            "      <td id=\"T_1e869_row6_col4\" class=\"data row6 col4\" >0.0322</td>\n",
                            "      <td id=\"T_1e869_row6_col5\" class=\"data row6 col5\" >1.2370</td>\n",
                            "      <td id=\"T_1e869_row6_col6\" class=\"data row6 col6\" >1.2630</td>\n",
                            "      <td id=\"T_1e869_row6_col7\" class=\"data row6 col7\" >0.4860</td>\n",
                            "    </tr>\n",
                            "    <tr>\n",
                            "      <th id=\"T_1e869_level0_row7\" class=\"row_heading level0 row7\" >huber</th>\n",
                            "      <td id=\"T_1e869_row7_col0\" class=\"data row7 col0\" >Huber Regressor</td>\n",
                            "      <td id=\"T_1e869_row7_col1\" class=\"data row7 col1\" >11.7142</td>\n",
                            "      <td id=\"T_1e869_row7_col2\" class=\"data row7 col2\" >221.2243</td>\n",
                            "      <td id=\"T_1e869_row7_col3\" class=\"data row7 col3\" >14.7802</td>\n",
                            "      <td id=\"T_1e869_row7_col4\" class=\"data row7 col4\" >0.0029</td>\n",
                            "      <td id=\"T_1e869_row7_col5\" class=\"data row7 col5\" >1.3663</td>\n",
                            "      <td id=\"T_1e869_row7_col6\" class=\"data row7 col6\" >1.1825</td>\n",
                            "      <td id=\"T_1e869_row7_col7\" class=\"data row7 col7\" >0.0660</td>\n",
                            "    </tr>\n",
                            "    <tr>\n",
                            "      <th id=\"T_1e869_level0_row8\" class=\"row_heading level0 row8\" >ada</th>\n",
                            "      <td id=\"T_1e869_row8_col0\" class=\"data row8 col0\" >AdaBoost Regressor</td>\n",
                            "      <td id=\"T_1e869_row8_col1\" class=\"data row8 col1\" >11.7232</td>\n",
                            "      <td id=\"T_1e869_row8_col2\" class=\"data row8 col2\" >215.1913</td>\n",
                            "      <td id=\"T_1e869_row8_col3\" class=\"data row8 col3\" >14.6335</td>\n",
                            "      <td id=\"T_1e869_row8_col4\" class=\"data row8 col4\" >0.0258</td>\n",
                            "      <td id=\"T_1e869_row8_col5\" class=\"data row8 col5\" >1.1623</td>\n",
                            "      <td id=\"T_1e869_row8_col6\" class=\"data row8 col6\" >1.3140</td>\n",
                            "      <td id=\"T_1e869_row8_col7\" class=\"data row8 col7\" >0.2550</td>\n",
                            "    </tr>\n",
                            "    <tr>\n",
                            "      <th id=\"T_1e869_level0_row9\" class=\"row_heading level0 row9\" >rf</th>\n",
                            "      <td id=\"T_1e869_row9_col0\" class=\"data row9 col0\" >Random Forest Regressor</td>\n",
                            "      <td id=\"T_1e869_row9_col1\" class=\"data row9 col1\" >11.8098</td>\n",
                            "      <td id=\"T_1e869_row9_col2\" class=\"data row9 col2\" >216.8660</td>\n",
                            "      <td id=\"T_1e869_row9_col3\" class=\"data row9 col3\" >14.6825</td>\n",
                            "      <td id=\"T_1e869_row9_col4\" class=\"data row9 col4\" >0.0222</td>\n",
                            "      <td id=\"T_1e869_row9_col5\" class=\"data row9 col5\" >1.2397</td>\n",
                            "      <td id=\"T_1e869_row9_col6\" class=\"data row9 col6\" >1.2658</td>\n",
                            "      <td id=\"T_1e869_row9_col7\" class=\"data row9 col7\" >1.0300</td>\n",
                            "    </tr>\n",
                            "    <tr>\n",
                            "      <th id=\"T_1e869_level0_row10\" class=\"row_heading level0 row10\" >dummy</th>\n",
                            "      <td id=\"T_1e869_row10_col0\" class=\"data row10 col0\" >Dummy Regressor</td>\n",
                            "      <td id=\"T_1e869_row10_col1\" class=\"data row10 col1\" >11.9719</td>\n",
                            "      <td id=\"T_1e869_row10_col2\" class=\"data row10 col2\" >223.7847</td>\n",
                            "      <td id=\"T_1e869_row10_col3\" class=\"data row10 col3\" >14.9306</td>\n",
                            "      <td id=\"T_1e869_row10_col4\" class=\"data row10 col4\" >-0.0103</td>\n",
                            "      <td id=\"T_1e869_row10_col5\" class=\"data row10 col5\" >1.5815</td>\n",
                            "      <td id=\"T_1e869_row10_col6\" class=\"data row10 col6\" >1.0148</td>\n",
                            "      <td id=\"T_1e869_row10_col7\" class=\"data row10 col7\" >0.0480</td>\n",
                            "    </tr>\n",
                            "    <tr>\n",
                            "      <th id=\"T_1e869_level0_row11\" class=\"row_heading level0 row11\" >gbr</th>\n",
                            "      <td id=\"T_1e869_row11_col0\" class=\"data row11 col0\" >Gradient Boosting Regressor</td>\n",
                            "      <td id=\"T_1e869_row11_col1\" class=\"data row11 col1\" >11.9745</td>\n",
                            "      <td id=\"T_1e869_row11_col2\" class=\"data row11 col2\" >226.9298</td>\n",
                            "      <td id=\"T_1e869_row11_col3\" class=\"data row11 col3\" >15.0161</td>\n",
                            "      <td id=\"T_1e869_row11_col4\" class=\"data row11 col4\" >-0.0260</td>\n",
                            "      <td id=\"T_1e869_row11_col5\" class=\"data row11 col5\" >1.2153</td>\n",
                            "      <td id=\"T_1e869_row11_col6\" class=\"data row11 col6\" >1.3282</td>\n",
                            "      <td id=\"T_1e869_row11_col7\" class=\"data row11 col7\" >0.5470</td>\n",
                            "    </tr>\n",
                            "    <tr>\n",
                            "      <th id=\"T_1e869_level0_row12\" class=\"row_heading level0 row12\" >lightgbm</th>\n",
                            "      <td id=\"T_1e869_row12_col0\" class=\"data row12 col0\" >Light Gradient Boosting Machine</td>\n",
                            "      <td id=\"T_1e869_row12_col1\" class=\"data row12 col1\" >12.3814</td>\n",
                            "      <td id=\"T_1e869_row12_col2\" class=\"data row12 col2\" >244.0419</td>\n",
                            "      <td id=\"T_1e869_row12_col3\" class=\"data row12 col3\" >15.5705</td>\n",
                            "      <td id=\"T_1e869_row12_col4\" class=\"data row12 col4\" >-0.1012</td>\n",
                            "      <td id=\"T_1e869_row12_col5\" class=\"data row12 col5\" >1.1880</td>\n",
                            "      <td id=\"T_1e869_row12_col6\" class=\"data row12 col6\" >1.4110</td>\n",
                            "      <td id=\"T_1e869_row12_col7\" class=\"data row12 col7\" >0.2450</td>\n",
                            "    </tr>\n",
                            "    <tr>\n",
                            "      <th id=\"T_1e869_level0_row13\" class=\"row_heading level0 row13\" >knn</th>\n",
                            "      <td id=\"T_1e869_row13_col0\" class=\"data row13 col0\" >K Neighbors Regressor</td>\n",
                            "      <td id=\"T_1e869_row13_col1\" class=\"data row13 col1\" >12.6620</td>\n",
                            "      <td id=\"T_1e869_row13_col2\" class=\"data row13 col2\" >253.4662</td>\n",
                            "      <td id=\"T_1e869_row13_col3\" class=\"data row13 col3\" >15.8808</td>\n",
                            "      <td id=\"T_1e869_row13_col4\" class=\"data row13 col4\" >-0.1519</td>\n",
                            "      <td id=\"T_1e869_row13_col5\" class=\"data row13 col5\" >1.1710</td>\n",
                            "      <td id=\"T_1e869_row13_col6\" class=\"data row13 col6\" >1.4646</td>\n",
                            "      <td id=\"T_1e869_row13_col7\" class=\"data row13 col7\" >0.0370</td>\n",
                            "    </tr>\n",
                            "    <tr>\n",
                            "      <th id=\"T_1e869_level0_row14\" class=\"row_heading level0 row14\" >xgboost</th>\n",
                            "      <td id=\"T_1e869_row14_col0\" class=\"data row14 col0\" >Extreme Gradient Boosting</td>\n",
                            "      <td id=\"T_1e869_row14_col1\" class=\"data row14 col1\" >12.7035</td>\n",
                            "      <td id=\"T_1e869_row14_col2\" class=\"data row14 col2\" >254.3194</td>\n",
                            "      <td id=\"T_1e869_row14_col3\" class=\"data row14 col3\" >15.9067</td>\n",
                            "      <td id=\"T_1e869_row14_col4\" class=\"data row14 col4\" >-0.1479</td>\n",
                            "      <td id=\"T_1e869_row14_col5\" class=\"data row14 col5\" >1.1364</td>\n",
                            "      <td id=\"T_1e869_row14_col6\" class=\"data row14 col6\" >1.5432</td>\n",
                            "      <td id=\"T_1e869_row14_col7\" class=\"data row14 col7\" >0.4760</td>\n",
                            "    </tr>\n",
                            "    <tr>\n",
                            "      <th id=\"T_1e869_level0_row15\" class=\"row_heading level0 row15\" >omp</th>\n",
                            "      <td id=\"T_1e869_row15_col0\" class=\"data row15 col0\" >Orthogonal Matching Pursuit</td>\n",
                            "      <td id=\"T_1e869_row15_col1\" class=\"data row15 col1\" >13.0896</td>\n",
                            "      <td id=\"T_1e869_row15_col2\" class=\"data row15 col2\" >348.8254</td>\n",
                            "      <td id=\"T_1e869_row15_col3\" class=\"data row15 col3\" >17.1339</td>\n",
                            "      <td id=\"T_1e869_row15_col4\" class=\"data row15 col4\" >-0.5778</td>\n",
                            "      <td id=\"T_1e869_row15_col5\" class=\"data row15 col5\" >1.5234</td>\n",
                            "      <td id=\"T_1e869_row15_col6\" class=\"data row15 col6\" >1.3076</td>\n",
                            "      <td id=\"T_1e869_row15_col7\" class=\"data row15 col7\" >0.0440</td>\n",
                            "    </tr>\n",
                            "    <tr>\n",
                            "      <th id=\"T_1e869_level0_row16\" class=\"row_heading level0 row16\" >dt</th>\n",
                            "      <td id=\"T_1e869_row16_col0\" class=\"data row16 col0\" >Decision Tree Regressor</td>\n",
                            "      <td id=\"T_1e869_row16_col1\" class=\"data row16 col1\" >17.2716</td>\n",
                            "      <td id=\"T_1e869_row16_col2\" class=\"data row16 col2\" >495.5222</td>\n",
                            "      <td id=\"T_1e869_row16_col3\" class=\"data row16 col3\" >22.1268</td>\n",
                            "      <td id=\"T_1e869_row16_col4\" class=\"data row16 col4\" >-1.2436</td>\n",
                            "      <td id=\"T_1e869_row16_col5\" class=\"data row16 col5\" >0.9952</td>\n",
                            "      <td id=\"T_1e869_row16_col6\" class=\"data row16 col6\" >2.4233</td>\n",
                            "      <td id=\"T_1e869_row16_col7\" class=\"data row16 col7\" >0.0490</td>\n",
                            "    </tr>\n",
                            "    <tr>\n",
                            "      <th id=\"T_1e869_level0_row17\" class=\"row_heading level0 row17\" >par</th>\n",
                            "      <td id=\"T_1e869_row17_col0\" class=\"data row17 col0\" >Passive Aggressive Regressor</td>\n",
                            "      <td id=\"T_1e869_row17_col1\" class=\"data row17 col1\" >35.7103</td>\n",
                            "      <td id=\"T_1e869_row17_col2\" class=\"data row17 col2\" >1681.9600</td>\n",
                            "      <td id=\"T_1e869_row17_col3\" class=\"data row17 col3\" >38.7244</td>\n",
                            "      <td id=\"T_1e869_row17_col4\" class=\"data row17 col4\" >-6.9159</td>\n",
                            "      <td id=\"T_1e869_row17_col5\" class=\"data row17 col5\" >1.4662</td>\n",
                            "      <td id=\"T_1e869_row17_col6\" class=\"data row17 col6\" >5.8716</td>\n",
                            "      <td id=\"T_1e869_row17_col7\" class=\"data row17 col7\" >0.0420</td>\n",
                            "    </tr>\n",
                            "    <tr>\n",
                            "      <th id=\"T_1e869_level0_row18\" class=\"row_heading level0 row18\" >lar</th>\n",
                            "      <td id=\"T_1e869_row18_col0\" class=\"data row18 col0\" >Least Angle Regression</td>\n",
                            "      <td id=\"T_1e869_row18_col1\" class=\"data row18 col1\" >201.6511</td>\n",
                            "      <td id=\"T_1e869_row18_col2\" class=\"data row18 col2\" >601480.3298</td>\n",
                            "      <td id=\"T_1e869_row18_col3\" class=\"data row18 col3\" >324.8836</td>\n",
                            "      <td id=\"T_1e869_row18_col4\" class=\"data row18 col4\" >-2733.4708</td>\n",
                            "      <td id=\"T_1e869_row18_col5\" class=\"data row18 col5\" >2.0142</td>\n",
                            "      <td id=\"T_1e869_row18_col6\" class=\"data row18 col6\" >34.9880</td>\n",
                            "      <td id=\"T_1e869_row18_col7\" class=\"data row18 col7\" >0.0490</td>\n",
                            "    </tr>\n",
                            "  </tbody>\n",
                            "</table>\n"
                        ],
                        "text/plain": [
                            "<pandas.io.formats.style.Styler at 0x7f3ce4c21e10>"
                        ]
                    },
                    "metadata": {},
                    "output_type": "display_data"
                },
                {
                    "data": {
                        "application/vnd.jupyter.widget-view+json": {
                            "model_id": "16d9c4f5d70b45a6867a79ebe9643c60",
                            "version_major": 2,
                            "version_minor": 0
                        },
                        "text/plain": [
                            "Processing:   0%|          | 0/81 [00:00<?, ?it/s]"
                        ]
                    },
                    "metadata": {},
                    "output_type": "display_data"
                }
            ],
            "source": [
                "best_model_reg = py_reg.compare_models(turbo=True, sort=\"MAE\", exclude=[\"catboost\"])"
            ]
        },
        {
            "cell_type": "code",
            "execution_count": 31,
            "id": "a990669b",
            "metadata": {},
            "outputs": [
                {
                    "name": "stdout",
                    "output_type": "stream",
                    "text": [
                        "Ridge(alpha=1.0, copy_X=True, fit_intercept=True, max_iter=None, positive=False,\n",
                        "      random_state=6331, solver='auto', tol=0.0001)\n"
                    ]
                }
            ],
            "source": [
                "print(best_model_reg)"
            ]
        },
        {
            "cell_type": "markdown",
            "id": "a5d01569",
            "metadata": {},
            "source": [
                "### Create Selected Model"
            ]
        },
        {
            "cell_type": "code",
            "execution_count": 32,
            "id": "e1a2d341",
            "metadata": {},
            "outputs": [
                {
                    "data": {
                        "text/html": [],
                        "text/plain": [
                            "<IPython.core.display.HTML object>"
                        ]
                    },
                    "metadata": {},
                    "output_type": "display_data"
                },
                {
                    "data": {
                        "text/html": [
                            "<style type=\"text/css\">\n",
                            "#T_8db98_row10_col0, #T_8db98_row10_col1, #T_8db98_row10_col2, #T_8db98_row10_col3, #T_8db98_row10_col4, #T_8db98_row10_col5 {\n",
                            "  background: yellow;\n",
                            "}\n",
                            "</style>\n",
                            "<table id=\"T_8db98\">\n",
                            "  <thead>\n",
                            "    <tr>\n",
                            "      <th class=\"blank level0\" >&nbsp;</th>\n",
                            "      <th id=\"T_8db98_level0_col0\" class=\"col_heading level0 col0\" >MAE</th>\n",
                            "      <th id=\"T_8db98_level0_col1\" class=\"col_heading level0 col1\" >MSE</th>\n",
                            "      <th id=\"T_8db98_level0_col2\" class=\"col_heading level0 col2\" >RMSE</th>\n",
                            "      <th id=\"T_8db98_level0_col3\" class=\"col_heading level0 col3\" >R2</th>\n",
                            "      <th id=\"T_8db98_level0_col4\" class=\"col_heading level0 col4\" >RMSLE</th>\n",
                            "      <th id=\"T_8db98_level0_col5\" class=\"col_heading level0 col5\" >MAPE</th>\n",
                            "    </tr>\n",
                            "    <tr>\n",
                            "      <th class=\"index_name level0\" >Fold</th>\n",
                            "      <th class=\"blank col0\" >&nbsp;</th>\n",
                            "      <th class=\"blank col1\" >&nbsp;</th>\n",
                            "      <th class=\"blank col2\" >&nbsp;</th>\n",
                            "      <th class=\"blank col3\" >&nbsp;</th>\n",
                            "      <th class=\"blank col4\" >&nbsp;</th>\n",
                            "      <th class=\"blank col5\" >&nbsp;</th>\n",
                            "    </tr>\n",
                            "  </thead>\n",
                            "  <tbody>\n",
                            "    <tr>\n",
                            "      <th id=\"T_8db98_level0_row0\" class=\"row_heading level0 row0\" >0</th>\n",
                            "      <td id=\"T_8db98_row0_col0\" class=\"data row0 col0\" >13.7807</td>\n",
                            "      <td id=\"T_8db98_row0_col1\" class=\"data row0 col1\" >307.3384</td>\n",
                            "      <td id=\"T_8db98_row0_col2\" class=\"data row0 col2\" >17.5311</td>\n",
                            "      <td id=\"T_8db98_row0_col3\" class=\"data row0 col3\" >-0.3950</td>\n",
                            "      <td id=\"T_8db98_row0_col4\" class=\"data row0 col4\" >1.2256</td>\n",
                            "      <td id=\"T_8db98_row0_col5\" class=\"data row0 col5\" >1.6979</td>\n",
                            "    </tr>\n",
                            "    <tr>\n",
                            "      <th id=\"T_8db98_level0_row1\" class=\"row_heading level0 row1\" >1</th>\n",
                            "      <td id=\"T_8db98_row1_col0\" class=\"data row1 col0\" >11.0267</td>\n",
                            "      <td id=\"T_8db98_row1_col1\" class=\"data row1 col1\" >187.3829</td>\n",
                            "      <td id=\"T_8db98_row1_col2\" class=\"data row1 col2\" >13.6888</td>\n",
                            "      <td id=\"T_8db98_row1_col3\" class=\"data row1 col3\" >-0.0155</td>\n",
                            "      <td id=\"T_8db98_row1_col4\" class=\"data row1 col4\" >1.3058</td>\n",
                            "      <td id=\"T_8db98_row1_col5\" class=\"data row1 col5\" >1.1949</td>\n",
                            "    </tr>\n",
                            "    <tr>\n",
                            "      <th id=\"T_8db98_level0_row2\" class=\"row_heading level0 row2\" >2</th>\n",
                            "      <td id=\"T_8db98_row2_col0\" class=\"data row2 col0\" >11.8180</td>\n",
                            "      <td id=\"T_8db98_row2_col1\" class=\"data row2 col1\" >208.6400</td>\n",
                            "      <td id=\"T_8db98_row2_col2\" class=\"data row2 col2\" >14.4444</td>\n",
                            "      <td id=\"T_8db98_row2_col3\" class=\"data row2 col3\" >0.0550</td>\n",
                            "      <td id=\"T_8db98_row2_col4\" class=\"data row2 col4\" >1.3157</td>\n",
                            "      <td id=\"T_8db98_row2_col5\" class=\"data row2 col5\" >1.0732</td>\n",
                            "    </tr>\n",
                            "    <tr>\n",
                            "      <th id=\"T_8db98_level0_row3\" class=\"row_heading level0 row3\" >3</th>\n",
                            "      <td id=\"T_8db98_row3_col0\" class=\"data row3 col0\" >12.2200</td>\n",
                            "      <td id=\"T_8db98_row3_col1\" class=\"data row3 col1\" >264.3194</td>\n",
                            "      <td id=\"T_8db98_row3_col2\" class=\"data row3 col2\" >16.2579</td>\n",
                            "      <td id=\"T_8db98_row3_col3\" class=\"data row3 col3\" >-0.0493</td>\n",
                            "      <td id=\"T_8db98_row3_col4\" class=\"data row3 col4\" >1.2371</td>\n",
                            "      <td id=\"T_8db98_row3_col5\" class=\"data row3 col5\" >1.4120</td>\n",
                            "    </tr>\n",
                            "    <tr>\n",
                            "      <th id=\"T_8db98_level0_row4\" class=\"row_heading level0 row4\" >4</th>\n",
                            "      <td id=\"T_8db98_row4_col0\" class=\"data row4 col0\" >11.7251</td>\n",
                            "      <td id=\"T_8db98_row4_col1\" class=\"data row4 col1\" >203.6416</td>\n",
                            "      <td id=\"T_8db98_row4_col2\" class=\"data row4 col2\" >14.2703</td>\n",
                            "      <td id=\"T_8db98_row4_col3\" class=\"data row4 col3\" >0.0800</td>\n",
                            "      <td id=\"T_8db98_row4_col4\" class=\"data row4 col4\" >1.2917</td>\n",
                            "      <td id=\"T_8db98_row4_col5\" class=\"data row4 col5\" >1.0816</td>\n",
                            "    </tr>\n",
                            "    <tr>\n",
                            "      <th id=\"T_8db98_level0_row5\" class=\"row_heading level0 row5\" >5</th>\n",
                            "      <td id=\"T_8db98_row5_col0\" class=\"data row5 col0\" >10.3634</td>\n",
                            "      <td id=\"T_8db98_row5_col1\" class=\"data row5 col1\" >171.7124</td>\n",
                            "      <td id=\"T_8db98_row5_col2\" class=\"data row5 col2\" >13.1039</td>\n",
                            "      <td id=\"T_8db98_row5_col3\" class=\"data row5 col3\" >0.1198</td>\n",
                            "      <td id=\"T_8db98_row5_col4\" class=\"data row5 col4\" >1.1946</td>\n",
                            "      <td id=\"T_8db98_row5_col5\" class=\"data row5 col5\" >1.0789</td>\n",
                            "    </tr>\n",
                            "    <tr>\n",
                            "      <th id=\"T_8db98_level0_row6\" class=\"row_heading level0 row6\" >6</th>\n",
                            "      <td id=\"T_8db98_row6_col0\" class=\"data row6 col0\" >12.3453</td>\n",
                            "      <td id=\"T_8db98_row6_col1\" class=\"data row6 col1\" >237.1913</td>\n",
                            "      <td id=\"T_8db98_row6_col2\" class=\"data row6 col2\" >15.4010</td>\n",
                            "      <td id=\"T_8db98_row6_col3\" class=\"data row6 col3\" >0.0729</td>\n",
                            "      <td id=\"T_8db98_row6_col4\" class=\"data row6 col4\" >1.4645</td>\n",
                            "      <td id=\"T_8db98_row6_col5\" class=\"data row6 col5\" >0.9499</td>\n",
                            "    </tr>\n",
                            "    <tr>\n",
                            "      <th id=\"T_8db98_level0_row7\" class=\"row_heading level0 row7\" >7</th>\n",
                            "      <td id=\"T_8db98_row7_col0\" class=\"data row7 col0\" >9.6131</td>\n",
                            "      <td id=\"T_8db98_row7_col1\" class=\"data row7 col1\" >155.8291</td>\n",
                            "      <td id=\"T_8db98_row7_col2\" class=\"data row7 col2\" >12.4832</td>\n",
                            "      <td id=\"T_8db98_row7_col3\" class=\"data row7 col3\" >0.1217</td>\n",
                            "      <td id=\"T_8db98_row7_col4\" class=\"data row7 col4\" >1.2033</td>\n",
                            "      <td id=\"T_8db98_row7_col5\" class=\"data row7 col5\" >1.1248</td>\n",
                            "    </tr>\n",
                            "    <tr>\n",
                            "      <th id=\"T_8db98_level0_row8\" class=\"row_heading level0 row8\" >8</th>\n",
                            "      <td id=\"T_8db98_row8_col0\" class=\"data row8 col0\" >11.8150</td>\n",
                            "      <td id=\"T_8db98_row8_col1\" class=\"data row8 col1\" >201.8327</td>\n",
                            "      <td id=\"T_8db98_row8_col2\" class=\"data row8 col2\" >14.2068</td>\n",
                            "      <td id=\"T_8db98_row8_col3\" class=\"data row8 col3\" >0.1637</td>\n",
                            "      <td id=\"T_8db98_row8_col4\" class=\"data row8 col4\" >1.4881</td>\n",
                            "      <td id=\"T_8db98_row8_col5\" class=\"data row8 col5\" >1.1739</td>\n",
                            "    </tr>\n",
                            "    <tr>\n",
                            "      <th id=\"T_8db98_level0_row9\" class=\"row_heading level0 row9\" >9</th>\n",
                            "      <td id=\"T_8db98_row9_col0\" class=\"data row9 col0\" >11.2456</td>\n",
                            "      <td id=\"T_8db98_row9_col1\" class=\"data row9 col1\" >219.5009</td>\n",
                            "      <td id=\"T_8db98_row9_col2\" class=\"data row9 col2\" >14.8156</td>\n",
                            "      <td id=\"T_8db98_row9_col3\" class=\"data row9 col3\" >0.1078</td>\n",
                            "      <td id=\"T_8db98_row9_col4\" class=\"data row9 col4\" >1.2908</td>\n",
                            "      <td id=\"T_8db98_row9_col5\" class=\"data row9 col5\" >1.2533</td>\n",
                            "    </tr>\n",
                            "    <tr>\n",
                            "      <th id=\"T_8db98_level0_row10\" class=\"row_heading level0 row10\" >Mean</th>\n",
                            "      <td id=\"T_8db98_row10_col0\" class=\"data row10 col0\" >11.5953</td>\n",
                            "      <td id=\"T_8db98_row10_col1\" class=\"data row10 col1\" >215.7389</td>\n",
                            "      <td id=\"T_8db98_row10_col2\" class=\"data row10 col2\" >14.6203</td>\n",
                            "      <td id=\"T_8db98_row10_col3\" class=\"data row10 col3\" >0.0261</td>\n",
                            "      <td id=\"T_8db98_row10_col4\" class=\"data row10 col4\" >1.3017</td>\n",
                            "      <td id=\"T_8db98_row10_col5\" class=\"data row10 col5\" >1.2040</td>\n",
                            "    </tr>\n",
                            "    <tr>\n",
                            "      <th id=\"T_8db98_level0_row11\" class=\"row_heading level0 row11\" >Std</th>\n",
                            "      <td id=\"T_8db98_row11_col0\" class=\"data row11 col0\" >1.0833</td>\n",
                            "      <td id=\"T_8db98_row11_col1\" class=\"data row11 col1\" >42.3634</td>\n",
                            "      <td id=\"T_8db98_row11_col2\" class=\"data row11 col2\" >1.4093</td>\n",
                            "      <td id=\"T_8db98_row11_col3\" class=\"data row11 col3\" >0.1530</td>\n",
                            "      <td id=\"T_8db98_row11_col4\" class=\"data row11 col4\" >0.0963</td>\n",
                            "      <td id=\"T_8db98_row11_col5\" class=\"data row11 col5\" >0.2023</td>\n",
                            "    </tr>\n",
                            "  </tbody>\n",
                            "</table>\n"
                        ],
                        "text/plain": [
                            "<pandas.io.formats.style.Styler at 0x7f3d70bcd150>"
                        ]
                    },
                    "metadata": {},
                    "output_type": "display_data"
                },
                {
                    "data": {
                        "application/vnd.jupyter.widget-view+json": {
                            "model_id": "eead721e362d4640a0b183068533ccff",
                            "version_major": 2,
                            "version_minor": 0
                        },
                        "text/plain": [
                            "Processing:   0%|          | 0/4 [00:00<?, ?it/s]"
                        ]
                    },
                    "metadata": {},
                    "output_type": "display_data"
                }
            ],
            "source": [
                "model_reg = py_reg.create_model(\"ridge\")"
            ]
        },
        {
            "cell_type": "markdown",
            "id": "495ca315",
            "metadata": {},
            "source": [
                "### Tune Selected Model"
            ]
        },
        {
            "cell_type": "code",
            "execution_count": 33,
            "id": "04f0b126",
            "metadata": {},
            "outputs": [
                {
                    "data": {
                        "text/html": [],
                        "text/plain": [
                            "<IPython.core.display.HTML object>"
                        ]
                    },
                    "metadata": {},
                    "output_type": "display_data"
                },
                {
                    "data": {
                        "text/html": [
                            "<style type=\"text/css\">\n",
                            "#T_d5090_row10_col0, #T_d5090_row10_col1, #T_d5090_row10_col2, #T_d5090_row10_col3, #T_d5090_row10_col4, #T_d5090_row10_col5 {\n",
                            "  background: yellow;\n",
                            "}\n",
                            "</style>\n",
                            "<table id=\"T_d5090\">\n",
                            "  <thead>\n",
                            "    <tr>\n",
                            "      <th class=\"blank level0\" >&nbsp;</th>\n",
                            "      <th id=\"T_d5090_level0_col0\" class=\"col_heading level0 col0\" >MAE</th>\n",
                            "      <th id=\"T_d5090_level0_col1\" class=\"col_heading level0 col1\" >MSE</th>\n",
                            "      <th id=\"T_d5090_level0_col2\" class=\"col_heading level0 col2\" >RMSE</th>\n",
                            "      <th id=\"T_d5090_level0_col3\" class=\"col_heading level0 col3\" >R2</th>\n",
                            "      <th id=\"T_d5090_level0_col4\" class=\"col_heading level0 col4\" >RMSLE</th>\n",
                            "      <th id=\"T_d5090_level0_col5\" class=\"col_heading level0 col5\" >MAPE</th>\n",
                            "    </tr>\n",
                            "    <tr>\n",
                            "      <th class=\"index_name level0\" >Fold</th>\n",
                            "      <th class=\"blank col0\" >&nbsp;</th>\n",
                            "      <th class=\"blank col1\" >&nbsp;</th>\n",
                            "      <th class=\"blank col2\" >&nbsp;</th>\n",
                            "      <th class=\"blank col3\" >&nbsp;</th>\n",
                            "      <th class=\"blank col4\" >&nbsp;</th>\n",
                            "      <th class=\"blank col5\" >&nbsp;</th>\n",
                            "    </tr>\n",
                            "  </thead>\n",
                            "  <tbody>\n",
                            "    <tr>\n",
                            "      <th id=\"T_d5090_level0_row0\" class=\"row_heading level0 row0\" >0</th>\n",
                            "      <td id=\"T_d5090_row0_col0\" class=\"data row0 col0\" >13.8446</td>\n",
                            "      <td id=\"T_d5090_row0_col1\" class=\"data row0 col1\" >305.1386</td>\n",
                            "      <td id=\"T_d5090_row0_col2\" class=\"data row0 col2\" >17.4682</td>\n",
                            "      <td id=\"T_d5090_row0_col3\" class=\"data row0 col3\" >-0.3850</td>\n",
                            "      <td id=\"T_d5090_row0_col4\" class=\"data row0 col4\" >1.2611</td>\n",
                            "      <td id=\"T_d5090_row0_col5\" class=\"data row0 col5\" >1.6751</td>\n",
                            "    </tr>\n",
                            "    <tr>\n",
                            "      <th id=\"T_d5090_level0_row1\" class=\"row_heading level0 row1\" >1</th>\n",
                            "      <td id=\"T_d5090_row1_col0\" class=\"data row1 col0\" >10.8099</td>\n",
                            "      <td id=\"T_d5090_row1_col1\" class=\"data row1 col1\" >180.5792</td>\n",
                            "      <td id=\"T_d5090_row1_col2\" class=\"data row1 col2\" >13.4380</td>\n",
                            "      <td id=\"T_d5090_row1_col3\" class=\"data row1 col3\" >0.0214</td>\n",
                            "      <td id=\"T_d5090_row1_col4\" class=\"data row1 col4\" >1.2728</td>\n",
                            "      <td id=\"T_d5090_row1_col5\" class=\"data row1 col5\" >1.1652</td>\n",
                            "    </tr>\n",
                            "    <tr>\n",
                            "      <th id=\"T_d5090_level0_row2\" class=\"row_heading level0 row2\" >2</th>\n",
                            "      <td id=\"T_d5090_row2_col0\" class=\"data row2 col0\" >11.8503</td>\n",
                            "      <td id=\"T_d5090_row2_col1\" class=\"data row2 col1\" >210.4615</td>\n",
                            "      <td id=\"T_d5090_row2_col2\" class=\"data row2 col2\" >14.5073</td>\n",
                            "      <td id=\"T_d5090_row2_col3\" class=\"data row2 col3\" >0.0468</td>\n",
                            "      <td id=\"T_d5090_row2_col4\" class=\"data row2 col4\" >1.3531</td>\n",
                            "      <td id=\"T_d5090_row2_col5\" class=\"data row2 col5\" >1.0774</td>\n",
                            "    </tr>\n",
                            "    <tr>\n",
                            "      <th id=\"T_d5090_level0_row3\" class=\"row_heading level0 row3\" >3</th>\n",
                            "      <td id=\"T_d5090_row3_col0\" class=\"data row3 col0\" >12.0459</td>\n",
                            "      <td id=\"T_d5090_row3_col1\" class=\"data row3 col1\" >260.7423</td>\n",
                            "      <td id=\"T_d5090_row3_col2\" class=\"data row3 col2\" >16.1475</td>\n",
                            "      <td id=\"T_d5090_row3_col3\" class=\"data row3 col3\" >-0.0351</td>\n",
                            "      <td id=\"T_d5090_row3_col4\" class=\"data row3 col4\" >1.2179</td>\n",
                            "      <td id=\"T_d5090_row3_col5\" class=\"data row3 col5\" >1.3550</td>\n",
                            "    </tr>\n",
                            "    <tr>\n",
                            "      <th id=\"T_d5090_level0_row4\" class=\"row_heading level0 row4\" >4</th>\n",
                            "      <td id=\"T_d5090_row4_col0\" class=\"data row4 col0\" >11.7234</td>\n",
                            "      <td id=\"T_d5090_row4_col1\" class=\"data row4 col1\" >202.0993</td>\n",
                            "      <td id=\"T_d5090_row4_col2\" class=\"data row4 col2\" >14.2162</td>\n",
                            "      <td id=\"T_d5090_row4_col3\" class=\"data row4 col3\" >0.0870</td>\n",
                            "      <td id=\"T_d5090_row4_col4\" class=\"data row4 col4\" >1.3335</td>\n",
                            "      <td id=\"T_d5090_row4_col5\" class=\"data row4 col5\" >1.0715</td>\n",
                            "    </tr>\n",
                            "    <tr>\n",
                            "      <th id=\"T_d5090_level0_row5\" class=\"row_heading level0 row5\" >5</th>\n",
                            "      <td id=\"T_d5090_row5_col0\" class=\"data row5 col0\" >10.2156</td>\n",
                            "      <td id=\"T_d5090_row5_col1\" class=\"data row5 col1\" >167.8061</td>\n",
                            "      <td id=\"T_d5090_row5_col2\" class=\"data row5 col2\" >12.9540</td>\n",
                            "      <td id=\"T_d5090_row5_col3\" class=\"data row5 col3\" >0.1399</td>\n",
                            "      <td id=\"T_d5090_row5_col4\" class=\"data row5 col4\" >1.2700</td>\n",
                            "      <td id=\"T_d5090_row5_col5\" class=\"data row5 col5\" >1.0365</td>\n",
                            "    </tr>\n",
                            "    <tr>\n",
                            "      <th id=\"T_d5090_level0_row6\" class=\"row_heading level0 row6\" >6</th>\n",
                            "      <td id=\"T_d5090_row6_col0\" class=\"data row6 col0\" >12.4160</td>\n",
                            "      <td id=\"T_d5090_row6_col1\" class=\"data row6 col1\" >239.0653</td>\n",
                            "      <td id=\"T_d5090_row6_col2\" class=\"data row6 col2\" >15.4617</td>\n",
                            "      <td id=\"T_d5090_row6_col3\" class=\"data row6 col3\" >0.0656</td>\n",
                            "      <td id=\"T_d5090_row6_col4\" class=\"data row6 col4\" >1.4474</td>\n",
                            "      <td id=\"T_d5090_row6_col5\" class=\"data row6 col5\" >0.9461</td>\n",
                            "    </tr>\n",
                            "    <tr>\n",
                            "      <th id=\"T_d5090_level0_row7\" class=\"row_heading level0 row7\" >7</th>\n",
                            "      <td id=\"T_d5090_row7_col0\" class=\"data row7 col0\" >9.4573</td>\n",
                            "      <td id=\"T_d5090_row7_col1\" class=\"data row7 col1\" >152.8162</td>\n",
                            "      <td id=\"T_d5090_row7_col2\" class=\"data row7 col2\" >12.3619</td>\n",
                            "      <td id=\"T_d5090_row7_col3\" class=\"data row7 col3\" >0.1387</td>\n",
                            "      <td id=\"T_d5090_row7_col4\" class=\"data row7 col4\" >1.1898</td>\n",
                            "      <td id=\"T_d5090_row7_col5\" class=\"data row7 col5\" >1.0772</td>\n",
                            "    </tr>\n",
                            "    <tr>\n",
                            "      <th id=\"T_d5090_level0_row8\" class=\"row_heading level0 row8\" >8</th>\n",
                            "      <td id=\"T_d5090_row8_col0\" class=\"data row8 col0\" >11.8328</td>\n",
                            "      <td id=\"T_d5090_row8_col1\" class=\"data row8 col1\" >202.7207</td>\n",
                            "      <td id=\"T_d5090_row8_col2\" class=\"data row8 col2\" >14.2380</td>\n",
                            "      <td id=\"T_d5090_row8_col3\" class=\"data row8 col3\" >0.1600</td>\n",
                            "      <td id=\"T_d5090_row8_col4\" class=\"data row8 col4\" >1.4847</td>\n",
                            "      <td id=\"T_d5090_row8_col5\" class=\"data row8 col5\" >1.1199</td>\n",
                            "    </tr>\n",
                            "    <tr>\n",
                            "      <th id=\"T_d5090_level0_row9\" class=\"row_heading level0 row9\" >9</th>\n",
                            "      <td id=\"T_d5090_row9_col0\" class=\"data row9 col0\" >11.3875</td>\n",
                            "      <td id=\"T_d5090_row9_col1\" class=\"data row9 col1\" >222.6365</td>\n",
                            "      <td id=\"T_d5090_row9_col2\" class=\"data row9 col2\" >14.9210</td>\n",
                            "      <td id=\"T_d5090_row9_col3\" class=\"data row9 col3\" >0.0951</td>\n",
                            "      <td id=\"T_d5090_row9_col4\" class=\"data row9 col4\" >1.3697</td>\n",
                            "      <td id=\"T_d5090_row9_col5\" class=\"data row9 col5\" >1.2695</td>\n",
                            "    </tr>\n",
                            "    <tr>\n",
                            "      <th id=\"T_d5090_level0_row10\" class=\"row_heading level0 row10\" >Mean</th>\n",
                            "      <td id=\"T_d5090_row10_col0\" class=\"data row10 col0\" >11.5583</td>\n",
                            "      <td id=\"T_d5090_row10_col1\" class=\"data row10 col1\" >214.4066</td>\n",
                            "      <td id=\"T_d5090_row10_col2\" class=\"data row10 col2\" >14.5714</td>\n",
                            "      <td id=\"T_d5090_row10_col3\" class=\"data row10 col3\" >0.0334</td>\n",
                            "      <td id=\"T_d5090_row10_col4\" class=\"data row10 col4\" >1.3200</td>\n",
                            "      <td id=\"T_d5090_row10_col5\" class=\"data row10 col5\" >1.1793</td>\n",
                            "    </tr>\n",
                            "    <tr>\n",
                            "      <th id=\"T_d5090_level0_row11\" class=\"row_heading level0 row11\" >Std</th>\n",
                            "      <td id=\"T_d5090_row11_col0\" class=\"data row11 col0\" >1.1487</td>\n",
                            "      <td id=\"T_d5090_row11_col1\" class=\"data row11 col1\" >42.9743</td>\n",
                            "      <td id=\"T_d5090_row11_col2\" class=\"data row11 col2\" >1.4427</td>\n",
                            "      <td id=\"T_d5090_row11_col3\" class=\"data row11 col3\" >0.1504</td>\n",
                            "      <td id=\"T_d5090_row11_col4\" class=\"data row11 col4\" >0.0909</td>\n",
                            "      <td id=\"T_d5090_row11_col5\" class=\"data row11 col5\" >0.1989</td>\n",
                            "    </tr>\n",
                            "  </tbody>\n",
                            "</table>\n"
                        ],
                        "text/plain": [
                            "<pandas.io.formats.style.Styler at 0x7f3d572262c0>"
                        ]
                    },
                    "metadata": {},
                    "output_type": "display_data"
                },
                {
                    "data": {
                        "application/vnd.jupyter.widget-view+json": {
                            "model_id": "19030269b673429bb386c773546848cb",
                            "version_major": 2,
                            "version_minor": 0
                        },
                        "text/plain": [
                            "Processing:   0%|          | 0/7 [00:00<?, ?it/s]"
                        ]
                    },
                    "metadata": {},
                    "output_type": "display_data"
                },
                {
                    "name": "stdout",
                    "output_type": "stream",
                    "text": [
                        "Fitting 10 folds for each of 10 candidates, totalling 100 fits\n"
                    ]
                }
            ],
            "source": [
                "tuned_model_reg = py_reg.tune_model(model_reg)"
            ]
        },
        {
            "cell_type": "code",
            "execution_count": 34,
            "id": "b65c9062",
            "metadata": {},
            "outputs": [
                {
                    "name": "stdout",
                    "output_type": "stream",
                    "text": [
                        "Ridge(alpha=9.7, copy_X=True, fit_intercept=True, max_iter=None, positive=False,\n",
                        "      random_state=6331, solver='auto', tol=0.0001)\n"
                    ]
                }
            ],
            "source": [
                "print(tuned_model_reg)"
            ]
        },
        {
            "cell_type": "markdown",
            "id": "2432974d",
            "metadata": {},
            "source": [
                "### Evaluate Model"
            ]
        },
        {
            "cell_type": "code",
            "execution_count": 35,
            "id": "a45c1999",
            "metadata": {},
            "outputs": [
                {
                    "data": {
                        "application/vnd.jupyter.widget-view+json": {
                            "model_id": "5f4c2a0e0f1246bc901f377dce9fb096",
                            "version_major": 2,
                            "version_minor": 0
                        },
                        "text/plain": [
                            "interactive(children=(ToggleButtons(description='Plot Type:', icons=('',), options=(('Pipeline Plot', 'pipelin…"
                        ]
                    },
                    "metadata": {},
                    "output_type": "display_data"
                }
            ],
            "source": [
                "py_reg.evaluate_model(tuned_model_reg)"
            ]
        },
        {
            "cell_type": "code",
            "execution_count": 36,
            "id": "f5045d2a",
            "metadata": {},
            "outputs": [],
            "source": [
                "# py_reg.interpret_model(tuned_model_reg)"
            ]
        },
        {
            "cell_type": "code",
            "execution_count": 37,
            "id": "45442914",
            "metadata": {},
            "outputs": [
                {
                    "data": {
                        "text/html": [],
                        "text/plain": [
                            "<IPython.core.display.HTML object>"
                        ]
                    },
                    "metadata": {},
                    "output_type": "display_data"
                }
            ],
            "source": [
                "train_predictions_reg = py_reg.predict_model(tuned_model_reg, data=X_train)"
            ]
        },
        {
            "cell_type": "code",
            "execution_count": 38,
            "id": "bfb2148a",
            "metadata": {},
            "outputs": [
                {
                    "data": {
                        "text/html": [],
                        "text/plain": [
                            "<IPython.core.display.HTML object>"
                        ]
                    },
                    "metadata": {},
                    "output_type": "display_data"
                }
            ],
            "source": [
                "test_predictions_reg = py_reg.predict_model(tuned_model_reg, data=X_test)"
            ]
        },
        {
            "cell_type": "code",
            "execution_count": 39,
            "id": "0efece01",
            "metadata": {},
            "outputs": [],
            "source": [
                "train_mae = mean_absolute_error(train_predictions_reg[\"prediction_label\"], y_train_reg)\n",
                "train_r2 = r2_score(train_predictions_reg[\"prediction_label\"], y_train_reg)\n",
                "\n",
                "test_mae = mean_absolute_error(test_predictions_reg[\"prediction_label\"], y_test_reg)\n",
                "test_r2 = r2_score(test_predictions_reg[\"prediction_label\"], y_test_reg)"
            ]
        },
        {
            "cell_type": "code",
            "execution_count": 40,
            "id": "d6940137",
            "metadata": {},
            "outputs": [
                {
                    "name": "stdout",
                    "output_type": "stream",
                    "text": [
                        "Train MAE: 11.16\n",
                        "Train R2: -7.92\n",
                        "Test MAE: 12.54\n",
                        "Test R2: -15.88\n"
                    ]
                }
            ],
            "source": [
                "print(f\"Train MAE: {train_mae:.2f}\")\n",
                "print(f\"Train R2: {train_r2:.2f}\")\n",
                "print(f\"Test MAE: {test_mae:.2f}\")\n",
                "print(f\"Test R2: {test_r2:.2f}\")"
            ]
        },
        {
            "cell_type": "markdown",
            "id": "cd90b613",
            "metadata": {},
            "source": [
                "### Model Finalization and Storage"
            ]
        },
        {
            "cell_type": "code",
            "execution_count": 41,
            "id": "dea3db02",
            "metadata": {},
            "outputs": [],
            "source": [
                "final_model_reg = py_reg.finalize_model(tuned_model_reg)"
            ]
        },
        {
            "cell_type": "code",
            "execution_count": 42,
            "id": "59191ff3",
            "metadata": {},
            "outputs": [
                {
                    "data": {
                        "text/plain": [
                            "'Regression_Ridge_11.16_12.54_2024-01-01_19-29-29'"
                        ]
                    },
                    "execution_count": 42,
                    "metadata": {},
                    "output_type": "execute_result"
                }
            ],
            "source": [
                "problem_type = \"Regression\"\n",
                "base_model = \"Ridge\"\n",
                "train_performance = round(train_mae, 2)\n",
                "test_performance = round(test_mae, 2)\n",
                "\n",
                "model_id = f\"{problem_type}_{base_model}_{train_performance}_{test_performance}_{datetime.datetime.now().strftime('%Y-%m-%d_%H-%M-%S')}\"\n",
                "\n",
                "model_id"
            ]
        },
        {
            "cell_type": "code",
            "execution_count": 43,
            "id": "901830e7",
            "metadata": {},
            "outputs": [
                {
                    "name": "stdout",
                    "output_type": "stream",
                    "text": [
                        "Transformation Pipeline and Model Successfully Saved\n"
                    ]
                },
                {
                    "data": {
                        "text/plain": [
                            "(Pipeline(memory=FastMemory(location=/tmp/joblib),\n",
                            "          steps=[('numerical_imputer',\n",
                            "                  TransformerWrapper(exclude=None,\n",
                            "                                     include=['day_of_season', 'home_win_pct',\n",
                            "                                              'road_win_pct', 'home_win_pct_l2w',\n",
                            "                                              'road_win_pct_l2w', 'home_avg_pts',\n",
                            "                                              'road_avg_pts', 'home_avg_pts_l2w',\n",
                            "                                              'road_avg_pts_l2w',\n",
                            "                                              'home_avg_oeff', 'road_avg_oeff',\n",
                            "                                              'home_avg_oeff_l2w',\n",
                            "                                              'road_avg_oeff_l2w',\n",
                            "                                              'home_av...\n",
                            "                                                               missing_values=nan,\n",
                            "                                                               strategy='most_frequent',\n",
                            "                                                               verbose='deprecated'))),\n",
                            "                 ('clean_column_names',\n",
                            "                  TransformerWrapper(exclude=None, include=None,\n",
                            "                                     transformer=CleanColumnNames(match='[\\\\]\\\\[\\\\,\\\\{\\\\}\\\\\"\\\\:]+'))),\n",
                            "                 ('actual_estimator',\n",
                            "                  Ridge(alpha=9.7, copy_X=True, fit_intercept=True,\n",
                            "                        max_iter=None, positive=False, random_state=6331,\n",
                            "                        solver='auto', tol=0.0001))],\n",
                            "          verbose=False),\n",
                            " '../models/AutoML/Regression_Ridge_11.16_12.54_2024-01-01_19-29-29.pkl')"
                        ]
                    },
                    "execution_count": 43,
                    "metadata": {},
                    "output_type": "execute_result"
                }
            ],
            "source": [
                "py_reg.save_model(final_model_reg, f\"../models/AutoML/{model_id}\")"
            ]
        },
        {
            "cell_type": "markdown",
            "id": "7208c0df",
            "metadata": {},
            "source": [
                "<a name=\"autodl-classification\"></a>\n",
                "\n",
                "## AutoDL Classification"
            ]
        },
        {
            "cell_type": "code",
            "execution_count": 44,
            "id": "d65b4807",
            "metadata": {},
            "outputs": [],
            "source": [
                "ak_cls = ak.StructuredDataClassifier(\n",
                "    max_trials=10,\n",
                "    overwrite=True,\n",
                "    loss=\"accuracy\",\n",
                ")"
            ]
        },
        {
            "cell_type": "code",
            "execution_count": 45,
            "id": "f3996d29",
            "metadata": {},
            "outputs": [
                {
                    "name": "stdout",
                    "output_type": "stream",
                    "text": [
                        "Trial 10 Complete [00h 00m 04s]\n",
                        "val_accuracy: 0.5886076092720032\n",
                        "\n",
                        "Best val_accuracy So Far: 0.6202531456947327\n",
                        "Total elapsed time: 00h 00m 48s\n",
                        "Epoch 1/2\n",
                        "29/29 [==============================] - 1s 6ms/step - loss: 0.6945 - accuracy: 0.5194\n",
                        "Epoch 2/2\n",
                        "29/29 [==============================] - 0s 7ms/step - loss: 0.7157 - accuracy: 0.5551\n",
                        "INFO:tensorflow:Assets written to: ./structured_data_classifier/best_model/assets\n"
                    ]
                },
                {
                    "name": "stderr",
                    "output_type": "stream",
                    "text": [
                        "INFO:tensorflow:Assets written to: ./structured_data_classifier/best_model/assets\n"
                    ]
                },
                {
                    "data": {
                        "text/plain": [
                            "<keras.src.callbacks.History at 0x7f3cd0566620>"
                        ]
                    },
                    "execution_count": 45,
                    "metadata": {},
                    "output_type": "execute_result"
                }
            ],
            "source": [
                "ak_cls.fit(X_train, y_train_cls)"
            ]
        },
        {
            "cell_type": "code",
            "execution_count": 46,
            "id": "d4b8bd61",
            "metadata": {},
            "outputs": [
                {
                    "name": "stdout",
                    "output_type": "stream",
                    "text": [
                        "13/13 [==============================] - 0s 4ms/step - loss: 0.6934 - accuracy: 0.5315\n",
                        "[0.6933649182319641, 0.5314861536026001]\n"
                    ]
                }
            ],
            "source": [
                "# Evaluate the best model with testing data.\n",
                "print(ak_cls.evaluate(X_test, y_test_cls))"
            ]
        },
        {
            "cell_type": "code",
            "execution_count": 47,
            "id": "f369dde6",
            "metadata": {},
            "outputs": [
                {
                    "name": "stdout",
                    "output_type": "stream",
                    "text": [
                        "Model: \"model\"\n",
                        "_________________________________________________________________\n",
                        " Layer (type)                Output Shape              Param #   \n",
                        "=================================================================\n",
                        " input_1 (InputLayer)        [(None, 37)]              0         \n",
                        "                                                                 \n",
                        " multi_category_encoding (M  (None, 37)                0         \n",
                        " ultiCategoryEncoding)                                           \n",
                        "                                                                 \n",
                        " normalization (Normalizati  (None, 37)                75        \n",
                        " on)                                                             \n",
                        "                                                                 \n",
                        " dense (Dense)               (None, 32)                1216      \n",
                        "                                                                 \n",
                        " re_lu (ReLU)                (None, 32)                0         \n",
                        "                                                                 \n",
                        " dense_1 (Dense)             (None, 1024)              33792     \n",
                        "                                                                 \n",
                        " re_lu_1 (ReLU)              (None, 1024)              0         \n",
                        "                                                                 \n",
                        " dense_2 (Dense)             (None, 1)                 1025      \n",
                        "                                                                 \n",
                        " classification_head_1 (Act  (None, 1)                 0         \n",
                        " ivation)                                                        \n",
                        "                                                                 \n",
                        "=================================================================\n",
                        "Total params: 36108 (141.05 KB)\n",
                        "Trainable params: 36033 (140.75 KB)\n",
                        "Non-trainable params: 75 (304.00 Byte)\n",
                        "_________________________________________________________________\n"
                    ]
                }
            ],
            "source": [
                "ak_cls_model = ak_cls.export_model()\n",
                "ak_cls_model.summary()"
            ]
        },
        {
            "cell_type": "markdown",
            "id": "20dd8b44",
            "metadata": {},
            "source": [
                "<a id=evaluate></a>\n",
                "\n",
                "### Evaluate Model"
            ]
        },
        {
            "cell_type": "code",
            "execution_count": 48,
            "id": "3129d167",
            "metadata": {},
            "outputs": [
                {
                    "name": "stdout",
                    "output_type": "stream",
                    "text": [
                        "29/29 [==============================] - 0s 2ms/step\n",
                        "13/13 [==============================] - 0s 3ms/step\n"
                    ]
                }
            ],
            "source": [
                "train_pred = ak_cls_model.predict(X_train)\n",
                "test_pred = ak_cls_model.predict(X_test)"
            ]
        },
        {
            "cell_type": "code",
            "execution_count": 49,
            "id": "8f549e67",
            "metadata": {},
            "outputs": [],
            "source": [
                "train_pred = train_pred.flatten()\n",
                "train_pred_labels = [True if x > 0.5 else False for x in train_pred]"
            ]
        },
        {
            "cell_type": "code",
            "execution_count": 50,
            "id": "11b1a1b6",
            "metadata": {},
            "outputs": [],
            "source": [
                "test_pred = test_pred.flatten()\n",
                "test_pred_labels = [True if x > 0.5 else False for x in test_pred]"
            ]
        },
        {
            "cell_type": "code",
            "execution_count": 51,
            "id": "aef72043",
            "metadata": {},
            "outputs": [
                {
                    "name": "stdout",
                    "output_type": "stream",
                    "text": [
                        "Training Accuracy: 0.60\n",
                        "Training Precision: 0.56\n"
                    ]
                }
            ],
            "source": [
                "train_accuracy = accuracy_score(y_train_cls, train_pred_labels)\n",
                "train_precision = precision_score(y_train_cls, train_pred_labels)\n",
                "print(f\"Training Accuracy: {train_accuracy:.2f}\")\n",
                "print(f\"Training Precision: {train_precision:.2f}\")"
            ]
        },
        {
            "cell_type": "code",
            "execution_count": 52,
            "id": "dd7fa4d0",
            "metadata": {},
            "outputs": [
                {
                    "name": "stdout",
                    "output_type": "stream",
                    "text": [
                        "Testing Accuracy: 0.53\n",
                        "Testing Precision: 0.10\n"
                    ]
                }
            ],
            "source": [
                "test_accuracy = accuracy_score(y_test_cls, test_pred_labels)\n",
                "test_auc = precision_score(y_test_cls, test_pred_labels)\n",
                "print(f\"Testing Accuracy: {test_accuracy:.2f}\")\n",
                "print(f\"Testing Precision: {test_precision:.2f}\")"
            ]
        },
        {
            "cell_type": "markdown",
            "id": "18260e52",
            "metadata": {},
            "source": [
                "### Model Storage"
            ]
        },
        {
            "cell_type": "code",
            "execution_count": 53,
            "id": "82cee602",
            "metadata": {},
            "outputs": [
                {
                    "data": {
                        "text/plain": [
                            "'Classification_AutoKeras_60_53_2024-01-01_19-30-28'"
                        ]
                    },
                    "execution_count": 53,
                    "metadata": {},
                    "output_type": "execute_result"
                }
            ],
            "source": [
                "problem_type = \"Classification\"\n",
                "base_model = \"AutoKeras\"\n",
                "train_performance = round(train_accuracy * 100)\n",
                "test_performance = round(test_accuracy * 100)\n",
                "\n",
                "model_id = f\"{problem_type}_{base_model}_{train_performance}_{test_performance}_{datetime.datetime.now().strftime('%Y-%m-%d_%H-%M-%S')}\"\n",
                "\n",
                "model_id"
            ]
        },
        {
            "cell_type": "code",
            "execution_count": 54,
            "id": "42e6d79b",
            "metadata": {},
            "outputs": [
                {
                    "name": "stdout",
                    "output_type": "stream",
                    "text": [
                        "INFO:tensorflow:Assets written to: ../models/AutoDL/Classification_AutoKeras_60_53_2024-01-01_19-30-28/assets\n"
                    ]
                },
                {
                    "name": "stderr",
                    "output_type": "stream",
                    "text": [
                        "INFO:tensorflow:Assets written to: ../models/AutoDL/Classification_AutoKeras_60_53_2024-01-01_19-30-28/assets\n"
                    ]
                }
            ],
            "source": [
                "ak_cls_model.save(f\"../models/AutoDL/{model_id}\", save_format=\"tf\")"
            ]
        },
        {
            "cell_type": "markdown",
            "id": "4dd2b3f3",
            "metadata": {},
            "source": [
                "<a name=\"autodl-regression\"></a>\n",
                "\n",
                "## AutoDL Regression"
            ]
        },
        {
            "cell_type": "code",
            "execution_count": 55,
            "id": "0c110b56",
            "metadata": {},
            "outputs": [],
            "source": [
                "ak_reg = ak.StructuredDataRegressor(\n",
                "    max_trials=10,\n",
                "    overwrite=True,\n",
                "    loss=\"mae\",\n",
                ")"
            ]
        },
        {
            "cell_type": "code",
            "execution_count": 56,
            "id": "93c4635b",
            "metadata": {},
            "outputs": [
                {
                    "name": "stdout",
                    "output_type": "stream",
                    "text": [
                        "Trial 10 Complete [00h 00m 12s]\n",
                        "val_loss: 11.725468635559082\n",
                        "\n",
                        "Best val_loss So Far: 11.679612159729004\n",
                        "Total elapsed time: 00h 01m 40s\n",
                        "Epoch 1/41\n",
                        "29/29 [==============================] - 1s 3ms/step - loss: 12.0842 - mean_squared_error: 225.8917\n",
                        "Epoch 2/41\n",
                        "29/29 [==============================] - 0s 3ms/step - loss: 11.9971 - mean_squared_error: 223.4329\n",
                        "Epoch 3/41\n",
                        "29/29 [==============================] - 0s 3ms/step - loss: 11.9505 - mean_squared_error: 222.5226\n",
                        "Epoch 4/41\n",
                        "29/29 [==============================] - 0s 3ms/step - loss: 11.8750 - mean_squared_error: 218.9745\n",
                        "Epoch 5/41\n",
                        "29/29 [==============================] - 0s 3ms/step - loss: 11.8296 - mean_squared_error: 217.7907\n",
                        "Epoch 6/41\n",
                        "29/29 [==============================] - 0s 4ms/step - loss: 11.8022 - mean_squared_error: 217.2825\n",
                        "Epoch 7/41\n",
                        "29/29 [==============================] - 0s 3ms/step - loss: 11.6391 - mean_squared_error: 213.1046\n",
                        "Epoch 8/41\n",
                        "29/29 [==============================] - 0s 3ms/step - loss: 11.5639 - mean_squared_error: 212.1905\n",
                        "Epoch 9/41\n",
                        "29/29 [==============================] - 0s 3ms/step - loss: 11.4912 - mean_squared_error: 209.4219\n",
                        "Epoch 10/41\n",
                        "29/29 [==============================] - 0s 3ms/step - loss: 11.3268 - mean_squared_error: 207.5763\n",
                        "Epoch 11/41\n",
                        "29/29 [==============================] - 0s 2ms/step - loss: 11.2940 - mean_squared_error: 206.8463\n",
                        "Epoch 12/41\n",
                        "29/29 [==============================] - 0s 3ms/step - loss: 11.1874 - mean_squared_error: 202.8399\n",
                        "Epoch 13/41\n",
                        "29/29 [==============================] - 0s 2ms/step - loss: 11.2413 - mean_squared_error: 204.8792\n",
                        "Epoch 14/41\n",
                        "29/29 [==============================] - 0s 2ms/step - loss: 11.1027 - mean_squared_error: 201.8756\n",
                        "Epoch 15/41\n",
                        "29/29 [==============================] - 0s 2ms/step - loss: 11.1045 - mean_squared_error: 202.6759\n",
                        "Epoch 16/41\n",
                        "29/29 [==============================] - 0s 3ms/step - loss: 11.0704 - mean_squared_error: 202.8205\n",
                        "Epoch 17/41\n",
                        "29/29 [==============================] - 0s 2ms/step - loss: 11.0475 - mean_squared_error: 199.6456\n",
                        "Epoch 18/41\n",
                        "29/29 [==============================] - 0s 3ms/step - loss: 10.9602 - mean_squared_error: 197.2932\n",
                        "Epoch 19/41\n",
                        "29/29 [==============================] - 0s 3ms/step - loss: 11.0065 - mean_squared_error: 200.7573\n",
                        "Epoch 20/41\n",
                        "29/29 [==============================] - 0s 5ms/step - loss: 10.9181 - mean_squared_error: 197.7948\n",
                        "Epoch 21/41\n",
                        "29/29 [==============================] - 0s 7ms/step - loss: 10.8227 - mean_squared_error: 194.2103\n",
                        "Epoch 22/41\n",
                        "29/29 [==============================] - 0s 2ms/step - loss: 10.8700 - mean_squared_error: 195.4521\n",
                        "Epoch 23/41\n",
                        "29/29 [==============================] - 0s 2ms/step - loss: 10.8726 - mean_squared_error: 196.0361\n",
                        "Epoch 24/41\n",
                        "29/29 [==============================] - 0s 2ms/step - loss: 10.8712 - mean_squared_error: 197.9989\n",
                        "Epoch 25/41\n",
                        "29/29 [==============================] - 0s 2ms/step - loss: 10.7524 - mean_squared_error: 194.7778\n",
                        "Epoch 26/41\n",
                        "29/29 [==============================] - 0s 3ms/step - loss: 10.7623 - mean_squared_error: 193.8560\n",
                        "Epoch 27/41\n",
                        "29/29 [==============================] - 0s 4ms/step - loss: 10.7657 - mean_squared_error: 195.0048\n",
                        "Epoch 28/41\n",
                        "29/29 [==============================] - 0s 3ms/step - loss: 10.6470 - mean_squared_error: 191.3240\n",
                        "Epoch 29/41\n",
                        "29/29 [==============================] - 0s 2ms/step - loss: 10.7554 - mean_squared_error: 194.8872\n",
                        "Epoch 30/41\n",
                        "29/29 [==============================] - 0s 2ms/step - loss: 10.6571 - mean_squared_error: 190.8399\n",
                        "Epoch 31/41\n",
                        "29/29 [==============================] - 0s 2ms/step - loss: 10.6333 - mean_squared_error: 191.3112\n",
                        "Epoch 32/41\n",
                        "29/29 [==============================] - 0s 3ms/step - loss: 10.7163 - mean_squared_error: 192.9184\n",
                        "Epoch 33/41\n",
                        "29/29 [==============================] - 0s 3ms/step - loss: 10.7143 - mean_squared_error: 195.4719\n",
                        "Epoch 34/41\n",
                        "29/29 [==============================] - 0s 3ms/step - loss: 10.6420 - mean_squared_error: 190.2638\n",
                        "Epoch 35/41\n",
                        "29/29 [==============================] - 0s 2ms/step - loss: 10.5953 - mean_squared_error: 191.1607\n",
                        "Epoch 36/41\n",
                        "29/29 [==============================] - 0s 5ms/step - loss: 10.4681 - mean_squared_error: 186.3330\n",
                        "Epoch 37/41\n",
                        "29/29 [==============================] - 0s 2ms/step - loss: 10.5433 - mean_squared_error: 190.8958\n",
                        "Epoch 38/41\n",
                        "29/29 [==============================] - 0s 5ms/step - loss: 10.5024 - mean_squared_error: 188.3194\n",
                        "Epoch 39/41\n",
                        "29/29 [==============================] - 0s 6ms/step - loss: 10.6125 - mean_squared_error: 192.2368\n",
                        "Epoch 40/41\n",
                        "29/29 [==============================] - 0s 3ms/step - loss: 10.5469 - mean_squared_error: 189.1595\n",
                        "Epoch 41/41\n",
                        "29/29 [==============================] - 0s 3ms/step - loss: 10.4371 - mean_squared_error: 186.4505\n",
                        "INFO:tensorflow:Assets written to: ./structured_data_regressor/best_model/assets\n"
                    ]
                },
                {
                    "name": "stderr",
                    "output_type": "stream",
                    "text": [
                        "INFO:tensorflow:Assets written to: ./structured_data_regressor/best_model/assets\n"
                    ]
                },
                {
                    "data": {
                        "text/plain": [
                            "<keras.src.callbacks.History at 0x7f3d06a3ab60>"
                        ]
                    },
                    "execution_count": 56,
                    "metadata": {},
                    "output_type": "execute_result"
                }
            ],
            "source": [
                "ak_reg.fit(X_train, y_train_reg)"
            ]
        },
        {
            "cell_type": "code",
            "execution_count": 57,
            "id": "fe00c53f",
            "metadata": {},
            "outputs": [
                {
                    "name": "stdout",
                    "output_type": "stream",
                    "text": [
                        "13/13 [==============================] - 0s 2ms/step - loss: 12.1797 - mean_squared_error: 243.3804\n",
                        "[12.179737091064453, 243.3804473876953]\n"
                    ]
                }
            ],
            "source": [
                "print(ak_reg.evaluate(X_test, y_test_reg))"
            ]
        },
        {
            "cell_type": "code",
            "execution_count": 58,
            "id": "379f9994",
            "metadata": {},
            "outputs": [
                {
                    "name": "stdout",
                    "output_type": "stream",
                    "text": [
                        "Model: \"model\"\n",
                        "_________________________________________________________________\n",
                        " Layer (type)                Output Shape              Param #   \n",
                        "=================================================================\n",
                        " input_1 (InputLayer)        [(None, 37)]              0         \n",
                        "                                                                 \n",
                        " multi_category_encoding (M  (None, 37)                0         \n",
                        " ultiCategoryEncoding)                                           \n",
                        "                                                                 \n",
                        " normalization (Normalizati  (None, 37)                75        \n",
                        " on)                                                             \n",
                        "                                                                 \n",
                        " dense (Dense)               (None, 32)                1216      \n",
                        "                                                                 \n",
                        " re_lu (ReLU)                (None, 32)                0         \n",
                        "                                                                 \n",
                        " dense_1 (Dense)             (None, 32)                1056      \n",
                        "                                                                 \n",
                        " re_lu_1 (ReLU)              (None, 32)                0         \n",
                        "                                                                 \n",
                        " dropout (Dropout)           (None, 32)                0         \n",
                        "                                                                 \n",
                        " regression_head_1 (Dense)   (None, 1)                 33        \n",
                        "                                                                 \n",
                        "=================================================================\n",
                        "Total params: 2380 (9.30 KB)\n",
                        "Trainable params: 2305 (9.00 KB)\n",
                        "Non-trainable params: 75 (304.00 Byte)\n",
                        "_________________________________________________________________\n"
                    ]
                }
            ],
            "source": [
                "ak_reg_model = ak_reg.export_model()\n",
                "ak_reg_model.summary()"
            ]
        },
        {
            "cell_type": "markdown",
            "id": "dbfa7391",
            "metadata": {},
            "source": [
                "<a id=evaluate></a>\n",
                "\n",
                "### Evaluate Model"
            ]
        },
        {
            "cell_type": "code",
            "execution_count": 59,
            "id": "b872a569",
            "metadata": {},
            "outputs": [
                {
                    "name": "stdout",
                    "output_type": "stream",
                    "text": [
                        "29/29 [==============================] - 0s 3ms/step\n",
                        "13/13 [==============================] - 0s 2ms/step\n"
                    ]
                }
            ],
            "source": [
                "train_pred = ak_reg_model.predict(X_train)\n",
                "test_pred = ak_reg_model.predict(X_test)"
            ]
        },
        {
            "cell_type": "code",
            "execution_count": 60,
            "id": "b884561e",
            "metadata": {},
            "outputs": [
                {
                    "name": "stdout",
                    "output_type": "stream",
                    "text": [
                        "Training MAE: 10.25\n",
                        "Training R2: 0.18\n"
                    ]
                }
            ],
            "source": [
                "train_mae = mean_absolute_error(y_train_reg, train_pred)\n",
                "train_r2 = r2_score(y_train_reg, train_pred)\n",
                "print(f\"Training MAE: {train_mae:.2f}\")\n",
                "print(f\"Training R2: {train_r2:.2f}\")"
            ]
        },
        {
            "cell_type": "code",
            "execution_count": 61,
            "id": "bed2eea5",
            "metadata": {},
            "outputs": [
                {
                    "name": "stdout",
                    "output_type": "stream",
                    "text": [
                        "Testing MAE: 12.18\n",
                        "Testing R2: 0.06\n"
                    ]
                }
            ],
            "source": [
                "test_mae = mean_absolute_error(y_test_reg, test_pred)\n",
                "test_r2 = r2_score(y_test_reg, test_pred)\n",
                "print(f\"Testing MAE: {test_mae:.2f}\")\n",
                "print(f\"Testing R2: {test_r2:.2f}\")"
            ]
        },
        {
            "cell_type": "markdown",
            "id": "7f45f1f2",
            "metadata": {},
            "source": [
                "### Model Storage"
            ]
        },
        {
            "cell_type": "code",
            "execution_count": 62,
            "id": "1df08d8b",
            "metadata": {},
            "outputs": [
                {
                    "data": {
                        "text/plain": [
                            "'Regression_AutoKeras_10.25_12.18_2024-01-01_19-32-22'"
                        ]
                    },
                    "execution_count": 62,
                    "metadata": {},
                    "output_type": "execute_result"
                }
            ],
            "source": [
                "problem_type = \"Regression\"\n",
                "base_model = \"AutoKeras\"\n",
                "train_performance = round(train_mae, 2)\n",
                "test_performance = round(test_mae, 2)\n",
                "\n",
                "model_id = f\"{problem_type}_{base_model}_{train_performance}_{test_performance}_{datetime.datetime.now().strftime('%Y-%m-%d_%H-%M-%S')}\"\n",
                "\n",
                "model_id"
            ]
        },
        {
            "cell_type": "code",
            "execution_count": 63,
            "id": "427bb9d5",
            "metadata": {},
            "outputs": [
                {
                    "name": "stdout",
                    "output_type": "stream",
                    "text": [
                        "INFO:tensorflow:Assets written to: ../models/AutoDL/Regression_AutoKeras_10.25_12.18_2024-01-01_19-32-22/assets\n"
                    ]
                },
                {
                    "name": "stderr",
                    "output_type": "stream",
                    "text": [
                        "INFO:tensorflow:Assets written to: ../models/AutoDL/Regression_AutoKeras_10.25_12.18_2024-01-01_19-32-22/assets\n"
                    ]
                }
            ],
            "source": [
                "ak_reg_model.save(f\"../models/AutoDL/{model_id}\", save_format=\"tf\")"
            ]
        }
    ],
    "metadata": {
        "kernelspec": {
            "display_name": "Python 3 (ipykernel)",
            "language": "python",
            "name": "python3"
        },
        "language_info": {
            "codemirror_mode": {
                "name": "ipython",
                "version": 3
            },
            "file_extension": ".py",
            "mimetype": "text/x-python",
            "name": "python",
            "nbconvert_exporter": "python",
            "pygments_lexer": "ipython3",
            "version": "3.10.12"
        }
    },
    "nbformat": 4,
    "nbformat_minor": 5
}
