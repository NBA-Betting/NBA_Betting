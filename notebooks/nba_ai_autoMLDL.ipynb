{
    "cells": [
        {
            "attachments": {},
            "cell_type": "markdown",
            "id": "51bb7a2e",
            "metadata": {},
            "source": [
                "# NBA AI - AutoML and AutoDL"
            ]
        },
        {
            "attachments": {},
            "cell_type": "markdown",
            "id": "comparative-marathon",
            "metadata": {},
            "source": [
                "PyCaret\n",
                "* Main Site - https://pycaret.org/\n",
                "* Docs - https://pycaret.readthedocs.io/en/latest/\n",
                "\n",
                "AutoKeras\n",
                "* Main Site - https://autokeras.com/"
            ]
        },
        {
            "cell_type": "markdown",
            "id": "2b0502cd",
            "metadata": {},
            "source": [
                "## Table of Contents\n",
                "\n",
                "* [Data Setup](#data-setup)\n",
                "* [AutoML Classification](#automl-classification)\n",
                "* [AutoML Regression](#automl-regression)\n",
                "* [AutoDL Classification](#autodl-classification)\n",
                "* [AutoDL Regression](#autodl-regression)"
            ]
        },
        {
            "attachments": {},
            "cell_type": "markdown",
            "id": "residential-geneva",
            "metadata": {},
            "source": [
                "### Imports and Global Settings"
            ]
        },
        {
            "cell_type": "code",
            "execution_count": 1,
            "id": "chinese-single",
            "metadata": {},
            "outputs": [
                {
                    "name": "stdout",
                    "output_type": "stream",
                    "text": [
                        "Using TensorFlow backend\n"
                    ]
                },
                {
                    "name": "stderr",
                    "output_type": "stream",
                    "text": [
                        "2024-01-25 22:03:55.401063: I tensorflow/tsl/cuda/cudart_stub.cc:28] Could not find cuda drivers on your machine, GPU will not be used.\n",
                        "2024-01-25 22:03:55.456585: I tensorflow/tsl/cuda/cudart_stub.cc:28] Could not find cuda drivers on your machine, GPU will not be used.\n",
                        "2024-01-25 22:03:55.457907: I tensorflow/core/platform/cpu_feature_guard.cc:182] This TensorFlow binary is optimized to use available CPU instructions in performance-critical operations.\n",
                        "To enable the following instructions: AVX2 FMA, in other operations, rebuild TensorFlow with the appropriate compiler flags.\n",
                        "2024-01-25 22:03:56.446741: W tensorflow/compiler/tf2tensorrt/utils/py_utils.cc:38] TF-TRT Warning: Could not find TensorRT\n"
                    ]
                }
            ],
            "source": [
                "import datetime\n",
                "import pandas as pd\n",
                "import numpy as np\n",
                "from pycaret.classification import ClassificationExperiment\n",
                "from pycaret.regression import RegressionExperiment\n",
                "import autokeras as ak\n",
                "from sklearn.model_selection import train_test_split\n",
                "from sklearn.metrics import (\n",
                "    r2_score,\n",
                "    mean_absolute_error,\n",
                "    accuracy_score,\n",
                "    precision_score,\n",
                ")\n",
                "\n",
                "# Pandas Settings\n",
                "pd.set_option(\"display.max_columns\", 1000)\n",
                "pd.set_option(\"display.max_rows\", 1000)\n",
                "pd.options.display.max_info_columns = 200\n",
                "pd.options.display.precision = 5"
            ]
        },
        {
            "attachments": {},
            "cell_type": "markdown",
            "id": "ready-routine",
            "metadata": {},
            "source": [
                "### Load Data"
            ]
        },
        {
            "cell_type": "code",
            "execution_count": 2,
            "id": "annual-chest",
            "metadata": {},
            "outputs": [],
            "source": [
                "df_2021_2022 = pd.read_csv(\"../data/nba_ai/cleaned_data_2021-2022.csv\")\n",
                "df_2022_2023 = pd.read_csv(\"../data/nba_ai/cleaned_data_2022-2023.csv\")"
            ]
        },
        {
            "attachments": {},
            "cell_type": "markdown",
            "id": "adb5a0e5",
            "metadata": {},
            "source": [
                "<a name=\"data-setup\"></a>\n",
                "\n",
                "## Data Preparation"
            ]
        },
        {
            "cell_type": "markdown",
            "id": "15187561",
            "metadata": {},
            "source": [
                "### Train Test Split"
            ]
        },
        {
            "cell_type": "code",
            "execution_count": 3,
            "id": "e36e93d3",
            "metadata": {},
            "outputs": [],
            "source": [
                "def prepare_datasets(train_df, cls_target, reg_target, test_df=None, test_size=0.3):\n",
                "    \"\"\"\n",
                "    Prepares datasets for training and testing for both classification and regression targets,\n",
                "    ensuring time-sensitive splitting based on a 'date' column.\n",
                "\n",
                "    Parameters:\n",
                "    train_df (DataFrame): The training dataframe.\n",
                "    cls_target (str): The name of the classification target column.\n",
                "    reg_target (str): The name of the regression target column.\n",
                "    test_df (DataFrame, optional): An optional testing dataframe. If not provided, a portion of the training data is used.\n",
                "    test_size (float, optional): The proportion of the dataset to include in the test split (if test_df is not provided).\n",
                "\n",
                "    Returns:\n",
                "    tuple: A tuple containing six dataframes:\n",
                "           (X_train, X_test, y_train_cls, y_test_cls, y_train_reg, y_test_reg).\n",
                "    \"\"\"\n",
                "\n",
                "    # Sort the dataframe based on the 'date' column\n",
                "    train_df = train_df.sort_values(by=\"date\")\n",
                "\n",
                "    # If a test dataframe is not provided, split the training dataframe\n",
                "    if test_df is None:\n",
                "        X_train, X_test, y_train, y_test = train_test_split(\n",
                "            train_df.drop([cls_target, reg_target], axis=1),\n",
                "            train_df[[cls_target, reg_target]],\n",
                "            test_size=test_size,\n",
                "            shuffle=False,  # Important to maintain time order\n",
                "        )\n",
                "    else:\n",
                "        # If a test dataframe is provided, ensure it is also sorted by date\n",
                "        test_df = test_df.sort_values(by=\"date\")\n",
                "\n",
                "        # Use provided test dataframe and separate features and targets\n",
                "        X_train = train_df.drop([cls_target, reg_target], axis=1)\n",
                "        y_train = train_df[[cls_target, reg_target]]\n",
                "        X_test = test_df.drop([cls_target, reg_target], axis=1)\n",
                "        y_test = test_df[[cls_target, reg_target]]\n",
                "\n",
                "    # Separate classification and regression targets\n",
                "    y_train_cls = y_train[[cls_target]]\n",
                "    y_train_reg = y_train[[reg_target]]\n",
                "    y_test_cls = y_test[[cls_target]]\n",
                "    y_test_reg = y_test[[reg_target]]\n",
                "\n",
                "    return X_train, X_test, y_train_cls, y_test_cls, y_train_reg, y_test_reg"
            ]
        },
        {
            "cell_type": "code",
            "execution_count": 4,
            "id": "9d81f7c2",
            "metadata": {},
            "outputs": [],
            "source": [
                "X_train, X_test, y_train_cls, y_test_cls, y_train_reg, y_test_reg = prepare_datasets(\n",
                "    df_2021_2022, \"CLS_TARGET\", \"REG_TARGET\", test_df=df_2022_2023\n",
                ")"
            ]
        },
        {
            "cell_type": "markdown",
            "id": "3ab2a0af",
            "metadata": {},
            "source": [
                "### Features"
            ]
        },
        {
            "cell_type": "code",
            "execution_count": 5,
            "id": "c737d5b1",
            "metadata": {},
            "outputs": [],
            "source": [
                "betting_feature_set = [\n",
                "    \"home_opening_spread\",\n",
                "    \"opening_total\",\n",
                "    \"home_moneyline\",\n",
                "    \"road_moneyline\",\n",
                "]\n",
                "\n",
                "base_feature_set = [\n",
                "    \"day_of_season\",\n",
                "    \"home_team_rest\",\n",
                "    \"road_team_rest\",\n",
                "    \"home_win_pct\",\n",
                "    \"road_win_pct\",\n",
                "    \"home_win_pct_l2w\",\n",
                "    \"road_win_pct_l2w\",\n",
                "    \"home_avg_pts\",\n",
                "    \"road_avg_pts\",\n",
                "    \"home_avg_pts_l2w\",\n",
                "    \"road_avg_pts_l2w\",\n",
                "    \"home_avg_oeff\",\n",
                "    \"road_avg_oeff\",\n",
                "    \"home_avg_oeff_l2w\",\n",
                "    \"road_avg_oeff_l2w\",\n",
                "    \"home_avg_deff\",\n",
                "    \"road_avg_deff\",\n",
                "    \"home_avg_deff_l2w\",\n",
                "    \"road_avg_deff_l2w\",\n",
                "    \"home_avg_eFG%\",\n",
                "    \"road_avg_eFG%\",\n",
                "    \"home_avg_eFG%_l2w\",\n",
                "    \"road_avg_eFG%_l2w\",\n",
                "    \"home_avg_TOV%\",\n",
                "    \"road_avg_TOV%\",\n",
                "    \"home_avg_TOV%_l2w\",\n",
                "    \"road_avg_TOV%_l2w\",\n",
                "    \"home_avg_ORB%\",\n",
                "    \"road_avg_ORB%\",\n",
                "    \"home_avg_ORB%_l2w\",\n",
                "    \"road_avg_ORB%_l2w\",\n",
                "    \"home_avg_FT%\",\n",
                "    \"road_avg_FT%\",\n",
                "    \"home_avg_FT%_l2w\",\n",
                "    \"road_avg_FT%_l2w\",\n",
                "    \"home_avg_pts_allowed\",\n",
                "    \"road_avg_pts_allowed\",\n",
                "    \"home_avg_pts_allowed_l2w\",\n",
                "    \"road_avg_pts_allowed_l2w\",\n",
                "]\n",
                "\n",
                "lineup_vectors = [\"home_lineup_vector\", \"road_lineup_vector\"]"
            ]
        },
        {
            "cell_type": "code",
            "execution_count": 6,
            "id": "9f846ed5",
            "metadata": {},
            "outputs": [],
            "source": [
                "features = base_feature_set"
            ]
        },
        {
            "cell_type": "code",
            "execution_count": 7,
            "id": "4c2a424a",
            "metadata": {},
            "outputs": [],
            "source": [
                "def flatten_vector_columns(df, vector_columns):\n",
                "    \"\"\"\n",
                "    Flatten vector columns into separate feature columns.\n",
                "\n",
                "    This function takes a DataFrame and a list of column names that store vector data as strings\n",
                "    (typically after being read from a CSV file), and returns a new DataFrame where the vectors\n",
                "    have been flattened into separate feature columns.\n",
                "\n",
                "    Parameters:\n",
                "    df (pandas.DataFrame): The input DataFrame.\n",
                "    vector_columns (list): A list of column names in df that store vector data as strings.\n",
                "\n",
                "    Returns:\n",
                "    pandas.DataFrame: The DataFrame with vector columns flattened.\n",
                "    \"\"\"\n",
                "    for column in vector_columns:\n",
                "        if column not in df.columns:\n",
                "            continue\n",
                "        # Convert the string representation of the vector into a numpy array\n",
                "        df[column] = df[column].apply(\n",
                "            lambda x: np.array(x.strip(\"[]\").replace(\"\\n\", \" \").split(), dtype=float)\n",
                "        )\n",
                "\n",
                "        # Flatten the numpy array into separate columns\n",
                "        vector_df = pd.DataFrame(df[column].tolist(), index=df.index)\n",
                "        vector_df.columns = [f\"{column}_{i}\" for i in range(vector_df.shape[1])]\n",
                "\n",
                "        # Drop the original vector column and concatenate the new DataFrame\n",
                "        df = df.drop(column, axis=1)\n",
                "        df = pd.concat([df, vector_df], axis=1)\n",
                "\n",
                "    return df"
            ]
        },
        {
            "cell_type": "code",
            "execution_count": 8,
            "id": "5e7973bb",
            "metadata": {},
            "outputs": [],
            "source": [
                "X_train = X_train[features]\n",
                "X_test = X_test[features]"
            ]
        },
        {
            "cell_type": "code",
            "execution_count": 9,
            "id": "5b8c35d8",
            "metadata": {},
            "outputs": [],
            "source": [
                "# Flatten lineup vectors\n",
                "X_train = flatten_vector_columns(X_train, lineup_vectors)\n",
                "X_test = flatten_vector_columns(X_test, lineup_vectors)"
            ]
        },
        {
            "cell_type": "markdown",
            "id": "30fec5a8",
            "metadata": {},
            "source": [
                "### Combined Data"
            ]
        },
        {
            "cell_type": "code",
            "execution_count": 10,
            "id": "64f8f8c5",
            "metadata": {},
            "outputs": [],
            "source": [
                "combined_train_df = pd.concat([X_train, y_train_cls, y_train_reg], axis=1)\n",
                "combined_test_df = pd.concat([X_test, y_test_cls, y_test_reg], axis=1)"
            ]
        },
        {
            "cell_type": "code",
            "execution_count": 11,
            "id": "8165bd78",
            "metadata": {},
            "outputs": [
                {
                    "name": "stdout",
                    "output_type": "stream",
                    "text": [
                        "<class 'pandas.core.frame.DataFrame'>\n",
                        "Int64Index: 1323 entries, 0 to 1322\n",
                        "Data columns (total 41 columns):\n",
                        " #   Column                    Non-Null Count  Dtype  \n",
                        "---  ------                    --------------  -----  \n",
                        " 0   day_of_season             1323 non-null   int64  \n",
                        " 1   home_team_rest            1323 non-null   int64  \n",
                        " 2   road_team_rest            1323 non-null   int64  \n",
                        " 3   home_win_pct              1323 non-null   float64\n",
                        " 4   road_win_pct              1323 non-null   float64\n",
                        " 5   home_win_pct_l2w          1323 non-null   float64\n",
                        " 6   road_win_pct_l2w          1323 non-null   float64\n",
                        " 7   home_avg_pts              1323 non-null   float64\n",
                        " 8   road_avg_pts              1323 non-null   float64\n",
                        " 9   home_avg_pts_l2w          1323 non-null   float64\n",
                        " 10  road_avg_pts_l2w          1323 non-null   float64\n",
                        " 11  home_avg_oeff             1323 non-null   float64\n",
                        " 12  road_avg_oeff             1323 non-null   float64\n",
                        " 13  home_avg_oeff_l2w         1323 non-null   float64\n",
                        " 14  road_avg_oeff_l2w         1323 non-null   float64\n",
                        " 15  home_avg_deff             1323 non-null   float64\n",
                        " 16  road_avg_deff             1323 non-null   float64\n",
                        " 17  home_avg_deff_l2w         1323 non-null   float64\n",
                        " 18  road_avg_deff_l2w         1323 non-null   float64\n",
                        " 19  home_avg_eFG%             1323 non-null   float64\n",
                        " 20  road_avg_eFG%             1323 non-null   float64\n",
                        " 21  home_avg_eFG%_l2w         1323 non-null   float64\n",
                        " 22  road_avg_eFG%_l2w         1323 non-null   float64\n",
                        " 23  home_avg_TOV%             1323 non-null   float64\n",
                        " 24  road_avg_TOV%             1323 non-null   float64\n",
                        " 25  home_avg_TOV%_l2w         1323 non-null   float64\n",
                        " 26  road_avg_TOV%_l2w         1323 non-null   float64\n",
                        " 27  home_avg_ORB%             1323 non-null   float64\n",
                        " 28  road_avg_ORB%             1323 non-null   float64\n",
                        " 29  home_avg_ORB%_l2w         1323 non-null   float64\n",
                        " 30  road_avg_ORB%_l2w         1323 non-null   float64\n",
                        " 31  home_avg_FT%              1323 non-null   float64\n",
                        " 32  road_avg_FT%              1323 non-null   float64\n",
                        " 33  home_avg_FT%_l2w          1323 non-null   float64\n",
                        " 34  road_avg_FT%_l2w          1323 non-null   float64\n",
                        " 35  home_avg_pts_allowed      1323 non-null   float64\n",
                        " 36  road_avg_pts_allowed      1323 non-null   float64\n",
                        " 37  home_avg_pts_allowed_l2w  1323 non-null   float64\n",
                        " 38  road_avg_pts_allowed_l2w  1323 non-null   float64\n",
                        " 39  CLS_TARGET                1323 non-null   bool   \n",
                        " 40  REG_TARGET                1323 non-null   int64  \n",
                        "dtypes: bool(1), float64(36), int64(4)\n",
                        "memory usage: 425.1 KB\n"
                    ]
                }
            ],
            "source": [
                "combined_train_df.info(verbose=True)"
            ]
        },
        {
            "cell_type": "code",
            "execution_count": 12,
            "id": "8545214b",
            "metadata": {},
            "outputs": [
                {
                    "name": "stdout",
                    "output_type": "stream",
                    "text": [
                        "<class 'pandas.core.frame.DataFrame'>\n",
                        "Int64Index: 1320 entries, 0 to 1319\n",
                        "Data columns (total 41 columns):\n",
                        " #   Column                    Non-Null Count  Dtype  \n",
                        "---  ------                    --------------  -----  \n",
                        " 0   day_of_season             1320 non-null   int64  \n",
                        " 1   home_team_rest            1320 non-null   int64  \n",
                        " 2   road_team_rest            1320 non-null   int64  \n",
                        " 3   home_win_pct              1320 non-null   float64\n",
                        " 4   road_win_pct              1320 non-null   float64\n",
                        " 5   home_win_pct_l2w          1320 non-null   float64\n",
                        " 6   road_win_pct_l2w          1320 non-null   float64\n",
                        " 7   home_avg_pts              1320 non-null   float64\n",
                        " 8   road_avg_pts              1320 non-null   float64\n",
                        " 9   home_avg_pts_l2w          1320 non-null   float64\n",
                        " 10  road_avg_pts_l2w          1320 non-null   float64\n",
                        " 11  home_avg_oeff             1320 non-null   float64\n",
                        " 12  road_avg_oeff             1320 non-null   float64\n",
                        " 13  home_avg_oeff_l2w         1320 non-null   float64\n",
                        " 14  road_avg_oeff_l2w         1320 non-null   float64\n",
                        " 15  home_avg_deff             1320 non-null   float64\n",
                        " 16  road_avg_deff             1320 non-null   float64\n",
                        " 17  home_avg_deff_l2w         1320 non-null   float64\n",
                        " 18  road_avg_deff_l2w         1320 non-null   float64\n",
                        " 19  home_avg_eFG%             1320 non-null   float64\n",
                        " 20  road_avg_eFG%             1320 non-null   float64\n",
                        " 21  home_avg_eFG%_l2w         1320 non-null   float64\n",
                        " 22  road_avg_eFG%_l2w         1320 non-null   float64\n",
                        " 23  home_avg_TOV%             1320 non-null   float64\n",
                        " 24  road_avg_TOV%             1320 non-null   float64\n",
                        " 25  home_avg_TOV%_l2w         1320 non-null   float64\n",
                        " 26  road_avg_TOV%_l2w         1320 non-null   float64\n",
                        " 27  home_avg_ORB%             1320 non-null   float64\n",
                        " 28  road_avg_ORB%             1320 non-null   float64\n",
                        " 29  home_avg_ORB%_l2w         1320 non-null   float64\n",
                        " 30  road_avg_ORB%_l2w         1320 non-null   float64\n",
                        " 31  home_avg_FT%              1320 non-null   float64\n",
                        " 32  road_avg_FT%              1320 non-null   float64\n",
                        " 33  home_avg_FT%_l2w          1320 non-null   float64\n",
                        " 34  road_avg_FT%_l2w          1320 non-null   float64\n",
                        " 35  home_avg_pts_allowed      1320 non-null   float64\n",
                        " 36  road_avg_pts_allowed      1320 non-null   float64\n",
                        " 37  home_avg_pts_allowed_l2w  1320 non-null   float64\n",
                        " 38  road_avg_pts_allowed_l2w  1320 non-null   float64\n",
                        " 39  CLS_TARGET                1320 non-null   bool   \n",
                        " 40  REG_TARGET                1320 non-null   int64  \n",
                        "dtypes: bool(1), float64(36), int64(4)\n",
                        "memory usage: 424.1 KB\n"
                    ]
                }
            ],
            "source": [
                "combined_test_df.info(verbose=True)"
            ]
        },
        {
            "attachments": {},
            "cell_type": "markdown",
            "id": "solar-integration",
            "metadata": {},
            "source": [
                "<a name=\"automl-classification\"></a>\n",
                "\n",
                "## AutoML Classification"
            ]
        },
        {
            "attachments": {},
            "cell_type": "markdown",
            "id": "intense-english",
            "metadata": {},
            "source": [
                "### Setup and Preprocessing"
            ]
        },
        {
            "cell_type": "code",
            "execution_count": 13,
            "id": "b8afd6c9",
            "metadata": {},
            "outputs": [],
            "source": [
                "py_cls = ClassificationExperiment()"
            ]
        },
        {
            "cell_type": "code",
            "execution_count": 14,
            "id": "infrared-taxation",
            "metadata": {},
            "outputs": [],
            "source": [
                "setup_params_cls = {\n",
                "    \"data\": combined_train_df,\n",
                "    \"test_data\": combined_test_df,\n",
                "    \"target\": \"CLS_TARGET\",\n",
                "    \"ignore_features\": [\"REG_TARGET\"],\n",
                "    \"index\": False,\n",
                "    \"session_id\": 42,\n",
                "}"
            ]
        },
        {
            "cell_type": "code",
            "execution_count": 15,
            "id": "divine-elephant",
            "metadata": {
                "scrolled": true
            },
            "outputs": [
                {
                    "data": {
                        "text/html": [
                            "<style type=\"text/css\">\n",
                            "#T_638d1_row9_col1 {\n",
                            "  background-color: lightgreen;\n",
                            "}\n",
                            "</style>\n",
                            "<table id=\"T_638d1\">\n",
                            "  <thead>\n",
                            "    <tr>\n",
                            "      <th class=\"blank level0\" >&nbsp;</th>\n",
                            "      <th id=\"T_638d1_level0_col0\" class=\"col_heading level0 col0\" >Description</th>\n",
                            "      <th id=\"T_638d1_level0_col1\" class=\"col_heading level0 col1\" >Value</th>\n",
                            "    </tr>\n",
                            "  </thead>\n",
                            "  <tbody>\n",
                            "    <tr>\n",
                            "      <th id=\"T_638d1_level0_row0\" class=\"row_heading level0 row0\" >0</th>\n",
                            "      <td id=\"T_638d1_row0_col0\" class=\"data row0 col0\" >Session id</td>\n",
                            "      <td id=\"T_638d1_row0_col1\" class=\"data row0 col1\" >42</td>\n",
                            "    </tr>\n",
                            "    <tr>\n",
                            "      <th id=\"T_638d1_level0_row1\" class=\"row_heading level0 row1\" >1</th>\n",
                            "      <td id=\"T_638d1_row1_col0\" class=\"data row1 col0\" >Target</td>\n",
                            "      <td id=\"T_638d1_row1_col1\" class=\"data row1 col1\" >CLS_TARGET</td>\n",
                            "    </tr>\n",
                            "    <tr>\n",
                            "      <th id=\"T_638d1_level0_row2\" class=\"row_heading level0 row2\" >2</th>\n",
                            "      <td id=\"T_638d1_row2_col0\" class=\"data row2 col0\" >Target type</td>\n",
                            "      <td id=\"T_638d1_row2_col1\" class=\"data row2 col1\" >Binary</td>\n",
                            "    </tr>\n",
                            "    <tr>\n",
                            "      <th id=\"T_638d1_level0_row3\" class=\"row_heading level0 row3\" >3</th>\n",
                            "      <td id=\"T_638d1_row3_col0\" class=\"data row3 col0\" >Original data shape</td>\n",
                            "      <td id=\"T_638d1_row3_col1\" class=\"data row3 col1\" >(2643, 41)</td>\n",
                            "    </tr>\n",
                            "    <tr>\n",
                            "      <th id=\"T_638d1_level0_row4\" class=\"row_heading level0 row4\" >4</th>\n",
                            "      <td id=\"T_638d1_row4_col0\" class=\"data row4 col0\" >Transformed data shape</td>\n",
                            "      <td id=\"T_638d1_row4_col1\" class=\"data row4 col1\" >(2643, 40)</td>\n",
                            "    </tr>\n",
                            "    <tr>\n",
                            "      <th id=\"T_638d1_level0_row5\" class=\"row_heading level0 row5\" >5</th>\n",
                            "      <td id=\"T_638d1_row5_col0\" class=\"data row5 col0\" >Transformed train set shape</td>\n",
                            "      <td id=\"T_638d1_row5_col1\" class=\"data row5 col1\" >(1323, 40)</td>\n",
                            "    </tr>\n",
                            "    <tr>\n",
                            "      <th id=\"T_638d1_level0_row6\" class=\"row_heading level0 row6\" >6</th>\n",
                            "      <td id=\"T_638d1_row6_col0\" class=\"data row6 col0\" >Transformed test set shape</td>\n",
                            "      <td id=\"T_638d1_row6_col1\" class=\"data row6 col1\" >(1320, 40)</td>\n",
                            "    </tr>\n",
                            "    <tr>\n",
                            "      <th id=\"T_638d1_level0_row7\" class=\"row_heading level0 row7\" >7</th>\n",
                            "      <td id=\"T_638d1_row7_col0\" class=\"data row7 col0\" >Ignore features</td>\n",
                            "      <td id=\"T_638d1_row7_col1\" class=\"data row7 col1\" >1</td>\n",
                            "    </tr>\n",
                            "    <tr>\n",
                            "      <th id=\"T_638d1_level0_row8\" class=\"row_heading level0 row8\" >8</th>\n",
                            "      <td id=\"T_638d1_row8_col0\" class=\"data row8 col0\" >Numeric features</td>\n",
                            "      <td id=\"T_638d1_row8_col1\" class=\"data row8 col1\" >39</td>\n",
                            "    </tr>\n",
                            "    <tr>\n",
                            "      <th id=\"T_638d1_level0_row9\" class=\"row_heading level0 row9\" >9</th>\n",
                            "      <td id=\"T_638d1_row9_col0\" class=\"data row9 col0\" >Preprocess</td>\n",
                            "      <td id=\"T_638d1_row9_col1\" class=\"data row9 col1\" >True</td>\n",
                            "    </tr>\n",
                            "    <tr>\n",
                            "      <th id=\"T_638d1_level0_row10\" class=\"row_heading level0 row10\" >10</th>\n",
                            "      <td id=\"T_638d1_row10_col0\" class=\"data row10 col0\" >Imputation type</td>\n",
                            "      <td id=\"T_638d1_row10_col1\" class=\"data row10 col1\" >simple</td>\n",
                            "    </tr>\n",
                            "    <tr>\n",
                            "      <th id=\"T_638d1_level0_row11\" class=\"row_heading level0 row11\" >11</th>\n",
                            "      <td id=\"T_638d1_row11_col0\" class=\"data row11 col0\" >Numeric imputation</td>\n",
                            "      <td id=\"T_638d1_row11_col1\" class=\"data row11 col1\" >mean</td>\n",
                            "    </tr>\n",
                            "    <tr>\n",
                            "      <th id=\"T_638d1_level0_row12\" class=\"row_heading level0 row12\" >12</th>\n",
                            "      <td id=\"T_638d1_row12_col0\" class=\"data row12 col0\" >Categorical imputation</td>\n",
                            "      <td id=\"T_638d1_row12_col1\" class=\"data row12 col1\" >mode</td>\n",
                            "    </tr>\n",
                            "    <tr>\n",
                            "      <th id=\"T_638d1_level0_row13\" class=\"row_heading level0 row13\" >13</th>\n",
                            "      <td id=\"T_638d1_row13_col0\" class=\"data row13 col0\" >Fold Generator</td>\n",
                            "      <td id=\"T_638d1_row13_col1\" class=\"data row13 col1\" >StratifiedKFold</td>\n",
                            "    </tr>\n",
                            "    <tr>\n",
                            "      <th id=\"T_638d1_level0_row14\" class=\"row_heading level0 row14\" >14</th>\n",
                            "      <td id=\"T_638d1_row14_col0\" class=\"data row14 col0\" >Fold Number</td>\n",
                            "      <td id=\"T_638d1_row14_col1\" class=\"data row14 col1\" >10</td>\n",
                            "    </tr>\n",
                            "    <tr>\n",
                            "      <th id=\"T_638d1_level0_row15\" class=\"row_heading level0 row15\" >15</th>\n",
                            "      <td id=\"T_638d1_row15_col0\" class=\"data row15 col0\" >CPU Jobs</td>\n",
                            "      <td id=\"T_638d1_row15_col1\" class=\"data row15 col1\" >-1</td>\n",
                            "    </tr>\n",
                            "    <tr>\n",
                            "      <th id=\"T_638d1_level0_row16\" class=\"row_heading level0 row16\" >16</th>\n",
                            "      <td id=\"T_638d1_row16_col0\" class=\"data row16 col0\" >Use GPU</td>\n",
                            "      <td id=\"T_638d1_row16_col1\" class=\"data row16 col1\" >False</td>\n",
                            "    </tr>\n",
                            "    <tr>\n",
                            "      <th id=\"T_638d1_level0_row17\" class=\"row_heading level0 row17\" >17</th>\n",
                            "      <td id=\"T_638d1_row17_col0\" class=\"data row17 col0\" >Log Experiment</td>\n",
                            "      <td id=\"T_638d1_row17_col1\" class=\"data row17 col1\" >False</td>\n",
                            "    </tr>\n",
                            "    <tr>\n",
                            "      <th id=\"T_638d1_level0_row18\" class=\"row_heading level0 row18\" >18</th>\n",
                            "      <td id=\"T_638d1_row18_col0\" class=\"data row18 col0\" >Experiment Name</td>\n",
                            "      <td id=\"T_638d1_row18_col1\" class=\"data row18 col1\" >clf-default-name</td>\n",
                            "    </tr>\n",
                            "    <tr>\n",
                            "      <th id=\"T_638d1_level0_row19\" class=\"row_heading level0 row19\" >19</th>\n",
                            "      <td id=\"T_638d1_row19_col0\" class=\"data row19 col0\" >USI</td>\n",
                            "      <td id=\"T_638d1_row19_col1\" class=\"data row19 col1\" >a836</td>\n",
                            "    </tr>\n",
                            "  </tbody>\n",
                            "</table>\n"
                        ],
                        "text/plain": [
                            "<pandas.io.formats.style.Styler at 0x7fd1188dfeb0>"
                        ]
                    },
                    "metadata": {},
                    "output_type": "display_data"
                },
                {
                    "data": {
                        "text/plain": [
                            "<pycaret.classification.oop.ClassificationExperiment at 0x7fd13b20b8e0>"
                        ]
                    },
                    "execution_count": 15,
                    "metadata": {},
                    "output_type": "execute_result"
                }
            ],
            "source": [
                "py_cls.setup(**setup_params_cls)"
            ]
        },
        {
            "attachments": {},
            "cell_type": "markdown",
            "id": "applicable-italy",
            "metadata": {},
            "source": [
                "### Compare Models"
            ]
        },
        {
            "cell_type": "code",
            "execution_count": 16,
            "id": "breeding-republican",
            "metadata": {
                "scrolled": false
            },
            "outputs": [
                {
                    "data": {
                        "text/html": [],
                        "text/plain": [
                            "<IPython.core.display.HTML object>"
                        ]
                    },
                    "metadata": {},
                    "output_type": "display_data"
                },
                {
                    "data": {
                        "text/html": [
                            "<style type=\"text/css\">\n",
                            "#T_2cc34 th {\n",
                            "  text-align: left;\n",
                            "}\n",
                            "#T_2cc34_row0_col0, #T_2cc34_row0_col2, #T_2cc34_row0_col3, #T_2cc34_row0_col5, #T_2cc34_row1_col0, #T_2cc34_row1_col1, #T_2cc34_row1_col2, #T_2cc34_row1_col3, #T_2cc34_row1_col4, #T_2cc34_row1_col5, #T_2cc34_row1_col6, #T_2cc34_row1_col7, #T_2cc34_row2_col0, #T_2cc34_row2_col1, #T_2cc34_row2_col2, #T_2cc34_row2_col3, #T_2cc34_row2_col4, #T_2cc34_row2_col5, #T_2cc34_row2_col6, #T_2cc34_row2_col7, #T_2cc34_row3_col0, #T_2cc34_row3_col1, #T_2cc34_row3_col2, #T_2cc34_row3_col3, #T_2cc34_row3_col4, #T_2cc34_row3_col5, #T_2cc34_row3_col6, #T_2cc34_row3_col7, #T_2cc34_row4_col0, #T_2cc34_row4_col1, #T_2cc34_row4_col2, #T_2cc34_row4_col3, #T_2cc34_row4_col4, #T_2cc34_row4_col5, #T_2cc34_row4_col6, #T_2cc34_row4_col7, #T_2cc34_row5_col0, #T_2cc34_row5_col1, #T_2cc34_row5_col2, #T_2cc34_row5_col3, #T_2cc34_row5_col4, #T_2cc34_row5_col5, #T_2cc34_row5_col6, #T_2cc34_row5_col7, #T_2cc34_row6_col0, #T_2cc34_row6_col1, #T_2cc34_row6_col2, #T_2cc34_row6_col3, #T_2cc34_row6_col4, #T_2cc34_row6_col5, #T_2cc34_row6_col6, #T_2cc34_row6_col7, #T_2cc34_row7_col0, #T_2cc34_row7_col1, #T_2cc34_row7_col2, #T_2cc34_row7_col3, #T_2cc34_row7_col4, #T_2cc34_row7_col5, #T_2cc34_row7_col6, #T_2cc34_row7_col7, #T_2cc34_row8_col0, #T_2cc34_row8_col1, #T_2cc34_row8_col2, #T_2cc34_row8_col3, #T_2cc34_row8_col4, #T_2cc34_row8_col5, #T_2cc34_row8_col6, #T_2cc34_row8_col7, #T_2cc34_row9_col0, #T_2cc34_row9_col1, #T_2cc34_row9_col2, #T_2cc34_row9_col3, #T_2cc34_row9_col4, #T_2cc34_row9_col5, #T_2cc34_row9_col6, #T_2cc34_row9_col7, #T_2cc34_row10_col0, #T_2cc34_row10_col1, #T_2cc34_row10_col3, #T_2cc34_row10_col4, #T_2cc34_row10_col5, #T_2cc34_row10_col6, #T_2cc34_row10_col7, #T_2cc34_row11_col0, #T_2cc34_row11_col1, #T_2cc34_row11_col2, #T_2cc34_row11_col3, #T_2cc34_row11_col4, #T_2cc34_row11_col5, #T_2cc34_row11_col6, #T_2cc34_row11_col7, #T_2cc34_row12_col0, #T_2cc34_row12_col1, #T_2cc34_row12_col2, #T_2cc34_row12_col4, #T_2cc34_row12_col6, #T_2cc34_row12_col7, #T_2cc34_row13_col0, #T_2cc34_row13_col1, #T_2cc34_row13_col2, #T_2cc34_row13_col3, #T_2cc34_row13_col4, #T_2cc34_row13_col5, #T_2cc34_row13_col6, #T_2cc34_row13_col7, #T_2cc34_row14_col0, #T_2cc34_row14_col1, #T_2cc34_row14_col2, #T_2cc34_row14_col3, #T_2cc34_row14_col4, #T_2cc34_row14_col5, #T_2cc34_row14_col6, #T_2cc34_row14_col7, #T_2cc34_row15_col0, #T_2cc34_row15_col1, #T_2cc34_row15_col2, #T_2cc34_row15_col3, #T_2cc34_row15_col4, #T_2cc34_row15_col5, #T_2cc34_row15_col6, #T_2cc34_row15_col7, #T_2cc34_row16_col0, #T_2cc34_row16_col1, #T_2cc34_row16_col2, #T_2cc34_row16_col3, #T_2cc34_row16_col4, #T_2cc34_row16_col5, #T_2cc34_row16_col6, #T_2cc34_row16_col7, #T_2cc34_row17_col0, #T_2cc34_row17_col1, #T_2cc34_row17_col2, #T_2cc34_row17_col3, #T_2cc34_row17_col4, #T_2cc34_row17_col5, #T_2cc34_row17_col6, #T_2cc34_row17_col7 {\n",
                            "  text-align: left;\n",
                            "}\n",
                            "#T_2cc34_row0_col1, #T_2cc34_row0_col4, #T_2cc34_row0_col6, #T_2cc34_row0_col7, #T_2cc34_row10_col2, #T_2cc34_row12_col3, #T_2cc34_row12_col5 {\n",
                            "  text-align: left;\n",
                            "  background-color: yellow;\n",
                            "}\n",
                            "#T_2cc34_row0_col8, #T_2cc34_row1_col8, #T_2cc34_row2_col8, #T_2cc34_row3_col8, #T_2cc34_row4_col8, #T_2cc34_row5_col8, #T_2cc34_row6_col8, #T_2cc34_row7_col8, #T_2cc34_row8_col8, #T_2cc34_row9_col8, #T_2cc34_row11_col8, #T_2cc34_row12_col8, #T_2cc34_row13_col8, #T_2cc34_row14_col8, #T_2cc34_row15_col8, #T_2cc34_row16_col8, #T_2cc34_row17_col8 {\n",
                            "  text-align: left;\n",
                            "  background-color: lightgrey;\n",
                            "}\n",
                            "#T_2cc34_row10_col8 {\n",
                            "  text-align: left;\n",
                            "  background-color: yellow;\n",
                            "  background-color: lightgrey;\n",
                            "}\n",
                            "</style>\n",
                            "<table id=\"T_2cc34\">\n",
                            "  <thead>\n",
                            "    <tr>\n",
                            "      <th class=\"blank level0\" >&nbsp;</th>\n",
                            "      <th id=\"T_2cc34_level0_col0\" class=\"col_heading level0 col0\" >Model</th>\n",
                            "      <th id=\"T_2cc34_level0_col1\" class=\"col_heading level0 col1\" >Accuracy</th>\n",
                            "      <th id=\"T_2cc34_level0_col2\" class=\"col_heading level0 col2\" >AUC</th>\n",
                            "      <th id=\"T_2cc34_level0_col3\" class=\"col_heading level0 col3\" >Recall</th>\n",
                            "      <th id=\"T_2cc34_level0_col4\" class=\"col_heading level0 col4\" >Prec.</th>\n",
                            "      <th id=\"T_2cc34_level0_col5\" class=\"col_heading level0 col5\" >F1</th>\n",
                            "      <th id=\"T_2cc34_level0_col6\" class=\"col_heading level0 col6\" >Kappa</th>\n",
                            "      <th id=\"T_2cc34_level0_col7\" class=\"col_heading level0 col7\" >MCC</th>\n",
                            "      <th id=\"T_2cc34_level0_col8\" class=\"col_heading level0 col8\" >TT (Sec)</th>\n",
                            "    </tr>\n",
                            "  </thead>\n",
                            "  <tbody>\n",
                            "    <tr>\n",
                            "      <th id=\"T_2cc34_level0_row0\" class=\"row_heading level0 row0\" >rf</th>\n",
                            "      <td id=\"T_2cc34_row0_col0\" class=\"data row0 col0\" >Random Forest Classifier</td>\n",
                            "      <td id=\"T_2cc34_row0_col1\" class=\"data row0 col1\" >0.5405</td>\n",
                            "      <td id=\"T_2cc34_row0_col2\" class=\"data row0 col2\" >0.5356</td>\n",
                            "      <td id=\"T_2cc34_row0_col3\" class=\"data row0 col3\" >0.4241</td>\n",
                            "      <td id=\"T_2cc34_row0_col4\" class=\"data row0 col4\" >0.5234</td>\n",
                            "      <td id=\"T_2cc34_row0_col5\" class=\"data row0 col5\" >0.4579</td>\n",
                            "      <td id=\"T_2cc34_row0_col6\" class=\"data row0 col6\" >0.0715</td>\n",
                            "      <td id=\"T_2cc34_row0_col7\" class=\"data row0 col7\" >0.0749</td>\n",
                            "      <td id=\"T_2cc34_row0_col8\" class=\"data row0 col8\" >0.5490</td>\n",
                            "    </tr>\n",
                            "    <tr>\n",
                            "      <th id=\"T_2cc34_level0_row1\" class=\"row_heading level0 row1\" >lightgbm</th>\n",
                            "      <td id=\"T_2cc34_row1_col0\" class=\"data row1 col0\" >Light Gradient Boosting Machine</td>\n",
                            "      <td id=\"T_2cc34_row1_col1\" class=\"data row1 col1\" >0.5360</td>\n",
                            "      <td id=\"T_2cc34_row1_col2\" class=\"data row1 col2\" >0.5208</td>\n",
                            "      <td id=\"T_2cc34_row1_col3\" class=\"data row1 col3\" >0.4668</td>\n",
                            "      <td id=\"T_2cc34_row1_col4\" class=\"data row1 col4\" >0.5208</td>\n",
                            "      <td id=\"T_2cc34_row1_col5\" class=\"data row1 col5\" >0.4831</td>\n",
                            "      <td id=\"T_2cc34_row1_col6\" class=\"data row1 col6\" >0.0664</td>\n",
                            "      <td id=\"T_2cc34_row1_col7\" class=\"data row1 col7\" >0.0676</td>\n",
                            "      <td id=\"T_2cc34_row1_col8\" class=\"data row1 col8\" >0.5010</td>\n",
                            "    </tr>\n",
                            "    <tr>\n",
                            "      <th id=\"T_2cc34_level0_row2\" class=\"row_heading level0 row2\" >ridge</th>\n",
                            "      <td id=\"T_2cc34_row2_col0\" class=\"data row2 col0\" >Ridge Classifier</td>\n",
                            "      <td id=\"T_2cc34_row2_col1\" class=\"data row2 col1\" >0.5344</td>\n",
                            "      <td id=\"T_2cc34_row2_col2\" class=\"data row2 col2\" >0.0000</td>\n",
                            "      <td id=\"T_2cc34_row2_col3\" class=\"data row2 col3\" >0.4321</td>\n",
                            "      <td id=\"T_2cc34_row2_col4\" class=\"data row2 col4\" >0.5177</td>\n",
                            "      <td id=\"T_2cc34_row2_col5\" class=\"data row2 col5\" >0.4628</td>\n",
                            "      <td id=\"T_2cc34_row2_col6\" class=\"data row2 col6\" >0.0607</td>\n",
                            "      <td id=\"T_2cc34_row2_col7\" class=\"data row2 col7\" >0.0631</td>\n",
                            "      <td id=\"T_2cc34_row2_col8\" class=\"data row2 col8\" >0.4070</td>\n",
                            "    </tr>\n",
                            "    <tr>\n",
                            "      <th id=\"T_2cc34_level0_row3\" class=\"row_heading level0 row3\" >xgboost</th>\n",
                            "      <td id=\"T_2cc34_row3_col0\" class=\"data row3 col0\" >Extreme Gradient Boosting</td>\n",
                            "      <td id=\"T_2cc34_row3_col1\" class=\"data row3 col1\" >0.5329</td>\n",
                            "      <td id=\"T_2cc34_row3_col2\" class=\"data row3 col2\" >0.5416</td>\n",
                            "      <td id=\"T_2cc34_row3_col3\" class=\"data row3 col3\" >0.4670</td>\n",
                            "      <td id=\"T_2cc34_row3_col4\" class=\"data row3 col4\" >0.5125</td>\n",
                            "      <td id=\"T_2cc34_row3_col5\" class=\"data row3 col5\" >0.4744</td>\n",
                            "      <td id=\"T_2cc34_row3_col6\" class=\"data row3 col6\" >0.0605</td>\n",
                            "      <td id=\"T_2cc34_row3_col7\" class=\"data row3 col7\" >0.0617</td>\n",
                            "      <td id=\"T_2cc34_row3_col8\" class=\"data row3 col8\" >0.4250</td>\n",
                            "    </tr>\n",
                            "    <tr>\n",
                            "      <th id=\"T_2cc34_level0_row4\" class=\"row_heading level0 row4\" >lda</th>\n",
                            "      <td id=\"T_2cc34_row4_col0\" class=\"data row4 col0\" >Linear Discriminant Analysis</td>\n",
                            "      <td id=\"T_2cc34_row4_col1\" class=\"data row4 col1\" >0.5306</td>\n",
                            "      <td id=\"T_2cc34_row4_col2\" class=\"data row4 col2\" >0.5416</td>\n",
                            "      <td id=\"T_2cc34_row4_col3\" class=\"data row4 col3\" >0.4321</td>\n",
                            "      <td id=\"T_2cc34_row4_col4\" class=\"data row4 col4\" >0.5145</td>\n",
                            "      <td id=\"T_2cc34_row4_col5\" class=\"data row4 col5\" >0.4650</td>\n",
                            "      <td id=\"T_2cc34_row4_col6\" class=\"data row4 col6\" >0.0536</td>\n",
                            "      <td id=\"T_2cc34_row4_col7\" class=\"data row4 col7\" >0.0556</td>\n",
                            "      <td id=\"T_2cc34_row4_col8\" class=\"data row4 col8\" >0.4420</td>\n",
                            "    </tr>\n",
                            "    <tr>\n",
                            "      <th id=\"T_2cc34_level0_row5\" class=\"row_heading level0 row5\" >et</th>\n",
                            "      <td id=\"T_2cc34_row5_col0\" class=\"data row5 col0\" >Extra Trees Classifier</td>\n",
                            "      <td id=\"T_2cc34_row5_col1\" class=\"data row5 col1\" >0.5276</td>\n",
                            "      <td id=\"T_2cc34_row5_col2\" class=\"data row5 col2\" >0.5365</td>\n",
                            "      <td id=\"T_2cc34_row5_col3\" class=\"data row5 col3\" >0.4225</td>\n",
                            "      <td id=\"T_2cc34_row5_col4\" class=\"data row5 col4\" >0.5087</td>\n",
                            "      <td id=\"T_2cc34_row5_col5\" class=\"data row5 col5\" >0.4560</td>\n",
                            "      <td id=\"T_2cc34_row5_col6\" class=\"data row5 col6\" >0.0468</td>\n",
                            "      <td id=\"T_2cc34_row5_col7\" class=\"data row5 col7\" >0.0488</td>\n",
                            "      <td id=\"T_2cc34_row5_col8\" class=\"data row5 col8\" >0.5920</td>\n",
                            "    </tr>\n",
                            "    <tr>\n",
                            "      <th id=\"T_2cc34_level0_row6\" class=\"row_heading level0 row6\" >gbc</th>\n",
                            "      <td id=\"T_2cc34_row6_col0\" class=\"data row6 col0\" >Gradient Boosting Classifier</td>\n",
                            "      <td id=\"T_2cc34_row6_col1\" class=\"data row6 col1\" >0.5268</td>\n",
                            "      <td id=\"T_2cc34_row6_col2\" class=\"data row6 col2\" >0.5379</td>\n",
                            "      <td id=\"T_2cc34_row6_col3\" class=\"data row6 col3\" >0.5094</td>\n",
                            "      <td id=\"T_2cc34_row6_col4\" class=\"data row6 col4\" >0.5189</td>\n",
                            "      <td id=\"T_2cc34_row6_col5\" class=\"data row6 col5\" >0.4818</td>\n",
                            "      <td id=\"T_2cc34_row6_col6\" class=\"data row6 col6\" >0.0524</td>\n",
                            "      <td id=\"T_2cc34_row6_col7\" class=\"data row6 col7\" >0.0615</td>\n",
                            "      <td id=\"T_2cc34_row6_col8\" class=\"data row6 col8\" >0.4750</td>\n",
                            "    </tr>\n",
                            "    <tr>\n",
                            "      <th id=\"T_2cc34_level0_row7\" class=\"row_heading level0 row7\" >lr</th>\n",
                            "      <td id=\"T_2cc34_row7_col0\" class=\"data row7 col0\" >Logistic Regression</td>\n",
                            "      <td id=\"T_2cc34_row7_col1\" class=\"data row7 col1\" >0.5238</td>\n",
                            "      <td id=\"T_2cc34_row7_col2\" class=\"data row7 col2\" >0.5391</td>\n",
                            "      <td id=\"T_2cc34_row7_col3\" class=\"data row7 col3\" >0.4223</td>\n",
                            "      <td id=\"T_2cc34_row7_col4\" class=\"data row7 col4\" >0.4995</td>\n",
                            "      <td id=\"T_2cc34_row7_col5\" class=\"data row7 col5\" >0.4522</td>\n",
                            "      <td id=\"T_2cc34_row7_col6\" class=\"data row7 col6\" >0.0391</td>\n",
                            "      <td id=\"T_2cc34_row7_col7\" class=\"data row7 col7\" >0.0395</td>\n",
                            "      <td id=\"T_2cc34_row7_col8\" class=\"data row7 col8\" >0.7270</td>\n",
                            "    </tr>\n",
                            "    <tr>\n",
                            "      <th id=\"T_2cc34_level0_row8\" class=\"row_heading level0 row8\" >dummy</th>\n",
                            "      <td id=\"T_2cc34_row8_col0\" class=\"data row8 col0\" >Dummy Classifier</td>\n",
                            "      <td id=\"T_2cc34_row8_col1\" class=\"data row8 col1\" >0.5223</td>\n",
                            "      <td id=\"T_2cc34_row8_col2\" class=\"data row8 col2\" >0.5000</td>\n",
                            "      <td id=\"T_2cc34_row8_col3\" class=\"data row8 col3\" >0.0000</td>\n",
                            "      <td id=\"T_2cc34_row8_col4\" class=\"data row8 col4\" >0.0000</td>\n",
                            "      <td id=\"T_2cc34_row8_col5\" class=\"data row8 col5\" >0.0000</td>\n",
                            "      <td id=\"T_2cc34_row8_col6\" class=\"data row8 col6\" >0.0000</td>\n",
                            "      <td id=\"T_2cc34_row8_col7\" class=\"data row8 col7\" >0.0000</td>\n",
                            "      <td id=\"T_2cc34_row8_col8\" class=\"data row8 col8\" >0.4550</td>\n",
                            "    </tr>\n",
                            "    <tr>\n",
                            "      <th id=\"T_2cc34_level0_row9\" class=\"row_heading level0 row9\" >dt</th>\n",
                            "      <td id=\"T_2cc34_row9_col0\" class=\"data row9 col0\" >Decision Tree Classifier</td>\n",
                            "      <td id=\"T_2cc34_row9_col1\" class=\"data row9 col1\" >0.5223</td>\n",
                            "      <td id=\"T_2cc34_row9_col2\" class=\"data row9 col2\" >0.5199</td>\n",
                            "      <td id=\"T_2cc34_row9_col3\" class=\"data row9 col3\" >0.4639</td>\n",
                            "      <td id=\"T_2cc34_row9_col4\" class=\"data row9 col4\" >0.5022</td>\n",
                            "      <td id=\"T_2cc34_row9_col5\" class=\"data row9 col5\" >0.4724</td>\n",
                            "      <td id=\"T_2cc34_row9_col6\" class=\"data row9 col6\" >0.0401</td>\n",
                            "      <td id=\"T_2cc34_row9_col7\" class=\"data row9 col7\" >0.0408</td>\n",
                            "      <td id=\"T_2cc34_row9_col8\" class=\"data row9 col8\" >0.4070</td>\n",
                            "    </tr>\n",
                            "    <tr>\n",
                            "      <th id=\"T_2cc34_level0_row10\" class=\"row_heading level0 row10\" >nb</th>\n",
                            "      <td id=\"T_2cc34_row10_col0\" class=\"data row10 col0\" >Naive Bayes</td>\n",
                            "      <td id=\"T_2cc34_row10_col1\" class=\"data row10 col1\" >0.5208</td>\n",
                            "      <td id=\"T_2cc34_row10_col2\" class=\"data row10 col2\" >0.5514</td>\n",
                            "      <td id=\"T_2cc34_row10_col3\" class=\"data row10 col3\" >0.0942</td>\n",
                            "      <td id=\"T_2cc34_row10_col4\" class=\"data row10 col4\" >0.4301</td>\n",
                            "      <td id=\"T_2cc34_row10_col5\" class=\"data row10 col5\" >0.1124</td>\n",
                            "      <td id=\"T_2cc34_row10_col6\" class=\"data row10 col6\" >0.0045</td>\n",
                            "      <td id=\"T_2cc34_row10_col7\" class=\"data row10 col7\" >0.0067</td>\n",
                            "      <td id=\"T_2cc34_row10_col8\" class=\"data row10 col8\" >0.3870</td>\n",
                            "    </tr>\n",
                            "    <tr>\n",
                            "      <th id=\"T_2cc34_level0_row11\" class=\"row_heading level0 row11\" >rbfsvm</th>\n",
                            "      <td id=\"T_2cc34_row11_col0\" class=\"data row11 col0\" >SVM - Radial Kernel</td>\n",
                            "      <td id=\"T_2cc34_row11_col1\" class=\"data row11 col1\" >0.5170</td>\n",
                            "      <td id=\"T_2cc34_row11_col2\" class=\"data row11 col2\" >0.5057</td>\n",
                            "      <td id=\"T_2cc34_row11_col3\" class=\"data row11 col3\" >0.0094</td>\n",
                            "      <td id=\"T_2cc34_row11_col4\" class=\"data row11 col4\" >0.2867</td>\n",
                            "      <td id=\"T_2cc34_row11_col5\" class=\"data row11 col5\" >0.0177</td>\n",
                            "      <td id=\"T_2cc34_row11_col6\" class=\"data row11 col6\" >-0.0097</td>\n",
                            "      <td id=\"T_2cc34_row11_col7\" class=\"data row11 col7\" >-0.0254</td>\n",
                            "      <td id=\"T_2cc34_row11_col8\" class=\"data row11 col8\" >0.4700</td>\n",
                            "    </tr>\n",
                            "    <tr>\n",
                            "      <th id=\"T_2cc34_level0_row12\" class=\"row_heading level0 row12\" >knn</th>\n",
                            "      <td id=\"T_2cc34_row12_col0\" class=\"data row12 col0\" >K Neighbors Classifier</td>\n",
                            "      <td id=\"T_2cc34_row12_col1\" class=\"data row12 col1\" >0.5125</td>\n",
                            "      <td id=\"T_2cc34_row12_col2\" class=\"data row12 col2\" >0.5082</td>\n",
                            "      <td id=\"T_2cc34_row12_col3\" class=\"data row12 col3\" >0.5142</td>\n",
                            "      <td id=\"T_2cc34_row12_col4\" class=\"data row12 col4\" >0.4887</td>\n",
                            "      <td id=\"T_2cc34_row12_col5\" class=\"data row12 col5\" >0.4846</td>\n",
                            "      <td id=\"T_2cc34_row12_col6\" class=\"data row12 col6\" >0.0249</td>\n",
                            "      <td id=\"T_2cc34_row12_col7\" class=\"data row12 col7\" >0.0266</td>\n",
                            "      <td id=\"T_2cc34_row12_col8\" class=\"data row12 col8\" >0.3970</td>\n",
                            "    </tr>\n",
                            "    <tr>\n",
                            "      <th id=\"T_2cc34_level0_row13\" class=\"row_heading level0 row13\" >svm</th>\n",
                            "      <td id=\"T_2cc34_row13_col0\" class=\"data row13 col0\" >SVM - Linear Kernel</td>\n",
                            "      <td id=\"T_2cc34_row13_col1\" class=\"data row13 col1\" >0.5094</td>\n",
                            "      <td id=\"T_2cc34_row13_col2\" class=\"data row13 col2\" >0.0000</td>\n",
                            "      <td id=\"T_2cc34_row13_col3\" class=\"data row13 col3\" >0.3125</td>\n",
                            "      <td id=\"T_2cc34_row13_col4\" class=\"data row13 col4\" >0.1965</td>\n",
                            "      <td id=\"T_2cc34_row13_col5\" class=\"data row13 col5\" >0.2141</td>\n",
                            "      <td id=\"T_2cc34_row13_col6\" class=\"data row13 col6\" >0.0024</td>\n",
                            "      <td id=\"T_2cc34_row13_col7\" class=\"data row13 col7\" >0.0037</td>\n",
                            "      <td id=\"T_2cc34_row13_col8\" class=\"data row13 col8\" >0.4290</td>\n",
                            "    </tr>\n",
                            "    <tr>\n",
                            "      <th id=\"T_2cc34_level0_row14\" class=\"row_heading level0 row14\" >gpc</th>\n",
                            "      <td id=\"T_2cc34_row14_col0\" class=\"data row14 col0\" >Gaussian Process Classifier</td>\n",
                            "      <td id=\"T_2cc34_row14_col1\" class=\"data row14 col1\" >0.5042</td>\n",
                            "      <td id=\"T_2cc34_row14_col2\" class=\"data row14 col2\" >0.4953</td>\n",
                            "      <td id=\"T_2cc34_row14_col3\" class=\"data row14 col3\" >0.4808</td>\n",
                            "      <td id=\"T_2cc34_row14_col4\" class=\"data row14 col4\" >0.4791</td>\n",
                            "      <td id=\"T_2cc34_row14_col5\" class=\"data row14 col5\" >0.4681</td>\n",
                            "      <td id=\"T_2cc34_row14_col6\" class=\"data row14 col6\" >0.0062</td>\n",
                            "      <td id=\"T_2cc34_row14_col7\" class=\"data row14 col7\" >0.0077</td>\n",
                            "      <td id=\"T_2cc34_row14_col8\" class=\"data row14 col8\" >1.0220</td>\n",
                            "    </tr>\n",
                            "    <tr>\n",
                            "      <th id=\"T_2cc34_level0_row15\" class=\"row_heading level0 row15\" >ada</th>\n",
                            "      <td id=\"T_2cc34_row15_col0\" class=\"data row15 col0\" >Ada Boost Classifier</td>\n",
                            "      <td id=\"T_2cc34_row15_col1\" class=\"data row15 col1\" >0.5034</td>\n",
                            "      <td id=\"T_2cc34_row15_col2\" class=\"data row15 col2\" >0.5167</td>\n",
                            "      <td id=\"T_2cc34_row15_col3\" class=\"data row15 col3\" >0.4827</td>\n",
                            "      <td id=\"T_2cc34_row15_col4\" class=\"data row15 col4\" >0.5065</td>\n",
                            "      <td id=\"T_2cc34_row15_col5\" class=\"data row15 col5\" >0.4458</td>\n",
                            "      <td id=\"T_2cc34_row15_col6\" class=\"data row15 col6\" >0.0052</td>\n",
                            "      <td id=\"T_2cc34_row15_col7\" class=\"data row15 col7\" >0.0200</td>\n",
                            "      <td id=\"T_2cc34_row15_col8\" class=\"data row15 col8\" >0.5130</td>\n",
                            "    </tr>\n",
                            "    <tr>\n",
                            "      <th id=\"T_2cc34_level0_row16\" class=\"row_heading level0 row16\" >mlp</th>\n",
                            "      <td id=\"T_2cc34_row16_col0\" class=\"data row16 col0\" >MLP Classifier</td>\n",
                            "      <td id=\"T_2cc34_row16_col1\" class=\"data row16 col1\" >0.4958</td>\n",
                            "      <td id=\"T_2cc34_row16_col2\" class=\"data row16 col2\" >0.5228</td>\n",
                            "      <td id=\"T_2cc34_row16_col3\" class=\"data row16 col3\" >0.4672</td>\n",
                            "      <td id=\"T_2cc34_row16_col4\" class=\"data row16 col4\" >0.4760</td>\n",
                            "      <td id=\"T_2cc34_row16_col5\" class=\"data row16 col5\" >0.3907</td>\n",
                            "      <td id=\"T_2cc34_row16_col6\" class=\"data row16 col6\" >-0.0102</td>\n",
                            "      <td id=\"T_2cc34_row16_col7\" class=\"data row16 col7\" >-0.0115</td>\n",
                            "      <td id=\"T_2cc34_row16_col8\" class=\"data row16 col8\" >0.4190</td>\n",
                            "    </tr>\n",
                            "    <tr>\n",
                            "      <th id=\"T_2cc34_level0_row17\" class=\"row_heading level0 row17\" >qda</th>\n",
                            "      <td id=\"T_2cc34_row17_col0\" class=\"data row17 col0\" >Quadratic Discriminant Analysis</td>\n",
                            "      <td id=\"T_2cc34_row17_col1\" class=\"data row17 col1\" >0.4906</td>\n",
                            "      <td id=\"T_2cc34_row17_col2\" class=\"data row17 col2\" >0.4819</td>\n",
                            "      <td id=\"T_2cc34_row17_col3\" class=\"data row17 col3\" >0.4926</td>\n",
                            "      <td id=\"T_2cc34_row17_col4\" class=\"data row17 col4\" >0.4699</td>\n",
                            "      <td id=\"T_2cc34_row17_col5\" class=\"data row17 col5\" >0.4746</td>\n",
                            "      <td id=\"T_2cc34_row17_col6\" class=\"data row17 col6\" >-0.0181</td>\n",
                            "      <td id=\"T_2cc34_row17_col7\" class=\"data row17 col7\" >-0.0185</td>\n",
                            "      <td id=\"T_2cc34_row17_col8\" class=\"data row17 col8\" >0.4190</td>\n",
                            "    </tr>\n",
                            "  </tbody>\n",
                            "</table>\n"
                        ],
                        "text/plain": [
                            "<pandas.io.formats.style.Styler at 0x7fd18bb6c580>"
                        ]
                    },
                    "metadata": {},
                    "output_type": "display_data"
                },
                {
                    "data": {
                        "application/vnd.jupyter.widget-view+json": {
                            "model_id": "e54841374fa84e5d9ce11b438e7808f8",
                            "version_major": 2,
                            "version_minor": 0
                        },
                        "text/plain": [
                            "Processing:   0%|          | 0/77 [00:00<?, ?it/s]"
                        ]
                    },
                    "metadata": {},
                    "output_type": "display_data"
                }
            ],
            "source": [
                "best_model_cls = py_cls.compare_models(\n",
                "    turbo=False, sort=\"Accuracy\", exclude=[\"catboost\"]\n",
                ")"
            ]
        },
        {
            "cell_type": "code",
            "execution_count": 17,
            "id": "ae2a865c",
            "metadata": {},
            "outputs": [
                {
                    "name": "stdout",
                    "output_type": "stream",
                    "text": [
                        "RandomForestClassifier(bootstrap=True, ccp_alpha=0.0, class_weight=None,\n",
                        "                       criterion='gini', max_depth=None, max_features='sqrt',\n",
                        "                       max_leaf_nodes=None, max_samples=None,\n",
                        "                       min_impurity_decrease=0.0, min_samples_leaf=1,\n",
                        "                       min_samples_split=2, min_weight_fraction_leaf=0.0,\n",
                        "                       n_estimators=100, n_jobs=-1, oob_score=False,\n",
                        "                       random_state=42, verbose=0, warm_start=False)\n"
                    ]
                }
            ],
            "source": [
                "print(best_model_cls)"
            ]
        },
        {
            "attachments": {},
            "cell_type": "markdown",
            "id": "crazy-links",
            "metadata": {},
            "source": [
                "### Create Selected Model"
            ]
        },
        {
            "cell_type": "code",
            "execution_count": 18,
            "id": "adjusted-fence",
            "metadata": {},
            "outputs": [
                {
                    "data": {
                        "text/html": [],
                        "text/plain": [
                            "<IPython.core.display.HTML object>"
                        ]
                    },
                    "metadata": {},
                    "output_type": "display_data"
                },
                {
                    "data": {
                        "text/html": [
                            "<style type=\"text/css\">\n",
                            "#T_2b4f3_row10_col0, #T_2b4f3_row10_col1, #T_2b4f3_row10_col2, #T_2b4f3_row10_col3, #T_2b4f3_row10_col4, #T_2b4f3_row10_col5, #T_2b4f3_row10_col6 {\n",
                            "  background: yellow;\n",
                            "}\n",
                            "</style>\n",
                            "<table id=\"T_2b4f3\">\n",
                            "  <thead>\n",
                            "    <tr>\n",
                            "      <th class=\"blank level0\" >&nbsp;</th>\n",
                            "      <th id=\"T_2b4f3_level0_col0\" class=\"col_heading level0 col0\" >Accuracy</th>\n",
                            "      <th id=\"T_2b4f3_level0_col1\" class=\"col_heading level0 col1\" >AUC</th>\n",
                            "      <th id=\"T_2b4f3_level0_col2\" class=\"col_heading level0 col2\" >Recall</th>\n",
                            "      <th id=\"T_2b4f3_level0_col3\" class=\"col_heading level0 col3\" >Prec.</th>\n",
                            "      <th id=\"T_2b4f3_level0_col4\" class=\"col_heading level0 col4\" >F1</th>\n",
                            "      <th id=\"T_2b4f3_level0_col5\" class=\"col_heading level0 col5\" >Kappa</th>\n",
                            "      <th id=\"T_2b4f3_level0_col6\" class=\"col_heading level0 col6\" >MCC</th>\n",
                            "    </tr>\n",
                            "    <tr>\n",
                            "      <th class=\"index_name level0\" >Fold</th>\n",
                            "      <th class=\"blank col0\" >&nbsp;</th>\n",
                            "      <th class=\"blank col1\" >&nbsp;</th>\n",
                            "      <th class=\"blank col2\" >&nbsp;</th>\n",
                            "      <th class=\"blank col3\" >&nbsp;</th>\n",
                            "      <th class=\"blank col4\" >&nbsp;</th>\n",
                            "      <th class=\"blank col5\" >&nbsp;</th>\n",
                            "      <th class=\"blank col6\" >&nbsp;</th>\n",
                            "    </tr>\n",
                            "  </thead>\n",
                            "  <tbody>\n",
                            "    <tr>\n",
                            "      <th id=\"T_2b4f3_level0_row0\" class=\"row_heading level0 row0\" >0</th>\n",
                            "      <td id=\"T_2b4f3_row0_col0\" class=\"data row0 col0\" >0.5338</td>\n",
                            "      <td id=\"T_2b4f3_row0_col1\" class=\"data row0 col1\" >0.5020</td>\n",
                            "      <td id=\"T_2b4f3_row0_col2\" class=\"data row0 col2\" >0.2500</td>\n",
                            "      <td id=\"T_2b4f3_row0_col3\" class=\"data row0 col3\" >0.5333</td>\n",
                            "      <td id=\"T_2b4f3_row0_col4\" class=\"data row0 col4\" >0.3404</td>\n",
                            "      <td id=\"T_2b4f3_row0_col5\" class=\"data row0 col5\" >0.0480</td>\n",
                            "      <td id=\"T_2b4f3_row0_col6\" class=\"data row0 col6\" >0.0563</td>\n",
                            "    </tr>\n",
                            "    <tr>\n",
                            "      <th id=\"T_2b4f3_level0_row1\" class=\"row_heading level0 row1\" >1</th>\n",
                            "      <td id=\"T_2b4f3_row1_col0\" class=\"data row1 col0\" >0.5639</td>\n",
                            "      <td id=\"T_2b4f3_row1_col1\" class=\"data row1 col1\" >0.5248</td>\n",
                            "      <td id=\"T_2b4f3_row1_col2\" class=\"data row1 col2\" >0.5469</td>\n",
                            "      <td id=\"T_2b4f3_row1_col3\" class=\"data row1 col3\" >0.5469</td>\n",
                            "      <td id=\"T_2b4f3_row1_col4\" class=\"data row1 col4\" >0.5469</td>\n",
                            "      <td id=\"T_2b4f3_row1_col5\" class=\"data row1 col5\" >0.1266</td>\n",
                            "      <td id=\"T_2b4f3_row1_col6\" class=\"data row1 col6\" >0.1266</td>\n",
                            "    </tr>\n",
                            "    <tr>\n",
                            "      <th id=\"T_2b4f3_level0_row2\" class=\"row_heading level0 row2\" >2</th>\n",
                            "      <td id=\"T_2b4f3_row2_col0\" class=\"data row2 col0\" >0.4737</td>\n",
                            "      <td id=\"T_2b4f3_row2_col1\" class=\"data row2 col1\" >0.4799</td>\n",
                            "      <td id=\"T_2b4f3_row2_col2\" class=\"data row2 col2\" >0.4127</td>\n",
                            "      <td id=\"T_2b4f3_row2_col3\" class=\"data row2 col3\" >0.4407</td>\n",
                            "      <td id=\"T_2b4f3_row2_col4\" class=\"data row2 col4\" >0.4262</td>\n",
                            "      <td id=\"T_2b4f3_row2_col5\" class=\"data row2 col5\" >-0.0589</td>\n",
                            "      <td id=\"T_2b4f3_row2_col6\" class=\"data row2 col6\" >-0.0590</td>\n",
                            "    </tr>\n",
                            "    <tr>\n",
                            "      <th id=\"T_2b4f3_level0_row3\" class=\"row_heading level0 row3\" >3</th>\n",
                            "      <td id=\"T_2b4f3_row3_col0\" class=\"data row3 col0\" >0.5303</td>\n",
                            "      <td id=\"T_2b4f3_row3_col1\" class=\"data row3 col1\" >0.5545</td>\n",
                            "      <td id=\"T_2b4f3_row3_col2\" class=\"data row3 col2\" >0.4127</td>\n",
                            "      <td id=\"T_2b4f3_row3_col3\" class=\"data row3 col3\" >0.5098</td>\n",
                            "      <td id=\"T_2b4f3_row3_col4\" class=\"data row3 col4\" >0.4561</td>\n",
                            "      <td id=\"T_2b4f3_row3_col5\" class=\"data row3 col5\" >0.0508</td>\n",
                            "      <td id=\"T_2b4f3_row3_col6\" class=\"data row3 col6\" >0.0517</td>\n",
                            "    </tr>\n",
                            "    <tr>\n",
                            "      <th id=\"T_2b4f3_level0_row4\" class=\"row_heading level0 row4\" >4</th>\n",
                            "      <td id=\"T_2b4f3_row4_col0\" class=\"data row4 col0\" >0.5682</td>\n",
                            "      <td id=\"T_2b4f3_row4_col1\" class=\"data row4 col1\" >0.5757</td>\n",
                            "      <td id=\"T_2b4f3_row4_col2\" class=\"data row4 col2\" >0.4444</td>\n",
                            "      <td id=\"T_2b4f3_row4_col3\" class=\"data row4 col3\" >0.5600</td>\n",
                            "      <td id=\"T_2b4f3_row4_col4\" class=\"data row4 col4\" >0.4956</td>\n",
                            "      <td id=\"T_2b4f3_row4_col5\" class=\"data row4 col5\" >0.1267</td>\n",
                            "      <td id=\"T_2b4f3_row4_col6\" class=\"data row4 col6\" >0.1293</td>\n",
                            "    </tr>\n",
                            "    <tr>\n",
                            "      <th id=\"T_2b4f3_level0_row5\" class=\"row_heading level0 row5\" >5</th>\n",
                            "      <td id=\"T_2b4f3_row5_col0\" class=\"data row5 col0\" >0.5682</td>\n",
                            "      <td id=\"T_2b4f3_row5_col1\" class=\"data row5 col1\" >0.5968</td>\n",
                            "      <td id=\"T_2b4f3_row5_col2\" class=\"data row5 col2\" >0.3810</td>\n",
                            "      <td id=\"T_2b4f3_row5_col3\" class=\"data row5 col3\" >0.5714</td>\n",
                            "      <td id=\"T_2b4f3_row5_col4\" class=\"data row5 col4\" >0.4571</td>\n",
                            "      <td id=\"T_2b4f3_row5_col5\" class=\"data row5 col5\" >0.1218</td>\n",
                            "      <td id=\"T_2b4f3_row5_col6\" class=\"data row5 col6\" >0.1288</td>\n",
                            "    </tr>\n",
                            "    <tr>\n",
                            "      <th id=\"T_2b4f3_level0_row6\" class=\"row_heading level0 row6\" >6</th>\n",
                            "      <td id=\"T_2b4f3_row6_col0\" class=\"data row6 col0\" >0.5303</td>\n",
                            "      <td id=\"T_2b4f3_row6_col1\" class=\"data row6 col1\" >0.4967</td>\n",
                            "      <td id=\"T_2b4f3_row6_col2\" class=\"data row6 col2\" >0.3016</td>\n",
                            "      <td id=\"T_2b4f3_row6_col3\" class=\"data row6 col3\" >0.5135</td>\n",
                            "      <td id=\"T_2b4f3_row6_col4\" class=\"data row6 col4\" >0.3800</td>\n",
                            "      <td id=\"T_2b4f3_row6_col5\" class=\"data row6 col5\" >0.0415</td>\n",
                            "      <td id=\"T_2b4f3_row6_col6\" class=\"data row6 col6\" >0.0453</td>\n",
                            "    </tr>\n",
                            "    <tr>\n",
                            "      <th id=\"T_2b4f3_level0_row7\" class=\"row_heading level0 row7\" >7</th>\n",
                            "      <td id=\"T_2b4f3_row7_col0\" class=\"data row7 col0\" >0.5000</td>\n",
                            "      <td id=\"T_2b4f3_row7_col1\" class=\"data row7 col1\" >0.4550</td>\n",
                            "      <td id=\"T_2b4f3_row7_col2\" class=\"data row7 col2\" >0.2698</td>\n",
                            "      <td id=\"T_2b4f3_row7_col3\" class=\"data row7 col3\" >0.4595</td>\n",
                            "      <td id=\"T_2b4f3_row7_col4\" class=\"data row7 col4\" >0.3400</td>\n",
                            "      <td id=\"T_2b4f3_row7_col5\" class=\"data row7 col5\" >-0.0204</td>\n",
                            "      <td id=\"T_2b4f3_row7_col6\" class=\"data row7 col6\" >-0.0223</td>\n",
                            "    </tr>\n",
                            "    <tr>\n",
                            "      <th id=\"T_2b4f3_level0_row8\" class=\"row_heading level0 row8\" >8</th>\n",
                            "      <td id=\"T_2b4f3_row8_col0\" class=\"data row8 col0\" >0.5833</td>\n",
                            "      <td id=\"T_2b4f3_row8_col1\" class=\"data row8 col1\" >0.5855</td>\n",
                            "      <td id=\"T_2b4f3_row8_col2\" class=\"data row8 col2\" >0.4762</td>\n",
                            "      <td id=\"T_2b4f3_row8_col3\" class=\"data row8 col3\" >0.5769</td>\n",
                            "      <td id=\"T_2b4f3_row8_col4\" class=\"data row8 col4\" >0.5217</td>\n",
                            "      <td id=\"T_2b4f3_row8_col5\" class=\"data row8 col5\" >0.1586</td>\n",
                            "      <td id=\"T_2b4f3_row8_col6\" class=\"data row8 col6\" >0.1608</td>\n",
                            "    </tr>\n",
                            "    <tr>\n",
                            "      <th id=\"T_2b4f3_level0_row9\" class=\"row_heading level0 row9\" >9</th>\n",
                            "      <td id=\"T_2b4f3_row9_col0\" class=\"data row9 col0\" >0.5530</td>\n",
                            "      <td id=\"T_2b4f3_row9_col1\" class=\"data row9 col1\" >0.5853</td>\n",
                            "      <td id=\"T_2b4f3_row9_col2\" class=\"data row9 col2\" >0.7460</td>\n",
                            "      <td id=\"T_2b4f3_row9_col3\" class=\"data row9 col3\" >0.5222</td>\n",
                            "      <td id=\"T_2b4f3_row9_col4\" class=\"data row9 col4\" >0.6144</td>\n",
                            "      <td id=\"T_2b4f3_row9_col5\" class=\"data row9 col5\" >0.1206</td>\n",
                            "      <td id=\"T_2b4f3_row9_col6\" class=\"data row9 col6\" >0.1317</td>\n",
                            "    </tr>\n",
                            "    <tr>\n",
                            "      <th id=\"T_2b4f3_level0_row10\" class=\"row_heading level0 row10\" >Mean</th>\n",
                            "      <td id=\"T_2b4f3_row10_col0\" class=\"data row10 col0\" >0.5405</td>\n",
                            "      <td id=\"T_2b4f3_row10_col1\" class=\"data row10 col1\" >0.5356</td>\n",
                            "      <td id=\"T_2b4f3_row10_col2\" class=\"data row10 col2\" >0.4241</td>\n",
                            "      <td id=\"T_2b4f3_row10_col3\" class=\"data row10 col3\" >0.5234</td>\n",
                            "      <td id=\"T_2b4f3_row10_col4\" class=\"data row10 col4\" >0.4579</td>\n",
                            "      <td id=\"T_2b4f3_row10_col5\" class=\"data row10 col5\" >0.0715</td>\n",
                            "      <td id=\"T_2b4f3_row10_col6\" class=\"data row10 col6\" >0.0749</td>\n",
                            "    </tr>\n",
                            "    <tr>\n",
                            "      <th id=\"T_2b4f3_level0_row11\" class=\"row_heading level0 row11\" >Std</th>\n",
                            "      <td id=\"T_2b4f3_row11_col0\" class=\"data row11 col0\" >0.0323</td>\n",
                            "      <td id=\"T_2b4f3_row11_col1\" class=\"data row11 col1\" >0.0480</td>\n",
                            "      <td id=\"T_2b4f3_row11_col2\" class=\"data row11 col2\" >0.1390</td>\n",
                            "      <td id=\"T_2b4f3_row11_col3\" class=\"data row11 col3\" >0.0429</td>\n",
                            "      <td id=\"T_2b4f3_row11_col4\" class=\"data row11 col4\" >0.0852</td>\n",
                            "      <td id=\"T_2b4f3_row11_col5\" class=\"data row11 col5\" >0.0678</td>\n",
                            "      <td id=\"T_2b4f3_row11_col6\" class=\"data row11 col6\" >0.0695</td>\n",
                            "    </tr>\n",
                            "  </tbody>\n",
                            "</table>\n"
                        ],
                        "text/plain": [
                            "<pandas.io.formats.style.Styler at 0x7fd13ae5bb50>"
                        ]
                    },
                    "metadata": {},
                    "output_type": "display_data"
                },
                {
                    "data": {
                        "application/vnd.jupyter.widget-view+json": {
                            "model_id": "4e775d8768414dc0922685eb27c90e7f",
                            "version_major": 2,
                            "version_minor": 0
                        },
                        "text/plain": [
                            "Processing:   0%|          | 0/4 [00:00<?, ?it/s]"
                        ]
                    },
                    "metadata": {},
                    "output_type": "display_data"
                }
            ],
            "source": [
                "model_cls = py_cls.create_model(\"rf\")"
            ]
        },
        {
            "attachments": {},
            "cell_type": "markdown",
            "id": "dense-dressing",
            "metadata": {},
            "source": [
                "### Tune Selected Model"
            ]
        },
        {
            "cell_type": "code",
            "execution_count": 19,
            "id": "swiss-pharmaceutical",
            "metadata": {},
            "outputs": [
                {
                    "data": {
                        "text/html": [],
                        "text/plain": [
                            "<IPython.core.display.HTML object>"
                        ]
                    },
                    "metadata": {},
                    "output_type": "display_data"
                },
                {
                    "data": {
                        "text/html": [
                            "<style type=\"text/css\">\n",
                            "#T_e1d86_row10_col0, #T_e1d86_row10_col1, #T_e1d86_row10_col2, #T_e1d86_row10_col3, #T_e1d86_row10_col4, #T_e1d86_row10_col5, #T_e1d86_row10_col6 {\n",
                            "  background: yellow;\n",
                            "}\n",
                            "</style>\n",
                            "<table id=\"T_e1d86\">\n",
                            "  <thead>\n",
                            "    <tr>\n",
                            "      <th class=\"blank level0\" >&nbsp;</th>\n",
                            "      <th id=\"T_e1d86_level0_col0\" class=\"col_heading level0 col0\" >Accuracy</th>\n",
                            "      <th id=\"T_e1d86_level0_col1\" class=\"col_heading level0 col1\" >AUC</th>\n",
                            "      <th id=\"T_e1d86_level0_col2\" class=\"col_heading level0 col2\" >Recall</th>\n",
                            "      <th id=\"T_e1d86_level0_col3\" class=\"col_heading level0 col3\" >Prec.</th>\n",
                            "      <th id=\"T_e1d86_level0_col4\" class=\"col_heading level0 col4\" >F1</th>\n",
                            "      <th id=\"T_e1d86_level0_col5\" class=\"col_heading level0 col5\" >Kappa</th>\n",
                            "      <th id=\"T_e1d86_level0_col6\" class=\"col_heading level0 col6\" >MCC</th>\n",
                            "    </tr>\n",
                            "    <tr>\n",
                            "      <th class=\"index_name level0\" >Fold</th>\n",
                            "      <th class=\"blank col0\" >&nbsp;</th>\n",
                            "      <th class=\"blank col1\" >&nbsp;</th>\n",
                            "      <th class=\"blank col2\" >&nbsp;</th>\n",
                            "      <th class=\"blank col3\" >&nbsp;</th>\n",
                            "      <th class=\"blank col4\" >&nbsp;</th>\n",
                            "      <th class=\"blank col5\" >&nbsp;</th>\n",
                            "      <th class=\"blank col6\" >&nbsp;</th>\n",
                            "    </tr>\n",
                            "  </thead>\n",
                            "  <tbody>\n",
                            "    <tr>\n",
                            "      <th id=\"T_e1d86_level0_row0\" class=\"row_heading level0 row0\" >0</th>\n",
                            "      <td id=\"T_e1d86_row0_col0\" class=\"data row0 col0\" >0.5113</td>\n",
                            "      <td id=\"T_e1d86_row0_col1\" class=\"data row0 col1\" >0.5440</td>\n",
                            "      <td id=\"T_e1d86_row0_col2\" class=\"data row0 col2\" >0.0000</td>\n",
                            "      <td id=\"T_e1d86_row0_col3\" class=\"data row0 col3\" >0.0000</td>\n",
                            "      <td id=\"T_e1d86_row0_col4\" class=\"data row0 col4\" >0.0000</td>\n",
                            "      <td id=\"T_e1d86_row0_col5\" class=\"data row0 col5\" >-0.0150</td>\n",
                            "      <td id=\"T_e1d86_row0_col6\" class=\"data row0 col6\" >-0.0838</td>\n",
                            "    </tr>\n",
                            "    <tr>\n",
                            "      <th id=\"T_e1d86_level0_row1\" class=\"row_heading level0 row1\" >1</th>\n",
                            "      <td id=\"T_e1d86_row1_col0\" class=\"data row1 col0\" >0.5113</td>\n",
                            "      <td id=\"T_e1d86_row1_col1\" class=\"data row1 col1\" >0.4774</td>\n",
                            "      <td id=\"T_e1d86_row1_col2\" class=\"data row1 col2\" >0.5625</td>\n",
                            "      <td id=\"T_e1d86_row1_col3\" class=\"data row1 col3\" >0.4932</td>\n",
                            "      <td id=\"T_e1d86_row1_col4\" class=\"data row1 col4\" >0.5255</td>\n",
                            "      <td id=\"T_e1d86_row1_col5\" class=\"data row1 col5\" >0.0261</td>\n",
                            "      <td id=\"T_e1d86_row1_col6\" class=\"data row1 col6\" >0.0264</td>\n",
                            "    </tr>\n",
                            "    <tr>\n",
                            "      <th id=\"T_e1d86_level0_row2\" class=\"row_heading level0 row2\" >2</th>\n",
                            "      <td id=\"T_e1d86_row2_col0\" class=\"data row2 col0\" >0.4737</td>\n",
                            "      <td id=\"T_e1d86_row2_col1\" class=\"data row2 col1\" >0.4857</td>\n",
                            "      <td id=\"T_e1d86_row2_col2\" class=\"data row2 col2\" >0.5714</td>\n",
                            "      <td id=\"T_e1d86_row2_col3\" class=\"data row2 col3\" >0.4557</td>\n",
                            "      <td id=\"T_e1d86_row2_col4\" class=\"data row2 col4\" >0.5070</td>\n",
                            "      <td id=\"T_e1d86_row2_col5\" class=\"data row2 col5\" >-0.0423</td>\n",
                            "      <td id=\"T_e1d86_row2_col6\" class=\"data row2 col6\" >-0.0436</td>\n",
                            "    </tr>\n",
                            "    <tr>\n",
                            "      <th id=\"T_e1d86_level0_row3\" class=\"row_heading level0 row3\" >3</th>\n",
                            "      <td id=\"T_e1d86_row3_col0\" class=\"data row3 col0\" >0.6061</td>\n",
                            "      <td id=\"T_e1d86_row3_col1\" class=\"data row3 col1\" >0.6084</td>\n",
                            "      <td id=\"T_e1d86_row3_col2\" class=\"data row3 col2\" >0.6984</td>\n",
                            "      <td id=\"T_e1d86_row3_col3\" class=\"data row3 col3\" >0.5714</td>\n",
                            "      <td id=\"T_e1d86_row3_col4\" class=\"data row3 col4\" >0.6286</td>\n",
                            "      <td id=\"T_e1d86_row3_col5\" class=\"data row3 col5\" >0.2180</td>\n",
                            "      <td id=\"T_e1d86_row3_col6\" class=\"data row3 col6\" >0.2230</td>\n",
                            "    </tr>\n",
                            "    <tr>\n",
                            "      <th id=\"T_e1d86_level0_row4\" class=\"row_heading level0 row4\" >4</th>\n",
                            "      <td id=\"T_e1d86_row4_col0\" class=\"data row4 col0\" >0.5682</td>\n",
                            "      <td id=\"T_e1d86_row4_col1\" class=\"data row4 col1\" >0.6100</td>\n",
                            "      <td id=\"T_e1d86_row4_col2\" class=\"data row4 col2\" >0.5238</td>\n",
                            "      <td id=\"T_e1d86_row4_col3\" class=\"data row4 col3\" >0.5500</td>\n",
                            "      <td id=\"T_e1d86_row4_col4\" class=\"data row4 col4\" >0.5366</td>\n",
                            "      <td id=\"T_e1d86_row4_col5\" class=\"data row4 col5\" >0.1328</td>\n",
                            "      <td id=\"T_e1d86_row4_col6\" class=\"data row4 col6\" >0.1329</td>\n",
                            "    </tr>\n",
                            "    <tr>\n",
                            "      <th id=\"T_e1d86_level0_row5\" class=\"row_heading level0 row5\" >5</th>\n",
                            "      <td id=\"T_e1d86_row5_col0\" class=\"data row5 col0\" >0.5758</td>\n",
                            "      <td id=\"T_e1d86_row5_col1\" class=\"data row5 col1\" >0.6043</td>\n",
                            "      <td id=\"T_e1d86_row5_col2\" class=\"data row5 col2\" >0.5714</td>\n",
                            "      <td id=\"T_e1d86_row5_col3\" class=\"data row5 col3\" >0.5538</td>\n",
                            "      <td id=\"T_e1d86_row5_col4\" class=\"data row5 col4\" >0.5625</td>\n",
                            "      <td id=\"T_e1d86_row5_col5\" class=\"data row5 col5\" >0.1509</td>\n",
                            "      <td id=\"T_e1d86_row5_col6\" class=\"data row5 col6\" >0.1510</td>\n",
                            "    </tr>\n",
                            "    <tr>\n",
                            "      <th id=\"T_e1d86_level0_row6\" class=\"row_heading level0 row6\" >6</th>\n",
                            "      <td id=\"T_e1d86_row6_col0\" class=\"data row6 col0\" >0.4848</td>\n",
                            "      <td id=\"T_e1d86_row6_col1\" class=\"data row6 col1\" >0.4964</td>\n",
                            "      <td id=\"T_e1d86_row6_col2\" class=\"data row6 col2\" >0.4603</td>\n",
                            "      <td id=\"T_e1d86_row6_col3\" class=\"data row6 col3\" >0.4603</td>\n",
                            "      <td id=\"T_e1d86_row6_col4\" class=\"data row6 col4\" >0.4603</td>\n",
                            "      <td id=\"T_e1d86_row6_col5\" class=\"data row6 col5\" >-0.0324</td>\n",
                            "      <td id=\"T_e1d86_row6_col6\" class=\"data row6 col6\" >-0.0324</td>\n",
                            "    </tr>\n",
                            "    <tr>\n",
                            "      <th id=\"T_e1d86_level0_row7\" class=\"row_heading level0 row7\" >7</th>\n",
                            "      <td id=\"T_e1d86_row7_col0\" class=\"data row7 col0\" >0.5227</td>\n",
                            "      <td id=\"T_e1d86_row7_col1\" class=\"data row7 col1\" >0.5052</td>\n",
                            "      <td id=\"T_e1d86_row7_col2\" class=\"data row7 col2\" >0.5238</td>\n",
                            "      <td id=\"T_e1d86_row7_col3\" class=\"data row7 col3\" >0.5000</td>\n",
                            "      <td id=\"T_e1d86_row7_col4\" class=\"data row7 col4\" >0.5116</td>\n",
                            "      <td id=\"T_e1d86_row7_col5\" class=\"data row7 col5\" >0.0455</td>\n",
                            "      <td id=\"T_e1d86_row7_col6\" class=\"data row7 col6\" >0.0455</td>\n",
                            "    </tr>\n",
                            "    <tr>\n",
                            "      <th id=\"T_e1d86_level0_row8\" class=\"row_heading level0 row8\" >8</th>\n",
                            "      <td id=\"T_e1d86_row8_col0\" class=\"data row8 col0\" >0.5985</td>\n",
                            "      <td id=\"T_e1d86_row8_col1\" class=\"data row8 col1\" >0.5824</td>\n",
                            "      <td id=\"T_e1d86_row8_col2\" class=\"data row8 col2\" >0.6825</td>\n",
                            "      <td id=\"T_e1d86_row8_col3\" class=\"data row8 col3\" >0.5658</td>\n",
                            "      <td id=\"T_e1d86_row8_col4\" class=\"data row8 col4\" >0.6187</td>\n",
                            "      <td id=\"T_e1d86_row8_col5\" class=\"data row8 col5\" >0.2025</td>\n",
                            "      <td id=\"T_e1d86_row8_col6\" class=\"data row8 col6\" >0.2065</td>\n",
                            "    </tr>\n",
                            "    <tr>\n",
                            "      <th id=\"T_e1d86_level0_row9\" class=\"row_heading level0 row9\" >9</th>\n",
                            "      <td id=\"T_e1d86_row9_col0\" class=\"data row9 col0\" >0.5455</td>\n",
                            "      <td id=\"T_e1d86_row9_col1\" class=\"data row9 col1\" >0.5794</td>\n",
                            "      <td id=\"T_e1d86_row9_col2\" class=\"data row9 col2\" >0.7778</td>\n",
                            "      <td id=\"T_e1d86_row9_col3\" class=\"data row9 col3\" >0.5158</td>\n",
                            "      <td id=\"T_e1d86_row9_col4\" class=\"data row9 col4\" >0.6203</td>\n",
                            "      <td id=\"T_e1d86_row9_col5\" class=\"data row9 col5\" >0.1087</td>\n",
                            "      <td id=\"T_e1d86_row9_col6\" class=\"data row9 col6\" >0.1236</td>\n",
                            "    </tr>\n",
                            "    <tr>\n",
                            "      <th id=\"T_e1d86_level0_row10\" class=\"row_heading level0 row10\" >Mean</th>\n",
                            "      <td id=\"T_e1d86_row10_col0\" class=\"data row10 col0\" >0.5398</td>\n",
                            "      <td id=\"T_e1d86_row10_col1\" class=\"data row10 col1\" >0.5493</td>\n",
                            "      <td id=\"T_e1d86_row10_col2\" class=\"data row10 col2\" >0.5372</td>\n",
                            "      <td id=\"T_e1d86_row10_col3\" class=\"data row10 col3\" >0.4666</td>\n",
                            "      <td id=\"T_e1d86_row10_col4\" class=\"data row10 col4\" >0.4971</td>\n",
                            "      <td id=\"T_e1d86_row10_col5\" class=\"data row10 col5\" >0.0795</td>\n",
                            "      <td id=\"T_e1d86_row10_col6\" class=\"data row10 col6\" >0.0749</td>\n",
                            "    </tr>\n",
                            "    <tr>\n",
                            "      <th id=\"T_e1d86_level0_row11\" class=\"row_heading level0 row11\" >Std</th>\n",
                            "      <td id=\"T_e1d86_row11_col0\" class=\"data row11 col0\" >0.0439</td>\n",
                            "      <td id=\"T_e1d86_row11_col1\" class=\"data row11 col1\" >0.0512</td>\n",
                            "      <td id=\"T_e1d86_row11_col2\" class=\"data row11 col2\" >0.2007</td>\n",
                            "      <td id=\"T_e1d86_row11_col3\" class=\"data row11 col3\" >0.1605</td>\n",
                            "      <td id=\"T_e1d86_row11_col4\" class=\"data row11 col4\" >0.1740</td>\n",
                            "      <td id=\"T_e1d86_row11_col5\" class=\"data row11 col5\" >0.0913</td>\n",
                            "      <td id=\"T_e1d86_row11_col6\" class=\"data row11 col6\" >0.1023</td>\n",
                            "    </tr>\n",
                            "  </tbody>\n",
                            "</table>\n"
                        ],
                        "text/plain": [
                            "<pandas.io.formats.style.Styler at 0x7fd18af0c730>"
                        ]
                    },
                    "metadata": {},
                    "output_type": "display_data"
                },
                {
                    "data": {
                        "application/vnd.jupyter.widget-view+json": {
                            "model_id": "0068a35af74b41d7a0c1b6d36f4ac485",
                            "version_major": 2,
                            "version_minor": 0
                        },
                        "text/plain": [
                            "Processing:   0%|          | 0/7 [00:00<?, ?it/s]"
                        ]
                    },
                    "metadata": {},
                    "output_type": "display_data"
                },
                {
                    "name": "stdout",
                    "output_type": "stream",
                    "text": [
                        "Fitting 10 folds for each of 10 candidates, totalling 100 fits\n",
                        "Original model was better than the tuned model, hence it will be returned. NOTE: The display metrics are for the tuned model (not the original one).\n"
                    ]
                }
            ],
            "source": [
                "tuned_model_cls = py_cls.tune_model(model_cls)"
            ]
        },
        {
            "cell_type": "code",
            "execution_count": 20,
            "id": "adb6b38c",
            "metadata": {},
            "outputs": [
                {
                    "name": "stdout",
                    "output_type": "stream",
                    "text": [
                        "RandomForestClassifier(bootstrap=True, ccp_alpha=0.0, class_weight=None,\n",
                        "                       criterion='gini', max_depth=None, max_features='sqrt',\n",
                        "                       max_leaf_nodes=None, max_samples=None,\n",
                        "                       min_impurity_decrease=0.0, min_samples_leaf=1,\n",
                        "                       min_samples_split=2, min_weight_fraction_leaf=0.0,\n",
                        "                       n_estimators=100, n_jobs=-1, oob_score=False,\n",
                        "                       random_state=42, verbose=0, warm_start=False)\n"
                    ]
                }
            ],
            "source": [
                "print(tuned_model_cls)"
            ]
        },
        {
            "attachments": {},
            "cell_type": "markdown",
            "id": "correct-economics",
            "metadata": {},
            "source": [
                "### Evaluate Model"
            ]
        },
        {
            "cell_type": "code",
            "execution_count": 21,
            "id": "mechanical-filing",
            "metadata": {},
            "outputs": [
                {
                    "data": {
                        "application/vnd.jupyter.widget-view+json": {
                            "model_id": "325157fedba14318bdf39ea8b888d28a",
                            "version_major": 2,
                            "version_minor": 0
                        },
                        "text/plain": [
                            "interactive(children=(ToggleButtons(description='Plot Type:', icons=('',), options=(('Pipeline Plot', 'pipelin…"
                        ]
                    },
                    "metadata": {},
                    "output_type": "display_data"
                }
            ],
            "source": [
                "py_cls.evaluate_model(tuned_model_cls)"
            ]
        },
        {
            "cell_type": "code",
            "execution_count": 22,
            "id": "graduate-cooling",
            "metadata": {},
            "outputs": [],
            "source": [
                "# py_cls.interpret_model(tuned_model_cls)"
            ]
        },
        {
            "cell_type": "code",
            "execution_count": 23,
            "id": "b3074f56",
            "metadata": {},
            "outputs": [
                {
                    "data": {
                        "text/html": [],
                        "text/plain": [
                            "<IPython.core.display.HTML object>"
                        ]
                    },
                    "metadata": {},
                    "output_type": "display_data"
                }
            ],
            "source": [
                "train_predictions_cls = py_cls.predict_model(tuned_model_cls, data=X_train)"
            ]
        },
        {
            "cell_type": "code",
            "execution_count": 24,
            "id": "45e0bceb",
            "metadata": {},
            "outputs": [
                {
                    "data": {
                        "text/html": [],
                        "text/plain": [
                            "<IPython.core.display.HTML object>"
                        ]
                    },
                    "metadata": {},
                    "output_type": "display_data"
                }
            ],
            "source": [
                "test_predictions_cls = py_cls.predict_model(tuned_model_cls, data=X_test)"
            ]
        },
        {
            "cell_type": "code",
            "execution_count": 25,
            "id": "f5d76fe5",
            "metadata": {},
            "outputs": [],
            "source": [
                "train_accuracy = accuracy_score(train_predictions_cls[\"prediction_label\"], y_train_cls)\n",
                "train_precision = precision_score(\n",
                "    train_predictions_cls[\"prediction_label\"], y_train_cls\n",
                ")\n",
                "\n",
                "test_accuracy = accuracy_score(test_predictions_cls[\"prediction_label\"], y_test_cls)\n",
                "test_precision = precision_score(test_predictions_cls[\"prediction_label\"], y_test_cls)"
            ]
        },
        {
            "cell_type": "code",
            "execution_count": 26,
            "id": "b1491088",
            "metadata": {},
            "outputs": [
                {
                    "name": "stdout",
                    "output_type": "stream",
                    "text": [
                        "Train Accuracy: 1.00\n",
                        "Train Precision: 0.99\n",
                        "Test Accuracy: 0.50\n",
                        "Test Precision: 0.39\n"
                    ]
                }
            ],
            "source": [
                "print(f\"Train Accuracy: {train_accuracy:.2f}\")\n",
                "print(f\"Train Precision: {train_precision:.2f}\")\n",
                "print(f\"Test Accuracy: {test_accuracy:.2f}\")\n",
                "print(f\"Test Precision: {test_precision:.2f}\")"
            ]
        },
        {
            "attachments": {},
            "cell_type": "markdown",
            "id": "parental-cancellation",
            "metadata": {},
            "source": [
                "### Model Finalization and Storage"
            ]
        },
        {
            "cell_type": "code",
            "execution_count": 27,
            "id": "dd84b0b3",
            "metadata": {},
            "outputs": [],
            "source": [
                "final_model_cls = py_cls.finalize_model(tuned_model_cls)"
            ]
        },
        {
            "cell_type": "code",
            "execution_count": 28,
            "id": "1db8c1a4",
            "metadata": {},
            "outputs": [
                {
                    "data": {
                        "text/plain": [
                            "'Classification_RandomForest_100_50_2024-01-25_22-09-20'"
                        ]
                    },
                    "execution_count": 28,
                    "metadata": {},
                    "output_type": "execute_result"
                }
            ],
            "source": [
                "problem_type = \"Classification\"\n",
                "base_model = \"RandomForest\"\n",
                "train_performance = round(train_accuracy * 100)\n",
                "test_performance = round(test_accuracy * 100)\n",
                "\n",
                "model_id = f\"{problem_type}_{base_model}_{train_performance}_{test_performance}_{datetime.datetime.now().strftime('%Y-%m-%d_%H-%M-%S')}\"\n",
                "\n",
                "model_id"
            ]
        },
        {
            "cell_type": "code",
            "execution_count": 29,
            "id": "071f4a17",
            "metadata": {},
            "outputs": [
                {
                    "name": "stdout",
                    "output_type": "stream",
                    "text": [
                        "Transformation Pipeline and Model Successfully Saved\n"
                    ]
                },
                {
                    "data": {
                        "text/plain": [
                            "(Pipeline(memory=FastMemory(location=/tmp/joblib),\n",
                            "          steps=[('numerical_imputer',\n",
                            "                  TransformerWrapper(exclude=None,\n",
                            "                                     include=['day_of_season', 'home_team_rest',\n",
                            "                                              'road_team_rest', 'home_win_pct',\n",
                            "                                              'road_win_pct', 'home_win_pct_l2w',\n",
                            "                                              'road_win_pct_l2w', 'home_avg_pts',\n",
                            "                                              'road_avg_pts', 'home_avg_pts_l2w',\n",
                            "                                              'road_avg_pts_l2w',\n",
                            "                                              'home_avg_oeff', 'road_avg_oeff',\n",
                            "                                              'home_avg_oeff...\n",
                            "                  RandomForestClassifier(bootstrap=True, ccp_alpha=0.0,\n",
                            "                                         class_weight=None, criterion='gini',\n",
                            "                                         max_depth=None, max_features='sqrt',\n",
                            "                                         max_leaf_nodes=None, max_samples=None,\n",
                            "                                         min_impurity_decrease=0.0,\n",
                            "                                         min_samples_leaf=1, min_samples_split=2,\n",
                            "                                         min_weight_fraction_leaf=0.0,\n",
                            "                                         n_estimators=100, n_jobs=-1,\n",
                            "                                         oob_score=False, random_state=42,\n",
                            "                                         verbose=0, warm_start=False))],\n",
                            "          verbose=False),\n",
                            " '../models/AutoML/Classification_RandomForest_100_50_2024-01-25_22-09-20.pkl')"
                        ]
                    },
                    "execution_count": 29,
                    "metadata": {},
                    "output_type": "execute_result"
                }
            ],
            "source": [
                "py_cls.save_model(final_model_cls, f\"../models/AutoML/{model_id}\")"
            ]
        },
        {
            "cell_type": "markdown",
            "id": "dc751042",
            "metadata": {},
            "source": [
                "<a name=\"automl-regression\"></a>\n",
                "\n",
                "## AutoML Regression"
            ]
        },
        {
            "cell_type": "markdown",
            "id": "80c2899a",
            "metadata": {},
            "source": [
                "### Setup and Preprocessing"
            ]
        },
        {
            "cell_type": "code",
            "execution_count": 30,
            "id": "303ff0d7",
            "metadata": {},
            "outputs": [],
            "source": [
                "py_reg = RegressionExperiment()"
            ]
        },
        {
            "cell_type": "code",
            "execution_count": 31,
            "id": "fd35bde5",
            "metadata": {},
            "outputs": [],
            "source": [
                "setup_params_reg = {\n",
                "    \"data\": combined_train_df,\n",
                "    \"test_data\": combined_test_df,\n",
                "    \"target\": \"REG_TARGET\",\n",
                "    \"ignore_features\": [\"CLS_TARGET\"],\n",
                "    \"index\": False,\n",
                "    \"session_id\": 42,\n",
                "}"
            ]
        },
        {
            "cell_type": "code",
            "execution_count": 32,
            "id": "6e25c1b8",
            "metadata": {},
            "outputs": [
                {
                    "data": {
                        "text/html": [
                            "<style type=\"text/css\">\n",
                            "#T_856cf_row9_col1 {\n",
                            "  background-color: lightgreen;\n",
                            "}\n",
                            "</style>\n",
                            "<table id=\"T_856cf\">\n",
                            "  <thead>\n",
                            "    <tr>\n",
                            "      <th class=\"blank level0\" >&nbsp;</th>\n",
                            "      <th id=\"T_856cf_level0_col0\" class=\"col_heading level0 col0\" >Description</th>\n",
                            "      <th id=\"T_856cf_level0_col1\" class=\"col_heading level0 col1\" >Value</th>\n",
                            "    </tr>\n",
                            "  </thead>\n",
                            "  <tbody>\n",
                            "    <tr>\n",
                            "      <th id=\"T_856cf_level0_row0\" class=\"row_heading level0 row0\" >0</th>\n",
                            "      <td id=\"T_856cf_row0_col0\" class=\"data row0 col0\" >Session id</td>\n",
                            "      <td id=\"T_856cf_row0_col1\" class=\"data row0 col1\" >42</td>\n",
                            "    </tr>\n",
                            "    <tr>\n",
                            "      <th id=\"T_856cf_level0_row1\" class=\"row_heading level0 row1\" >1</th>\n",
                            "      <td id=\"T_856cf_row1_col0\" class=\"data row1 col0\" >Target</td>\n",
                            "      <td id=\"T_856cf_row1_col1\" class=\"data row1 col1\" >REG_TARGET</td>\n",
                            "    </tr>\n",
                            "    <tr>\n",
                            "      <th id=\"T_856cf_level0_row2\" class=\"row_heading level0 row2\" >2</th>\n",
                            "      <td id=\"T_856cf_row2_col0\" class=\"data row2 col0\" >Target type</td>\n",
                            "      <td id=\"T_856cf_row2_col1\" class=\"data row2 col1\" >Regression</td>\n",
                            "    </tr>\n",
                            "    <tr>\n",
                            "      <th id=\"T_856cf_level0_row3\" class=\"row_heading level0 row3\" >3</th>\n",
                            "      <td id=\"T_856cf_row3_col0\" class=\"data row3 col0\" >Original data shape</td>\n",
                            "      <td id=\"T_856cf_row3_col1\" class=\"data row3 col1\" >(2643, 41)</td>\n",
                            "    </tr>\n",
                            "    <tr>\n",
                            "      <th id=\"T_856cf_level0_row4\" class=\"row_heading level0 row4\" >4</th>\n",
                            "      <td id=\"T_856cf_row4_col0\" class=\"data row4 col0\" >Transformed data shape</td>\n",
                            "      <td id=\"T_856cf_row4_col1\" class=\"data row4 col1\" >(2643, 40)</td>\n",
                            "    </tr>\n",
                            "    <tr>\n",
                            "      <th id=\"T_856cf_level0_row5\" class=\"row_heading level0 row5\" >5</th>\n",
                            "      <td id=\"T_856cf_row5_col0\" class=\"data row5 col0\" >Transformed train set shape</td>\n",
                            "      <td id=\"T_856cf_row5_col1\" class=\"data row5 col1\" >(1323, 40)</td>\n",
                            "    </tr>\n",
                            "    <tr>\n",
                            "      <th id=\"T_856cf_level0_row6\" class=\"row_heading level0 row6\" >6</th>\n",
                            "      <td id=\"T_856cf_row6_col0\" class=\"data row6 col0\" >Transformed test set shape</td>\n",
                            "      <td id=\"T_856cf_row6_col1\" class=\"data row6 col1\" >(1320, 40)</td>\n",
                            "    </tr>\n",
                            "    <tr>\n",
                            "      <th id=\"T_856cf_level0_row7\" class=\"row_heading level0 row7\" >7</th>\n",
                            "      <td id=\"T_856cf_row7_col0\" class=\"data row7 col0\" >Ignore features</td>\n",
                            "      <td id=\"T_856cf_row7_col1\" class=\"data row7 col1\" >1</td>\n",
                            "    </tr>\n",
                            "    <tr>\n",
                            "      <th id=\"T_856cf_level0_row8\" class=\"row_heading level0 row8\" >8</th>\n",
                            "      <td id=\"T_856cf_row8_col0\" class=\"data row8 col0\" >Numeric features</td>\n",
                            "      <td id=\"T_856cf_row8_col1\" class=\"data row8 col1\" >39</td>\n",
                            "    </tr>\n",
                            "    <tr>\n",
                            "      <th id=\"T_856cf_level0_row9\" class=\"row_heading level0 row9\" >9</th>\n",
                            "      <td id=\"T_856cf_row9_col0\" class=\"data row9 col0\" >Preprocess</td>\n",
                            "      <td id=\"T_856cf_row9_col1\" class=\"data row9 col1\" >True</td>\n",
                            "    </tr>\n",
                            "    <tr>\n",
                            "      <th id=\"T_856cf_level0_row10\" class=\"row_heading level0 row10\" >10</th>\n",
                            "      <td id=\"T_856cf_row10_col0\" class=\"data row10 col0\" >Imputation type</td>\n",
                            "      <td id=\"T_856cf_row10_col1\" class=\"data row10 col1\" >simple</td>\n",
                            "    </tr>\n",
                            "    <tr>\n",
                            "      <th id=\"T_856cf_level0_row11\" class=\"row_heading level0 row11\" >11</th>\n",
                            "      <td id=\"T_856cf_row11_col0\" class=\"data row11 col0\" >Numeric imputation</td>\n",
                            "      <td id=\"T_856cf_row11_col1\" class=\"data row11 col1\" >mean</td>\n",
                            "    </tr>\n",
                            "    <tr>\n",
                            "      <th id=\"T_856cf_level0_row12\" class=\"row_heading level0 row12\" >12</th>\n",
                            "      <td id=\"T_856cf_row12_col0\" class=\"data row12 col0\" >Categorical imputation</td>\n",
                            "      <td id=\"T_856cf_row12_col1\" class=\"data row12 col1\" >mode</td>\n",
                            "    </tr>\n",
                            "    <tr>\n",
                            "      <th id=\"T_856cf_level0_row13\" class=\"row_heading level0 row13\" >13</th>\n",
                            "      <td id=\"T_856cf_row13_col0\" class=\"data row13 col0\" >Fold Generator</td>\n",
                            "      <td id=\"T_856cf_row13_col1\" class=\"data row13 col1\" >KFold</td>\n",
                            "    </tr>\n",
                            "    <tr>\n",
                            "      <th id=\"T_856cf_level0_row14\" class=\"row_heading level0 row14\" >14</th>\n",
                            "      <td id=\"T_856cf_row14_col0\" class=\"data row14 col0\" >Fold Number</td>\n",
                            "      <td id=\"T_856cf_row14_col1\" class=\"data row14 col1\" >10</td>\n",
                            "    </tr>\n",
                            "    <tr>\n",
                            "      <th id=\"T_856cf_level0_row15\" class=\"row_heading level0 row15\" >15</th>\n",
                            "      <td id=\"T_856cf_row15_col0\" class=\"data row15 col0\" >CPU Jobs</td>\n",
                            "      <td id=\"T_856cf_row15_col1\" class=\"data row15 col1\" >-1</td>\n",
                            "    </tr>\n",
                            "    <tr>\n",
                            "      <th id=\"T_856cf_level0_row16\" class=\"row_heading level0 row16\" >16</th>\n",
                            "      <td id=\"T_856cf_row16_col0\" class=\"data row16 col0\" >Use GPU</td>\n",
                            "      <td id=\"T_856cf_row16_col1\" class=\"data row16 col1\" >False</td>\n",
                            "    </tr>\n",
                            "    <tr>\n",
                            "      <th id=\"T_856cf_level0_row17\" class=\"row_heading level0 row17\" >17</th>\n",
                            "      <td id=\"T_856cf_row17_col0\" class=\"data row17 col0\" >Log Experiment</td>\n",
                            "      <td id=\"T_856cf_row17_col1\" class=\"data row17 col1\" >False</td>\n",
                            "    </tr>\n",
                            "    <tr>\n",
                            "      <th id=\"T_856cf_level0_row18\" class=\"row_heading level0 row18\" >18</th>\n",
                            "      <td id=\"T_856cf_row18_col0\" class=\"data row18 col0\" >Experiment Name</td>\n",
                            "      <td id=\"T_856cf_row18_col1\" class=\"data row18 col1\" >reg-default-name</td>\n",
                            "    </tr>\n",
                            "    <tr>\n",
                            "      <th id=\"T_856cf_level0_row19\" class=\"row_heading level0 row19\" >19</th>\n",
                            "      <td id=\"T_856cf_row19_col0\" class=\"data row19 col0\" >USI</td>\n",
                            "      <td id=\"T_856cf_row19_col1\" class=\"data row19 col1\" >63a2</td>\n",
                            "    </tr>\n",
                            "  </tbody>\n",
                            "</table>\n"
                        ],
                        "text/plain": [
                            "<pandas.io.formats.style.Styler at 0x7fd1a50d9150>"
                        ]
                    },
                    "metadata": {},
                    "output_type": "display_data"
                },
                {
                    "data": {
                        "text/plain": [
                            "<pycaret.regression.oop.RegressionExperiment at 0x7fd118635a50>"
                        ]
                    },
                    "execution_count": 32,
                    "metadata": {},
                    "output_type": "execute_result"
                }
            ],
            "source": [
                "py_reg.setup(**setup_params_reg)"
            ]
        },
        {
            "cell_type": "markdown",
            "id": "10ce1df1",
            "metadata": {},
            "source": [
                "### Compare Models"
            ]
        },
        {
            "cell_type": "code",
            "execution_count": 33,
            "id": "2a547580",
            "metadata": {},
            "outputs": [
                {
                    "data": {
                        "text/html": [],
                        "text/plain": [
                            "<IPython.core.display.HTML object>"
                        ]
                    },
                    "metadata": {},
                    "output_type": "display_data"
                },
                {
                    "data": {
                        "text/html": [
                            "<style type=\"text/css\">\n",
                            "#T_e99ff th {\n",
                            "  text-align: left;\n",
                            "}\n",
                            "#T_e99ff_row0_col0, #T_e99ff_row0_col5, #T_e99ff_row0_col6, #T_e99ff_row1_col0, #T_e99ff_row1_col1, #T_e99ff_row1_col2, #T_e99ff_row1_col3, #T_e99ff_row1_col4, #T_e99ff_row1_col5, #T_e99ff_row1_col6, #T_e99ff_row2_col0, #T_e99ff_row2_col1, #T_e99ff_row2_col2, #T_e99ff_row2_col3, #T_e99ff_row2_col4, #T_e99ff_row2_col5, #T_e99ff_row2_col6, #T_e99ff_row3_col0, #T_e99ff_row3_col1, #T_e99ff_row3_col2, #T_e99ff_row3_col3, #T_e99ff_row3_col4, #T_e99ff_row3_col5, #T_e99ff_row3_col6, #T_e99ff_row4_col0, #T_e99ff_row4_col1, #T_e99ff_row4_col2, #T_e99ff_row4_col3, #T_e99ff_row4_col4, #T_e99ff_row4_col5, #T_e99ff_row4_col6, #T_e99ff_row5_col0, #T_e99ff_row5_col1, #T_e99ff_row5_col2, #T_e99ff_row5_col3, #T_e99ff_row5_col4, #T_e99ff_row5_col5, #T_e99ff_row5_col6, #T_e99ff_row6_col0, #T_e99ff_row6_col1, #T_e99ff_row6_col2, #T_e99ff_row6_col3, #T_e99ff_row6_col4, #T_e99ff_row6_col5, #T_e99ff_row6_col6, #T_e99ff_row7_col0, #T_e99ff_row7_col1, #T_e99ff_row7_col2, #T_e99ff_row7_col3, #T_e99ff_row7_col4, #T_e99ff_row7_col5, #T_e99ff_row7_col6, #T_e99ff_row8_col0, #T_e99ff_row8_col1, #T_e99ff_row8_col2, #T_e99ff_row8_col3, #T_e99ff_row8_col4, #T_e99ff_row8_col5, #T_e99ff_row8_col6, #T_e99ff_row9_col0, #T_e99ff_row9_col1, #T_e99ff_row9_col2, #T_e99ff_row9_col3, #T_e99ff_row9_col4, #T_e99ff_row9_col5, #T_e99ff_row9_col6, #T_e99ff_row10_col0, #T_e99ff_row10_col1, #T_e99ff_row10_col2, #T_e99ff_row10_col3, #T_e99ff_row10_col4, #T_e99ff_row10_col5, #T_e99ff_row10_col6, #T_e99ff_row11_col0, #T_e99ff_row11_col1, #T_e99ff_row11_col2, #T_e99ff_row11_col3, #T_e99ff_row11_col4, #T_e99ff_row11_col5, #T_e99ff_row11_col6, #T_e99ff_row12_col0, #T_e99ff_row12_col1, #T_e99ff_row12_col2, #T_e99ff_row12_col3, #T_e99ff_row12_col4, #T_e99ff_row12_col5, #T_e99ff_row13_col0, #T_e99ff_row13_col1, #T_e99ff_row13_col2, #T_e99ff_row13_col3, #T_e99ff_row13_col4, #T_e99ff_row13_col5, #T_e99ff_row13_col6, #T_e99ff_row14_col0, #T_e99ff_row14_col1, #T_e99ff_row14_col2, #T_e99ff_row14_col3, #T_e99ff_row14_col4, #T_e99ff_row14_col5, #T_e99ff_row14_col6, #T_e99ff_row15_col0, #T_e99ff_row15_col1, #T_e99ff_row15_col2, #T_e99ff_row15_col3, #T_e99ff_row15_col4, #T_e99ff_row15_col5, #T_e99ff_row15_col6, #T_e99ff_row16_col0, #T_e99ff_row16_col1, #T_e99ff_row16_col2, #T_e99ff_row16_col3, #T_e99ff_row16_col4, #T_e99ff_row16_col5, #T_e99ff_row16_col6, #T_e99ff_row17_col0, #T_e99ff_row17_col1, #T_e99ff_row17_col2, #T_e99ff_row17_col3, #T_e99ff_row17_col4, #T_e99ff_row17_col6 {\n",
                            "  text-align: left;\n",
                            "}\n",
                            "#T_e99ff_row0_col1, #T_e99ff_row0_col2, #T_e99ff_row0_col3, #T_e99ff_row0_col4, #T_e99ff_row12_col6, #T_e99ff_row17_col5 {\n",
                            "  text-align: left;\n",
                            "  background-color: yellow;\n",
                            "}\n",
                            "#T_e99ff_row0_col7, #T_e99ff_row1_col7, #T_e99ff_row3_col7, #T_e99ff_row4_col7, #T_e99ff_row5_col7, #T_e99ff_row6_col7, #T_e99ff_row7_col7, #T_e99ff_row8_col7, #T_e99ff_row9_col7, #T_e99ff_row10_col7, #T_e99ff_row11_col7, #T_e99ff_row12_col7, #T_e99ff_row13_col7, #T_e99ff_row14_col7, #T_e99ff_row15_col7, #T_e99ff_row16_col7, #T_e99ff_row17_col7 {\n",
                            "  text-align: left;\n",
                            "  background-color: lightgrey;\n",
                            "}\n",
                            "#T_e99ff_row2_col7 {\n",
                            "  text-align: left;\n",
                            "  background-color: yellow;\n",
                            "  background-color: lightgrey;\n",
                            "}\n",
                            "</style>\n",
                            "<table id=\"T_e99ff\">\n",
                            "  <thead>\n",
                            "    <tr>\n",
                            "      <th class=\"blank level0\" >&nbsp;</th>\n",
                            "      <th id=\"T_e99ff_level0_col0\" class=\"col_heading level0 col0\" >Model</th>\n",
                            "      <th id=\"T_e99ff_level0_col1\" class=\"col_heading level0 col1\" >MAE</th>\n",
                            "      <th id=\"T_e99ff_level0_col2\" class=\"col_heading level0 col2\" >MSE</th>\n",
                            "      <th id=\"T_e99ff_level0_col3\" class=\"col_heading level0 col3\" >RMSE</th>\n",
                            "      <th id=\"T_e99ff_level0_col4\" class=\"col_heading level0 col4\" >R2</th>\n",
                            "      <th id=\"T_e99ff_level0_col5\" class=\"col_heading level0 col5\" >RMSLE</th>\n",
                            "      <th id=\"T_e99ff_level0_col6\" class=\"col_heading level0 col6\" >MAPE</th>\n",
                            "      <th id=\"T_e99ff_level0_col7\" class=\"col_heading level0 col7\" >TT (Sec)</th>\n",
                            "    </tr>\n",
                            "  </thead>\n",
                            "  <tbody>\n",
                            "    <tr>\n",
                            "      <th id=\"T_e99ff_level0_row0\" class=\"row_heading level0 row0\" >et</th>\n",
                            "      <td id=\"T_e99ff_row0_col0\" class=\"data row0 col0\" >Extra Trees Regressor</td>\n",
                            "      <td id=\"T_e99ff_row0_col1\" class=\"data row0 col1\" >11.6363</td>\n",
                            "      <td id=\"T_e99ff_row0_col2\" class=\"data row0 col2\" >216.4178</td>\n",
                            "      <td id=\"T_e99ff_row0_col3\" class=\"data row0 col3\" >14.6855</td>\n",
                            "      <td id=\"T_e99ff_row0_col4\" class=\"data row0 col4\" >0.0669</td>\n",
                            "      <td id=\"T_e99ff_row0_col5\" class=\"data row0 col5\" >1.2384</td>\n",
                            "      <td id=\"T_e99ff_row0_col6\" class=\"data row0 col6\" >1.2031</td>\n",
                            "      <td id=\"T_e99ff_row0_col7\" class=\"data row0 col7\" >0.6390</td>\n",
                            "    </tr>\n",
                            "    <tr>\n",
                            "      <th id=\"T_e99ff_level0_row1\" class=\"row_heading level0 row1\" >rf</th>\n",
                            "      <td id=\"T_e99ff_row1_col0\" class=\"data row1 col0\" >Random Forest Regressor</td>\n",
                            "      <td id=\"T_e99ff_row1_col1\" class=\"data row1 col1\" >11.6487</td>\n",
                            "      <td id=\"T_e99ff_row1_col2\" class=\"data row1 col2\" >217.4325</td>\n",
                            "      <td id=\"T_e99ff_row1_col3\" class=\"data row1 col3\" >14.7174</td>\n",
                            "      <td id=\"T_e99ff_row1_col4\" class=\"data row1 col4\" >0.0611</td>\n",
                            "      <td id=\"T_e99ff_row1_col5\" class=\"data row1 col5\" >1.2392</td>\n",
                            "      <td id=\"T_e99ff_row1_col6\" class=\"data row1 col6\" >1.2005</td>\n",
                            "      <td id=\"T_e99ff_row1_col7\" class=\"data row1 col7\" >0.4530</td>\n",
                            "    </tr>\n",
                            "    <tr>\n",
                            "      <th id=\"T_e99ff_level0_row2\" class=\"row_heading level0 row2\" >ridge</th>\n",
                            "      <td id=\"T_e99ff_row2_col0\" class=\"data row2 col0\" >Ridge Regression</td>\n",
                            "      <td id=\"T_e99ff_row2_col1\" class=\"data row2 col1\" >11.7438</td>\n",
                            "      <td id=\"T_e99ff_row2_col2\" class=\"data row2 col2\" >220.8187</td>\n",
                            "      <td id=\"T_e99ff_row2_col3\" class=\"data row2 col3\" >14.8102</td>\n",
                            "      <td id=\"T_e99ff_row2_col4\" class=\"data row2 col4\" >0.0463</td>\n",
                            "      <td id=\"T_e99ff_row2_col5\" class=\"data row2 col5\" >1.2930</td>\n",
                            "      <td id=\"T_e99ff_row2_col6\" class=\"data row2 col6\" >1.2187</td>\n",
                            "      <td id=\"T_e99ff_row2_col7\" class=\"data row2 col7\" >0.3320</td>\n",
                            "    </tr>\n",
                            "    <tr>\n",
                            "      <th id=\"T_e99ff_level0_row3\" class=\"row_heading level0 row3\" >br</th>\n",
                            "      <td id=\"T_e99ff_row3_col0\" class=\"data row3 col0\" >Bayesian Ridge</td>\n",
                            "      <td id=\"T_e99ff_row3_col1\" class=\"data row3 col1\" >11.7699</td>\n",
                            "      <td id=\"T_e99ff_row3_col2\" class=\"data row3 col2\" >221.8191</td>\n",
                            "      <td id=\"T_e99ff_row3_col3\" class=\"data row3 col3\" >14.8413</td>\n",
                            "      <td id=\"T_e99ff_row3_col4\" class=\"data row3 col4\" >0.0428</td>\n",
                            "      <td id=\"T_e99ff_row3_col5\" class=\"data row3 col5\" >1.3665</td>\n",
                            "      <td id=\"T_e99ff_row3_col6\" class=\"data row3 col6\" >1.1629</td>\n",
                            "      <td id=\"T_e99ff_row3_col7\" class=\"data row3 col7\" >0.3810</td>\n",
                            "    </tr>\n",
                            "    <tr>\n",
                            "      <th id=\"T_e99ff_level0_row4\" class=\"row_heading level0 row4\" >en</th>\n",
                            "      <td id=\"T_e99ff_row4_col0\" class=\"data row4 col0\" >Elastic Net</td>\n",
                            "      <td id=\"T_e99ff_row4_col1\" class=\"data row4 col1\" >11.7846</td>\n",
                            "      <td id=\"T_e99ff_row4_col2\" class=\"data row4 col2\" >223.3422</td>\n",
                            "      <td id=\"T_e99ff_row4_col3\" class=\"data row4 col3\" >14.8815</td>\n",
                            "      <td id=\"T_e99ff_row4_col4\" class=\"data row4 col4\" >0.0356</td>\n",
                            "      <td id=\"T_e99ff_row4_col5\" class=\"data row4 col5\" >1.3645</td>\n",
                            "      <td id=\"T_e99ff_row4_col6\" class=\"data row4 col6\" >1.1781</td>\n",
                            "      <td id=\"T_e99ff_row4_col7\" class=\"data row4 col7\" >0.3650</td>\n",
                            "    </tr>\n",
                            "    <tr>\n",
                            "      <th id=\"T_e99ff_level0_row5\" class=\"row_heading level0 row5\" >huber</th>\n",
                            "      <td id=\"T_e99ff_row5_col0\" class=\"data row5 col0\" >Huber Regressor</td>\n",
                            "      <td id=\"T_e99ff_row5_col1\" class=\"data row5 col1\" >11.8000</td>\n",
                            "      <td id=\"T_e99ff_row5_col2\" class=\"data row5 col2\" >223.6563</td>\n",
                            "      <td id=\"T_e99ff_row5_col3\" class=\"data row5 col3\" >14.9016</td>\n",
                            "      <td id=\"T_e99ff_row5_col4\" class=\"data row5 col4\" >0.0330</td>\n",
                            "      <td id=\"T_e99ff_row5_col5\" class=\"data row5 col5\" >1.2828</td>\n",
                            "      <td id=\"T_e99ff_row5_col6\" class=\"data row5 col6\" >1.2074</td>\n",
                            "      <td id=\"T_e99ff_row5_col7\" class=\"data row5 col7\" >0.3600</td>\n",
                            "    </tr>\n",
                            "    <tr>\n",
                            "      <th id=\"T_e99ff_level0_row6\" class=\"row_heading level0 row6\" >lasso</th>\n",
                            "      <td id=\"T_e99ff_row6_col0\" class=\"data row6 col0\" >Lasso Regression</td>\n",
                            "      <td id=\"T_e99ff_row6_col1\" class=\"data row6 col1\" >11.8559</td>\n",
                            "      <td id=\"T_e99ff_row6_col2\" class=\"data row6 col2\" >225.8953</td>\n",
                            "      <td id=\"T_e99ff_row6_col3\" class=\"data row6 col3\" >14.9581</td>\n",
                            "      <td id=\"T_e99ff_row6_col4\" class=\"data row6 col4\" >0.0243</td>\n",
                            "      <td id=\"T_e99ff_row6_col5\" class=\"data row6 col5\" >1.3769</td>\n",
                            "      <td id=\"T_e99ff_row6_col6\" class=\"data row6 col6\" >1.1817</td>\n",
                            "      <td id=\"T_e99ff_row6_col7\" class=\"data row6 col7\" >0.3340</td>\n",
                            "    </tr>\n",
                            "    <tr>\n",
                            "      <th id=\"T_e99ff_level0_row7\" class=\"row_heading level0 row7\" >llar</th>\n",
                            "      <td id=\"T_e99ff_row7_col0\" class=\"data row7 col0\" >Lasso Least Angle Regression</td>\n",
                            "      <td id=\"T_e99ff_row7_col1\" class=\"data row7 col1\" >11.8567</td>\n",
                            "      <td id=\"T_e99ff_row7_col2\" class=\"data row7 col2\" >225.9152</td>\n",
                            "      <td id=\"T_e99ff_row7_col3\" class=\"data row7 col3\" >14.9587</td>\n",
                            "      <td id=\"T_e99ff_row7_col4\" class=\"data row7 col4\" >0.0243</td>\n",
                            "      <td id=\"T_e99ff_row7_col5\" class=\"data row7 col5\" >1.3769</td>\n",
                            "      <td id=\"T_e99ff_row7_col6\" class=\"data row7 col6\" >1.1818</td>\n",
                            "      <td id=\"T_e99ff_row7_col7\" class=\"data row7 col7\" >0.3790</td>\n",
                            "    </tr>\n",
                            "    <tr>\n",
                            "      <th id=\"T_e99ff_level0_row8\" class=\"row_heading level0 row8\" >lr</th>\n",
                            "      <td id=\"T_e99ff_row8_col0\" class=\"data row8 col0\" >Linear Regression</td>\n",
                            "      <td id=\"T_e99ff_row8_col1\" class=\"data row8 col1\" >11.8617</td>\n",
                            "      <td id=\"T_e99ff_row8_col2\" class=\"data row8 col2\" >227.7831</td>\n",
                            "      <td id=\"T_e99ff_row8_col3\" class=\"data row8 col3\" >15.0196</td>\n",
                            "      <td id=\"T_e99ff_row8_col4\" class=\"data row8 col4\" >0.0149</td>\n",
                            "      <td id=\"T_e99ff_row8_col5\" class=\"data row8 col5\" >1.2671</td>\n",
                            "      <td id=\"T_e99ff_row8_col6\" class=\"data row8 col6\" >1.2597</td>\n",
                            "      <td id=\"T_e99ff_row8_col7\" class=\"data row8 col7\" >0.3720</td>\n",
                            "    </tr>\n",
                            "    <tr>\n",
                            "      <th id=\"T_e99ff_level0_row9\" class=\"row_heading level0 row9\" >ada</th>\n",
                            "      <td id=\"T_e99ff_row9_col0\" class=\"data row9 col0\" >AdaBoost Regressor</td>\n",
                            "      <td id=\"T_e99ff_row9_col1\" class=\"data row9 col1\" >11.9364</td>\n",
                            "      <td id=\"T_e99ff_row9_col2\" class=\"data row9 col2\" >225.9180</td>\n",
                            "      <td id=\"T_e99ff_row9_col3\" class=\"data row9 col3\" >15.0131</td>\n",
                            "      <td id=\"T_e99ff_row9_col4\" class=\"data row9 col4\" >0.0224</td>\n",
                            "      <td id=\"T_e99ff_row9_col5\" class=\"data row9 col5\" >1.1434</td>\n",
                            "      <td id=\"T_e99ff_row9_col6\" class=\"data row9 col6\" >1.2729</td>\n",
                            "      <td id=\"T_e99ff_row9_col7\" class=\"data row9 col7\" >0.5480</td>\n",
                            "    </tr>\n",
                            "    <tr>\n",
                            "      <th id=\"T_e99ff_level0_row10\" class=\"row_heading level0 row10\" >omp</th>\n",
                            "      <td id=\"T_e99ff_row10_col0\" class=\"data row10 col0\" >Orthogonal Matching Pursuit</td>\n",
                            "      <td id=\"T_e99ff_row10_col1\" class=\"data row10 col1\" >12.1105</td>\n",
                            "      <td id=\"T_e99ff_row10_col2\" class=\"data row10 col2\" >233.8623</td>\n",
                            "      <td id=\"T_e99ff_row10_col3\" class=\"data row10 col3\" >15.2560</td>\n",
                            "      <td id=\"T_e99ff_row10_col4\" class=\"data row10 col4\" >-0.0076</td>\n",
                            "      <td id=\"T_e99ff_row10_col5\" class=\"data row10 col5\" >1.4872</td>\n",
                            "      <td id=\"T_e99ff_row10_col6\" class=\"data row10 col6\" >1.0929</td>\n",
                            "      <td id=\"T_e99ff_row10_col7\" class=\"data row10 col7\" >0.3910</td>\n",
                            "    </tr>\n",
                            "    <tr>\n",
                            "      <th id=\"T_e99ff_level0_row11\" class=\"row_heading level0 row11\" >lightgbm</th>\n",
                            "      <td id=\"T_e99ff_row11_col0\" class=\"data row11 col0\" >Light Gradient Boosting Machine</td>\n",
                            "      <td id=\"T_e99ff_row11_col1\" class=\"data row11 col1\" >12.1551</td>\n",
                            "      <td id=\"T_e99ff_row11_col2\" class=\"data row11 col2\" >233.6773</td>\n",
                            "      <td id=\"T_e99ff_row11_col3\" class=\"data row11 col3\" >15.2617</td>\n",
                            "      <td id=\"T_e99ff_row11_col4\" class=\"data row11 col4\" >-0.0106</td>\n",
                            "      <td id=\"T_e99ff_row11_col5\" class=\"data row11 col5\" >1.1895</td>\n",
                            "      <td id=\"T_e99ff_row11_col6\" class=\"data row11 col6\" >1.3390</td>\n",
                            "      <td id=\"T_e99ff_row11_col7\" class=\"data row11 col7\" >0.6030</td>\n",
                            "    </tr>\n",
                            "    <tr>\n",
                            "      <th id=\"T_e99ff_level0_row12\" class=\"row_heading level0 row12\" >dummy</th>\n",
                            "      <td id=\"T_e99ff_row12_col0\" class=\"data row12 col0\" >Dummy Regressor</td>\n",
                            "      <td id=\"T_e99ff_row12_col1\" class=\"data row12 col1\" >12.2601</td>\n",
                            "      <td id=\"T_e99ff_row12_col2\" class=\"data row12 col2\" >235.0535</td>\n",
                            "      <td id=\"T_e99ff_row12_col3\" class=\"data row12 col3\" >15.2985</td>\n",
                            "      <td id=\"T_e99ff_row12_col4\" class=\"data row12 col4\" >-0.0106</td>\n",
                            "      <td id=\"T_e99ff_row12_col5\" class=\"data row12 col5\" >1.4850</td>\n",
                            "      <td id=\"T_e99ff_row12_col6\" class=\"data row12 col6\" >1.0241</td>\n",
                            "      <td id=\"T_e99ff_row12_col7\" class=\"data row12 col7\" >0.5930</td>\n",
                            "    </tr>\n",
                            "    <tr>\n",
                            "      <th id=\"T_e99ff_level0_row13\" class=\"row_heading level0 row13\" >gbr</th>\n",
                            "      <td id=\"T_e99ff_row13_col0\" class=\"data row13 col0\" >Gradient Boosting Regressor</td>\n",
                            "      <td id=\"T_e99ff_row13_col1\" class=\"data row13 col1\" >12.2819</td>\n",
                            "      <td id=\"T_e99ff_row13_col2\" class=\"data row13 col2\" >250.7507</td>\n",
                            "      <td id=\"T_e99ff_row13_col3\" class=\"data row13 col3\" >15.6159</td>\n",
                            "      <td id=\"T_e99ff_row13_col4\" class=\"data row13 col4\" >-0.0890</td>\n",
                            "      <td id=\"T_e99ff_row13_col5\" class=\"data row13 col5\" >1.2366</td>\n",
                            "      <td id=\"T_e99ff_row13_col6\" class=\"data row13 col6\" >1.3483</td>\n",
                            "      <td id=\"T_e99ff_row13_col7\" class=\"data row13 col7\" >0.6520</td>\n",
                            "    </tr>\n",
                            "    <tr>\n",
                            "      <th id=\"T_e99ff_level0_row14\" class=\"row_heading level0 row14\" >knn</th>\n",
                            "      <td id=\"T_e99ff_row14_col0\" class=\"data row14 col0\" >K Neighbors Regressor</td>\n",
                            "      <td id=\"T_e99ff_row14_col1\" class=\"data row14 col1\" >12.4649</td>\n",
                            "      <td id=\"T_e99ff_row14_col2\" class=\"data row14 col2\" >245.2399</td>\n",
                            "      <td id=\"T_e99ff_row14_col3\" class=\"data row14 col3\" >15.6260</td>\n",
                            "      <td id=\"T_e99ff_row14_col4\" class=\"data row14 col4\" >-0.0571</td>\n",
                            "      <td id=\"T_e99ff_row14_col5\" class=\"data row14 col5\" >1.1571</td>\n",
                            "      <td id=\"T_e99ff_row14_col6\" class=\"data row14 col6\" >1.3594</td>\n",
                            "      <td id=\"T_e99ff_row14_col7\" class=\"data row14 col7\" >0.3700</td>\n",
                            "    </tr>\n",
                            "    <tr>\n",
                            "      <th id=\"T_e99ff_level0_row15\" class=\"row_heading level0 row15\" >xgboost</th>\n",
                            "      <td id=\"T_e99ff_row15_col0\" class=\"data row15 col0\" >Extreme Gradient Boosting</td>\n",
                            "      <td id=\"T_e99ff_row15_col1\" class=\"data row15 col1\" >12.7335</td>\n",
                            "      <td id=\"T_e99ff_row15_col2\" class=\"data row15 col2\" >256.5681</td>\n",
                            "      <td id=\"T_e99ff_row15_col3\" class=\"data row15 col3\" >15.9770</td>\n",
                            "      <td id=\"T_e99ff_row15_col4\" class=\"data row15 col4\" >-0.1093</td>\n",
                            "      <td id=\"T_e99ff_row15_col5\" class=\"data row15 col5\" >1.1802</td>\n",
                            "      <td id=\"T_e99ff_row15_col6\" class=\"data row15 col6\" >1.5065</td>\n",
                            "      <td id=\"T_e99ff_row15_col7\" class=\"data row15 col7\" >0.7320</td>\n",
                            "    </tr>\n",
                            "    <tr>\n",
                            "      <th id=\"T_e99ff_level0_row16\" class=\"row_heading level0 row16\" >par</th>\n",
                            "      <td id=\"T_e99ff_row16_col0\" class=\"data row16 col0\" >Passive Aggressive Regressor</td>\n",
                            "      <td id=\"T_e99ff_row16_col1\" class=\"data row16 col1\" >15.0228</td>\n",
                            "      <td id=\"T_e99ff_row16_col2\" class=\"data row16 col2\" >357.3304</td>\n",
                            "      <td id=\"T_e99ff_row16_col3\" class=\"data row16 col3\" >18.5707</td>\n",
                            "      <td id=\"T_e99ff_row16_col4\" class=\"data row16 col4\" >-0.5354</td>\n",
                            "      <td id=\"T_e99ff_row16_col5\" class=\"data row16 col5\" >1.0414</td>\n",
                            "      <td id=\"T_e99ff_row16_col6\" class=\"data row16 col6\" >2.0482</td>\n",
                            "      <td id=\"T_e99ff_row16_col7\" class=\"data row16 col7\" >0.3740</td>\n",
                            "    </tr>\n",
                            "    <tr>\n",
                            "      <th id=\"T_e99ff_level0_row17\" class=\"row_heading level0 row17\" >dt</th>\n",
                            "      <td id=\"T_e99ff_row17_col0\" class=\"data row17 col0\" >Decision Tree Regressor</td>\n",
                            "      <td id=\"T_e99ff_row17_col1\" class=\"data row17 col1\" >16.5521</td>\n",
                            "      <td id=\"T_e99ff_row17_col2\" class=\"data row17 col2\" >435.4845</td>\n",
                            "      <td id=\"T_e99ff_row17_col3\" class=\"data row17 col3\" >20.8325</td>\n",
                            "      <td id=\"T_e99ff_row17_col4\" class=\"data row17 col4\" >-0.8977</td>\n",
                            "      <td id=\"T_e99ff_row17_col5\" class=\"data row17 col5\" >1.0291</td>\n",
                            "      <td id=\"T_e99ff_row17_col6\" class=\"data row17 col6\" >2.2819</td>\n",
                            "      <td id=\"T_e99ff_row17_col7\" class=\"data row17 col7\" >0.4200</td>\n",
                            "    </tr>\n",
                            "  </tbody>\n",
                            "</table>\n"
                        ],
                        "text/plain": [
                            "<pandas.io.formats.style.Styler at 0x7fd1dd3496f0>"
                        ]
                    },
                    "metadata": {},
                    "output_type": "display_data"
                },
                {
                    "data": {
                        "application/vnd.jupyter.widget-view+json": {
                            "model_id": "4e2ac6d9f976429889b3e6b8db573ca1",
                            "version_major": 2,
                            "version_minor": 0
                        },
                        "text/plain": [
                            "Processing:   0%|          | 0/77 [00:00<?, ?it/s]"
                        ]
                    },
                    "metadata": {},
                    "output_type": "display_data"
                }
            ],
            "source": [
                "best_model_reg = py_reg.compare_models(\n",
                "    turbo=True, sort=\"MAE\", exclude=[\"catboost\", \"lar\"]\n",
                ")"
            ]
        },
        {
            "cell_type": "code",
            "execution_count": 34,
            "id": "a990669b",
            "metadata": {},
            "outputs": [
                {
                    "name": "stdout",
                    "output_type": "stream",
                    "text": [
                        "ExtraTreesRegressor(bootstrap=False, ccp_alpha=0.0, criterion='squared_error',\n",
                        "                    max_depth=None, max_features=1.0, max_leaf_nodes=None,\n",
                        "                    max_samples=None, min_impurity_decrease=0.0,\n",
                        "                    min_samples_leaf=1, min_samples_split=2,\n",
                        "                    min_weight_fraction_leaf=0.0, n_estimators=100, n_jobs=-1,\n",
                        "                    oob_score=False, random_state=42, verbose=0,\n",
                        "                    warm_start=False)\n"
                    ]
                }
            ],
            "source": [
                "print(best_model_reg)"
            ]
        },
        {
            "cell_type": "markdown",
            "id": "a5d01569",
            "metadata": {},
            "source": [
                "### Create Selected Model"
            ]
        },
        {
            "cell_type": "code",
            "execution_count": 35,
            "id": "e1a2d341",
            "metadata": {},
            "outputs": [
                {
                    "data": {
                        "text/html": [],
                        "text/plain": [
                            "<IPython.core.display.HTML object>"
                        ]
                    },
                    "metadata": {},
                    "output_type": "display_data"
                },
                {
                    "data": {
                        "text/html": [
                            "<style type=\"text/css\">\n",
                            "#T_46c5c_row10_col0, #T_46c5c_row10_col1, #T_46c5c_row10_col2, #T_46c5c_row10_col3, #T_46c5c_row10_col4, #T_46c5c_row10_col5 {\n",
                            "  background: yellow;\n",
                            "}\n",
                            "</style>\n",
                            "<table id=\"T_46c5c\">\n",
                            "  <thead>\n",
                            "    <tr>\n",
                            "      <th class=\"blank level0\" >&nbsp;</th>\n",
                            "      <th id=\"T_46c5c_level0_col0\" class=\"col_heading level0 col0\" >MAE</th>\n",
                            "      <th id=\"T_46c5c_level0_col1\" class=\"col_heading level0 col1\" >MSE</th>\n",
                            "      <th id=\"T_46c5c_level0_col2\" class=\"col_heading level0 col2\" >RMSE</th>\n",
                            "      <th id=\"T_46c5c_level0_col3\" class=\"col_heading level0 col3\" >R2</th>\n",
                            "      <th id=\"T_46c5c_level0_col4\" class=\"col_heading level0 col4\" >RMSLE</th>\n",
                            "      <th id=\"T_46c5c_level0_col5\" class=\"col_heading level0 col5\" >MAPE</th>\n",
                            "    </tr>\n",
                            "    <tr>\n",
                            "      <th class=\"index_name level0\" >Fold</th>\n",
                            "      <th class=\"blank col0\" >&nbsp;</th>\n",
                            "      <th class=\"blank col1\" >&nbsp;</th>\n",
                            "      <th class=\"blank col2\" >&nbsp;</th>\n",
                            "      <th class=\"blank col3\" >&nbsp;</th>\n",
                            "      <th class=\"blank col4\" >&nbsp;</th>\n",
                            "      <th class=\"blank col5\" >&nbsp;</th>\n",
                            "    </tr>\n",
                            "  </thead>\n",
                            "  <tbody>\n",
                            "    <tr>\n",
                            "      <th id=\"T_46c5c_level0_row0\" class=\"row_heading level0 row0\" >0</th>\n",
                            "      <td id=\"T_46c5c_row0_col0\" class=\"data row0 col0\" >12.2211</td>\n",
                            "      <td id=\"T_46c5c_row0_col1\" class=\"data row0 col1\" >241.7784</td>\n",
                            "      <td id=\"T_46c5c_row0_col2\" class=\"data row0 col2\" >15.5492</td>\n",
                            "      <td id=\"T_46c5c_row0_col3\" class=\"data row0 col3\" >-0.0993</td>\n",
                            "      <td id=\"T_46c5c_row0_col4\" class=\"data row0 col4\" >1.3352</td>\n",
                            "      <td id=\"T_46c5c_row0_col5\" class=\"data row0 col5\" >1.3510</td>\n",
                            "    </tr>\n",
                            "    <tr>\n",
                            "      <th id=\"T_46c5c_level0_row1\" class=\"row_heading level0 row1\" >1</th>\n",
                            "      <td id=\"T_46c5c_row1_col0\" class=\"data row1 col0\" >11.7215</td>\n",
                            "      <td id=\"T_46c5c_row1_col1\" class=\"data row1 col1\" >200.6927</td>\n",
                            "      <td id=\"T_46c5c_row1_col2\" class=\"data row1 col2\" >14.1666</td>\n",
                            "      <td id=\"T_46c5c_row1_col3\" class=\"data row1 col3\" >-0.0109</td>\n",
                            "      <td id=\"T_46c5c_row1_col4\" class=\"data row1 col4\" >1.2284</td>\n",
                            "      <td id=\"T_46c5c_row1_col5\" class=\"data row1 col5\" >1.1547</td>\n",
                            "    </tr>\n",
                            "    <tr>\n",
                            "      <th id=\"T_46c5c_level0_row2\" class=\"row_heading level0 row2\" >2</th>\n",
                            "      <td id=\"T_46c5c_row2_col0\" class=\"data row2 col0\" >12.6383</td>\n",
                            "      <td id=\"T_46c5c_row2_col1\" class=\"data row2 col1\" >256.3479</td>\n",
                            "      <td id=\"T_46c5c_row2_col2\" class=\"data row2 col2\" >16.0109</td>\n",
                            "      <td id=\"T_46c5c_row2_col3\" class=\"data row2 col3\" >-0.0383</td>\n",
                            "      <td id=\"T_46c5c_row2_col4\" class=\"data row2 col4\" >1.3173</td>\n",
                            "      <td id=\"T_46c5c_row2_col5\" class=\"data row2 col5\" >1.3369</td>\n",
                            "    </tr>\n",
                            "    <tr>\n",
                            "      <th id=\"T_46c5c_level0_row3\" class=\"row_heading level0 row3\" >3</th>\n",
                            "      <td id=\"T_46c5c_row3_col0\" class=\"data row3 col0\" >10.8538</td>\n",
                            "      <td id=\"T_46c5c_row3_col1\" class=\"data row3 col1\" >180.3011</td>\n",
                            "      <td id=\"T_46c5c_row3_col2\" class=\"data row3 col2\" >13.4276</td>\n",
                            "      <td id=\"T_46c5c_row3_col3\" class=\"data row3 col3\" >0.1138</td>\n",
                            "      <td id=\"T_46c5c_row3_col4\" class=\"data row3 col4\" >1.2011</td>\n",
                            "      <td id=\"T_46c5c_row3_col5\" class=\"data row3 col5\" >1.1625</td>\n",
                            "    </tr>\n",
                            "    <tr>\n",
                            "      <th id=\"T_46c5c_level0_row4\" class=\"row_heading level0 row4\" >4</th>\n",
                            "      <td id=\"T_46c5c_row4_col0\" class=\"data row4 col0\" >11.3572</td>\n",
                            "      <td id=\"T_46c5c_row4_col1\" class=\"data row4 col1\" >211.0911</td>\n",
                            "      <td id=\"T_46c5c_row4_col2\" class=\"data row4 col2\" >14.5290</td>\n",
                            "      <td id=\"T_46c5c_row4_col3\" class=\"data row4 col3\" >0.0632</td>\n",
                            "      <td id=\"T_46c5c_row4_col4\" class=\"data row4 col4\" >1.2990</td>\n",
                            "      <td id=\"T_46c5c_row4_col5\" class=\"data row4 col5\" >1.0093</td>\n",
                            "    </tr>\n",
                            "    <tr>\n",
                            "      <th id=\"T_46c5c_level0_row5\" class=\"row_heading level0 row5\" >5</th>\n",
                            "      <td id=\"T_46c5c_row5_col0\" class=\"data row5 col0\" >9.9938</td>\n",
                            "      <td id=\"T_46c5c_row5_col1\" class=\"data row5 col1\" >170.2090</td>\n",
                            "      <td id=\"T_46c5c_row5_col2\" class=\"data row5 col2\" >13.0464</td>\n",
                            "      <td id=\"T_46c5c_row5_col3\" class=\"data row5 col3\" >0.1083</td>\n",
                            "      <td id=\"T_46c5c_row5_col4\" class=\"data row5 col4\" >1.1746</td>\n",
                            "      <td id=\"T_46c5c_row5_col5\" class=\"data row5 col5\" >1.1831</td>\n",
                            "    </tr>\n",
                            "    <tr>\n",
                            "      <th id=\"T_46c5c_level0_row6\" class=\"row_heading level0 row6\" >6</th>\n",
                            "      <td id=\"T_46c5c_row6_col0\" class=\"data row6 col0\" >12.0451</td>\n",
                            "      <td id=\"T_46c5c_row6_col1\" class=\"data row6 col1\" >239.3228</td>\n",
                            "      <td id=\"T_46c5c_row6_col2\" class=\"data row6 col2\" >15.4701</td>\n",
                            "      <td id=\"T_46c5c_row6_col3\" class=\"data row6 col3\" >0.0902</td>\n",
                            "      <td id=\"T_46c5c_row6_col4\" class=\"data row6 col4\" >1.2720</td>\n",
                            "      <td id=\"T_46c5c_row6_col5\" class=\"data row6 col5\" >1.3455</td>\n",
                            "    </tr>\n",
                            "    <tr>\n",
                            "      <th id=\"T_46c5c_level0_row7\" class=\"row_heading level0 row7\" >7</th>\n",
                            "      <td id=\"T_46c5c_row7_col0\" class=\"data row7 col0\" >11.5034</td>\n",
                            "      <td id=\"T_46c5c_row7_col1\" class=\"data row7 col1\" >214.8352</td>\n",
                            "      <td id=\"T_46c5c_row7_col2\" class=\"data row7 col2\" >14.6573</td>\n",
                            "      <td id=\"T_46c5c_row7_col3\" class=\"data row7 col3\" >0.1628</td>\n",
                            "      <td id=\"T_46c5c_row7_col4\" class=\"data row7 col4\" >1.1753</td>\n",
                            "      <td id=\"T_46c5c_row7_col5\" class=\"data row7 col5\" >1.0818</td>\n",
                            "    </tr>\n",
                            "    <tr>\n",
                            "      <th id=\"T_46c5c_level0_row8\" class=\"row_heading level0 row8\" >8</th>\n",
                            "      <td id=\"T_46c5c_row8_col0\" class=\"data row8 col0\" >11.5808</td>\n",
                            "      <td id=\"T_46c5c_row8_col1\" class=\"data row8 col1\" >220.7306</td>\n",
                            "      <td id=\"T_46c5c_row8_col2\" class=\"data row8 col2\" >14.8570</td>\n",
                            "      <td id=\"T_46c5c_row8_col3\" class=\"data row8 col3\" >0.0723</td>\n",
                            "      <td id=\"T_46c5c_row8_col4\" class=\"data row8 col4\" >1.1057</td>\n",
                            "      <td id=\"T_46c5c_row8_col5\" class=\"data row8 col5\" >1.1833</td>\n",
                            "    </tr>\n",
                            "    <tr>\n",
                            "      <th id=\"T_46c5c_level0_row9\" class=\"row_heading level0 row9\" >9</th>\n",
                            "      <td id=\"T_46c5c_row9_col0\" class=\"data row9 col0\" >12.5722</td>\n",
                            "      <td id=\"T_46c5c_row9_col1\" class=\"data row9 col1\" >239.0163</td>\n",
                            "      <td id=\"T_46c5c_row9_col2\" class=\"data row9 col2\" >15.4602</td>\n",
                            "      <td id=\"T_46c5c_row9_col3\" class=\"data row9 col3\" >0.1489</td>\n",
                            "      <td id=\"T_46c5c_row9_col4\" class=\"data row9 col4\" >1.2834</td>\n",
                            "      <td id=\"T_46c5c_row9_col5\" class=\"data row9 col5\" >1.1973</td>\n",
                            "    </tr>\n",
                            "    <tr>\n",
                            "      <th id=\"T_46c5c_level0_row10\" class=\"row_heading level0 row10\" >Mean</th>\n",
                            "      <td id=\"T_46c5c_row10_col0\" class=\"data row10 col0\" >11.6487</td>\n",
                            "      <td id=\"T_46c5c_row10_col1\" class=\"data row10 col1\" >217.4325</td>\n",
                            "      <td id=\"T_46c5c_row10_col2\" class=\"data row10 col2\" >14.7174</td>\n",
                            "      <td id=\"T_46c5c_row10_col3\" class=\"data row10 col3\" >0.0611</td>\n",
                            "      <td id=\"T_46c5c_row10_col4\" class=\"data row10 col4\" >1.2392</td>\n",
                            "      <td id=\"T_46c5c_row10_col5\" class=\"data row10 col5\" >1.2005</td>\n",
                            "    </tr>\n",
                            "    <tr>\n",
                            "      <th id=\"T_46c5c_level0_row11\" class=\"row_heading level0 row11\" >Std</th>\n",
                            "      <td id=\"T_46c5c_row11_col0\" class=\"data row11 col0\" >0.7618</td>\n",
                            "      <td id=\"T_46c5c_row11_col1\" class=\"data row11 col1\" >26.4557</td>\n",
                            "      <td id=\"T_46c5c_row11_col2\" class=\"data row11 col2\" >0.9111</td>\n",
                            "      <td id=\"T_46c5c_row11_col3\" class=\"data row11 col3\" >0.0805</td>\n",
                            "      <td id=\"T_46c5c_row11_col4\" class=\"data row11 col4\" >0.0704</td>\n",
                            "      <td id=\"T_46c5c_row11_col5\" class=\"data row11 col5\" >0.1082</td>\n",
                            "    </tr>\n",
                            "  </tbody>\n",
                            "</table>\n"
                        ],
                        "text/plain": [
                            "<pandas.io.formats.style.Styler at 0x7fd1187a2e30>"
                        ]
                    },
                    "metadata": {},
                    "output_type": "display_data"
                },
                {
                    "data": {
                        "application/vnd.jupyter.widget-view+json": {
                            "model_id": "01f1ad95821f44718d7f5924ecde075d",
                            "version_major": 2,
                            "version_minor": 0
                        },
                        "text/plain": [
                            "Processing:   0%|          | 0/4 [00:00<?, ?it/s]"
                        ]
                    },
                    "metadata": {},
                    "output_type": "display_data"
                }
            ],
            "source": [
                "model_reg = py_reg.create_model(\"rf\")"
            ]
        },
        {
            "cell_type": "markdown",
            "id": "495ca315",
            "metadata": {},
            "source": [
                "### Tune Selected Model"
            ]
        },
        {
            "cell_type": "code",
            "execution_count": 36,
            "id": "04f0b126",
            "metadata": {},
            "outputs": [
                {
                    "data": {
                        "text/html": [],
                        "text/plain": [
                            "<IPython.core.display.HTML object>"
                        ]
                    },
                    "metadata": {},
                    "output_type": "display_data"
                },
                {
                    "data": {
                        "text/html": [
                            "<style type=\"text/css\">\n",
                            "#T_224a2_row10_col0, #T_224a2_row10_col1, #T_224a2_row10_col2, #T_224a2_row10_col3, #T_224a2_row10_col4, #T_224a2_row10_col5 {\n",
                            "  background: yellow;\n",
                            "}\n",
                            "</style>\n",
                            "<table id=\"T_224a2\">\n",
                            "  <thead>\n",
                            "    <tr>\n",
                            "      <th class=\"blank level0\" >&nbsp;</th>\n",
                            "      <th id=\"T_224a2_level0_col0\" class=\"col_heading level0 col0\" >MAE</th>\n",
                            "      <th id=\"T_224a2_level0_col1\" class=\"col_heading level0 col1\" >MSE</th>\n",
                            "      <th id=\"T_224a2_level0_col2\" class=\"col_heading level0 col2\" >RMSE</th>\n",
                            "      <th id=\"T_224a2_level0_col3\" class=\"col_heading level0 col3\" >R2</th>\n",
                            "      <th id=\"T_224a2_level0_col4\" class=\"col_heading level0 col4\" >RMSLE</th>\n",
                            "      <th id=\"T_224a2_level0_col5\" class=\"col_heading level0 col5\" >MAPE</th>\n",
                            "    </tr>\n",
                            "    <tr>\n",
                            "      <th class=\"index_name level0\" >Fold</th>\n",
                            "      <th class=\"blank col0\" >&nbsp;</th>\n",
                            "      <th class=\"blank col1\" >&nbsp;</th>\n",
                            "      <th class=\"blank col2\" >&nbsp;</th>\n",
                            "      <th class=\"blank col3\" >&nbsp;</th>\n",
                            "      <th class=\"blank col4\" >&nbsp;</th>\n",
                            "      <th class=\"blank col5\" >&nbsp;</th>\n",
                            "    </tr>\n",
                            "  </thead>\n",
                            "  <tbody>\n",
                            "    <tr>\n",
                            "      <th id=\"T_224a2_level0_row0\" class=\"row_heading level0 row0\" >0</th>\n",
                            "      <td id=\"T_224a2_row0_col0\" class=\"data row0 col0\" >12.1072</td>\n",
                            "      <td id=\"T_224a2_row0_col1\" class=\"data row0 col1\" >234.8440</td>\n",
                            "      <td id=\"T_224a2_row0_col2\" class=\"data row0 col2\" >15.3246</td>\n",
                            "      <td id=\"T_224a2_row0_col3\" class=\"data row0 col3\" >-0.0677</td>\n",
                            "      <td id=\"T_224a2_row0_col4\" class=\"data row0 col4\" >1.3292</td>\n",
                            "      <td id=\"T_224a2_row0_col5\" class=\"data row0 col5\" >1.3184</td>\n",
                            "    </tr>\n",
                            "    <tr>\n",
                            "      <th id=\"T_224a2_level0_row1\" class=\"row_heading level0 row1\" >1</th>\n",
                            "      <td id=\"T_224a2_row1_col0\" class=\"data row1 col0\" >11.2822</td>\n",
                            "      <td id=\"T_224a2_row1_col1\" class=\"data row1 col1\" >191.9621</td>\n",
                            "      <td id=\"T_224a2_row1_col2\" class=\"data row1 col2\" >13.8550</td>\n",
                            "      <td id=\"T_224a2_row1_col3\" class=\"data row1 col3\" >0.0331</td>\n",
                            "      <td id=\"T_224a2_row1_col4\" class=\"data row1 col4\" >1.2211</td>\n",
                            "      <td id=\"T_224a2_row1_col5\" class=\"data row1 col5\" >1.0409</td>\n",
                            "    </tr>\n",
                            "    <tr>\n",
                            "      <th id=\"T_224a2_level0_row2\" class=\"row_heading level0 row2\" >2</th>\n",
                            "      <td id=\"T_224a2_row2_col0\" class=\"data row2 col0\" >12.4648</td>\n",
                            "      <td id=\"T_224a2_row2_col1\" class=\"data row2 col1\" >244.6708</td>\n",
                            "      <td id=\"T_224a2_row2_col2\" class=\"data row2 col2\" >15.6420</td>\n",
                            "      <td id=\"T_224a2_row2_col3\" class=\"data row2 col3\" >0.0090</td>\n",
                            "      <td id=\"T_224a2_row2_col4\" class=\"data row2 col4\" >1.3813</td>\n",
                            "      <td id=\"T_224a2_row2_col5\" class=\"data row2 col5\" >1.2765</td>\n",
                            "    </tr>\n",
                            "    <tr>\n",
                            "      <th id=\"T_224a2_level0_row3\" class=\"row_heading level0 row3\" >3</th>\n",
                            "      <td id=\"T_224a2_row3_col0\" class=\"data row3 col0\" >10.7754</td>\n",
                            "      <td id=\"T_224a2_row3_col1\" class=\"data row3 col1\" >175.4239</td>\n",
                            "      <td id=\"T_224a2_row3_col2\" class=\"data row3 col2\" >13.2448</td>\n",
                            "      <td id=\"T_224a2_row3_col3\" class=\"data row3 col3\" >0.1377</td>\n",
                            "      <td id=\"T_224a2_row3_col4\" class=\"data row3 col4\" >1.2450</td>\n",
                            "      <td id=\"T_224a2_row3_col5\" class=\"data row3 col5\" >1.1462</td>\n",
                            "    </tr>\n",
                            "    <tr>\n",
                            "      <th id=\"T_224a2_level0_row4\" class=\"row_heading level0 row4\" >4</th>\n",
                            "      <td id=\"T_224a2_row4_col0\" class=\"data row4 col0\" >11.3832</td>\n",
                            "      <td id=\"T_224a2_row4_col1\" class=\"data row4 col1\" >207.3846</td>\n",
                            "      <td id=\"T_224a2_row4_col2\" class=\"data row4 col2\" >14.4009</td>\n",
                            "      <td id=\"T_224a2_row4_col3\" class=\"data row4 col3\" >0.0796</td>\n",
                            "      <td id=\"T_224a2_row4_col4\" class=\"data row4 col4\" >1.3178</td>\n",
                            "      <td id=\"T_224a2_row4_col5\" class=\"data row4 col5\" >1.0169</td>\n",
                            "    </tr>\n",
                            "    <tr>\n",
                            "      <th id=\"T_224a2_level0_row5\" class=\"row_heading level0 row5\" >5</th>\n",
                            "      <td id=\"T_224a2_row5_col0\" class=\"data row5 col0\" >9.7389</td>\n",
                            "      <td id=\"T_224a2_row5_col1\" class=\"data row5 col1\" >164.7418</td>\n",
                            "      <td id=\"T_224a2_row5_col2\" class=\"data row5 col2\" >12.8352</td>\n",
                            "      <td id=\"T_224a2_row5_col3\" class=\"data row5 col3\" >0.1370</td>\n",
                            "      <td id=\"T_224a2_row5_col4\" class=\"data row5 col4\" >1.1890</td>\n",
                            "      <td id=\"T_224a2_row5_col5\" class=\"data row5 col5\" >1.0654</td>\n",
                            "    </tr>\n",
                            "    <tr>\n",
                            "      <th id=\"T_224a2_level0_row6\" class=\"row_heading level0 row6\" >6</th>\n",
                            "      <td id=\"T_224a2_row6_col0\" class=\"data row6 col0\" >11.8156</td>\n",
                            "      <td id=\"T_224a2_row6_col1\" class=\"data row6 col1\" >230.9354</td>\n",
                            "      <td id=\"T_224a2_row6_col2\" class=\"data row6 col2\" >15.1966</td>\n",
                            "      <td id=\"T_224a2_row6_col3\" class=\"data row6 col3\" >0.1221</td>\n",
                            "      <td id=\"T_224a2_row6_col4\" class=\"data row6 col4\" >1.3116</td>\n",
                            "      <td id=\"T_224a2_row6_col5\" class=\"data row6 col5\" >1.2140</td>\n",
                            "    </tr>\n",
                            "    <tr>\n",
                            "      <th id=\"T_224a2_level0_row7\" class=\"row_heading level0 row7\" >7</th>\n",
                            "      <td id=\"T_224a2_row7_col0\" class=\"data row7 col0\" >11.6055</td>\n",
                            "      <td id=\"T_224a2_row7_col1\" class=\"data row7 col1\" >222.3423</td>\n",
                            "      <td id=\"T_224a2_row7_col2\" class=\"data row7 col2\" >14.9111</td>\n",
                            "      <td id=\"T_224a2_row7_col3\" class=\"data row7 col3\" >0.1336</td>\n",
                            "      <td id=\"T_224a2_row7_col4\" class=\"data row7 col4\" >1.2322</td>\n",
                            "      <td id=\"T_224a2_row7_col5\" class=\"data row7 col5\" >1.0820</td>\n",
                            "    </tr>\n",
                            "    <tr>\n",
                            "      <th id=\"T_224a2_level0_row8\" class=\"row_heading level0 row8\" >8</th>\n",
                            "      <td id=\"T_224a2_row8_col0\" class=\"data row8 col0\" >11.5662</td>\n",
                            "      <td id=\"T_224a2_row8_col1\" class=\"data row8 col1\" >211.0827</td>\n",
                            "      <td id=\"T_224a2_row8_col2\" class=\"data row8 col2\" >14.5287</td>\n",
                            "      <td id=\"T_224a2_row8_col3\" class=\"data row8 col3\" >0.1128</td>\n",
                            "      <td id=\"T_224a2_row8_col4\" class=\"data row8 col4\" >1.1775</td>\n",
                            "      <td id=\"T_224a2_row8_col5\" class=\"data row8 col5\" >1.1118</td>\n",
                            "    </tr>\n",
                            "    <tr>\n",
                            "      <th id=\"T_224a2_level0_row9\" class=\"row_heading level0 row9\" >9</th>\n",
                            "      <td id=\"T_224a2_row9_col0\" class=\"data row9 col0\" >12.6840</td>\n",
                            "      <td id=\"T_224a2_row9_col1\" class=\"data row9 col1\" >244.3433</td>\n",
                            "      <td id=\"T_224a2_row9_col2\" class=\"data row9 col2\" >15.6315</td>\n",
                            "      <td id=\"T_224a2_row9_col3\" class=\"data row9 col3\" >0.1299</td>\n",
                            "      <td id=\"T_224a2_row9_col4\" class=\"data row9 col4\" >1.3950</td>\n",
                            "      <td id=\"T_224a2_row9_col5\" class=\"data row9 col5\" >1.0785</td>\n",
                            "    </tr>\n",
                            "    <tr>\n",
                            "      <th id=\"T_224a2_level0_row10\" class=\"row_heading level0 row10\" >Mean</th>\n",
                            "      <td id=\"T_224a2_row10_col0\" class=\"data row10 col0\" >11.5423</td>\n",
                            "      <td id=\"T_224a2_row10_col1\" class=\"data row10 col1\" >212.7731</td>\n",
                            "      <td id=\"T_224a2_row10_col2\" class=\"data row10 col2\" >14.5570</td>\n",
                            "      <td id=\"T_224a2_row10_col3\" class=\"data row10 col3\" >0.0827</td>\n",
                            "      <td id=\"T_224a2_row10_col4\" class=\"data row10 col4\" >1.2800</td>\n",
                            "      <td id=\"T_224a2_row10_col5\" class=\"data row10 col5\" >1.1351</td>\n",
                            "    </tr>\n",
                            "    <tr>\n",
                            "      <th id=\"T_224a2_level0_row11\" class=\"row_heading level0 row11\" >Std</th>\n",
                            "      <td id=\"T_224a2_row11_col0\" class=\"data row11 col0\" >0.8054</td>\n",
                            "      <td id=\"T_224a2_row11_col1\" class=\"data row11 col1\" >26.6264</td>\n",
                            "      <td id=\"T_224a2_row11_col2\" class=\"data row11 col2\" >0.9306</td>\n",
                            "      <td id=\"T_224a2_row11_col3\" class=\"data row11 col3\" >0.0662</td>\n",
                            "      <td id=\"T_224a2_row11_col4\" class=\"data row11 col4\" >0.0736</td>\n",
                            "      <td id=\"T_224a2_row11_col5\" class=\"data row11 col5\" >0.0971</td>\n",
                            "    </tr>\n",
                            "  </tbody>\n",
                            "</table>\n"
                        ],
                        "text/plain": [
                            "<pandas.io.formats.style.Styler at 0x7fd1185e37f0>"
                        ]
                    },
                    "metadata": {},
                    "output_type": "display_data"
                },
                {
                    "data": {
                        "application/vnd.jupyter.widget-view+json": {
                            "model_id": "afcf05bd6d9948148978db63da80c8b5",
                            "version_major": 2,
                            "version_minor": 0
                        },
                        "text/plain": [
                            "Processing:   0%|          | 0/7 [00:00<?, ?it/s]"
                        ]
                    },
                    "metadata": {},
                    "output_type": "display_data"
                },
                {
                    "name": "stdout",
                    "output_type": "stream",
                    "text": [
                        "Fitting 10 folds for each of 10 candidates, totalling 100 fits\n"
                    ]
                }
            ],
            "source": [
                "tuned_model_reg = py_reg.tune_model(model_reg)"
            ]
        },
        {
            "cell_type": "code",
            "execution_count": 37,
            "id": "b65c9062",
            "metadata": {},
            "outputs": [
                {
                    "name": "stdout",
                    "output_type": "stream",
                    "text": [
                        "RandomForestRegressor(bootstrap=True, ccp_alpha=0.0, criterion='squared_error',\n",
                        "                      max_depth=5, max_features=1.0, max_leaf_nodes=None,\n",
                        "                      max_samples=None, min_impurity_decrease=0.01,\n",
                        "                      min_samples_leaf=2, min_samples_split=7,\n",
                        "                      min_weight_fraction_leaf=0.0, n_estimators=280, n_jobs=-1,\n",
                        "                      oob_score=False, random_state=42, verbose=0,\n",
                        "                      warm_start=False)\n"
                    ]
                }
            ],
            "source": [
                "print(tuned_model_reg)"
            ]
        },
        {
            "cell_type": "markdown",
            "id": "2432974d",
            "metadata": {},
            "source": [
                "### Evaluate Model"
            ]
        },
        {
            "cell_type": "code",
            "execution_count": 38,
            "id": "a45c1999",
            "metadata": {},
            "outputs": [
                {
                    "data": {
                        "application/vnd.jupyter.widget-view+json": {
                            "model_id": "65cb8a98e6184075be43ac372318da8a",
                            "version_major": 2,
                            "version_minor": 0
                        },
                        "text/plain": [
                            "interactive(children=(ToggleButtons(description='Plot Type:', icons=('',), options=(('Pipeline Plot', 'pipelin…"
                        ]
                    },
                    "metadata": {},
                    "output_type": "display_data"
                }
            ],
            "source": [
                "py_reg.evaluate_model(tuned_model_reg)"
            ]
        },
        {
            "cell_type": "code",
            "execution_count": 39,
            "id": "f5045d2a",
            "metadata": {},
            "outputs": [],
            "source": [
                "# py_reg.interpret_model(tuned_model_reg)"
            ]
        },
        {
            "cell_type": "code",
            "execution_count": 40,
            "id": "45442914",
            "metadata": {},
            "outputs": [
                {
                    "data": {
                        "text/html": [],
                        "text/plain": [
                            "<IPython.core.display.HTML object>"
                        ]
                    },
                    "metadata": {},
                    "output_type": "display_data"
                }
            ],
            "source": [
                "train_predictions_reg = py_reg.predict_model(tuned_model_reg, data=X_train)"
            ]
        },
        {
            "cell_type": "code",
            "execution_count": 41,
            "id": "bfb2148a",
            "metadata": {},
            "outputs": [
                {
                    "data": {
                        "text/html": [],
                        "text/plain": [
                            "<IPython.core.display.HTML object>"
                        ]
                    },
                    "metadata": {},
                    "output_type": "display_data"
                }
            ],
            "source": [
                "test_predictions_reg = py_reg.predict_model(tuned_model_reg, data=X_test)"
            ]
        },
        {
            "cell_type": "code",
            "execution_count": 42,
            "id": "0efece01",
            "metadata": {},
            "outputs": [],
            "source": [
                "train_mae = mean_absolute_error(train_predictions_reg[\"prediction_label\"], y_train_reg)\n",
                "train_r2 = r2_score(train_predictions_reg[\"prediction_label\"], y_train_reg)\n",
                "\n",
                "test_mae = mean_absolute_error(test_predictions_reg[\"prediction_label\"], y_test_reg)\n",
                "test_r2 = r2_score(test_predictions_reg[\"prediction_label\"], y_test_reg)"
            ]
        },
        {
            "cell_type": "code",
            "execution_count": 43,
            "id": "d6940137",
            "metadata": {},
            "outputs": [
                {
                    "name": "stdout",
                    "output_type": "stream",
                    "text": [
                        "Train MAE: 9.96\n",
                        "Train R2: -4.62\n",
                        "Test MAE: 10.52\n",
                        "Test R2: -10.19\n"
                    ]
                }
            ],
            "source": [
                "print(f\"Train MAE: {train_mae:.2f}\")\n",
                "print(f\"Train R2: {train_r2:.2f}\")\n",
                "print(f\"Test MAE: {test_mae:.2f}\")\n",
                "print(f\"Test R2: {test_r2:.2f}\")"
            ]
        },
        {
            "cell_type": "markdown",
            "id": "cd90b613",
            "metadata": {},
            "source": [
                "### Model Finalization and Storage"
            ]
        },
        {
            "cell_type": "code",
            "execution_count": 44,
            "id": "dea3db02",
            "metadata": {},
            "outputs": [],
            "source": [
                "final_model_reg = py_reg.finalize_model(tuned_model_reg)"
            ]
        },
        {
            "cell_type": "code",
            "execution_count": 45,
            "id": "59191ff3",
            "metadata": {},
            "outputs": [
                {
                    "data": {
                        "text/plain": [
                            "'Regression_RandomForest_9.96_10.52_2024-01-25_22-12-33'"
                        ]
                    },
                    "execution_count": 45,
                    "metadata": {},
                    "output_type": "execute_result"
                }
            ],
            "source": [
                "problem_type = \"Regression\"\n",
                "base_model = \"RandomForest\"\n",
                "train_performance = round(train_mae, 2)\n",
                "test_performance = round(test_mae, 2)\n",
                "\n",
                "model_id = f\"{problem_type}_{base_model}_{train_performance}_{test_performance}_{datetime.datetime.now().strftime('%Y-%m-%d_%H-%M-%S')}\"\n",
                "\n",
                "model_id"
            ]
        },
        {
            "cell_type": "code",
            "execution_count": 46,
            "id": "901830e7",
            "metadata": {},
            "outputs": [
                {
                    "name": "stdout",
                    "output_type": "stream",
                    "text": [
                        "Transformation Pipeline and Model Successfully Saved\n"
                    ]
                },
                {
                    "data": {
                        "text/plain": [
                            "(Pipeline(memory=FastMemory(location=/tmp/joblib),\n",
                            "          steps=[('numerical_imputer',\n",
                            "                  TransformerWrapper(exclude=None,\n",
                            "                                     include=['day_of_season', 'home_team_rest',\n",
                            "                                              'road_team_rest', 'home_win_pct',\n",
                            "                                              'road_win_pct', 'home_win_pct_l2w',\n",
                            "                                              'road_win_pct_l2w', 'home_avg_pts',\n",
                            "                                              'road_avg_pts', 'home_avg_pts_l2w',\n",
                            "                                              'road_avg_pts_l2w',\n",
                            "                                              'home_avg_oeff', 'road_avg_oeff',\n",
                            "                                              'home_avg_oeff...\n",
                            "                 ('actual_estimator',\n",
                            "                  RandomForestRegressor(bootstrap=True, ccp_alpha=0.0,\n",
                            "                                        criterion='squared_error', max_depth=5,\n",
                            "                                        max_features=1.0, max_leaf_nodes=None,\n",
                            "                                        max_samples=None,\n",
                            "                                        min_impurity_decrease=0.01,\n",
                            "                                        min_samples_leaf=2, min_samples_split=7,\n",
                            "                                        min_weight_fraction_leaf=0.0,\n",
                            "                                        n_estimators=280, n_jobs=-1,\n",
                            "                                        oob_score=False, random_state=42,\n",
                            "                                        verbose=0, warm_start=False))],\n",
                            "          verbose=False),\n",
                            " '../models/AutoML/Regression_RandomForest_9.96_10.52_2024-01-25_22-12-33.pkl')"
                        ]
                    },
                    "execution_count": 46,
                    "metadata": {},
                    "output_type": "execute_result"
                }
            ],
            "source": [
                "py_reg.save_model(final_model_reg, f\"../models/AutoML/{model_id}\")"
            ]
        },
        {
            "cell_type": "markdown",
            "id": "7208c0df",
            "metadata": {},
            "source": [
                "<a name=\"autodl-classification\"></a>\n",
                "\n",
                "## AutoDL Classification"
            ]
        },
        {
            "cell_type": "code",
            "execution_count": 47,
            "id": "d65b4807",
            "metadata": {},
            "outputs": [],
            "source": [
                "ak_cls = ak.StructuredDataClassifier(\n",
                "    max_trials=10,\n",
                "    overwrite=True,\n",
                "    loss=\"accuracy\",\n",
                "    seed=42,\n",
                ")"
            ]
        },
        {
            "cell_type": "code",
            "execution_count": 48,
            "id": "f3996d29",
            "metadata": {},
            "outputs": [
                {
                    "name": "stdout",
                    "output_type": "stream",
                    "text": [
                        "Trial 10 Complete [00h 00m 06s]\n",
                        "val_accuracy: 0.5872340202331543\n",
                        "\n",
                        "Best val_accuracy So Far: 0.5872340202331543\n",
                        "Total elapsed time: 00h 00m 56s\n",
                        "Epoch 1/8\n",
                        "42/42 [==============================] - 1s 3ms/step - loss: 0.7526 - accuracy: 0.5246\n",
                        "Epoch 2/8\n",
                        "42/42 [==============================] - 0s 3ms/step - loss: 0.7258 - accuracy: 0.4898\n",
                        "Epoch 3/8\n",
                        "42/42 [==============================] - 0s 5ms/step - loss: 0.7064 - accuracy: 0.5246\n",
                        "Epoch 4/8\n",
                        "42/42 [==============================] - 0s 3ms/step - loss: 0.6895 - accuracy: 0.5465\n",
                        "Epoch 5/8\n",
                        "42/42 [==============================] - 0s 3ms/step - loss: 0.6935 - accuracy: 0.5457\n",
                        "Epoch 6/8\n",
                        "42/42 [==============================] - 0s 3ms/step - loss: 0.6947 - accuracy: 0.5548\n",
                        "Epoch 7/8\n",
                        "42/42 [==============================] - 0s 3ms/step - loss: 0.6838 - accuracy: 0.5669\n",
                        "Epoch 8/8\n",
                        "42/42 [==============================] - 0s 3ms/step - loss: 0.6881 - accuracy: 0.5624\n",
                        "INFO:tensorflow:Assets written to: ./structured_data_classifier/best_model/assets\n"
                    ]
                },
                {
                    "name": "stderr",
                    "output_type": "stream",
                    "text": [
                        "INFO:tensorflow:Assets written to: ./structured_data_classifier/best_model/assets\n"
                    ]
                },
                {
                    "data": {
                        "text/plain": [
                            "<keras.src.callbacks.History at 0x7fd1a4ff4c40>"
                        ]
                    },
                    "execution_count": 48,
                    "metadata": {},
                    "output_type": "execute_result"
                }
            ],
            "source": [
                "ak_cls.fit(X_train, y_train_cls)"
            ]
        },
        {
            "cell_type": "code",
            "execution_count": 49,
            "id": "d4b8bd61",
            "metadata": {},
            "outputs": [
                {
                    "name": "stdout",
                    "output_type": "stream",
                    "text": [
                        "42/42 [==============================] - 0s 2ms/step - loss: 0.7032 - accuracy: 0.4932\n",
                        "[0.7032389640808105, 0.49318182468414307]\n"
                    ]
                }
            ],
            "source": [
                "# Evaluate the best model with testing data.\n",
                "print(ak_cls.evaluate(X_test, y_test_cls))"
            ]
        },
        {
            "cell_type": "code",
            "execution_count": 50,
            "id": "f369dde6",
            "metadata": {},
            "outputs": [
                {
                    "name": "stdout",
                    "output_type": "stream",
                    "text": [
                        "Model: \"model\"\n",
                        "_________________________________________________________________\n",
                        " Layer (type)                Output Shape              Param #   \n",
                        "=================================================================\n",
                        " input_1 (InputLayer)        [(None, 39)]              0         \n",
                        "                                                                 \n",
                        " multi_category_encoding (M  (None, 39)                0         \n",
                        " ultiCategoryEncoding)                                           \n",
                        "                                                                 \n",
                        " normalization (Normalizati  (None, 39)                79        \n",
                        " on)                                                             \n",
                        "                                                                 \n",
                        " dense (Dense)               (None, 32)                1280      \n",
                        "                                                                 \n",
                        " re_lu (ReLU)                (None, 32)                0         \n",
                        "                                                                 \n",
                        " dense_1 (Dense)             (None, 32)                1056      \n",
                        "                                                                 \n",
                        " re_lu_1 (ReLU)              (None, 32)                0         \n",
                        "                                                                 \n",
                        " dropout (Dropout)           (None, 32)                0         \n",
                        "                                                                 \n",
                        " dense_2 (Dense)             (None, 1)                 33        \n",
                        "                                                                 \n",
                        " classification_head_1 (Act  (None, 1)                 0         \n",
                        " ivation)                                                        \n",
                        "                                                                 \n",
                        "=================================================================\n",
                        "Total params: 2448 (9.57 KB)\n",
                        "Trainable params: 2369 (9.25 KB)\n",
                        "Non-trainable params: 79 (320.00 Byte)\n",
                        "_________________________________________________________________\n"
                    ]
                }
            ],
            "source": [
                "ak_cls_model = ak_cls.export_model()\n",
                "ak_cls_model.summary()"
            ]
        },
        {
            "cell_type": "markdown",
            "id": "20dd8b44",
            "metadata": {},
            "source": [
                "<a id=evaluate></a>\n",
                "\n",
                "### Evaluate Model"
            ]
        },
        {
            "cell_type": "code",
            "execution_count": 51,
            "id": "3129d167",
            "metadata": {},
            "outputs": [
                {
                    "name": "stdout",
                    "output_type": "stream",
                    "text": [
                        "42/42 [==============================] - 0s 2ms/step\n",
                        "42/42 [==============================] - 0s 2ms/step\n"
                    ]
                }
            ],
            "source": [
                "train_pred = ak_cls_model.predict(X_train)\n",
                "test_pred = ak_cls_model.predict(X_test)"
            ]
        },
        {
            "cell_type": "code",
            "execution_count": 52,
            "id": "8f549e67",
            "metadata": {},
            "outputs": [],
            "source": [
                "train_pred = train_pred.flatten()\n",
                "train_pred_labels = [True if x > 0.5 else False for x in train_pred]"
            ]
        },
        {
            "cell_type": "code",
            "execution_count": 53,
            "id": "11b1a1b6",
            "metadata": {},
            "outputs": [],
            "source": [
                "test_pred = test_pred.flatten()\n",
                "test_pred_labels = [True if x > 0.5 else False for x in test_pred]"
            ]
        },
        {
            "cell_type": "code",
            "execution_count": 54,
            "id": "aef72043",
            "metadata": {},
            "outputs": [
                {
                    "name": "stdout",
                    "output_type": "stream",
                    "text": [
                        "Training Accuracy: 0.60\n",
                        "Training Precision: 0.62\n"
                    ]
                }
            ],
            "source": [
                "train_accuracy = accuracy_score(y_train_cls, train_pred_labels)\n",
                "train_precision = precision_score(y_train_cls, train_pred_labels)\n",
                "print(f\"Training Accuracy: {train_accuracy:.2f}\")\n",
                "print(f\"Training Precision: {train_precision:.2f}\")"
            ]
        },
        {
            "cell_type": "code",
            "execution_count": 55,
            "id": "dd7fa4d0",
            "metadata": {},
            "outputs": [
                {
                    "name": "stdout",
                    "output_type": "stream",
                    "text": [
                        "Testing Accuracy: 0.49\n",
                        "Testing Precision: 0.39\n"
                    ]
                }
            ],
            "source": [
                "test_accuracy = accuracy_score(y_test_cls, test_pred_labels)\n",
                "test_auc = precision_score(y_test_cls, test_pred_labels)\n",
                "print(f\"Testing Accuracy: {test_accuracy:.2f}\")\n",
                "print(f\"Testing Precision: {test_precision:.2f}\")"
            ]
        },
        {
            "cell_type": "markdown",
            "id": "18260e52",
            "metadata": {},
            "source": [
                "### Model Storage"
            ]
        },
        {
            "cell_type": "code",
            "execution_count": 56,
            "id": "82cee602",
            "metadata": {},
            "outputs": [
                {
                    "data": {
                        "text/plain": [
                            "'Classification_AutoKeras_60_49_2024-01-25_22-13-39'"
                        ]
                    },
                    "execution_count": 56,
                    "metadata": {},
                    "output_type": "execute_result"
                }
            ],
            "source": [
                "problem_type = \"Classification\"\n",
                "base_model = \"AutoKeras\"\n",
                "train_performance = round(train_accuracy * 100)\n",
                "test_performance = round(test_accuracy * 100)\n",
                "\n",
                "model_id = f\"{problem_type}_{base_model}_{train_performance}_{test_performance}_{datetime.datetime.now().strftime('%Y-%m-%d_%H-%M-%S')}\"\n",
                "\n",
                "model_id"
            ]
        },
        {
            "cell_type": "code",
            "execution_count": 57,
            "id": "42e6d79b",
            "metadata": {},
            "outputs": [
                {
                    "name": "stdout",
                    "output_type": "stream",
                    "text": [
                        "INFO:tensorflow:Assets written to: ../models/AutoDL/Classification_AutoKeras_60_49_2024-01-25_22-13-39/assets\n"
                    ]
                },
                {
                    "name": "stderr",
                    "output_type": "stream",
                    "text": [
                        "INFO:tensorflow:Assets written to: ../models/AutoDL/Classification_AutoKeras_60_49_2024-01-25_22-13-39/assets\n"
                    ]
                }
            ],
            "source": [
                "ak_cls_model.save(f\"../models/AutoDL/{model_id}\", save_format=\"tf\")"
            ]
        },
        {
            "cell_type": "markdown",
            "id": "4dd2b3f3",
            "metadata": {},
            "source": [
                "<a name=\"autodl-regression\"></a>\n",
                "\n",
                "## AutoDL Regression"
            ]
        },
        {
            "cell_type": "code",
            "execution_count": 58,
            "id": "0c110b56",
            "metadata": {},
            "outputs": [],
            "source": [
                "ak_reg = ak.StructuredDataRegressor(\n",
                "    max_trials=10,\n",
                "    overwrite=True,\n",
                "    loss=\"mae\",\n",
                "    seed=42,\n",
                ")"
            ]
        },
        {
            "cell_type": "code",
            "execution_count": 59,
            "id": "93c4635b",
            "metadata": {},
            "outputs": [
                {
                    "name": "stdout",
                    "output_type": "stream",
                    "text": [
                        "Trial 10 Complete [00h 00m 06s]\n",
                        "val_loss: 12.362330436706543\n",
                        "\n",
                        "Best val_loss So Far: 12.128240585327148\n",
                        "Total elapsed time: 00h 01m 00s\n",
                        "Epoch 1/9\n",
                        "42/42 [==============================] - 1s 3ms/step - loss: 12.3618 - mean_squared_error: 236.8551\n",
                        "Epoch 2/9\n",
                        "42/42 [==============================] - 0s 2ms/step - loss: 12.1866 - mean_squared_error: 230.5129\n",
                        "Epoch 3/9\n",
                        "42/42 [==============================] - 0s 2ms/step - loss: 11.9350 - mean_squared_error: 222.9816\n",
                        "Epoch 4/9\n",
                        "42/42 [==============================] - 0s 2ms/step - loss: 11.6449 - mean_squared_error: 215.8968\n",
                        "Epoch 5/9\n",
                        "42/42 [==============================] - 0s 2ms/step - loss: 11.4193 - mean_squared_error: 210.7298\n",
                        "Epoch 6/9\n",
                        "42/42 [==============================] - 0s 2ms/step - loss: 11.2874 - mean_squared_error: 209.4724\n",
                        "Epoch 7/9\n",
                        "42/42 [==============================] - 0s 2ms/step - loss: 11.1748 - mean_squared_error: 206.2092\n",
                        "Epoch 8/9\n",
                        "42/42 [==============================] - 0s 2ms/step - loss: 11.1102 - mean_squared_error: 205.2659\n",
                        "Epoch 9/9\n",
                        "42/42 [==============================] - 0s 2ms/step - loss: 11.0501 - mean_squared_error: 203.5940\n",
                        "INFO:tensorflow:Assets written to: ./structured_data_regressor/best_model/assets\n"
                    ]
                },
                {
                    "name": "stderr",
                    "output_type": "stream",
                    "text": [
                        "INFO:tensorflow:Assets written to: ./structured_data_regressor/best_model/assets\n"
                    ]
                },
                {
                    "data": {
                        "text/plain": [
                            "<keras.src.callbacks.History at 0x7fd0f4c9fca0>"
                        ]
                    },
                    "execution_count": 59,
                    "metadata": {},
                    "output_type": "execute_result"
                }
            ],
            "source": [
                "ak_reg.fit(X_train, y_train_reg)"
            ]
        },
        {
            "cell_type": "code",
            "execution_count": 60,
            "id": "fe00c53f",
            "metadata": {},
            "outputs": [
                {
                    "name": "stdout",
                    "output_type": "stream",
                    "text": [
                        "42/42 [==============================] - 0s 2ms/step - loss: 10.8165 - mean_squared_error: 189.7712\n",
                        "[10.816460609436035, 189.7711944580078]\n"
                    ]
                }
            ],
            "source": [
                "print(ak_reg.evaluate(X_test, y_test_reg))"
            ]
        },
        {
            "cell_type": "code",
            "execution_count": 61,
            "id": "379f9994",
            "metadata": {},
            "outputs": [
                {
                    "name": "stdout",
                    "output_type": "stream",
                    "text": [
                        "Model: \"model\"\n",
                        "_________________________________________________________________\n",
                        " Layer (type)                Output Shape              Param #   \n",
                        "=================================================================\n",
                        " input_1 (InputLayer)        [(None, 39)]              0         \n",
                        "                                                                 \n",
                        " multi_category_encoding (M  (None, 39)                0         \n",
                        " ultiCategoryEncoding)                                           \n",
                        "                                                                 \n",
                        " normalization (Normalizati  (None, 39)                79        \n",
                        " on)                                                             \n",
                        "                                                                 \n",
                        " dense (Dense)               (None, 32)                1280      \n",
                        "                                                                 \n",
                        " re_lu (ReLU)                (None, 32)                0         \n",
                        "                                                                 \n",
                        " dense_1 (Dense)             (None, 128)               4224      \n",
                        "                                                                 \n",
                        " re_lu_1 (ReLU)              (None, 128)               0         \n",
                        "                                                                 \n",
                        " regression_head_1 (Dense)   (None, 1)                 129       \n",
                        "                                                                 \n",
                        "=================================================================\n",
                        "Total params: 5712 (22.32 KB)\n",
                        "Trainable params: 5633 (22.00 KB)\n",
                        "Non-trainable params: 79 (320.00 Byte)\n",
                        "_________________________________________________________________\n"
                    ]
                }
            ],
            "source": [
                "ak_reg_model = ak_reg.export_model()\n",
                "ak_reg_model.summary()"
            ]
        },
        {
            "cell_type": "markdown",
            "id": "dbfa7391",
            "metadata": {},
            "source": [
                "<a id=evaluate></a>\n",
                "\n",
                "### Evaluate Model"
            ]
        },
        {
            "cell_type": "code",
            "execution_count": 62,
            "id": "b872a569",
            "metadata": {},
            "outputs": [
                {
                    "name": "stdout",
                    "output_type": "stream",
                    "text": [
                        "42/42 [==============================] - 0s 3ms/step\n",
                        "42/42 [==============================] - 0s 2ms/step\n"
                    ]
                }
            ],
            "source": [
                "train_pred = ak_reg_model.predict(X_train)\n",
                "test_pred = ak_reg_model.predict(X_test)"
            ]
        },
        {
            "cell_type": "code",
            "execution_count": 63,
            "id": "b884561e",
            "metadata": {},
            "outputs": [
                {
                    "name": "stdout",
                    "output_type": "stream",
                    "text": [
                        "Training MAE: 10.98\n",
                        "Training R2: 0.13\n"
                    ]
                }
            ],
            "source": [
                "train_mae = mean_absolute_error(y_train_reg, train_pred)\n",
                "train_r2 = r2_score(y_train_reg, train_pred)\n",
                "print(f\"Training MAE: {train_mae:.2f}\")\n",
                "print(f\"Training R2: {train_r2:.2f}\")"
            ]
        },
        {
            "cell_type": "code",
            "execution_count": 64,
            "id": "bed2eea5",
            "metadata": {},
            "outputs": [
                {
                    "name": "stdout",
                    "output_type": "stream",
                    "text": [
                        "Testing MAE: 10.82\n",
                        "Testing R2: -0.02\n"
                    ]
                }
            ],
            "source": [
                "test_mae = mean_absolute_error(y_test_reg, test_pred)\n",
                "test_r2 = r2_score(y_test_reg, test_pred)\n",
                "print(f\"Testing MAE: {test_mae:.2f}\")\n",
                "print(f\"Testing R2: {test_r2:.2f}\")"
            ]
        },
        {
            "cell_type": "markdown",
            "id": "7f45f1f2",
            "metadata": {},
            "source": [
                "### Model Storage"
            ]
        },
        {
            "cell_type": "code",
            "execution_count": 65,
            "id": "1df08d8b",
            "metadata": {},
            "outputs": [
                {
                    "data": {
                        "text/plain": [
                            "'Regression_AutoKeras_10.98_10.82_2024-01-25_22-14-51'"
                        ]
                    },
                    "execution_count": 65,
                    "metadata": {},
                    "output_type": "execute_result"
                }
            ],
            "source": [
                "problem_type = \"Regression\"\n",
                "base_model = \"AutoKeras\"\n",
                "train_performance = round(train_mae, 2)\n",
                "test_performance = round(test_mae, 2)\n",
                "\n",
                "model_id = f\"{problem_type}_{base_model}_{train_performance}_{test_performance}_{datetime.datetime.now().strftime('%Y-%m-%d_%H-%M-%S')}\"\n",
                "\n",
                "model_id"
            ]
        },
        {
            "cell_type": "code",
            "execution_count": 66,
            "id": "427bb9d5",
            "metadata": {},
            "outputs": [
                {
                    "name": "stdout",
                    "output_type": "stream",
                    "text": [
                        "INFO:tensorflow:Assets written to: ../models/AutoDL/Regression_AutoKeras_10.98_10.82_2024-01-25_22-14-51/assets\n"
                    ]
                },
                {
                    "name": "stderr",
                    "output_type": "stream",
                    "text": [
                        "INFO:tensorflow:Assets written to: ../models/AutoDL/Regression_AutoKeras_10.98_10.82_2024-01-25_22-14-51/assets\n"
                    ]
                }
            ],
            "source": [
                "ak_reg_model.save(f\"../models/AutoDL/{model_id}\", save_format=\"tf\")"
            ]
        }
    ],
    "metadata": {
        "kernelspec": {
            "display_name": "Python 3 (ipykernel)",
            "language": "python",
            "name": "python3"
        },
        "language_info": {
            "codemirror_mode": {
                "name": "ipython",
                "version": 3
            },
            "file_extension": ".py",
            "mimetype": "text/x-python",
            "name": "python",
            "nbconvert_exporter": "python",
            "pygments_lexer": "ipython3",
            "version": "3.10.12"
        }
    },
    "nbformat": 4,
    "nbformat_minor": 5
}
