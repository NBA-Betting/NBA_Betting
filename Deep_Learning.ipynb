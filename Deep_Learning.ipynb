{
  "nbformat": 4,
  "nbformat_minor": 0,
  "metadata": {
    "colab": {
      "provenance": [],
      "authorship_tag": "ABX9TyNKigDqKpuHof1L2abp6S0L",
      "include_colab_link": true
    },
    "kernelspec": {
      "name": "python3",
      "display_name": "Python 3"
    },
    "language_info": {
      "name": "python"
    }
  },
  "cells": [
    {
      "cell_type": "markdown",
      "metadata": {
        "id": "view-in-github",
        "colab_type": "text"
      },
      "source": [
        "<a href=\"https://colab.research.google.com/github/NBA-Betting/NBA_Betting/blob/main/Deep_Learning.ipynb\" target=\"_parent\"><img src=\"https://colab.research.google.com/assets/colab-badge.svg\" alt=\"Open In Colab\"/></a>"
      ]
    },
    {
      "cell_type": "markdown",
      "source": [
        "# Deep Learning - PyTorch\n",
        "\n",
        "*   [PyTorch](https://pytorch.org/docs/stable/index.html)\n",
        "*   [HuggingFace](https://huggingface.co/docs)"
      ],
      "metadata": {
        "id": "WokAx84xP9y0"
      }
    },
    {
      "cell_type": "code",
      "source": [],
      "metadata": {
        "id": "TYrRiXGQQH2e"
      },
      "execution_count": null,
      "outputs": []
    }
  ]
}